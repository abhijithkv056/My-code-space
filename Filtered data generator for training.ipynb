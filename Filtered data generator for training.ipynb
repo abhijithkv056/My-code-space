{
 "cells": [
  {
   "cell_type": "code",
   "execution_count": 1,
   "id": "7994c04d",
   "metadata": {},
   "outputs": [
    {
     "name": "stdout",
     "output_type": "stream",
     "text": [
      "['360ONE', '3MINDIA', 'ABB', 'ACC', 'AIAENG', 'APLAPOLLO', 'AUBANK', 'AARTIDRUGS', 'AARTIIND', 'AAVAS', 'ABBOTINDIA', 'ADANIENT', 'ADANIGREEN', 'ADANIPORTS', 'ADANIPOWER', 'ATGL', 'ADANITRANS', 'AWL', 'ABCAPITAL', 'ABFRL', 'AEGISCHEM', 'AETHER', 'AFFLE', 'AJANTPHARM', 'APLLTD', 'ALKEM', 'ALKYLAMINE', 'AMARAJABAT', 'AMBER', 'AMBUJACEM', 'ANGELONE', 'ANURAS', 'APARINDS', 'APOLLOHOSP', 'APOLLOTYRE', 'APTUS', 'ACI', 'ASAHIINDIA', 'ASHOKLEY', 'ASIANPAINT', 'ASTERDM', 'ASTRAL', 'ATUL', 'AUROPHARMA', 'AVANTIFEED', 'DMART', 'AXISBANK', 'BASF', 'BEML', 'BLS', 'BSE', 'BAJAJ-AUTO', 'BAJAJELEC', 'BAJFINANCE', 'BAJAJFINSV', 'BAJAJHLDNG', 'BALAMINES', 'BALKRISIND', 'BALRAMCHIN', 'BANDHANBNK', 'BANKBARODA', 'BANKINDIA', 'MAHABANK', 'BATAINDIA', 'BAYERCROP', 'BERGEPAINT', 'BDL', 'BEL', 'BHARATFORG', 'BHEL', 'BPCL', 'BHARTIARTL', 'BIKAJI', 'BIOCON', 'BIRLACORPN', 'BSOFT', 'BLUEDART', 'BLUESTARCO', 'BBTC', 'BORORENEW', 'BOSCHLTD', 'BRIGADE', 'BCG', 'BRITANNIA', 'MAPMYINDIA', 'CCL', 'CESC', 'CGPOWER', 'CRISIL', 'CSBBANK', 'CAMPUS', 'CANFINHOME', 'CANBK', 'CGCL', 'CARBORUNIV', 'CASTROLIND', 'CEATLTD', 'CENTRALBK', 'CDSL', 'CENTURYPLY', 'CENTURYTEX', 'CERA', 'CHALET', 'CHAMBLFERT', 'CHEMPLASTS', 'CHOLAHLDNG', 'CHOLAFIN', 'CIPLA', 'CUB', 'CLEAN', 'COALINDIA', 'COCHINSHIP', 'COFORGE', 'COLPAL', 'CAMS', 'CONCOR', 'COROMANDEL', 'CRAFTSMAN', 'CREDITACC', 'CROMPTON', 'CUMMINSIND', 'CYIENT', 'DCMSHRIRAM', 'DLF', 'DABUR', 'DALBHARAT', 'DATAPATTNS', 'DEEPAKFERT', 'DEEPAKNTR', 'DELHIVERY', 'DELTACORP', 'DEVYANI', 'DIVISLAB', 'DIXON', 'LALPATHLAB', 'DRREDDY', 'EIDPARRY', 'EIHOTEL', 'EPL', 'EASEMYTRIP', 'EDELWEISS', 'EICHERMOT', 'ELGIEQUIP', 'EMAMILTD', 'ENDURANCE', 'ENGINERSIN', 'EQUITASBNK', 'ESCORTS', 'EXIDEIND', 'FDC', 'NYKAA', 'FEDERALBNK', 'FACT', 'FINEORG', 'FINCABLES', 'FINPIPE', 'FSL', 'FIVESTAR', 'FORTIS', 'GRINFRA', 'GAIL', 'GMMPFAUDLR', 'GMRINFRA', 'GALAXYSURF', 'GARFIBRES', 'GICRE', 'GLAND', 'GLAXO', 'GLENMARK', 'MEDANTA', 'GOCOLORS', 'GODFRYPHLP', 'GODREJAGRO', 'GODREJCP', 'GODREJIND', 'GODREJPROP', 'GRANULES', 'GRAPHITE', 'GRASIM', 'GESHIP', 'GREENPANEL', 'GRINDWELL', 'GUJALKALI', 'GAEL', 'FLUOROCHEM', 'GUJGASLTD', 'GNFC', 'GPPL', 'GSFC', 'GSPL', 'HEG', 'HCLTECH', 'HDFCAMC', 'HDFCBANK', 'HDFCLIFE', 'HFCL', 'HLEGLAS', 'HAPPSTMNDS', 'HAVELLS', 'HEROMOTOCO', 'HIKAL', 'HINDALCO', 'HGS', 'HAL', 'HINDCOPPER', 'HINDPETRO', 'HINDUNILVR', 'HINDZINC', 'POWERINDIA', 'HOMEFIRST', 'HONAUT', 'HUDCO', 'HDFC', 'ICICIBANK', 'ICICIGI', 'ICICIPRULI', 'ISEC', 'IDBI', 'IDFCFIRSTB', 'IDFC', 'IFBIND', 'IIFL', 'IRB', 'ITC', 'ITI', 'INDIACEM', 'IBULHSGFIN', 'IBREALEST', 'INDIAMART', 'INDIANB', 'IEX', 'INDHOTEL', 'IOC', 'IOB', 'IRCTC', 'IRFC', 'INDIGOPNTS', 'IGL', 'INDUSTOWER', 'INDUSINDBK', 'INFIBEAM', 'NAUKRI', 'INFY', 'INGERRAND', 'INTELLECT', 'INDIGO', 'IPCALAB', 'JBCHEPHARM', 'JKCEMENT', 'JBMA', 'JKLAKSHMI', 'JKPAPER', 'JMFINANCIL', 'JSWENERGY', 'JSWSTEEL', 'JAMNAAUTO', 'JSL', 'JINDALSTEL', 'JINDWORLD', 'JUBLFOOD', 'JUBLINGREA', 'JUBLPHARMA', 'JUSTDIAL', 'JYOTHYLAB', 'KPRMILL', 'KEI', 'KNRCON', 'KPITTECH', 'KRBL', 'KSB', 'KAJARIACER', 'KALPATPOWR', 'KALYANKJIL', 'KANSAINER', 'KARURVYSYA', 'KEC', 'KENNAMET', 'RUSTOMJEE', 'KFINTECH', 'KOTAKBANK', 'KIMS', 'L&TFH', 'LTTS', 'LICHSGFIN', 'LTIM', 'LAXMIMACH', 'LT', 'LATENTVIEW', 'LAURUSLABS', 'LXCHEM', 'LEMONTREE', 'LICI', 'LINDEINDIA', 'LUPIN', 'LUXIND', 'MMTC', 'MRF', 'MTARTECH', 'LODHA', 'MGL', 'M&MFIN', 'M&M', 'MAHINDCIE', 'MHRIL', 'MAHLIFE', 'MAHLOG', 'MANAPPURAM', 'MRPL', 'MARICO', 'MARUTI', 'MASTEK', 'MFSL', 'MAXHEALTH', 'MAZDOCK', 'MEDPLUS', 'MFL', 'METROBRAND', 'METROPOLIS', 'MSUMI', 'MOTILALOFS', 'MPHASIS', 'MCX', 'MUTHOOTFIN', 'NATCOPHARM', 'NBCC', 'NCC', 'NHPC', 'NLCINDIA', 'NMDC', 'NOCIL', 'NTPC', 'NH', 'NATIONALUM', 'NAVINFLUOR', 'NAZARA', 'NESTLEIND', 'NETWORK18', 'NAM-INDIA', 'NUVOCO', 'OBEROIRLTY', 'ONGC', 'OIL', 'OLECTRA', 'PAYTM', 'OFSS', 'ORIENTELEC', 'POLICYBZR', 'PCBL', 'PIIND', 'PNBHOUSING', 'PNCINFRA', 'PVR', 'PAGEIND', 'PATANJALI', 'PERSISTENT', 'PETRONET', 'PFIZER', 'PHOENIXLTD', 'PIDILITIND', 'PEL', 'PPLPHARMA', 'POLYMED', 'POLYCAB', 'POLYPLEX', 'POONAWALLA', 'PFC', 'POWERGRID', 'PRAJIND', 'PRESTIGE', 'PRINCEPIPE', 'PRSMJOHNSN', 'PGHH', 'PNB', 'QUESS', 'RBLBANK', 'RECLTD', 'RHIM', 'RITES', 'RADICO', 'RVNL', 'RAIN', 'RAINBOW', 'RAJESHEXPO', 'RALLIS', 'RCF', 'RATNAMANI', 'RTNINDIA', 'RAYMOND', 'REDINGTON', 'RELAXO', 'RELIANCE', 'RBA', 'ROSSARI', 'ROUTE', 'SBICARD', 'SBILIFE', 'SJVN', 'SKFINDIA', 'SRF', 'MOTHERSON', 'SANOFI', 'SAPPHIRE', 'SCHAEFFLER', 'SHARDACROP', 'SHOPERSTOP', 'SHREECEM', 'RENUKA', 'SHRIRAMFIN', 'SHYAMMETL', 'SIEMENS', 'SOBHA', 'SOLARINDS', 'SONACOMS', 'SONATSOFTW', 'STARHEALTH', 'SBIN', 'SAIL', 'SWSOLAR', 'STLTECH', 'SUMICHEM', 'SPARC', 'SUNPHARMA', 'SUNTV', 'SUNDARMFIN', 'SUNDRMFAST', 'SUNTECK', 'SUPRAJIT', 'SUPREMEIND', 'SUVENPHAR', 'SUZLON', 'SWANENERGY', 'SYNGENE', 'TCIEXP', 'TCNSBRANDS', 'TTKPRESTIG', 'TV18BRDCST', 'TVSMOTOR', 'TMB', 'TANLA', 'TATACHEM', 'TATACOMM', 'TCS', 'TATACONSUM', 'TATAELXSI', 'TATAINVEST', 'TATAMTRDVR', 'TATAMOTORS', 'TATAPOWER', 'TATASTEEL', 'TTML', 'TEAMLEASE', 'TECHM', 'TEJASNET', 'NIACL', 'RAMCOCEM', 'THERMAX', 'TIMKEN', 'TITAN', 'TORNTPHARM', 'TORNTPOWER', 'TCI', 'TRENT', 'TRIDENT', 'TRIVENI', 'TRITURBINE', 'TIINDIA', 'UCOBANK', 'UFLEX', 'UNOMINDA', 'UPL', 'UTIAMC', 'ULTRACEMCO', 'UNIONBANK', 'UBL', 'MCDOWELL-N', 'VGUARD', 'VMART', 'VIPIND', 'VAIBHAVGBL', 'VTL', 'VARROC', 'VBL', 'MANYAVAR', 'VEDL', 'VIJAYA', 'VINATIORGA', 'IDEA', 'VOLTAS', 'WELCORP', 'WELSPUNIND', 'WESTLIFE', 'WHIRLPOOL', 'WIPRO', 'YESBANK', 'ZFCVINDIA', 'ZEEL', 'ZENSARTECH', 'ZOMATO', 'ZYDUSLIFE', 'ZYDUSWELL', 'ECLERX']\n"
     ]
    },
    {
     "data": {
      "text/html": [
       "<div>\n",
       "<style scoped>\n",
       "    .dataframe tbody tr th:only-of-type {\n",
       "        vertical-align: middle;\n",
       "    }\n",
       "\n",
       "    .dataframe tbody tr th {\n",
       "        vertical-align: top;\n",
       "    }\n",
       "\n",
       "    .dataframe thead th {\n",
       "        text-align: right;\n",
       "    }\n",
       "</style>\n",
       "<table border=\"1\" class=\"dataframe\">\n",
       "  <thead>\n",
       "    <tr style=\"text-align: right;\">\n",
       "      <th></th>\n",
       "      <th>0</th>\n",
       "    </tr>\n",
       "  </thead>\n",
       "  <tbody>\n",
       "    <tr>\n",
       "      <th>0</th>\n",
       "      <td>360ONE</td>\n",
       "    </tr>\n",
       "    <tr>\n",
       "      <th>1</th>\n",
       "      <td>3MINDIA</td>\n",
       "    </tr>\n",
       "    <tr>\n",
       "      <th>2</th>\n",
       "      <td>ABB</td>\n",
       "    </tr>\n",
       "    <tr>\n",
       "      <th>3</th>\n",
       "      <td>ACC</td>\n",
       "    </tr>\n",
       "    <tr>\n",
       "      <th>4</th>\n",
       "      <td>AIAENG</td>\n",
       "    </tr>\n",
       "    <tr>\n",
       "      <th>...</th>\n",
       "      <td>...</td>\n",
       "    </tr>\n",
       "    <tr>\n",
       "      <th>496</th>\n",
       "      <td>ZENSARTECH</td>\n",
       "    </tr>\n",
       "    <tr>\n",
       "      <th>497</th>\n",
       "      <td>ZOMATO</td>\n",
       "    </tr>\n",
       "    <tr>\n",
       "      <th>498</th>\n",
       "      <td>ZYDUSLIFE</td>\n",
       "    </tr>\n",
       "    <tr>\n",
       "      <th>499</th>\n",
       "      <td>ZYDUSWELL</td>\n",
       "    </tr>\n",
       "    <tr>\n",
       "      <th>500</th>\n",
       "      <td>ECLERX</td>\n",
       "    </tr>\n",
       "  </tbody>\n",
       "</table>\n",
       "<p>501 rows × 1 columns</p>\n",
       "</div>"
      ],
      "text/plain": [
       "              0\n",
       "0        360ONE\n",
       "1       3MINDIA\n",
       "2           ABB\n",
       "3           ACC\n",
       "4        AIAENG\n",
       "..          ...\n",
       "496  ZENSARTECH\n",
       "497      ZOMATO\n",
       "498   ZYDUSLIFE\n",
       "499   ZYDUSWELL\n",
       "500      ECLERX\n",
       "\n",
       "[501 rows x 1 columns]"
      ]
     },
     "execution_count": 1,
     "metadata": {},
     "output_type": "execute_result"
    }
   ],
   "source": [
    "import pandas as pd\n",
    "import joblib\n",
    "\n",
    "nifty_500 = pd.read_csv('ind_nifty500list.csv')\n",
    "stocks = nifty_500['Symbol'].values.tolist()\n",
    "print(stocks)\n",
    "stocks = pd.DataFrame(stocks)\n",
    "stocks"
   ]
  },
  {
   "cell_type": "code",
   "execution_count": 2,
   "id": "dab997eb",
   "metadata": {
    "scrolled": false
   },
   "outputs": [
    {
     "name": "stdout",
     "output_type": "stream",
     "text": [
      "[*********************100%***********************]  1 of 1 completed\n",
      "360ONE.NS 540 1 out of 500 stocks imported\n",
      "[*********************100%***********************]  1 of 1 completed\n",
      "3MINDIA.NS 540 2 out of 500 stocks imported\n",
      "[*********************100%***********************]  1 of 1 completed\n",
      "ABB.NS 540 3 out of 500 stocks imported\n",
      "[*********************100%***********************]  1 of 1 completed\n",
      "ACC.NS 540 4 out of 500 stocks imported\n",
      "[*********************100%***********************]  1 of 1 completed\n",
      "AIAENG.NS 540 5 out of 500 stocks imported\n",
      "[*********************100%***********************]  1 of 1 completed\n",
      "APLAPOLLO.NS 540 6 out of 500 stocks imported\n",
      "[*********************100%***********************]  1 of 1 completed\n",
      "AUBANK.NS 540 7 out of 500 stocks imported\n",
      "[*********************100%***********************]  1 of 1 completed\n",
      "AARTIDRUGS.NS 540 8 out of 500 stocks imported\n",
      "[*********************100%***********************]  1 of 1 completed\n",
      "AARTIIND.NS 540 9 out of 500 stocks imported\n",
      "[*********************100%***********************]  1 of 1 completed\n",
      "AAVAS.NS 540 10 out of 500 stocks imported\n",
      "[*********************100%***********************]  1 of 1 completed\n",
      "ABBOTINDIA.NS 540 11 out of 500 stocks imported\n",
      "[*********************100%***********************]  1 of 1 completed\n",
      "ADANIENT.NS 540 12 out of 500 stocks imported\n",
      "[*********************100%***********************]  1 of 1 completed\n",
      "ADANIGREEN.NS 540 13 out of 500 stocks imported\n",
      "[*********************100%***********************]  1 of 1 completed\n",
      "ADANIPORTS.NS 540 14 out of 500 stocks imported\n",
      "[*********************100%***********************]  1 of 1 completed\n",
      "ADANIPOWER.NS 540 15 out of 500 stocks imported\n",
      "[*********************100%***********************]  1 of 1 completed\n",
      "ATGL.NS 540 16 out of 500 stocks imported\n",
      "[*********************100%***********************]  1 of 1 completed\n",
      "ADANITRANS.NS 540 17 out of 500 stocks imported\n",
      "[*********************100%***********************]  1 of 1 completed\n",
      "skipping AWL.NS as it has only 297 values\n",
      "[*********************100%***********************]  1 of 1 completed\n",
      "ABCAPITAL.NS 540 18 out of 500 stocks imported\n",
      "[*********************100%***********************]  1 of 1 completed\n",
      "ABFRL.NS 540 19 out of 500 stocks imported\n",
      "[*********************100%***********************]  1 of 1 completed\n",
      "AEGISCHEM.NS 540 20 out of 500 stocks imported\n",
      "[*********************100%***********************]  1 of 1 completed\n",
      "skipping AETHER.NS as it has only 219 values\n",
      "[*********************100%***********************]  1 of 1 completed\n",
      "AFFLE.NS 540 21 out of 500 stocks imported\n",
      "[*********************100%***********************]  1 of 1 completed\n",
      "AJANTPHARM.NS 540 22 out of 500 stocks imported\n",
      "[*********************100%***********************]  1 of 1 completed\n",
      "APLLTD.NS 540 23 out of 500 stocks imported\n",
      "[*********************100%***********************]  1 of 1 completed\n",
      "ALKEM.NS 540 24 out of 500 stocks imported\n",
      "[*********************100%***********************]  1 of 1 completed\n",
      "ALKYLAMINE.NS 540 25 out of 500 stocks imported\n",
      "[*********************100%***********************]  1 of 1 completed\n",
      "AMARAJABAT.NS 540 26 out of 500 stocks imported\n",
      "[*********************100%***********************]  1 of 1 completed\n",
      "AMBER.NS 540 27 out of 500 stocks imported\n",
      "[*********************100%***********************]  1 of 1 completed\n",
      "AMBUJACEM.NS 540 28 out of 500 stocks imported\n",
      "[*********************100%***********************]  1 of 1 completed\n",
      "ANGELONE.NS 540 29 out of 500 stocks imported\n",
      "[*********************100%***********************]  1 of 1 completed\n",
      "ANURAS.NS 514 30 out of 500 stocks imported\n",
      "[*********************100%***********************]  1 of 1 completed\n",
      "APARINDS.NS 540 31 out of 500 stocks imported\n",
      "[*********************100%***********************]  1 of 1 completed\n",
      "APOLLOHOSP.NS 540 32 out of 500 stocks imported\n",
      "[*********************100%***********************]  1 of 1 completed\n",
      "APOLLOTYRE.NS 540 33 out of 500 stocks imported\n",
      "[*********************100%***********************]  1 of 1 completed\n",
      "skipping APTUS.NS as it has only 412 values\n",
      "[*********************100%***********************]  1 of 1 completed\n",
      "skipping ACI.NS as it has only 104 values\n",
      "[*********************100%***********************]  1 of 1 completed\n",
      "ASAHIINDIA.NS 540 34 out of 500 stocks imported\n",
      "[*********************100%***********************]  1 of 1 completed\n",
      "ASHOKLEY.NS 540 35 out of 500 stocks imported\n",
      "[*********************100%***********************]  1 of 1 completed\n",
      "ASIANPAINT.NS 540 36 out of 500 stocks imported\n",
      "[*********************100%***********************]  1 of 1 completed\n",
      "ASTERDM.NS 540 37 out of 500 stocks imported\n",
      "[*********************100%***********************]  1 of 1 completed\n",
      "ASTRAL.NS 540 38 out of 500 stocks imported\n",
      "[*********************100%***********************]  1 of 1 completed\n",
      "ATUL.NS 540 39 out of 500 stocks imported\n",
      "[*********************100%***********************]  1 of 1 completed\n",
      "AUROPHARMA.NS 540 40 out of 500 stocks imported\n",
      "[*********************100%***********************]  1 of 1 completed\n",
      "AVANTIFEED.NS 540 41 out of 500 stocks imported\n",
      "[*********************100%***********************]  1 of 1 completed\n",
      "DMART.NS 540 42 out of 500 stocks imported\n",
      "[*********************100%***********************]  1 of 1 completed\n",
      "AXISBANK.NS 540 43 out of 500 stocks imported\n",
      "[*********************100%***********************]  1 of 1 completed\n",
      "BASF.NS 540 44 out of 500 stocks imported\n",
      "[*********************100%***********************]  1 of 1 completed\n",
      "BEML.NS 540 45 out of 500 stocks imported\n",
      "[*********************100%***********************]  1 of 1 completed\n",
      "BLS.NS 540 46 out of 500 stocks imported\n",
      "[*********************100%***********************]  1 of 1 completed\n",
      "BSE.NS 540 47 out of 500 stocks imported\n",
      "[*********************100%***********************]  1 of 1 completed\n",
      "BAJAJ-AUTO.NS 540 48 out of 500 stocks imported\n",
      "[*********************100%***********************]  1 of 1 completed\n",
      "BAJAJELEC.NS 540 49 out of 500 stocks imported\n",
      "[*********************100%***********************]  1 of 1 completed\n",
      "BAJFINANCE.NS 540 50 out of 500 stocks imported\n",
      "[*********************100%***********************]  1 of 1 completed\n",
      "BAJAJFINSV.NS 540 51 out of 500 stocks imported\n",
      "[*********************100%***********************]  1 of 1 completed\n",
      "BAJAJHLDNG.NS 540 52 out of 500 stocks imported\n",
      "[*********************100%***********************]  1 of 1 completed\n",
      "BALAMINES.NS 540 53 out of 500 stocks imported\n",
      "[*********************100%***********************]  1 of 1 completed\n",
      "BALKRISIND.NS 540 54 out of 500 stocks imported\n",
      "[*********************100%***********************]  1 of 1 completed\n",
      "BALRAMCHIN.NS 540 55 out of 500 stocks imported\n",
      "[*********************100%***********************]  1 of 1 completed\n",
      "BANDHANBNK.NS 540 56 out of 500 stocks imported\n",
      "[*********************100%***********************]  1 of 1 completed\n",
      "BANKBARODA.NS 540 57 out of 500 stocks imported\n",
      "[*********************100%***********************]  1 of 1 completed\n",
      "BANKINDIA.NS 540 58 out of 500 stocks imported\n",
      "[*********************100%***********************]  1 of 1 completed\n",
      "MAHABANK.NS 540 59 out of 500 stocks imported\n",
      "[*********************100%***********************]  1 of 1 completed\n",
      "BATAINDIA.NS 540 60 out of 500 stocks imported\n",
      "[*********************100%***********************]  1 of 1 completed\n",
      "BAYERCROP.NS 540 61 out of 500 stocks imported\n",
      "[*********************100%***********************]  1 of 1 completed\n",
      "BERGEPAINT.NS 540 62 out of 500 stocks imported\n",
      "[*********************100%***********************]  1 of 1 completed\n",
      "BDL.NS 540 63 out of 500 stocks imported\n",
      "[*********************100%***********************]  1 of 1 completed\n",
      "BEL.NS 540 64 out of 500 stocks imported\n",
      "[*********************100%***********************]  1 of 1 completed\n",
      "BHARATFORG.NS 540 65 out of 500 stocks imported\n",
      "[*********************100%***********************]  1 of 1 completed\n",
      "BHEL.NS 540 66 out of 500 stocks imported\n",
      "[*********************100%***********************]  1 of 1 completed\n",
      "BPCL.NS 540 67 out of 500 stocks imported\n",
      "[*********************100%***********************]  1 of 1 completed\n",
      "BHARTIARTL.NS 540 68 out of 500 stocks imported\n"
     ]
    },
    {
     "name": "stdout",
     "output_type": "stream",
     "text": [
      "[*********************100%***********************]  1 of 1 completed\n",
      "skipping BIKAJI.NS as it has only 107 values\n",
      "[*********************100%***********************]  1 of 1 completed\n",
      "BIOCON.NS 540 69 out of 500 stocks imported\n",
      "[*********************100%***********************]  1 of 1 completed\n",
      "BIRLACORPN.NS 540 70 out of 500 stocks imported\n",
      "[*********************100%***********************]  1 of 1 completed\n",
      "BSOFT.NS 540 71 out of 500 stocks imported\n",
      "[*********************100%***********************]  1 of 1 completed\n",
      "BLUEDART.NS 540 72 out of 500 stocks imported\n",
      "[*********************100%***********************]  1 of 1 completed\n",
      "BLUESTARCO.NS 540 73 out of 500 stocks imported\n",
      "[*********************100%***********************]  1 of 1 completed\n",
      "BBTC.NS 540 74 out of 500 stocks imported\n",
      "[*********************100%***********************]  1 of 1 completed\n",
      "BORORENEW.NS 540 75 out of 500 stocks imported\n",
      "[*********************100%***********************]  1 of 1 completed\n",
      "BOSCHLTD.NS 540 76 out of 500 stocks imported\n",
      "[*********************100%***********************]  1 of 1 completed\n",
      "BRIGADE.NS 540 77 out of 500 stocks imported\n",
      "[*********************100%***********************]  1 of 1 completed\n",
      "BCG.NS 540 78 out of 500 stocks imported\n",
      "[*********************100%***********************]  1 of 1 completed\n",
      "BRITANNIA.NS 540 79 out of 500 stocks imported\n",
      "[*********************100%***********************]  1 of 1 completed\n",
      "skipping MAPMYINDIA.NS as it has only 331 values\n",
      "[*********************100%***********************]  1 of 1 completed\n",
      "CCL.NS 540 80 out of 500 stocks imported\n",
      "[*********************100%***********************]  1 of 1 completed\n",
      "CESC.NS 540 81 out of 500 stocks imported\n",
      "[*********************100%***********************]  1 of 1 completed\n",
      "CGPOWER.NS 540 82 out of 500 stocks imported\n",
      "[*********************100%***********************]  1 of 1 completed\n",
      "CRISIL.NS 540 83 out of 500 stocks imported\n",
      "[*********************100%***********************]  1 of 1 completed\n",
      "CSBBANK.NS 540 84 out of 500 stocks imported\n",
      "[*********************100%***********************]  1 of 1 completed\n",
      "skipping CAMPUS.NS as it has only 238 values\n",
      "[*********************100%***********************]  1 of 1 completed\n",
      "CANFINHOME.NS 540 85 out of 500 stocks imported\n",
      "[*********************100%***********************]  1 of 1 completed\n",
      "CANBK.NS 540 86 out of 500 stocks imported\n",
      "[*********************100%***********************]  1 of 1 completed\n",
      "CGCL.NS 540 87 out of 500 stocks imported\n",
      "[*********************100%***********************]  1 of 1 completed\n",
      "CARBORUNIV.NS 540 88 out of 500 stocks imported\n",
      "[*********************100%***********************]  1 of 1 completed\n",
      "CASTROLIND.NS 540 89 out of 500 stocks imported\n",
      "[*********************100%***********************]  1 of 1 completed\n",
      "CEATLTD.NS 540 90 out of 500 stocks imported\n",
      "[*********************100%***********************]  1 of 1 completed\n",
      "CENTRALBK.NS 540 91 out of 500 stocks imported\n",
      "[*********************100%***********************]  1 of 1 completed\n",
      "CDSL.NS 540 92 out of 500 stocks imported\n",
      "[*********************100%***********************]  1 of 1 completed\n",
      "CENTURYPLY.NS 540 93 out of 500 stocks imported\n",
      "[*********************100%***********************]  1 of 1 completed\n",
      "CENTURYTEX.NS 540 94 out of 500 stocks imported\n",
      "[*********************100%***********************]  1 of 1 completed\n",
      "CERA.NS 540 95 out of 500 stocks imported\n",
      "[*********************100%***********************]  1 of 1 completed\n",
      "CHALET.NS 540 96 out of 500 stocks imported\n",
      "[*********************100%***********************]  1 of 1 completed\n",
      "CHAMBLFERT.NS 540 97 out of 500 stocks imported\n",
      "[*********************100%***********************]  1 of 1 completed\n",
      "skipping CHEMPLASTS.NS as it has only 412 values\n",
      "[*********************100%***********************]  1 of 1 completed\n",
      "CHOLAHLDNG.NS 540 98 out of 500 stocks imported\n",
      "[*********************100%***********************]  1 of 1 completed\n",
      "CHOLAFIN.NS 540 99 out of 500 stocks imported\n",
      "[*********************100%***********************]  1 of 1 completed\n",
      "CIPLA.NS 540 100 out of 500 stocks imported\n",
      "[*********************100%***********************]  1 of 1 completed\n",
      "CUB.NS 540 101 out of 500 stocks imported\n",
      "[*********************100%***********************]  1 of 1 completed\n",
      "skipping CLEAN.NS as it has only 436 values\n",
      "[*********************100%***********************]  1 of 1 completed\n",
      "COALINDIA.NS 540 102 out of 500 stocks imported\n",
      "[*********************100%***********************]  1 of 1 completed\n",
      "COCHINSHIP.NS 540 103 out of 500 stocks imported\n",
      "[*********************100%***********************]  1 of 1 completed\n",
      "COFORGE.NS 540 104 out of 500 stocks imported\n",
      "[*********************100%***********************]  1 of 1 completed\n",
      "COLPAL.NS 540 105 out of 500 stocks imported\n",
      "[*********************100%***********************]  1 of 1 completed\n",
      "CAMS.NS 540 106 out of 500 stocks imported\n",
      "[*********************100%***********************]  1 of 1 completed\n",
      "CONCOR.NS 540 107 out of 500 stocks imported\n",
      "[*********************100%***********************]  1 of 1 completed\n",
      "COROMANDEL.NS 540 108 out of 500 stocks imported\n",
      "[*********************100%***********************]  1 of 1 completed\n",
      "CRAFTSMAN.NS 513 109 out of 500 stocks imported\n",
      "[*********************100%***********************]  1 of 1 completed\n",
      "CREDITACC.NS 540 110 out of 500 stocks imported\n",
      "[*********************100%***********************]  1 of 1 completed\n",
      "CROMPTON.NS 540 111 out of 500 stocks imported\n",
      "[*********************100%***********************]  1 of 1 completed\n",
      "CUMMINSIND.NS 540 112 out of 500 stocks imported\n",
      "[*********************100%***********************]  1 of 1 completed\n",
      "CYIENT.NS 540 113 out of 500 stocks imported\n",
      "[*********************100%***********************]  1 of 1 completed\n",
      "DCMSHRIRAM.NS 540 114 out of 500 stocks imported\n",
      "[*********************100%***********************]  1 of 1 completed\n",
      "DLF.NS 540 115 out of 500 stocks imported\n",
      "[*********************100%***********************]  1 of 1 completed\n",
      "DABUR.NS 540 116 out of 500 stocks imported\n",
      "[*********************100%***********************]  1 of 1 completed\n",
      "DALBHARAT.NS 540 117 out of 500 stocks imported\n",
      "[*********************100%***********************]  1 of 1 completed\n",
      "skipping DATAPATTNS.NS as it has only 328 values\n",
      "[*********************100%***********************]  1 of 1 completed\n",
      "DEEPAKFERT.NS 540 118 out of 500 stocks imported\n",
      "[*********************100%***********************]  1 of 1 completed\n",
      "DEEPAKNTR.NS 540 119 out of 500 stocks imported\n",
      "[*********************100%***********************]  1 of 1 completed\n",
      "skipping DELHIVERY.NS as it has only 227 values\n",
      "[*********************100%***********************]  1 of 1 completed\n",
      "DELTACORP.NS 540 120 out of 500 stocks imported\n",
      "[*********************100%***********************]  1 of 1 completed\n",
      "skipping DEVYANI.NS as it has only 417 values\n",
      "[*********************100%***********************]  1 of 1 completed\n",
      "DIVISLAB.NS 540 121 out of 500 stocks imported\n",
      "[*********************100%***********************]  1 of 1 completed\n",
      "DIXON.NS 540 122 out of 500 stocks imported\n",
      "[*********************100%***********************]  1 of 1 completed\n",
      "LALPATHLAB.NS 540 123 out of 500 stocks imported\n",
      "[*********************100%***********************]  1 of 1 completed\n",
      "DRREDDY.NS 540 124 out of 500 stocks imported\n",
      "[*********************100%***********************]  1 of 1 completed\n",
      "EIDPARRY.NS 540 125 out of 500 stocks imported\n",
      "[*********************100%***********************]  1 of 1 completed\n",
      "EIHOTEL.NS 540 126 out of 500 stocks imported\n",
      "[*********************100%***********************]  1 of 1 completed\n",
      "EPL.NS 540 127 out of 500 stocks imported\n",
      "[*********************100%***********************]  1 of 1 completed\n",
      "EASEMYTRIP.NS 517 128 out of 500 stocks imported\n",
      "[*********************100%***********************]  1 of 1 completed\n",
      "EDELWEISS.NS 540 129 out of 500 stocks imported\n",
      "[*********************100%***********************]  1 of 1 completed\n",
      "EICHERMOT.NS 540 130 out of 500 stocks imported\n",
      "[*********************100%***********************]  1 of 1 completed\n",
      "ELGIEQUIP.NS 540 131 out of 500 stocks imported\n"
     ]
    },
    {
     "name": "stdout",
     "output_type": "stream",
     "text": [
      "[*********************100%***********************]  1 of 1 completed\n",
      "EMAMILTD.NS 540 132 out of 500 stocks imported\n",
      "[*********************100%***********************]  1 of 1 completed\n",
      "ENDURANCE.NS 540 133 out of 500 stocks imported\n",
      "[*********************100%***********************]  1 of 1 completed\n",
      "ENGINERSIN.NS 540 134 out of 500 stocks imported\n",
      "[*********************100%***********************]  1 of 1 completed\n",
      "EQUITASBNK.NS 540 135 out of 500 stocks imported\n",
      "[*********************100%***********************]  1 of 1 completed\n",
      "ESCORTS.NS 540 136 out of 500 stocks imported\n",
      "[*********************100%***********************]  1 of 1 completed\n",
      "EXIDEIND.NS 540 137 out of 500 stocks imported\n",
      "[*********************100%***********************]  1 of 1 completed\n",
      "FDC.NS 540 138 out of 500 stocks imported\n",
      "[*********************100%***********************]  1 of 1 completed\n",
      "skipping NYKAA.NS as it has only 359 values\n",
      "[*********************100%***********************]  1 of 1 completed\n",
      "FEDERALBNK.NS 540 139 out of 500 stocks imported\n",
      "[*********************100%***********************]  1 of 1 completed\n",
      "FACT.NS 540 140 out of 500 stocks imported\n",
      "[*********************100%***********************]  1 of 1 completed\n",
      "FINEORG.NS 540 141 out of 500 stocks imported\n",
      "[*********************100%***********************]  1 of 1 completed\n",
      "FINCABLES.NS 540 142 out of 500 stocks imported\n",
      "[*********************100%***********************]  1 of 1 completed\n",
      "FINPIPE.NS 540 143 out of 500 stocks imported\n",
      "[*********************100%***********************]  1 of 1 completed\n",
      "FSL.NS 540 144 out of 500 stocks imported\n",
      "[*********************100%***********************]  1 of 1 completed\n",
      "skipping FIVESTAR.NS as it has only 104 values\n",
      "[*********************100%***********************]  1 of 1 completed\n",
      "FORTIS.NS 540 145 out of 500 stocks imported\n",
      "[*********************100%***********************]  1 of 1 completed\n",
      "skipping GRINFRA.NS as it has only 436 values\n",
      "[*********************100%***********************]  1 of 1 completed\n",
      "GAIL.NS 540 146 out of 500 stocks imported\n",
      "[*********************100%***********************]  1 of 1 completed\n",
      "GMMPFAUDLR.NS 540 147 out of 500 stocks imported\n",
      "[*********************100%***********************]  1 of 1 completed\n",
      "GMRINFRA.NS 540 148 out of 500 stocks imported\n",
      "[*********************100%***********************]  1 of 1 completed\n",
      "GALAXYSURF.NS 540 149 out of 500 stocks imported\n",
      "[*********************100%***********************]  1 of 1 completed\n",
      "GARFIBRES.NS 540 150 out of 500 stocks imported\n",
      "[*********************100%***********************]  1 of 1 completed\n",
      "GICRE.NS 540 151 out of 500 stocks imported\n",
      "[*********************100%***********************]  1 of 1 completed\n",
      "GLAND.NS 540 152 out of 500 stocks imported\n",
      "[*********************100%***********************]  1 of 1 completed\n",
      "GLAXO.NS 540 153 out of 500 stocks imported\n",
      "[*********************100%***********************]  1 of 1 completed\n",
      "GLENMARK.NS 540 154 out of 500 stocks imported\n",
      "[*********************100%***********************]  1 of 1 completed\n",
      "skipping MEDANTA.NS as it has only 105 values\n",
      "[*********************100%***********************]  1 of 1 completed\n",
      "skipping GOCOLORS.NS as it has only 346 values\n",
      "[*********************100%***********************]  1 of 1 completed\n",
      "GODFRYPHLP.NS 540 155 out of 500 stocks imported\n",
      "[*********************100%***********************]  1 of 1 completed\n",
      "GODREJAGRO.NS 540 156 out of 500 stocks imported\n",
      "[*********************100%***********************]  1 of 1 completed\n",
      "GODREJCP.NS 540 157 out of 500 stocks imported\n",
      "[*********************100%***********************]  1 of 1 completed\n",
      "GODREJIND.NS 540 158 out of 500 stocks imported\n",
      "[*********************100%***********************]  1 of 1 completed\n",
      "GODREJPROP.NS 540 159 out of 500 stocks imported\n",
      "[*********************100%***********************]  1 of 1 completed\n",
      "GRANULES.NS 540 160 out of 500 stocks imported\n",
      "[*********************100%***********************]  1 of 1 completed\n",
      "GRAPHITE.NS 540 161 out of 500 stocks imported\n",
      "[*********************100%***********************]  1 of 1 completed\n",
      "GRASIM.NS 540 162 out of 500 stocks imported\n",
      "[*********************100%***********************]  1 of 1 completed\n",
      "GESHIP.NS 540 163 out of 500 stocks imported\n",
      "[*********************100%***********************]  1 of 1 completed\n",
      "GREENPANEL.NS 540 164 out of 500 stocks imported\n",
      "[*********************100%***********************]  1 of 1 completed\n",
      "GRINDWELL.NS 540 165 out of 500 stocks imported\n",
      "[*********************100%***********************]  1 of 1 completed\n",
      "GUJALKALI.NS 540 166 out of 500 stocks imported\n",
      "[*********************100%***********************]  1 of 1 completed\n",
      "GAEL.NS 540 167 out of 500 stocks imported\n",
      "[*********************100%***********************]  1 of 1 completed\n",
      "FLUOROCHEM.NS 540 168 out of 500 stocks imported\n",
      "[*********************100%***********************]  1 of 1 completed\n",
      "GUJGASLTD.NS 540 169 out of 500 stocks imported\n",
      "[*********************100%***********************]  1 of 1 completed\n",
      "GNFC.NS 540 170 out of 500 stocks imported\n",
      "[*********************100%***********************]  1 of 1 completed\n",
      "GPPL.NS 540 171 out of 500 stocks imported\n",
      "[*********************100%***********************]  1 of 1 completed\n",
      "GSFC.NS 540 172 out of 500 stocks imported\n",
      "[*********************100%***********************]  1 of 1 completed\n",
      "GSPL.NS 540 173 out of 500 stocks imported\n",
      "[*********************100%***********************]  1 of 1 completed\n",
      "HEG.NS 540 174 out of 500 stocks imported\n",
      "[*********************100%***********************]  1 of 1 completed\n",
      "HCLTECH.NS 540 175 out of 500 stocks imported\n",
      "[*********************100%***********************]  1 of 1 completed\n",
      "HDFCAMC.NS 540 176 out of 500 stocks imported\n",
      "[*********************100%***********************]  1 of 1 completed\n",
      "HDFCBANK.NS 540 177 out of 500 stocks imported\n",
      "[*********************100%***********************]  1 of 1 completed\n",
      "HDFCLIFE.NS 540 178 out of 500 stocks imported\n",
      "[*********************100%***********************]  1 of 1 completed\n",
      "HFCL.NS 540 179 out of 500 stocks imported\n",
      "[*********************100%***********************]  1 of 1 completed\n",
      "HLEGLAS.NS 535 180 out of 500 stocks imported\n",
      "[*********************100%***********************]  1 of 1 completed\n",
      "HAPPSTMNDS.NS 540 181 out of 500 stocks imported\n",
      "[*********************100%***********************]  1 of 1 completed\n",
      "HAVELLS.NS 540 182 out of 500 stocks imported\n",
      "[*********************100%***********************]  1 of 1 completed\n",
      "HEROMOTOCO.NS 540 183 out of 500 stocks imported\n",
      "[*********************100%***********************]  1 of 1 completed\n",
      "HIKAL.NS 540 184 out of 500 stocks imported\n",
      "[*********************100%***********************]  1 of 1 completed\n",
      "HINDALCO.NS 540 185 out of 500 stocks imported\n",
      "[*********************100%***********************]  1 of 1 completed\n",
      "HGS.NS 540 186 out of 500 stocks imported\n",
      "[*********************100%***********************]  1 of 1 completed\n",
      "HAL.NS 540 187 out of 500 stocks imported\n",
      "[*********************100%***********************]  1 of 1 completed\n",
      "HINDCOPPER.NS 540 188 out of 500 stocks imported\n",
      "[*********************100%***********************]  1 of 1 completed\n",
      "HINDPETRO.NS 540 189 out of 500 stocks imported\n",
      "[*********************100%***********************]  1 of 1 completed\n",
      "HINDUNILVR.NS 540 190 out of 500 stocks imported\n",
      "[*********************100%***********************]  1 of 1 completed\n",
      "HINDZINC.NS 540 191 out of 500 stocks imported\n",
      "[*********************100%***********************]  1 of 1 completed\n",
      "POWERINDIA.NS 540 192 out of 500 stocks imported\n",
      "[*********************100%***********************]  1 of 1 completed\n",
      "HOMEFIRST.NS 540 193 out of 500 stocks imported\n",
      "[*********************100%***********************]  1 of 1 completed\n",
      "HONAUT.NS 540 194 out of 500 stocks imported\n",
      "[*********************100%***********************]  1 of 1 completed\n",
      "HUDCO.NS 540 195 out of 500 stocks imported\n",
      "[*********************100%***********************]  1 of 1 completed\n",
      "HDFC.NS 540 196 out of 500 stocks imported\n",
      "[*********************100%***********************]  1 of 1 completed\n",
      "ICICIBANK.NS 540 197 out of 500 stocks imported\n"
     ]
    },
    {
     "name": "stdout",
     "output_type": "stream",
     "text": [
      "[*********************100%***********************]  1 of 1 completed\n",
      "ICICIGI.NS 540 198 out of 500 stocks imported\n",
      "[*********************100%***********************]  1 of 1 completed\n",
      "ICICIPRULI.NS 540 199 out of 500 stocks imported\n",
      "[*********************100%***********************]  1 of 1 completed\n",
      "ISEC.NS 540 200 out of 500 stocks imported\n",
      "[*********************100%***********************]  1 of 1 completed\n",
      "IDBI.NS 540 201 out of 500 stocks imported\n",
      "[*********************100%***********************]  1 of 1 completed\n",
      "IDFCFIRSTB.NS 540 202 out of 500 stocks imported\n",
      "[*********************100%***********************]  1 of 1 completed\n",
      "IDFC.NS 540 203 out of 500 stocks imported\n",
      "[*********************100%***********************]  1 of 1 completed\n",
      "IFBIND.NS 540 204 out of 500 stocks imported\n",
      "[*********************100%***********************]  1 of 1 completed\n",
      "IIFL.NS 540 205 out of 500 stocks imported\n",
      "[*********************100%***********************]  1 of 1 completed\n",
      "IRB.NS 540 206 out of 500 stocks imported\n",
      "[*********************100%***********************]  1 of 1 completed\n",
      "ITC.NS 540 207 out of 500 stocks imported\n",
      "[*********************100%***********************]  1 of 1 completed\n",
      "ITI.NS 540 208 out of 500 stocks imported\n",
      "[*********************100%***********************]  1 of 1 completed\n",
      "INDIACEM.NS 540 209 out of 500 stocks imported\n",
      "[*********************100%***********************]  1 of 1 completed\n",
      "IBULHSGFIN.NS 540 210 out of 500 stocks imported\n",
      "[*********************100%***********************]  1 of 1 completed\n",
      "IBREALEST.NS 540 211 out of 500 stocks imported\n",
      "[*********************100%***********************]  1 of 1 completed\n",
      "INDIAMART.NS 540 212 out of 500 stocks imported\n",
      "[*********************100%***********************]  1 of 1 completed\n",
      "INDIANB.NS 540 213 out of 500 stocks imported\n",
      "[*********************100%***********************]  1 of 1 completed\n",
      "IEX.NS 540 214 out of 500 stocks imported\n",
      "[*********************100%***********************]  1 of 1 completed\n",
      "INDHOTEL.NS 540 215 out of 500 stocks imported\n",
      "[*********************100%***********************]  1 of 1 completed\n",
      "IOC.NS 540 216 out of 500 stocks imported\n",
      "[*********************100%***********************]  1 of 1 completed\n",
      "IOB.NS 540 217 out of 500 stocks imported\n",
      "[*********************100%***********************]  1 of 1 completed\n",
      "IRCTC.NS 540 218 out of 500 stocks imported\n",
      "[*********************100%***********************]  1 of 1 completed\n",
      "IRFC.NS 540 219 out of 500 stocks imported\n",
      "[*********************100%***********************]  1 of 1 completed\n",
      "INDIGOPNTS.NS 540 220 out of 500 stocks imported\n",
      "[*********************100%***********************]  1 of 1 completed\n",
      "IGL.NS 540 221 out of 500 stocks imported\n",
      "[*********************100%***********************]  1 of 1 completed\n",
      "INDUSTOWER.NS 540 222 out of 500 stocks imported\n",
      "[*********************100%***********************]  1 of 1 completed\n",
      "INDUSINDBK.NS 540 223 out of 500 stocks imported\n",
      "[*********************100%***********************]  1 of 1 completed\n",
      "INFIBEAM.NS 540 224 out of 500 stocks imported\n",
      "[*********************100%***********************]  1 of 1 completed\n",
      "NAUKRI.NS 540 225 out of 500 stocks imported\n",
      "[*********************100%***********************]  1 of 1 completed\n",
      "INFY.NS 540 226 out of 500 stocks imported\n",
      "[*********************100%***********************]  1 of 1 completed\n",
      "INGERRAND.NS 540 227 out of 500 stocks imported\n",
      "[*********************100%***********************]  1 of 1 completed\n",
      "INTELLECT.NS 540 228 out of 500 stocks imported\n",
      "[*********************100%***********************]  1 of 1 completed\n",
      "INDIGO.NS 540 229 out of 500 stocks imported\n",
      "[*********************100%***********************]  1 of 1 completed\n",
      "IPCALAB.NS 540 230 out of 500 stocks imported\n",
      "[*********************100%***********************]  1 of 1 completed\n",
      "JBCHEPHARM.NS 540 231 out of 500 stocks imported\n",
      "[*********************100%***********************]  1 of 1 completed\n",
      "JKCEMENT.NS 540 232 out of 500 stocks imported\n",
      "[*********************100%***********************]  1 of 1 completed\n",
      "JBMA.NS 540 233 out of 500 stocks imported\n",
      "[*********************100%***********************]  1 of 1 completed\n",
      "JKLAKSHMI.NS 540 234 out of 500 stocks imported\n",
      "[*********************100%***********************]  1 of 1 completed\n",
      "JKPAPER.NS 540 235 out of 500 stocks imported\n",
      "[*********************100%***********************]  1 of 1 completed\n",
      "JMFINANCIL.NS 540 236 out of 500 stocks imported\n",
      "[*********************100%***********************]  1 of 1 completed\n",
      "JSWENERGY.NS 540 237 out of 500 stocks imported\n",
      "[*********************100%***********************]  1 of 1 completed\n",
      "JSWSTEEL.NS 540 238 out of 500 stocks imported\n",
      "[*********************100%***********************]  1 of 1 completed\n",
      "JAMNAAUTO.NS 540 239 out of 500 stocks imported\n",
      "[*********************100%***********************]  1 of 1 completed\n",
      "JSL.NS 540 240 out of 500 stocks imported\n",
      "[*********************100%***********************]  1 of 1 completed\n",
      "JINDALSTEL.NS 540 241 out of 500 stocks imported\n",
      "[*********************100%***********************]  1 of 1 completed\n",
      "JINDWORLD.NS 540 242 out of 500 stocks imported\n",
      "[*********************100%***********************]  1 of 1 completed\n",
      "JUBLFOOD.NS 540 243 out of 500 stocks imported\n",
      "[*********************100%***********************]  1 of 1 completed\n",
      "JUBLINGREA.NS 517 244 out of 500 stocks imported\n",
      "[*********************100%***********************]  1 of 1 completed\n",
      "JUBLPHARMA.NS 540 245 out of 500 stocks imported\n",
      "[*********************100%***********************]  1 of 1 completed\n",
      "JUSTDIAL.NS 540 246 out of 500 stocks imported\n",
      "[*********************100%***********************]  1 of 1 completed\n",
      "JYOTHYLAB.NS 540 247 out of 500 stocks imported\n",
      "[*********************100%***********************]  1 of 1 completed\n",
      "KPRMILL.NS 540 248 out of 500 stocks imported\n",
      "[*********************100%***********************]  1 of 1 completed\n",
      "KEI.NS 540 249 out of 500 stocks imported\n",
      "[*********************100%***********************]  1 of 1 completed\n",
      "KNRCON.NS 540 250 out of 500 stocks imported\n",
      "[*********************100%***********************]  1 of 1 completed\n",
      "KPITTECH.NS 540 251 out of 500 stocks imported\n",
      "[*********************100%***********************]  1 of 1 completed\n",
      "KRBL.NS 540 252 out of 500 stocks imported\n",
      "[*********************100%***********************]  1 of 1 completed\n",
      "KSB.NS 540 253 out of 500 stocks imported\n",
      "[*********************100%***********************]  1 of 1 completed\n",
      "KAJARIACER.NS 540 254 out of 500 stocks imported\n",
      "[*********************100%***********************]  1 of 1 completed\n",
      "KALPATPOWR.NS 540 255 out of 500 stocks imported\n",
      "[*********************100%***********************]  1 of 1 completed\n",
      "KALYANKJIL.NS 512 256 out of 500 stocks imported\n",
      "[*********************100%***********************]  1 of 1 completed\n",
      "KANSAINER.NS 540 257 out of 500 stocks imported\n",
      "[*********************100%***********************]  1 of 1 completed\n",
      "KARURVYSYA.NS 540 258 out of 500 stocks imported\n",
      "[*********************100%***********************]  1 of 1 completed\n",
      "KEC.NS 540 259 out of 500 stocks imported\n",
      "[*********************100%***********************]  1 of 1 completed\n",
      "KENNAMET.NS 540 260 out of 500 stocks imported\n",
      "[*********************100%***********************]  1 of 1 completed\n",
      "skipping RUSTOMJEE.NS as it has only 101 values\n",
      "[*********************100%***********************]  1 of 1 completed\n",
      "skipping KFINTECH.NS as it has only 76 values\n",
      "[*********************100%***********************]  1 of 1 completed\n",
      "KOTAKBANK.NS 540 261 out of 500 stocks imported\n",
      "[*********************100%***********************]  1 of 1 completed\n",
      "skipping KIMS.NS as it has only 451 values\n",
      "[*********************100%***********************]  1 of 1 completed\n",
      "L&TFH.NS 540 262 out of 500 stocks imported\n",
      "[*********************100%***********************]  1 of 1 completed\n",
      "LTTS.NS 540 263 out of 500 stocks imported\n",
      "[*********************100%***********************]  1 of 1 completed\n",
      "LICHSGFIN.NS 540 264 out of 500 stocks imported\n",
      "[*********************100%***********************]  1 of 1 completed\n",
      "LTIM.NS 540 265 out of 500 stocks imported\n"
     ]
    },
    {
     "name": "stdout",
     "output_type": "stream",
     "text": [
      "[*********************100%***********************]  1 of 1 completed\n",
      "LAXMIMACH.NS 540 266 out of 500 stocks imported\n",
      "[*********************100%***********************]  1 of 1 completed\n",
      "LT.NS 540 267 out of 500 stocks imported\n",
      "[*********************100%***********************]  1 of 1 completed\n",
      "skipping LATENTVIEW.NS as it has only 351 values\n",
      "[*********************100%***********************]  1 of 1 completed\n",
      "LAURUSLABS.NS 540 268 out of 500 stocks imported\n",
      "[*********************100%***********************]  1 of 1 completed\n",
      "LXCHEM.NS 513 269 out of 500 stocks imported\n",
      "[*********************100%***********************]  1 of 1 completed\n",
      "LEMONTREE.NS 540 270 out of 500 stocks imported\n",
      "[*********************100%***********************]  1 of 1 completed\n",
      "skipping LICI.NS as it has only 232 values\n",
      "[*********************100%***********************]  1 of 1 completed\n",
      "LINDEINDIA.NS 540 271 out of 500 stocks imported\n",
      "[*********************100%***********************]  1 of 1 completed\n",
      "LUPIN.NS 540 272 out of 500 stocks imported\n",
      "[*********************100%***********************]  1 of 1 completed\n",
      "LUXIND.NS 540 273 out of 500 stocks imported\n",
      "[*********************100%***********************]  1 of 1 completed\n",
      "MMTC.NS 540 274 out of 500 stocks imported\n",
      "[*********************100%***********************]  1 of 1 completed\n",
      "MRF.NS 540 275 out of 500 stocks imported\n",
      "[*********************100%***********************]  1 of 1 completed\n",
      "MTARTECH.NS 521 276 out of 500 stocks imported\n",
      "[*********************100%***********************]  1 of 1 completed\n",
      "skipping LODHA.NS as it has only 499 values\n",
      "[*********************100%***********************]  1 of 1 completed\n",
      "MGL.NS 540 277 out of 500 stocks imported\n",
      "[*********************100%***********************]  1 of 1 completed\n",
      "M&MFIN.NS 540 278 out of 500 stocks imported\n",
      "[*********************100%***********************]  1 of 1 completed\n",
      "M&M.NS 540 279 out of 500 stocks imported\n",
      "[*********************100%***********************]  1 of 1 completed\n",
      "MAHINDCIE.NS 540 280 out of 500 stocks imported\n",
      "[*********************100%***********************]  1 of 1 completed\n",
      "MHRIL.NS 540 281 out of 500 stocks imported\n",
      "[*********************100%***********************]  1 of 1 completed\n",
      "MAHLIFE.NS 540 282 out of 500 stocks imported\n",
      "[*********************100%***********************]  1 of 1 completed\n",
      "MAHLOG.NS 540 283 out of 500 stocks imported\n",
      "[*********************100%***********************]  1 of 1 completed\n",
      "MANAPPURAM.NS 540 284 out of 500 stocks imported\n",
      "[*********************100%***********************]  1 of 1 completed\n",
      "MRPL.NS 540 285 out of 500 stocks imported\n",
      "[*********************100%***********************]  1 of 1 completed\n",
      "MARICO.NS 540 286 out of 500 stocks imported\n",
      "[*********************100%***********************]  1 of 1 completed\n",
      "MARUTI.NS 540 287 out of 500 stocks imported\n",
      "[*********************100%***********************]  1 of 1 completed\n",
      "MASTEK.NS 540 288 out of 500 stocks imported\n",
      "[*********************100%***********************]  1 of 1 completed\n",
      "MFSL.NS 540 289 out of 500 stocks imported\n",
      "[*********************100%***********************]  1 of 1 completed\n",
      "MAXHEALTH.NS 540 290 out of 500 stocks imported\n",
      "[*********************100%***********************]  1 of 1 completed\n",
      "MAZDOCK.NS 540 291 out of 500 stocks imported\n",
      "[*********************100%***********************]  1 of 1 completed\n",
      "skipping MEDPLUS.NS as it has only 329 values\n",
      "[*********************100%***********************]  1 of 1 completed\n",
      "skipping MFL.NS as it has only 415 values\n",
      "[*********************100%***********************]  1 of 1 completed\n",
      "skipping METROBRAND.NS as it has only 330 values\n",
      "[*********************100%***********************]  1 of 1 completed\n",
      "METROPOLIS.NS 540 292 out of 500 stocks imported\n",
      "[*********************100%***********************]  1 of 1 completed\n",
      "skipping MSUMI.NS as it has only 265 values\n",
      "[*********************100%***********************]  1 of 1 completed\n",
      "MOTILALOFS.NS 540 293 out of 500 stocks imported\n",
      "[*********************100%***********************]  1 of 1 completed\n",
      "MPHASIS.NS 540 294 out of 500 stocks imported\n",
      "[*********************100%***********************]  1 of 1 completed\n",
      "MCX.NS 540 295 out of 500 stocks imported\n",
      "[*********************100%***********************]  1 of 1 completed\n",
      "MUTHOOTFIN.NS 540 296 out of 500 stocks imported\n",
      "[*********************100%***********************]  1 of 1 completed\n",
      "NATCOPHARM.NS 540 297 out of 500 stocks imported\n",
      "[*********************100%***********************]  1 of 1 completed\n",
      "NBCC.NS 540 298 out of 500 stocks imported\n",
      "[*********************100%***********************]  1 of 1 completed\n",
      "NCC.NS 540 299 out of 500 stocks imported\n",
      "[*********************100%***********************]  1 of 1 completed\n",
      "NHPC.NS 540 300 out of 500 stocks imported\n",
      "[*********************100%***********************]  1 of 1 completed\n",
      "NLCINDIA.NS 540 301 out of 500 stocks imported\n",
      "[*********************100%***********************]  1 of 1 completed\n",
      "NMDC.NS 540 302 out of 500 stocks imported\n",
      "[*********************100%***********************]  1 of 1 completed\n",
      "NOCIL.NS 540 303 out of 500 stocks imported\n",
      "[*********************100%***********************]  1 of 1 completed\n",
      "NTPC.NS 540 304 out of 500 stocks imported\n",
      "[*********************100%***********************]  1 of 1 completed\n",
      "NH.NS 540 305 out of 500 stocks imported\n",
      "[*********************100%***********************]  1 of 1 completed\n",
      "NATIONALUM.NS 540 306 out of 500 stocks imported\n",
      "[*********************100%***********************]  1 of 1 completed\n",
      "NAVINFLUOR.NS 540 307 out of 500 stocks imported\n",
      "[*********************100%***********************]  1 of 1 completed\n",
      "NAZARA.NS 511 308 out of 500 stocks imported\n",
      "[*********************100%***********************]  1 of 1 completed\n",
      "NESTLEIND.NS 540 309 out of 500 stocks imported\n",
      "[*********************100%***********************]  1 of 1 completed\n",
      "NETWORK18.NS 540 310 out of 500 stocks imported\n",
      "[*********************100%***********************]  1 of 1 completed\n",
      "NAM-INDIA.NS 540 311 out of 500 stocks imported\n",
      "[*********************100%***********************]  1 of 1 completed\n",
      "skipping NUVOCO.NS as it has only 413 values\n",
      "[*********************100%***********************]  1 of 1 completed\n",
      "OBEROIRLTY.NS 540 312 out of 500 stocks imported\n",
      "[*********************100%***********************]  1 of 1 completed\n",
      "ONGC.NS 540 313 out of 500 stocks imported\n",
      "[*********************100%***********************]  1 of 1 completed\n",
      "OIL.NS 540 314 out of 500 stocks imported\n",
      "[*********************100%***********************]  1 of 1 completed\n",
      "OLECTRA.NS 540 315 out of 500 stocks imported\n",
      "[*********************100%***********************]  1 of 1 completed\n",
      "skipping PAYTM.NS as it has only 353 values\n",
      "[*********************100%***********************]  1 of 1 completed\n",
      "OFSS.NS 540 316 out of 500 stocks imported\n",
      "[*********************100%***********************]  1 of 1 completed\n",
      "ORIENTELEC.NS 540 317 out of 500 stocks imported\n",
      "[*********************100%***********************]  1 of 1 completed\n",
      "skipping POLICYBZR.NS as it has only 356 values\n",
      "[*********************100%***********************]  1 of 1 completed\n",
      "PCBL.NS 540 318 out of 500 stocks imported\n",
      "[*********************100%***********************]  1 of 1 completed\n",
      "PIIND.NS 540 319 out of 500 stocks imported\n",
      "[*********************100%***********************]  1 of 1 completed\n",
      "PNBHOUSING.NS 531 320 out of 500 stocks imported\n",
      "[*********************100%***********************]  1 of 1 completed\n",
      "PNCINFRA.NS 540 321 out of 500 stocks imported\n",
      "[*********************100%***********************]  1 of 1 completed\n",
      "PVR.NS 540 322 out of 500 stocks imported\n",
      "[*********************100%***********************]  1 of 1 completed\n",
      "PAGEIND.NS 540 323 out of 500 stocks imported\n",
      "[*********************100%***********************]  1 of 1 completed\n",
      "PATANJALI.NS 540 324 out of 500 stocks imported\n",
      "[*********************100%***********************]  1 of 1 completed\n",
      "PERSISTENT.NS 540 325 out of 500 stocks imported\n",
      "[*********************100%***********************]  1 of 1 completed\n",
      "PETRONET.NS 540 326 out of 500 stocks imported\n"
     ]
    },
    {
     "name": "stdout",
     "output_type": "stream",
     "text": [
      "[*********************100%***********************]  1 of 1 completed\n",
      "PFIZER.NS 540 327 out of 500 stocks imported\n",
      "[*********************100%***********************]  1 of 1 completed\n",
      "PHOENIXLTD.NS 540 328 out of 500 stocks imported\n",
      "[*********************100%***********************]  1 of 1 completed\n",
      "PIDILITIND.NS 540 329 out of 500 stocks imported\n",
      "[*********************100%***********************]  1 of 1 completed\n",
      "PEL.NS 540 330 out of 500 stocks imported\n",
      "[*********************100%***********************]  1 of 1 completed\n",
      "skipping PPLPHARMA.NS as it has only 125 values\n",
      "[*********************100%***********************]  1 of 1 completed\n",
      "POLYMED.NS 540 331 out of 500 stocks imported\n",
      "[*********************100%***********************]  1 of 1 completed\n",
      "POLYCAB.NS 540 332 out of 500 stocks imported\n",
      "[*********************100%***********************]  1 of 1 completed\n",
      "POLYPLEX.NS 540 333 out of 500 stocks imported\n",
      "[*********************100%***********************]  1 of 1 completed\n",
      "POONAWALLA.NS 540 334 out of 500 stocks imported\n",
      "[*********************100%***********************]  1 of 1 completed\n",
      "PFC.NS 540 335 out of 500 stocks imported\n",
      "[*********************100%***********************]  1 of 1 completed\n",
      "POWERGRID.NS 540 336 out of 500 stocks imported\n",
      "[*********************100%***********************]  1 of 1 completed\n",
      "PRAJIND.NS 540 337 out of 500 stocks imported\n",
      "[*********************100%***********************]  1 of 1 completed\n",
      "PRESTIGE.NS 540 338 out of 500 stocks imported\n",
      "[*********************100%***********************]  1 of 1 completed\n",
      "PRINCEPIPE.NS 540 339 out of 500 stocks imported\n",
      "[*********************100%***********************]  1 of 1 completed\n",
      "PRSMJOHNSN.NS 540 340 out of 500 stocks imported\n",
      "[*********************100%***********************]  1 of 1 completed\n",
      "PGHH.NS 540 341 out of 500 stocks imported\n",
      "[*********************100%***********************]  1 of 1 completed\n",
      "PNB.NS 540 342 out of 500 stocks imported\n",
      "[*********************100%***********************]  1 of 1 completed\n",
      "QUESS.NS 540 343 out of 500 stocks imported\n",
      "[*********************100%***********************]  1 of 1 completed\n",
      "RBLBANK.NS 540 344 out of 500 stocks imported\n",
      "[*********************100%***********************]  1 of 1 completed\n",
      "RECLTD.NS 540 345 out of 500 stocks imported\n",
      "[*********************100%***********************]  1 of 1 completed\n",
      "RHIM.NS 540 346 out of 500 stocks imported\n",
      "[*********************100%***********************]  1 of 1 completed\n",
      "RITES.NS 540 347 out of 500 stocks imported\n",
      "[*********************100%***********************]  1 of 1 completed\n",
      "RADICO.NS 540 348 out of 500 stocks imported\n",
      "[*********************100%***********************]  1 of 1 completed\n",
      "RVNL.NS 540 349 out of 500 stocks imported\n",
      "[*********************100%***********************]  1 of 1 completed\n",
      "RAIN.NS 540 350 out of 500 stocks imported\n",
      "[*********************100%***********************]  1 of 1 completed\n",
      "skipping RAINBOW.NS as it has only 237 values\n",
      "[*********************100%***********************]  1 of 1 completed\n",
      "RAJESHEXPO.NS 540 351 out of 500 stocks imported\n",
      "[*********************100%***********************]  1 of 1 completed\n",
      "RALLIS.NS 540 352 out of 500 stocks imported\n",
      "[*********************100%***********************]  1 of 1 completed\n",
      "RCF.NS 540 353 out of 500 stocks imported\n",
      "[*********************100%***********************]  1 of 1 completed\n",
      "RATNAMANI.NS 540 354 out of 500 stocks imported\n",
      "[*********************100%***********************]  1 of 1 completed\n",
      "RTNINDIA.NS 540 355 out of 500 stocks imported\n",
      "[*********************100%***********************]  1 of 1 completed\n",
      "RAYMOND.NS 540 356 out of 500 stocks imported\n",
      "[*********************100%***********************]  1 of 1 completed\n",
      "REDINGTON.NS 540 357 out of 500 stocks imported\n",
      "[*********************100%***********************]  1 of 1 completed\n",
      "RELAXO.NS 540 358 out of 500 stocks imported\n",
      "[*********************100%***********************]  1 of 1 completed\n",
      "RELIANCE.NS 540 359 out of 500 stocks imported\n",
      "[*********************100%***********************]  1 of 1 completed\n",
      "RBA.NS 540 360 out of 500 stocks imported\n",
      "[*********************100%***********************]  1 of 1 completed\n",
      "ROSSARI.NS 540 361 out of 500 stocks imported\n",
      "[*********************100%***********************]  1 of 1 completed\n",
      "ROUTE.NS 540 362 out of 500 stocks imported\n",
      "[*********************100%***********************]  1 of 1 completed\n",
      "SBICARD.NS 540 363 out of 500 stocks imported\n",
      "[*********************100%***********************]  1 of 1 completed\n",
      "SBILIFE.NS 540 364 out of 500 stocks imported\n",
      "[*********************100%***********************]  1 of 1 completed\n",
      "SJVN.NS 540 365 out of 500 stocks imported\n",
      "[*********************100%***********************]  1 of 1 completed\n",
      "SKFINDIA.NS 540 366 out of 500 stocks imported\n",
      "[*********************100%***********************]  1 of 1 completed\n",
      "SRF.NS 540 367 out of 500 stocks imported\n",
      "[*********************100%***********************]  1 of 1 completed\n",
      "MOTHERSON.NS 540 368 out of 500 stocks imported\n",
      "[*********************100%***********************]  1 of 1 completed\n",
      "SANOFI.NS 540 369 out of 500 stocks imported\n",
      "[*********************100%***********************]  1 of 1 completed\n",
      "skipping SAPPHIRE.NS as it has only 353 values\n",
      "[*********************100%***********************]  1 of 1 completed\n",
      "SCHAEFFLER.NS 540 370 out of 500 stocks imported\n",
      "[*********************100%***********************]  1 of 1 completed\n",
      "SHARDACROP.NS 540 371 out of 500 stocks imported\n",
      "[*********************100%***********************]  1 of 1 completed\n",
      "SHOPERSTOP.NS 540 372 out of 500 stocks imported\n",
      "[*********************100%***********************]  1 of 1 completed\n",
      "SHREECEM.NS 540 373 out of 500 stocks imported\n",
      "[*********************100%***********************]  1 of 1 completed\n",
      "RENUKA.NS 540 374 out of 500 stocks imported\n",
      "[*********************100%***********************]  1 of 1 completed\n",
      "SHRIRAMFIN.NS 540 375 out of 500 stocks imported\n",
      "[*********************100%***********************]  1 of 1 completed\n",
      "skipping SHYAMMETL.NS as it has only 453 values\n",
      "[*********************100%***********************]  1 of 1 completed\n",
      "SIEMENS.NS 540 376 out of 500 stocks imported\n",
      "[*********************100%***********************]  1 of 1 completed\n",
      "SOBHA.NS 540 377 out of 500 stocks imported\n",
      "[*********************100%***********************]  1 of 1 completed\n",
      "SOLARINDS.NS 540 378 out of 500 stocks imported\n",
      "[*********************100%***********************]  1 of 1 completed\n",
      "skipping SONACOMS.NS as it has only 453 values\n",
      "[*********************100%***********************]  1 of 1 completed\n",
      "SONATSOFTW.NS 540 379 out of 500 stocks imported\n",
      "[*********************100%***********************]  1 of 1 completed\n",
      "skipping STARHEALTH.NS as it has only 338 values\n",
      "[*********************100%***********************]  1 of 1 completed\n",
      "SBIN.NS 540 380 out of 500 stocks imported\n",
      "[*********************100%***********************]  1 of 1 completed\n",
      "SAIL.NS 540 381 out of 500 stocks imported\n",
      "[*********************100%***********************]  1 of 1 completed\n",
      "SWSOLAR.NS 540 382 out of 500 stocks imported\n",
      "[*********************100%***********************]  1 of 1 completed\n",
      "STLTECH.NS 540 383 out of 500 stocks imported\n",
      "[*********************100%***********************]  1 of 1 completed\n",
      "SUMICHEM.NS 540 384 out of 500 stocks imported\n",
      "[*********************100%***********************]  1 of 1 completed\n",
      "SPARC.NS 540 385 out of 500 stocks imported\n",
      "[*********************100%***********************]  1 of 1 completed\n",
      "SUNPHARMA.NS 540 386 out of 500 stocks imported\n",
      "[*********************100%***********************]  1 of 1 completed\n",
      "SUNTV.NS 540 387 out of 500 stocks imported\n",
      "[*********************100%***********************]  1 of 1 completed\n",
      "SUNDARMFIN.NS 540 388 out of 500 stocks imported\n",
      "[*********************100%***********************]  1 of 1 completed\n",
      "SUNDRMFAST.NS 540 389 out of 500 stocks imported\n",
      "[*********************100%***********************]  1 of 1 completed\n",
      "SUNTECK.NS 540 390 out of 500 stocks imported\n",
      "[*********************100%***********************]  1 of 1 completed\n",
      "SUPRAJIT.NS 540 391 out of 500 stocks imported\n"
     ]
    },
    {
     "name": "stdout",
     "output_type": "stream",
     "text": [
      "[*********************100%***********************]  1 of 1 completed\n",
      "SUPREMEIND.NS 540 392 out of 500 stocks imported\n",
      "[*********************100%***********************]  1 of 1 completed\n",
      "SUVENPHAR.NS 540 393 out of 500 stocks imported\n",
      "[*********************100%***********************]  1 of 1 completed\n",
      "SUZLON.NS 540 394 out of 500 stocks imported\n",
      "[*********************100%***********************]  1 of 1 completed\n",
      "SWANENERGY.NS 540 395 out of 500 stocks imported\n",
      "[*********************100%***********************]  1 of 1 completed\n",
      "SYNGENE.NS 540 396 out of 500 stocks imported\n",
      "[*********************100%***********************]  1 of 1 completed\n",
      "TCIEXP.NS 540 397 out of 500 stocks imported\n",
      "[*********************100%***********************]  1 of 1 completed\n",
      "TCNSBRANDS.NS 540 398 out of 500 stocks imported\n",
      "[*********************100%***********************]  1 of 1 completed\n",
      "TTKPRESTIG.NS 540 399 out of 500 stocks imported\n",
      "[*********************100%***********************]  1 of 1 completed\n",
      "TV18BRDCST.NS 540 400 out of 500 stocks imported\n",
      "[*********************100%***********************]  1 of 1 completed\n",
      "TVSMOTOR.NS 540 401 out of 500 stocks imported\n",
      "[*********************100%***********************]  1 of 1 completed\n",
      "skipping TMB.NS as it has only 148 values\n",
      "[*********************100%***********************]  1 of 1 completed\n",
      "TANLA.NS 540 402 out of 500 stocks imported\n",
      "[*********************100%***********************]  1 of 1 completed\n",
      "TATACHEM.NS 540 403 out of 500 stocks imported\n",
      "[*********************100%***********************]  1 of 1 completed\n",
      "TATACOMM.NS 540 404 out of 500 stocks imported\n",
      "[*********************100%***********************]  1 of 1 completed\n",
      "TCS.NS 540 405 out of 500 stocks imported\n",
      "[*********************100%***********************]  1 of 1 completed\n",
      "TATACONSUM.NS 540 406 out of 500 stocks imported\n",
      "[*********************100%***********************]  1 of 1 completed\n",
      "TATAELXSI.NS 540 407 out of 500 stocks imported\n",
      "[*********************100%***********************]  1 of 1 completed\n",
      "TATAINVEST.NS 540 408 out of 500 stocks imported\n",
      "[*********************100%***********************]  1 of 1 completed\n",
      "TATAMTRDVR.NS 540 409 out of 500 stocks imported\n",
      "[*********************100%***********************]  1 of 1 completed\n",
      "TATAMOTORS.NS 540 410 out of 500 stocks imported\n",
      "[*********************100%***********************]  1 of 1 completed\n",
      "TATAPOWER.NS 540 411 out of 500 stocks imported\n",
      "[*********************100%***********************]  1 of 1 completed\n",
      "TATASTEEL.NS 540 412 out of 500 stocks imported\n",
      "[*********************100%***********************]  1 of 1 completed\n",
      "TTML.NS 540 413 out of 500 stocks imported\n",
      "[*********************100%***********************]  1 of 1 completed\n",
      "TEAMLEASE.NS 540 414 out of 500 stocks imported\n",
      "[*********************100%***********************]  1 of 1 completed\n",
      "TECHM.NS 540 415 out of 500 stocks imported\n",
      "[*********************100%***********************]  1 of 1 completed\n",
      "TEJASNET.NS 540 416 out of 500 stocks imported\n",
      "[*********************100%***********************]  1 of 1 completed\n",
      "NIACL.NS 540 417 out of 500 stocks imported\n",
      "[*********************100%***********************]  1 of 1 completed\n",
      "RAMCOCEM.NS 540 418 out of 500 stocks imported\n",
      "[*********************100%***********************]  1 of 1 completed\n",
      "THERMAX.NS 540 419 out of 500 stocks imported\n",
      "[*********************100%***********************]  1 of 1 completed\n",
      "TIMKEN.NS 540 420 out of 500 stocks imported\n",
      "[*********************100%***********************]  1 of 1 completed\n",
      "TITAN.NS 540 421 out of 500 stocks imported\n",
      "[*********************100%***********************]  1 of 1 completed\n",
      "TORNTPHARM.NS 540 422 out of 500 stocks imported\n",
      "[*********************100%***********************]  1 of 1 completed\n",
      "TORNTPOWER.NS 540 423 out of 500 stocks imported\n",
      "[*********************100%***********************]  1 of 1 completed\n",
      "TCI.NS 540 424 out of 500 stocks imported\n",
      "[*********************100%***********************]  1 of 1 completed\n",
      "TRENT.NS 540 425 out of 500 stocks imported\n",
      "[*********************100%***********************]  1 of 1 completed\n",
      "TRIDENT.NS 540 426 out of 500 stocks imported\n",
      "[*********************100%***********************]  1 of 1 completed\n",
      "TRIVENI.NS 540 427 out of 500 stocks imported\n",
      "[*********************100%***********************]  1 of 1 completed\n",
      "TRITURBINE.NS 540 428 out of 500 stocks imported\n",
      "[*********************100%***********************]  1 of 1 completed\n",
      "TIINDIA.NS 540 429 out of 500 stocks imported\n",
      "[*********************100%***********************]  1 of 1 completed\n",
      "UCOBANK.NS 540 430 out of 500 stocks imported\n",
      "[*********************100%***********************]  1 of 1 completed\n",
      "UFLEX.NS 540 431 out of 500 stocks imported\n",
      "[*********************100%***********************]  1 of 1 completed\n",
      "UNOMINDA.NS 540 432 out of 500 stocks imported\n",
      "[*********************100%***********************]  1 of 1 completed\n",
      "UPL.NS 540 433 out of 500 stocks imported\n",
      "[*********************100%***********************]  1 of 1 completed\n",
      "UTIAMC.NS 540 434 out of 500 stocks imported\n",
      "[*********************100%***********************]  1 of 1 completed\n",
      "ULTRACEMCO.NS 540 435 out of 500 stocks imported\n",
      "[*********************100%***********************]  1 of 1 completed\n",
      "UNIONBANK.NS 540 436 out of 500 stocks imported\n",
      "[*********************100%***********************]  1 of 1 completed\n",
      "UBL.NS 540 437 out of 500 stocks imported\n",
      "[*********************100%***********************]  1 of 1 completed\n",
      "MCDOWELL-N.NS 540 438 out of 500 stocks imported\n",
      "[*********************100%***********************]  1 of 1 completed\n",
      "VGUARD.NS 540 439 out of 500 stocks imported\n",
      "[*********************100%***********************]  1 of 1 completed\n",
      "VMART.NS 540 440 out of 500 stocks imported\n",
      "[*********************100%***********************]  1 of 1 completed\n",
      "VIPIND.NS 540 441 out of 500 stocks imported\n",
      "[*********************100%***********************]  1 of 1 completed\n",
      "VAIBHAVGBL.NS 540 442 out of 500 stocks imported\n",
      "[*********************100%***********************]  1 of 1 completed\n",
      "VTL.NS 540 443 out of 500 stocks imported\n",
      "[*********************100%***********************]  1 of 1 completed\n",
      "VARROC.NS 540 444 out of 500 stocks imported\n",
      "[*********************100%***********************]  1 of 1 completed\n",
      "VBL.NS 540 445 out of 500 stocks imported\n",
      "[*********************100%***********************]  1 of 1 completed\n",
      "skipping MANYAVAR.NS as it has only 291 values\n",
      "[*********************100%***********************]  1 of 1 completed\n",
      "VEDL.NS 540 446 out of 500 stocks imported\n",
      "[*********************100%***********************]  1 of 1 completed\n",
      "skipping VIJAYA.NS as it has only 398 values\n",
      "[*********************100%***********************]  1 of 1 completed\n",
      "VINATIORGA.NS 540 447 out of 500 stocks imported\n",
      "[*********************100%***********************]  1 of 1 completed\n",
      "IDEA.NS 540 448 out of 500 stocks imported\n",
      "[*********************100%***********************]  1 of 1 completed\n",
      "VOLTAS.NS 540 449 out of 500 stocks imported\n",
      "[*********************100%***********************]  1 of 1 completed\n",
      "WELCORP.NS 540 450 out of 500 stocks imported\n",
      "[*********************100%***********************]  1 of 1 completed\n",
      "WELSPUNIND.NS 540 451 out of 500 stocks imported\n",
      "[*********************100%***********************]  1 of 1 completed\n",
      "WESTLIFE.NS 540 452 out of 500 stocks imported\n",
      "[*********************100%***********************]  1 of 1 completed\n",
      "WHIRLPOOL.NS 540 453 out of 500 stocks imported\n",
      "[*********************100%***********************]  1 of 1 completed\n",
      "WIPRO.NS 540 454 out of 500 stocks imported\n",
      "[*********************100%***********************]  1 of 1 completed\n",
      "YESBANK.NS 540 455 out of 500 stocks imported\n",
      "[*********************100%***********************]  1 of 1 completed\n",
      "ZFCVINDIA.NS 540 456 out of 500 stocks imported\n",
      "[*********************100%***********************]  1 of 1 completed\n",
      "ZEEL.NS 540 457 out of 500 stocks imported\n",
      "[*********************100%***********************]  1 of 1 completed\n",
      "ZENSARTECH.NS 540 458 out of 500 stocks imported\n",
      "[*********************100%***********************]  1 of 1 completed\n",
      "skipping ZOMATO.NS as it has only 433 values\n"
     ]
    },
    {
     "name": "stdout",
     "output_type": "stream",
     "text": [
      "[*********************100%***********************]  1 of 1 completed\n",
      "ZYDUSLIFE.NS 540 459 out of 500 stocks imported\n",
      "[*********************100%***********************]  1 of 1 completed\n",
      "ZYDUSWELL.NS 540 460 out of 500 stocks imported\n",
      "[*********************100%***********************]  1 of 1 completed\n",
      "ECLERX.NS 540 461 out of 500 stocks imported\n"
     ]
    }
   ],
   "source": [
    "import yfinance as yf\n",
    "import datetime\n",
    "\n",
    "# Define the list of NSE companies to fetch data for\n",
    "nse_companies1 = stocks[0] +'.NS'\n",
    "nse_companies=[]\n",
    "# Set the start and end dates\n",
    "end_date = datetime.date.today()\n",
    "start_date = end_date - datetime.timedelta(days=800)\n",
    "\n",
    "# Create an empty dictionary to store the data for each company\n",
    "data = {}\n",
    "data_check = {}\n",
    "\n",
    "# Loop through the list of companies and fetch their data\n",
    "set1 =1 \n",
    "for company in nse_companies1:\n",
    "    \n",
    "    data_check[company] = yf.download(company, start=start_date, end=end_date)\n",
    "    \n",
    "    data_check[company] = pd.DataFrame(data_check[company])\n",
    "    df_temp = data_check[company] \n",
    "    #df_temp = df_temp.iloc[0:175]\n",
    "    \n",
    "    if df_temp.shape[0]<500:\n",
    "        print('skipping',company,'as it has only',df_temp.shape[0],'values')\n",
    "        continue\n",
    "        \n",
    "    data[company] = df_temp\n",
    "    nse_companies.append(company)\n",
    "    #print(data[company])\n",
    "    #print(data[company].head())\n",
    "    \n",
    "    print(company,len(data[company]), set1,'out of 500 stocks imported')\n",
    "    set1 = set1 +1\n",
    "    "
   ]
  },
  {
   "cell_type": "code",
   "execution_count": 3,
   "id": "00ad5da2",
   "metadata": {
    "scrolled": true
   },
   "outputs": [
    {
     "data": {
      "text/html": [
       "<div>\n",
       "<style scoped>\n",
       "    .dataframe tbody tr th:only-of-type {\n",
       "        vertical-align: middle;\n",
       "    }\n",
       "\n",
       "    .dataframe tbody tr th {\n",
       "        vertical-align: top;\n",
       "    }\n",
       "\n",
       "    .dataframe thead th {\n",
       "        text-align: right;\n",
       "    }\n",
       "</style>\n",
       "<table border=\"1\" class=\"dataframe\">\n",
       "  <thead>\n",
       "    <tr style=\"text-align: right;\">\n",
       "      <th></th>\n",
       "      <th>Open</th>\n",
       "      <th>High</th>\n",
       "      <th>Low</th>\n",
       "      <th>Close</th>\n",
       "      <th>Adj Close</th>\n",
       "      <th>Volume</th>\n",
       "    </tr>\n",
       "    <tr>\n",
       "      <th>Date</th>\n",
       "      <th></th>\n",
       "      <th></th>\n",
       "      <th></th>\n",
       "      <th></th>\n",
       "      <th></th>\n",
       "      <th></th>\n",
       "    </tr>\n",
       "  </thead>\n",
       "  <tbody>\n",
       "    <tr>\n",
       "      <th>2021-02-15</th>\n",
       "      <td>1475.000000</td>\n",
       "      <td>1503.750000</td>\n",
       "      <td>1465.000000</td>\n",
       "      <td>1474.150024</td>\n",
       "      <td>1456.224976</td>\n",
       "      <td>139523</td>\n",
       "    </tr>\n",
       "    <tr>\n",
       "      <th>2021-02-16</th>\n",
       "      <td>1480.800049</td>\n",
       "      <td>1515.000000</td>\n",
       "      <td>1474.000000</td>\n",
       "      <td>1500.500000</td>\n",
       "      <td>1482.254395</td>\n",
       "      <td>170927</td>\n",
       "    </tr>\n",
       "    <tr>\n",
       "      <th>2021-02-17</th>\n",
       "      <td>1480.000000</td>\n",
       "      <td>1504.750000</td>\n",
       "      <td>1480.000000</td>\n",
       "      <td>1498.949951</td>\n",
       "      <td>1480.723267</td>\n",
       "      <td>93001</td>\n",
       "    </tr>\n",
       "    <tr>\n",
       "      <th>2021-02-18</th>\n",
       "      <td>1509.800049</td>\n",
       "      <td>1570.000000</td>\n",
       "      <td>1502.000000</td>\n",
       "      <td>1532.849976</td>\n",
       "      <td>1514.211060</td>\n",
       "      <td>310358</td>\n",
       "    </tr>\n",
       "    <tr>\n",
       "      <th>2021-02-19</th>\n",
       "      <td>1542.000000</td>\n",
       "      <td>1635.000000</td>\n",
       "      <td>1510.000000</td>\n",
       "      <td>1521.599976</td>\n",
       "      <td>1503.097900</td>\n",
       "      <td>425564</td>\n",
       "    </tr>\n",
       "    <tr>\n",
       "      <th>...</th>\n",
       "      <td>...</td>\n",
       "      <td>...</td>\n",
       "      <td>...</td>\n",
       "      <td>...</td>\n",
       "      <td>...</td>\n",
       "      <td>...</td>\n",
       "    </tr>\n",
       "    <tr>\n",
       "      <th>2023-04-17</th>\n",
       "      <td>3250.000000</td>\n",
       "      <td>3270.000000</td>\n",
       "      <td>3213.000000</td>\n",
       "      <td>3229.000000</td>\n",
       "      <td>3229.000000</td>\n",
       "      <td>286059</td>\n",
       "    </tr>\n",
       "    <tr>\n",
       "      <th>2023-04-18</th>\n",
       "      <td>3240.000000</td>\n",
       "      <td>3259.850098</td>\n",
       "      <td>3202.899902</td>\n",
       "      <td>3207.699951</td>\n",
       "      <td>3207.699951</td>\n",
       "      <td>277893</td>\n",
       "    </tr>\n",
       "    <tr>\n",
       "      <th>2023-04-19</th>\n",
       "      <td>3213.000000</td>\n",
       "      <td>3243.000000</td>\n",
       "      <td>3186.050049</td>\n",
       "      <td>3201.050049</td>\n",
       "      <td>3201.050049</td>\n",
       "      <td>266982</td>\n",
       "    </tr>\n",
       "    <tr>\n",
       "      <th>2023-04-20</th>\n",
       "      <td>3212.000000</td>\n",
       "      <td>3231.750000</td>\n",
       "      <td>3178.000000</td>\n",
       "      <td>3184.300049</td>\n",
       "      <td>3184.300049</td>\n",
       "      <td>276392</td>\n",
       "    </tr>\n",
       "    <tr>\n",
       "      <th>2023-04-21</th>\n",
       "      <td>3198.000000</td>\n",
       "      <td>3212.550049</td>\n",
       "      <td>3141.149902</td>\n",
       "      <td>3153.300049</td>\n",
       "      <td>3153.300049</td>\n",
       "      <td>267054</td>\n",
       "    </tr>\n",
       "  </tbody>\n",
       "</table>\n",
       "<p>540 rows × 6 columns</p>\n",
       "</div>"
      ],
      "text/plain": [
       "                   Open         High          Low        Close    Adj Close  \\\n",
       "Date                                                                          \n",
       "2021-02-15  1475.000000  1503.750000  1465.000000  1474.150024  1456.224976   \n",
       "2021-02-16  1480.800049  1515.000000  1474.000000  1500.500000  1482.254395   \n",
       "2021-02-17  1480.000000  1504.750000  1480.000000  1498.949951  1480.723267   \n",
       "2021-02-18  1509.800049  1570.000000  1502.000000  1532.849976  1514.211060   \n",
       "2021-02-19  1542.000000  1635.000000  1510.000000  1521.599976  1503.097900   \n",
       "...                 ...          ...          ...          ...          ...   \n",
       "2023-04-17  3250.000000  3270.000000  3213.000000  3229.000000  3229.000000   \n",
       "2023-04-18  3240.000000  3259.850098  3202.899902  3207.699951  3207.699951   \n",
       "2023-04-19  3213.000000  3243.000000  3186.050049  3201.050049  3201.050049   \n",
       "2023-04-20  3212.000000  3231.750000  3178.000000  3184.300049  3184.300049   \n",
       "2023-04-21  3198.000000  3212.550049  3141.149902  3153.300049  3153.300049   \n",
       "\n",
       "            Volume  \n",
       "Date                \n",
       "2021-02-15  139523  \n",
       "2021-02-16  170927  \n",
       "2021-02-17   93001  \n",
       "2021-02-18  310358  \n",
       "2021-02-19  425564  \n",
       "...            ...  \n",
       "2023-04-17  286059  \n",
       "2023-04-18  277893  \n",
       "2023-04-19  266982  \n",
       "2023-04-20  276392  \n",
       "2023-04-21  267054  \n",
       "\n",
       "[540 rows x 6 columns]"
      ]
     },
     "execution_count": 3,
     "metadata": {},
     "output_type": "execute_result"
    }
   ],
   "source": [
    "data['ABB.NS']"
   ]
  },
  {
   "cell_type": "code",
   "execution_count": 4,
   "id": "035cad6e",
   "metadata": {},
   "outputs": [],
   "source": [
    "from matplotlib import pyplot as plt\n",
    "import numpy as np\n",
    "%matplotlib inline"
   ]
  },
  {
   "cell_type": "code",
   "execution_count": 5,
   "id": "d4f5be96",
   "metadata": {
    "scrolled": true
   },
   "outputs": [
    {
     "name": "stdout",
     "output_type": "stream",
     "text": [
      "Completed 0 out of 461 steps\n",
      "the main data is of shape (540, 2)\n",
      "shape of current_data2 is (540, 59)\n"
     ]
    },
    {
     "name": "stderr",
     "output_type": "stream",
     "text": [
      "C:\\Users\\abhij\\AppData\\Local\\Temp\\ipykernel_18688\\568520512.py:16: SettingWithCopyWarning: \n",
      "A value is trying to be set on a copy of a slice from a DataFrame.\n",
      "Try using .loc[row_indexer,col_indexer] = value instead\n",
      "\n",
      "See the caveats in the documentation: https://pandas.pydata.org/pandas-docs/stable/user_guide/indexing.html#returning-a-view-versus-a-copy\n",
      "  current_data['Date'] = current_data.index\n"
     ]
    },
    {
     "name": "stdout",
     "output_type": "stream",
     "text": [
      "shape of df4 is (480, 3541)\n",
      "Completed 1 out of 461 steps\n",
      "the main data is of shape (540, 2)\n",
      "shape of current_data2 is (540, 59)\n"
     ]
    },
    {
     "name": "stderr",
     "output_type": "stream",
     "text": [
      "C:\\Users\\abhij\\AppData\\Local\\Temp\\ipykernel_18688\\568520512.py:16: SettingWithCopyWarning: \n",
      "A value is trying to be set on a copy of a slice from a DataFrame.\n",
      "Try using .loc[row_indexer,col_indexer] = value instead\n",
      "\n",
      "See the caveats in the documentation: https://pandas.pydata.org/pandas-docs/stable/user_guide/indexing.html#returning-a-view-versus-a-copy\n",
      "  current_data['Date'] = current_data.index\n"
     ]
    },
    {
     "name": "stdout",
     "output_type": "stream",
     "text": [
      "shape of df4 is (480, 3541)\n",
      "Completed 2 out of 461 steps\n",
      "the main data is of shape (540, 2)\n",
      "shape of current_data2 is (540, 59)\n"
     ]
    },
    {
     "name": "stderr",
     "output_type": "stream",
     "text": [
      "C:\\Users\\abhij\\AppData\\Local\\Temp\\ipykernel_18688\\568520512.py:16: SettingWithCopyWarning: \n",
      "A value is trying to be set on a copy of a slice from a DataFrame.\n",
      "Try using .loc[row_indexer,col_indexer] = value instead\n",
      "\n",
      "See the caveats in the documentation: https://pandas.pydata.org/pandas-docs/stable/user_guide/indexing.html#returning-a-view-versus-a-copy\n",
      "  current_data['Date'] = current_data.index\n"
     ]
    },
    {
     "name": "stdout",
     "output_type": "stream",
     "text": [
      "shape of df4 is (480, 3541)\n",
      "Completed 3 out of 461 steps\n",
      "the main data is of shape (540, 2)\n",
      "shape of current_data2 is (540, 59)\n"
     ]
    },
    {
     "name": "stderr",
     "output_type": "stream",
     "text": [
      "C:\\Users\\abhij\\AppData\\Local\\Temp\\ipykernel_18688\\568520512.py:16: SettingWithCopyWarning: \n",
      "A value is trying to be set on a copy of a slice from a DataFrame.\n",
      "Try using .loc[row_indexer,col_indexer] = value instead\n",
      "\n",
      "See the caveats in the documentation: https://pandas.pydata.org/pandas-docs/stable/user_guide/indexing.html#returning-a-view-versus-a-copy\n",
      "  current_data['Date'] = current_data.index\n"
     ]
    },
    {
     "name": "stdout",
     "output_type": "stream",
     "text": [
      "shape of df4 is (480, 3541)\n",
      "Completed 4 out of 461 steps\n",
      "the main data is of shape (540, 2)\n",
      "shape of current_data2 is (540, 59)\n"
     ]
    },
    {
     "name": "stderr",
     "output_type": "stream",
     "text": [
      "C:\\Users\\abhij\\AppData\\Local\\Temp\\ipykernel_18688\\568520512.py:16: SettingWithCopyWarning: \n",
      "A value is trying to be set on a copy of a slice from a DataFrame.\n",
      "Try using .loc[row_indexer,col_indexer] = value instead\n",
      "\n",
      "See the caveats in the documentation: https://pandas.pydata.org/pandas-docs/stable/user_guide/indexing.html#returning-a-view-versus-a-copy\n",
      "  current_data['Date'] = current_data.index\n"
     ]
    },
    {
     "name": "stdout",
     "output_type": "stream",
     "text": [
      "shape of df4 is (480, 3541)\n",
      "Completed 5 out of 461 steps\n",
      "the main data is of shape (540, 2)\n",
      "shape of current_data2 is (540, 59)\n"
     ]
    },
    {
     "name": "stderr",
     "output_type": "stream",
     "text": [
      "C:\\Users\\abhij\\AppData\\Local\\Temp\\ipykernel_18688\\568520512.py:16: SettingWithCopyWarning: \n",
      "A value is trying to be set on a copy of a slice from a DataFrame.\n",
      "Try using .loc[row_indexer,col_indexer] = value instead\n",
      "\n",
      "See the caveats in the documentation: https://pandas.pydata.org/pandas-docs/stable/user_guide/indexing.html#returning-a-view-versus-a-copy\n",
      "  current_data['Date'] = current_data.index\n"
     ]
    },
    {
     "name": "stdout",
     "output_type": "stream",
     "text": [
      "shape of df4 is (480, 3541)\n",
      "Completed 6 out of 461 steps\n",
      "the main data is of shape (540, 2)\n",
      "shape of current_data2 is (540, 59)\n"
     ]
    },
    {
     "name": "stderr",
     "output_type": "stream",
     "text": [
      "C:\\Users\\abhij\\AppData\\Local\\Temp\\ipykernel_18688\\568520512.py:16: SettingWithCopyWarning: \n",
      "A value is trying to be set on a copy of a slice from a DataFrame.\n",
      "Try using .loc[row_indexer,col_indexer] = value instead\n",
      "\n",
      "See the caveats in the documentation: https://pandas.pydata.org/pandas-docs/stable/user_guide/indexing.html#returning-a-view-versus-a-copy\n",
      "  current_data['Date'] = current_data.index\n"
     ]
    },
    {
     "name": "stdout",
     "output_type": "stream",
     "text": [
      "shape of df4 is (480, 3541)\n",
      "Completed 7 out of 461 steps\n",
      "the main data is of shape (540, 2)\n",
      "shape of current_data2 is (540, 59)\n"
     ]
    },
    {
     "name": "stderr",
     "output_type": "stream",
     "text": [
      "C:\\Users\\abhij\\AppData\\Local\\Temp\\ipykernel_18688\\568520512.py:16: SettingWithCopyWarning: \n",
      "A value is trying to be set on a copy of a slice from a DataFrame.\n",
      "Try using .loc[row_indexer,col_indexer] = value instead\n",
      "\n",
      "See the caveats in the documentation: https://pandas.pydata.org/pandas-docs/stable/user_guide/indexing.html#returning-a-view-versus-a-copy\n",
      "  current_data['Date'] = current_data.index\n"
     ]
    },
    {
     "name": "stdout",
     "output_type": "stream",
     "text": [
      "shape of df4 is (480, 3541)\n",
      "Completed 8 out of 461 steps\n",
      "the main data is of shape (540, 2)\n",
      "shape of current_data2 is (540, 59)\n"
     ]
    },
    {
     "name": "stderr",
     "output_type": "stream",
     "text": [
      "C:\\Users\\abhij\\AppData\\Local\\Temp\\ipykernel_18688\\568520512.py:16: SettingWithCopyWarning: \n",
      "A value is trying to be set on a copy of a slice from a DataFrame.\n",
      "Try using .loc[row_indexer,col_indexer] = value instead\n",
      "\n",
      "See the caveats in the documentation: https://pandas.pydata.org/pandas-docs/stable/user_guide/indexing.html#returning-a-view-versus-a-copy\n",
      "  current_data['Date'] = current_data.index\n"
     ]
    },
    {
     "name": "stdout",
     "output_type": "stream",
     "text": [
      "shape of df4 is (480, 3541)\n",
      "Completed 9 out of 461 steps\n",
      "the main data is of shape (540, 2)\n",
      "shape of current_data2 is (540, 59)\n"
     ]
    },
    {
     "name": "stderr",
     "output_type": "stream",
     "text": [
      "C:\\Users\\abhij\\AppData\\Local\\Temp\\ipykernel_18688\\568520512.py:16: SettingWithCopyWarning: \n",
      "A value is trying to be set on a copy of a slice from a DataFrame.\n",
      "Try using .loc[row_indexer,col_indexer] = value instead\n",
      "\n",
      "See the caveats in the documentation: https://pandas.pydata.org/pandas-docs/stable/user_guide/indexing.html#returning-a-view-versus-a-copy\n",
      "  current_data['Date'] = current_data.index\n"
     ]
    },
    {
     "name": "stdout",
     "output_type": "stream",
     "text": [
      "shape of df4 is (480, 3541)\n",
      "Completed 10 out of 461 steps\n",
      "the main data is of shape (540, 2)\n",
      "shape of current_data2 is (540, 59)\n"
     ]
    },
    {
     "name": "stderr",
     "output_type": "stream",
     "text": [
      "C:\\Users\\abhij\\AppData\\Local\\Temp\\ipykernel_18688\\568520512.py:16: SettingWithCopyWarning: \n",
      "A value is trying to be set on a copy of a slice from a DataFrame.\n",
      "Try using .loc[row_indexer,col_indexer] = value instead\n",
      "\n",
      "See the caveats in the documentation: https://pandas.pydata.org/pandas-docs/stable/user_guide/indexing.html#returning-a-view-versus-a-copy\n",
      "  current_data['Date'] = current_data.index\n"
     ]
    },
    {
     "name": "stdout",
     "output_type": "stream",
     "text": [
      "shape of df4 is (480, 3541)\n",
      "Completed 11 out of 461 steps\n",
      "the main data is of shape (540, 2)\n",
      "shape of current_data2 is (540, 59)\n"
     ]
    },
    {
     "name": "stderr",
     "output_type": "stream",
     "text": [
      "C:\\Users\\abhij\\AppData\\Local\\Temp\\ipykernel_18688\\568520512.py:16: SettingWithCopyWarning: \n",
      "A value is trying to be set on a copy of a slice from a DataFrame.\n",
      "Try using .loc[row_indexer,col_indexer] = value instead\n",
      "\n",
      "See the caveats in the documentation: https://pandas.pydata.org/pandas-docs/stable/user_guide/indexing.html#returning-a-view-versus-a-copy\n",
      "  current_data['Date'] = current_data.index\n"
     ]
    },
    {
     "name": "stdout",
     "output_type": "stream",
     "text": [
      "shape of df4 is (480, 3541)\n",
      "Completed 12 out of 461 steps\n",
      "the main data is of shape (540, 2)\n",
      "shape of current_data2 is (540, 59)\n"
     ]
    },
    {
     "name": "stderr",
     "output_type": "stream",
     "text": [
      "C:\\Users\\abhij\\AppData\\Local\\Temp\\ipykernel_18688\\568520512.py:16: SettingWithCopyWarning: \n",
      "A value is trying to be set on a copy of a slice from a DataFrame.\n",
      "Try using .loc[row_indexer,col_indexer] = value instead\n",
      "\n",
      "See the caveats in the documentation: https://pandas.pydata.org/pandas-docs/stable/user_guide/indexing.html#returning-a-view-versus-a-copy\n",
      "  current_data['Date'] = current_data.index\n"
     ]
    },
    {
     "name": "stdout",
     "output_type": "stream",
     "text": [
      "shape of df4 is (480, 3541)\n",
      "Completed 13 out of 461 steps\n",
      "the main data is of shape (540, 2)\n",
      "shape of current_data2 is (540, 59)\n"
     ]
    },
    {
     "name": "stderr",
     "output_type": "stream",
     "text": [
      "C:\\Users\\abhij\\AppData\\Local\\Temp\\ipykernel_18688\\568520512.py:16: SettingWithCopyWarning: \n",
      "A value is trying to be set on a copy of a slice from a DataFrame.\n",
      "Try using .loc[row_indexer,col_indexer] = value instead\n",
      "\n",
      "See the caveats in the documentation: https://pandas.pydata.org/pandas-docs/stable/user_guide/indexing.html#returning-a-view-versus-a-copy\n",
      "  current_data['Date'] = current_data.index\n"
     ]
    },
    {
     "name": "stdout",
     "output_type": "stream",
     "text": [
      "shape of df4 is (480, 3541)\n",
      "Completed 14 out of 461 steps\n",
      "the main data is of shape (540, 2)\n",
      "shape of current_data2 is (540, 59)\n"
     ]
    },
    {
     "name": "stderr",
     "output_type": "stream",
     "text": [
      "C:\\Users\\abhij\\AppData\\Local\\Temp\\ipykernel_18688\\568520512.py:16: SettingWithCopyWarning: \n",
      "A value is trying to be set on a copy of a slice from a DataFrame.\n",
      "Try using .loc[row_indexer,col_indexer] = value instead\n",
      "\n",
      "See the caveats in the documentation: https://pandas.pydata.org/pandas-docs/stable/user_guide/indexing.html#returning-a-view-versus-a-copy\n",
      "  current_data['Date'] = current_data.index\n"
     ]
    },
    {
     "name": "stdout",
     "output_type": "stream",
     "text": [
      "shape of df4 is (480, 3541)\n",
      "Completed 15 out of 461 steps\n",
      "the main data is of shape (540, 2)\n",
      "shape of current_data2 is (540, 59)\n"
     ]
    },
    {
     "name": "stderr",
     "output_type": "stream",
     "text": [
      "C:\\Users\\abhij\\AppData\\Local\\Temp\\ipykernel_18688\\568520512.py:16: SettingWithCopyWarning: \n",
      "A value is trying to be set on a copy of a slice from a DataFrame.\n",
      "Try using .loc[row_indexer,col_indexer] = value instead\n",
      "\n",
      "See the caveats in the documentation: https://pandas.pydata.org/pandas-docs/stable/user_guide/indexing.html#returning-a-view-versus-a-copy\n",
      "  current_data['Date'] = current_data.index\n"
     ]
    },
    {
     "name": "stdout",
     "output_type": "stream",
     "text": [
      "shape of df4 is (480, 3541)\n",
      "Completed 16 out of 461 steps\n",
      "the main data is of shape (540, 2)\n",
      "shape of current_data2 is (540, 59)\n"
     ]
    },
    {
     "name": "stderr",
     "output_type": "stream",
     "text": [
      "C:\\Users\\abhij\\AppData\\Local\\Temp\\ipykernel_18688\\568520512.py:16: SettingWithCopyWarning: \n",
      "A value is trying to be set on a copy of a slice from a DataFrame.\n",
      "Try using .loc[row_indexer,col_indexer] = value instead\n",
      "\n",
      "See the caveats in the documentation: https://pandas.pydata.org/pandas-docs/stable/user_guide/indexing.html#returning-a-view-versus-a-copy\n",
      "  current_data['Date'] = current_data.index\n"
     ]
    },
    {
     "name": "stdout",
     "output_type": "stream",
     "text": [
      "shape of df4 is (480, 3541)\n",
      "Completed 17 out of 461 steps\n",
      "the main data is of shape (540, 2)\n",
      "shape of current_data2 is (540, 59)\n"
     ]
    },
    {
     "name": "stderr",
     "output_type": "stream",
     "text": [
      "C:\\Users\\abhij\\AppData\\Local\\Temp\\ipykernel_18688\\568520512.py:16: SettingWithCopyWarning: \n",
      "A value is trying to be set on a copy of a slice from a DataFrame.\n",
      "Try using .loc[row_indexer,col_indexer] = value instead\n",
      "\n",
      "See the caveats in the documentation: https://pandas.pydata.org/pandas-docs/stable/user_guide/indexing.html#returning-a-view-versus-a-copy\n",
      "  current_data['Date'] = current_data.index\n"
     ]
    },
    {
     "name": "stdout",
     "output_type": "stream",
     "text": [
      "shape of df4 is (480, 3541)\n",
      "Completed 18 out of 461 steps\n",
      "the main data is of shape (540, 2)\n",
      "shape of current_data2 is (540, 59)\n"
     ]
    },
    {
     "name": "stderr",
     "output_type": "stream",
     "text": [
      "C:\\Users\\abhij\\AppData\\Local\\Temp\\ipykernel_18688\\568520512.py:16: SettingWithCopyWarning: \n",
      "A value is trying to be set on a copy of a slice from a DataFrame.\n",
      "Try using .loc[row_indexer,col_indexer] = value instead\n",
      "\n",
      "See the caveats in the documentation: https://pandas.pydata.org/pandas-docs/stable/user_guide/indexing.html#returning-a-view-versus-a-copy\n",
      "  current_data['Date'] = current_data.index\n"
     ]
    },
    {
     "name": "stdout",
     "output_type": "stream",
     "text": [
      "shape of df4 is (480, 3541)\n",
      "Completed 19 out of 461 steps\n",
      "the main data is of shape (540, 2)\n",
      "shape of current_data2 is (540, 59)\n"
     ]
    },
    {
     "name": "stderr",
     "output_type": "stream",
     "text": [
      "C:\\Users\\abhij\\AppData\\Local\\Temp\\ipykernel_18688\\568520512.py:16: SettingWithCopyWarning: \n",
      "A value is trying to be set on a copy of a slice from a DataFrame.\n",
      "Try using .loc[row_indexer,col_indexer] = value instead\n",
      "\n",
      "See the caveats in the documentation: https://pandas.pydata.org/pandas-docs/stable/user_guide/indexing.html#returning-a-view-versus-a-copy\n",
      "  current_data['Date'] = current_data.index\n"
     ]
    },
    {
     "name": "stdout",
     "output_type": "stream",
     "text": [
      "shape of df4 is (480, 3541)\n",
      "Completed 20 out of 461 steps\n",
      "the main data is of shape (540, 2)\n",
      "shape of current_data2 is (540, 59)\n"
     ]
    },
    {
     "name": "stderr",
     "output_type": "stream",
     "text": [
      "C:\\Users\\abhij\\AppData\\Local\\Temp\\ipykernel_18688\\568520512.py:16: SettingWithCopyWarning: \n",
      "A value is trying to be set on a copy of a slice from a DataFrame.\n",
      "Try using .loc[row_indexer,col_indexer] = value instead\n",
      "\n",
      "See the caveats in the documentation: https://pandas.pydata.org/pandas-docs/stable/user_guide/indexing.html#returning-a-view-versus-a-copy\n",
      "  current_data['Date'] = current_data.index\n"
     ]
    },
    {
     "name": "stdout",
     "output_type": "stream",
     "text": [
      "shape of df4 is (480, 3541)\n",
      "Completed 21 out of 461 steps\n",
      "the main data is of shape (540, 2)\n",
      "shape of current_data2 is (540, 59)\n"
     ]
    },
    {
     "name": "stderr",
     "output_type": "stream",
     "text": [
      "C:\\Users\\abhij\\AppData\\Local\\Temp\\ipykernel_18688\\568520512.py:16: SettingWithCopyWarning: \n",
      "A value is trying to be set on a copy of a slice from a DataFrame.\n",
      "Try using .loc[row_indexer,col_indexer] = value instead\n",
      "\n",
      "See the caveats in the documentation: https://pandas.pydata.org/pandas-docs/stable/user_guide/indexing.html#returning-a-view-versus-a-copy\n",
      "  current_data['Date'] = current_data.index\n"
     ]
    },
    {
     "name": "stdout",
     "output_type": "stream",
     "text": [
      "shape of df4 is (480, 3541)\n",
      "Completed 22 out of 461 steps\n",
      "the main data is of shape (540, 2)\n",
      "shape of current_data2 is (540, 59)\n"
     ]
    },
    {
     "name": "stderr",
     "output_type": "stream",
     "text": [
      "C:\\Users\\abhij\\AppData\\Local\\Temp\\ipykernel_18688\\568520512.py:16: SettingWithCopyWarning: \n",
      "A value is trying to be set on a copy of a slice from a DataFrame.\n",
      "Try using .loc[row_indexer,col_indexer] = value instead\n",
      "\n",
      "See the caveats in the documentation: https://pandas.pydata.org/pandas-docs/stable/user_guide/indexing.html#returning-a-view-versus-a-copy\n",
      "  current_data['Date'] = current_data.index\n"
     ]
    },
    {
     "name": "stdout",
     "output_type": "stream",
     "text": [
      "shape of df4 is (480, 3541)\n",
      "Completed 23 out of 461 steps\n",
      "the main data is of shape (540, 2)\n",
      "shape of current_data2 is (540, 59)\n"
     ]
    },
    {
     "name": "stderr",
     "output_type": "stream",
     "text": [
      "C:\\Users\\abhij\\AppData\\Local\\Temp\\ipykernel_18688\\568520512.py:16: SettingWithCopyWarning: \n",
      "A value is trying to be set on a copy of a slice from a DataFrame.\n",
      "Try using .loc[row_indexer,col_indexer] = value instead\n",
      "\n",
      "See the caveats in the documentation: https://pandas.pydata.org/pandas-docs/stable/user_guide/indexing.html#returning-a-view-versus-a-copy\n",
      "  current_data['Date'] = current_data.index\n"
     ]
    },
    {
     "name": "stdout",
     "output_type": "stream",
     "text": [
      "shape of df4 is (480, 3541)\n",
      "Completed 24 out of 461 steps\n",
      "the main data is of shape (540, 2)\n",
      "shape of current_data2 is (540, 59)\n"
     ]
    },
    {
     "name": "stderr",
     "output_type": "stream",
     "text": [
      "C:\\Users\\abhij\\AppData\\Local\\Temp\\ipykernel_18688\\568520512.py:16: SettingWithCopyWarning: \n",
      "A value is trying to be set on a copy of a slice from a DataFrame.\n",
      "Try using .loc[row_indexer,col_indexer] = value instead\n",
      "\n",
      "See the caveats in the documentation: https://pandas.pydata.org/pandas-docs/stable/user_guide/indexing.html#returning-a-view-versus-a-copy\n",
      "  current_data['Date'] = current_data.index\n"
     ]
    },
    {
     "name": "stdout",
     "output_type": "stream",
     "text": [
      "shape of df4 is (480, 3541)\n",
      "Completed 25 out of 461 steps\n",
      "the main data is of shape (540, 2)\n",
      "shape of current_data2 is (540, 59)\n"
     ]
    },
    {
     "name": "stderr",
     "output_type": "stream",
     "text": [
      "C:\\Users\\abhij\\AppData\\Local\\Temp\\ipykernel_18688\\568520512.py:16: SettingWithCopyWarning: \n",
      "A value is trying to be set on a copy of a slice from a DataFrame.\n",
      "Try using .loc[row_indexer,col_indexer] = value instead\n",
      "\n",
      "See the caveats in the documentation: https://pandas.pydata.org/pandas-docs/stable/user_guide/indexing.html#returning-a-view-versus-a-copy\n",
      "  current_data['Date'] = current_data.index\n"
     ]
    },
    {
     "name": "stdout",
     "output_type": "stream",
     "text": [
      "shape of df4 is (480, 3541)\n",
      "Completed 26 out of 461 steps\n",
      "the main data is of shape (540, 2)\n",
      "shape of current_data2 is (540, 59)\n"
     ]
    },
    {
     "name": "stderr",
     "output_type": "stream",
     "text": [
      "C:\\Users\\abhij\\AppData\\Local\\Temp\\ipykernel_18688\\568520512.py:16: SettingWithCopyWarning: \n",
      "A value is trying to be set on a copy of a slice from a DataFrame.\n",
      "Try using .loc[row_indexer,col_indexer] = value instead\n",
      "\n",
      "See the caveats in the documentation: https://pandas.pydata.org/pandas-docs/stable/user_guide/indexing.html#returning-a-view-versus-a-copy\n",
      "  current_data['Date'] = current_data.index\n"
     ]
    },
    {
     "name": "stdout",
     "output_type": "stream",
     "text": [
      "shape of df4 is (480, 3541)\n",
      "Completed 27 out of 461 steps\n",
      "the main data is of shape (540, 2)\n",
      "shape of current_data2 is (540, 59)\n"
     ]
    },
    {
     "name": "stderr",
     "output_type": "stream",
     "text": [
      "C:\\Users\\abhij\\AppData\\Local\\Temp\\ipykernel_18688\\568520512.py:16: SettingWithCopyWarning: \n",
      "A value is trying to be set on a copy of a slice from a DataFrame.\n",
      "Try using .loc[row_indexer,col_indexer] = value instead\n",
      "\n",
      "See the caveats in the documentation: https://pandas.pydata.org/pandas-docs/stable/user_guide/indexing.html#returning-a-view-versus-a-copy\n",
      "  current_data['Date'] = current_data.index\n"
     ]
    },
    {
     "name": "stdout",
     "output_type": "stream",
     "text": [
      "shape of df4 is (480, 3541)\n",
      "Completed 28 out of 461 steps\n",
      "the main data is of shape (540, 2)\n",
      "shape of current_data2 is (540, 59)\n"
     ]
    },
    {
     "name": "stderr",
     "output_type": "stream",
     "text": [
      "C:\\Users\\abhij\\AppData\\Local\\Temp\\ipykernel_18688\\568520512.py:16: SettingWithCopyWarning: \n",
      "A value is trying to be set on a copy of a slice from a DataFrame.\n",
      "Try using .loc[row_indexer,col_indexer] = value instead\n",
      "\n",
      "See the caveats in the documentation: https://pandas.pydata.org/pandas-docs/stable/user_guide/indexing.html#returning-a-view-versus-a-copy\n",
      "  current_data['Date'] = current_data.index\n"
     ]
    },
    {
     "name": "stdout",
     "output_type": "stream",
     "text": [
      "shape of df4 is (480, 3541)\n",
      "Completed 29 out of 461 steps\n",
      "the main data is of shape (514, 2)\n",
      "shape of current_data2 is (514, 59)\n"
     ]
    },
    {
     "name": "stderr",
     "output_type": "stream",
     "text": [
      "C:\\Users\\abhij\\AppData\\Local\\Temp\\ipykernel_18688\\568520512.py:16: SettingWithCopyWarning: \n",
      "A value is trying to be set on a copy of a slice from a DataFrame.\n",
      "Try using .loc[row_indexer,col_indexer] = value instead\n",
      "\n",
      "See the caveats in the documentation: https://pandas.pydata.org/pandas-docs/stable/user_guide/indexing.html#returning-a-view-versus-a-copy\n",
      "  current_data['Date'] = current_data.index\n"
     ]
    },
    {
     "name": "stdout",
     "output_type": "stream",
     "text": [
      "shape of df4 is (454, 3541)\n",
      "Completed 30 out of 461 steps\n",
      "the main data is of shape (540, 2)\n",
      "shape of current_data2 is (540, 59)\n"
     ]
    },
    {
     "name": "stderr",
     "output_type": "stream",
     "text": [
      "C:\\Users\\abhij\\AppData\\Local\\Temp\\ipykernel_18688\\568520512.py:16: SettingWithCopyWarning: \n",
      "A value is trying to be set on a copy of a slice from a DataFrame.\n",
      "Try using .loc[row_indexer,col_indexer] = value instead\n",
      "\n",
      "See the caveats in the documentation: https://pandas.pydata.org/pandas-docs/stable/user_guide/indexing.html#returning-a-view-versus-a-copy\n",
      "  current_data['Date'] = current_data.index\n"
     ]
    },
    {
     "name": "stdout",
     "output_type": "stream",
     "text": [
      "shape of df4 is (480, 3541)\n",
      "Completed 31 out of 461 steps\n",
      "the main data is of shape (540, 2)\n",
      "shape of current_data2 is (540, 59)\n"
     ]
    },
    {
     "name": "stderr",
     "output_type": "stream",
     "text": [
      "C:\\Users\\abhij\\AppData\\Local\\Temp\\ipykernel_18688\\568520512.py:16: SettingWithCopyWarning: \n",
      "A value is trying to be set on a copy of a slice from a DataFrame.\n",
      "Try using .loc[row_indexer,col_indexer] = value instead\n",
      "\n",
      "See the caveats in the documentation: https://pandas.pydata.org/pandas-docs/stable/user_guide/indexing.html#returning-a-view-versus-a-copy\n",
      "  current_data['Date'] = current_data.index\n"
     ]
    },
    {
     "name": "stdout",
     "output_type": "stream",
     "text": [
      "shape of df4 is (480, 3541)\n",
      "Completed 32 out of 461 steps\n",
      "the main data is of shape (540, 2)\n",
      "shape of current_data2 is (540, 59)\n"
     ]
    },
    {
     "name": "stderr",
     "output_type": "stream",
     "text": [
      "C:\\Users\\abhij\\AppData\\Local\\Temp\\ipykernel_18688\\568520512.py:16: SettingWithCopyWarning: \n",
      "A value is trying to be set on a copy of a slice from a DataFrame.\n",
      "Try using .loc[row_indexer,col_indexer] = value instead\n",
      "\n",
      "See the caveats in the documentation: https://pandas.pydata.org/pandas-docs/stable/user_guide/indexing.html#returning-a-view-versus-a-copy\n",
      "  current_data['Date'] = current_data.index\n"
     ]
    },
    {
     "name": "stdout",
     "output_type": "stream",
     "text": [
      "shape of df4 is (480, 3541)\n",
      "Completed 33 out of 461 steps\n",
      "the main data is of shape (540, 2)\n",
      "shape of current_data2 is (540, 59)\n"
     ]
    },
    {
     "name": "stderr",
     "output_type": "stream",
     "text": [
      "C:\\Users\\abhij\\AppData\\Local\\Temp\\ipykernel_18688\\568520512.py:16: SettingWithCopyWarning: \n",
      "A value is trying to be set on a copy of a slice from a DataFrame.\n",
      "Try using .loc[row_indexer,col_indexer] = value instead\n",
      "\n",
      "See the caveats in the documentation: https://pandas.pydata.org/pandas-docs/stable/user_guide/indexing.html#returning-a-view-versus-a-copy\n",
      "  current_data['Date'] = current_data.index\n"
     ]
    },
    {
     "name": "stdout",
     "output_type": "stream",
     "text": [
      "shape of df4 is (480, 3541)\n",
      "Completed 34 out of 461 steps\n",
      "the main data is of shape (540, 2)\n",
      "shape of current_data2 is (540, 59)\n"
     ]
    },
    {
     "name": "stderr",
     "output_type": "stream",
     "text": [
      "C:\\Users\\abhij\\AppData\\Local\\Temp\\ipykernel_18688\\568520512.py:16: SettingWithCopyWarning: \n",
      "A value is trying to be set on a copy of a slice from a DataFrame.\n",
      "Try using .loc[row_indexer,col_indexer] = value instead\n",
      "\n",
      "See the caveats in the documentation: https://pandas.pydata.org/pandas-docs/stable/user_guide/indexing.html#returning-a-view-versus-a-copy\n",
      "  current_data['Date'] = current_data.index\n"
     ]
    },
    {
     "name": "stdout",
     "output_type": "stream",
     "text": [
      "shape of df4 is (480, 3541)\n",
      "Completed 35 out of 461 steps\n",
      "the main data is of shape (540, 2)\n",
      "shape of current_data2 is (540, 59)\n"
     ]
    },
    {
     "name": "stderr",
     "output_type": "stream",
     "text": [
      "C:\\Users\\abhij\\AppData\\Local\\Temp\\ipykernel_18688\\568520512.py:16: SettingWithCopyWarning: \n",
      "A value is trying to be set on a copy of a slice from a DataFrame.\n",
      "Try using .loc[row_indexer,col_indexer] = value instead\n",
      "\n",
      "See the caveats in the documentation: https://pandas.pydata.org/pandas-docs/stable/user_guide/indexing.html#returning-a-view-versus-a-copy\n",
      "  current_data['Date'] = current_data.index\n"
     ]
    },
    {
     "name": "stdout",
     "output_type": "stream",
     "text": [
      "shape of df4 is (480, 3541)\n",
      "Completed 36 out of 461 steps\n",
      "the main data is of shape (540, 2)\n",
      "shape of current_data2 is (540, 59)\n"
     ]
    },
    {
     "name": "stderr",
     "output_type": "stream",
     "text": [
      "C:\\Users\\abhij\\AppData\\Local\\Temp\\ipykernel_18688\\568520512.py:16: SettingWithCopyWarning: \n",
      "A value is trying to be set on a copy of a slice from a DataFrame.\n",
      "Try using .loc[row_indexer,col_indexer] = value instead\n",
      "\n",
      "See the caveats in the documentation: https://pandas.pydata.org/pandas-docs/stable/user_guide/indexing.html#returning-a-view-versus-a-copy\n",
      "  current_data['Date'] = current_data.index\n"
     ]
    },
    {
     "name": "stdout",
     "output_type": "stream",
     "text": [
      "shape of df4 is (480, 3541)\n",
      "Completed 37 out of 461 steps\n",
      "the main data is of shape (540, 2)\n",
      "shape of current_data2 is (540, 59)\n"
     ]
    },
    {
     "name": "stderr",
     "output_type": "stream",
     "text": [
      "C:\\Users\\abhij\\AppData\\Local\\Temp\\ipykernel_18688\\568520512.py:16: SettingWithCopyWarning: \n",
      "A value is trying to be set on a copy of a slice from a DataFrame.\n",
      "Try using .loc[row_indexer,col_indexer] = value instead\n",
      "\n",
      "See the caveats in the documentation: https://pandas.pydata.org/pandas-docs/stable/user_guide/indexing.html#returning-a-view-versus-a-copy\n",
      "  current_data['Date'] = current_data.index\n"
     ]
    },
    {
     "name": "stdout",
     "output_type": "stream",
     "text": [
      "shape of df4 is (480, 3541)\n",
      "Completed 38 out of 461 steps\n",
      "the main data is of shape (540, 2)\n",
      "shape of current_data2 is (540, 59)\n"
     ]
    },
    {
     "name": "stderr",
     "output_type": "stream",
     "text": [
      "C:\\Users\\abhij\\AppData\\Local\\Temp\\ipykernel_18688\\568520512.py:16: SettingWithCopyWarning: \n",
      "A value is trying to be set on a copy of a slice from a DataFrame.\n",
      "Try using .loc[row_indexer,col_indexer] = value instead\n",
      "\n",
      "See the caveats in the documentation: https://pandas.pydata.org/pandas-docs/stable/user_guide/indexing.html#returning-a-view-versus-a-copy\n",
      "  current_data['Date'] = current_data.index\n"
     ]
    },
    {
     "name": "stdout",
     "output_type": "stream",
     "text": [
      "shape of df4 is (480, 3541)\n",
      "Completed 39 out of 461 steps\n",
      "the main data is of shape (540, 2)\n",
      "shape of current_data2 is (540, 59)\n"
     ]
    },
    {
     "name": "stderr",
     "output_type": "stream",
     "text": [
      "C:\\Users\\abhij\\AppData\\Local\\Temp\\ipykernel_18688\\568520512.py:16: SettingWithCopyWarning: \n",
      "A value is trying to be set on a copy of a slice from a DataFrame.\n",
      "Try using .loc[row_indexer,col_indexer] = value instead\n",
      "\n",
      "See the caveats in the documentation: https://pandas.pydata.org/pandas-docs/stable/user_guide/indexing.html#returning-a-view-versus-a-copy\n",
      "  current_data['Date'] = current_data.index\n"
     ]
    },
    {
     "name": "stdout",
     "output_type": "stream",
     "text": [
      "shape of df4 is (480, 3541)\n",
      "Completed 40 out of 461 steps\n",
      "the main data is of shape (540, 2)\n",
      "shape of current_data2 is (540, 59)\n"
     ]
    },
    {
     "name": "stderr",
     "output_type": "stream",
     "text": [
      "C:\\Users\\abhij\\AppData\\Local\\Temp\\ipykernel_18688\\568520512.py:16: SettingWithCopyWarning: \n",
      "A value is trying to be set on a copy of a slice from a DataFrame.\n",
      "Try using .loc[row_indexer,col_indexer] = value instead\n",
      "\n",
      "See the caveats in the documentation: https://pandas.pydata.org/pandas-docs/stable/user_guide/indexing.html#returning-a-view-versus-a-copy\n",
      "  current_data['Date'] = current_data.index\n"
     ]
    },
    {
     "name": "stdout",
     "output_type": "stream",
     "text": [
      "shape of df4 is (480, 3541)\n",
      "Completed 41 out of 461 steps\n",
      "the main data is of shape (540, 2)\n",
      "shape of current_data2 is (540, 59)\n"
     ]
    },
    {
     "name": "stderr",
     "output_type": "stream",
     "text": [
      "C:\\Users\\abhij\\AppData\\Local\\Temp\\ipykernel_18688\\568520512.py:16: SettingWithCopyWarning: \n",
      "A value is trying to be set on a copy of a slice from a DataFrame.\n",
      "Try using .loc[row_indexer,col_indexer] = value instead\n",
      "\n",
      "See the caveats in the documentation: https://pandas.pydata.org/pandas-docs/stable/user_guide/indexing.html#returning-a-view-versus-a-copy\n",
      "  current_data['Date'] = current_data.index\n"
     ]
    },
    {
     "name": "stdout",
     "output_type": "stream",
     "text": [
      "shape of df4 is (480, 3541)\n",
      "Completed 42 out of 461 steps\n",
      "the main data is of shape (540, 2)\n",
      "shape of current_data2 is (540, 59)\n"
     ]
    },
    {
     "name": "stderr",
     "output_type": "stream",
     "text": [
      "C:\\Users\\abhij\\AppData\\Local\\Temp\\ipykernel_18688\\568520512.py:16: SettingWithCopyWarning: \n",
      "A value is trying to be set on a copy of a slice from a DataFrame.\n",
      "Try using .loc[row_indexer,col_indexer] = value instead\n",
      "\n",
      "See the caveats in the documentation: https://pandas.pydata.org/pandas-docs/stable/user_guide/indexing.html#returning-a-view-versus-a-copy\n",
      "  current_data['Date'] = current_data.index\n"
     ]
    },
    {
     "name": "stdout",
     "output_type": "stream",
     "text": [
      "shape of df4 is (480, 3541)\n",
      "Completed 43 out of 461 steps\n",
      "the main data is of shape (540, 2)\n",
      "shape of current_data2 is (540, 59)\n"
     ]
    },
    {
     "name": "stderr",
     "output_type": "stream",
     "text": [
      "C:\\Users\\abhij\\AppData\\Local\\Temp\\ipykernel_18688\\568520512.py:16: SettingWithCopyWarning: \n",
      "A value is trying to be set on a copy of a slice from a DataFrame.\n",
      "Try using .loc[row_indexer,col_indexer] = value instead\n",
      "\n",
      "See the caveats in the documentation: https://pandas.pydata.org/pandas-docs/stable/user_guide/indexing.html#returning-a-view-versus-a-copy\n",
      "  current_data['Date'] = current_data.index\n"
     ]
    },
    {
     "name": "stdout",
     "output_type": "stream",
     "text": [
      "shape of df4 is (480, 3541)\n",
      "Completed 44 out of 461 steps\n",
      "the main data is of shape (540, 2)\n",
      "shape of current_data2 is (540, 59)\n"
     ]
    },
    {
     "name": "stderr",
     "output_type": "stream",
     "text": [
      "C:\\Users\\abhij\\AppData\\Local\\Temp\\ipykernel_18688\\568520512.py:16: SettingWithCopyWarning: \n",
      "A value is trying to be set on a copy of a slice from a DataFrame.\n",
      "Try using .loc[row_indexer,col_indexer] = value instead\n",
      "\n",
      "See the caveats in the documentation: https://pandas.pydata.org/pandas-docs/stable/user_guide/indexing.html#returning-a-view-versus-a-copy\n",
      "  current_data['Date'] = current_data.index\n"
     ]
    },
    {
     "name": "stdout",
     "output_type": "stream",
     "text": [
      "shape of df4 is (480, 3541)\n",
      "Completed 45 out of 461 steps\n",
      "the main data is of shape (540, 2)\n",
      "shape of current_data2 is (540, 59)\n"
     ]
    },
    {
     "name": "stderr",
     "output_type": "stream",
     "text": [
      "C:\\Users\\abhij\\AppData\\Local\\Temp\\ipykernel_18688\\568520512.py:16: SettingWithCopyWarning: \n",
      "A value is trying to be set on a copy of a slice from a DataFrame.\n",
      "Try using .loc[row_indexer,col_indexer] = value instead\n",
      "\n",
      "See the caveats in the documentation: https://pandas.pydata.org/pandas-docs/stable/user_guide/indexing.html#returning-a-view-versus-a-copy\n",
      "  current_data['Date'] = current_data.index\n"
     ]
    },
    {
     "name": "stdout",
     "output_type": "stream",
     "text": [
      "shape of df4 is (480, 3541)\n",
      "Completed 46 out of 461 steps\n",
      "the main data is of shape (540, 2)\n",
      "shape of current_data2 is (540, 59)\n"
     ]
    },
    {
     "name": "stderr",
     "output_type": "stream",
     "text": [
      "C:\\Users\\abhij\\AppData\\Local\\Temp\\ipykernel_18688\\568520512.py:16: SettingWithCopyWarning: \n",
      "A value is trying to be set on a copy of a slice from a DataFrame.\n",
      "Try using .loc[row_indexer,col_indexer] = value instead\n",
      "\n",
      "See the caveats in the documentation: https://pandas.pydata.org/pandas-docs/stable/user_guide/indexing.html#returning-a-view-versus-a-copy\n",
      "  current_data['Date'] = current_data.index\n"
     ]
    },
    {
     "name": "stdout",
     "output_type": "stream",
     "text": [
      "shape of df4 is (480, 3541)\n",
      "Completed 47 out of 461 steps\n",
      "the main data is of shape (540, 2)\n",
      "shape of current_data2 is (540, 59)\n"
     ]
    },
    {
     "name": "stderr",
     "output_type": "stream",
     "text": [
      "C:\\Users\\abhij\\AppData\\Local\\Temp\\ipykernel_18688\\568520512.py:16: SettingWithCopyWarning: \n",
      "A value is trying to be set on a copy of a slice from a DataFrame.\n",
      "Try using .loc[row_indexer,col_indexer] = value instead\n",
      "\n",
      "See the caveats in the documentation: https://pandas.pydata.org/pandas-docs/stable/user_guide/indexing.html#returning-a-view-versus-a-copy\n",
      "  current_data['Date'] = current_data.index\n"
     ]
    },
    {
     "name": "stdout",
     "output_type": "stream",
     "text": [
      "shape of df4 is (480, 3541)\n",
      "Completed 48 out of 461 steps\n",
      "the main data is of shape (540, 2)\n",
      "shape of current_data2 is (540, 59)\n"
     ]
    },
    {
     "name": "stderr",
     "output_type": "stream",
     "text": [
      "C:\\Users\\abhij\\AppData\\Local\\Temp\\ipykernel_18688\\568520512.py:16: SettingWithCopyWarning: \n",
      "A value is trying to be set on a copy of a slice from a DataFrame.\n",
      "Try using .loc[row_indexer,col_indexer] = value instead\n",
      "\n",
      "See the caveats in the documentation: https://pandas.pydata.org/pandas-docs/stable/user_guide/indexing.html#returning-a-view-versus-a-copy\n",
      "  current_data['Date'] = current_data.index\n"
     ]
    },
    {
     "name": "stdout",
     "output_type": "stream",
     "text": [
      "shape of df4 is (480, 3541)\n",
      "Completed 49 out of 461 steps\n",
      "the main data is of shape (540, 2)\n",
      "shape of current_data2 is (540, 59)\n"
     ]
    },
    {
     "name": "stderr",
     "output_type": "stream",
     "text": [
      "C:\\Users\\abhij\\AppData\\Local\\Temp\\ipykernel_18688\\568520512.py:16: SettingWithCopyWarning: \n",
      "A value is trying to be set on a copy of a slice from a DataFrame.\n",
      "Try using .loc[row_indexer,col_indexer] = value instead\n",
      "\n",
      "See the caveats in the documentation: https://pandas.pydata.org/pandas-docs/stable/user_guide/indexing.html#returning-a-view-versus-a-copy\n",
      "  current_data['Date'] = current_data.index\n"
     ]
    },
    {
     "name": "stdout",
     "output_type": "stream",
     "text": [
      "shape of df4 is (480, 3541)\n",
      "Completed 50 out of 461 steps\n",
      "the main data is of shape (540, 2)\n",
      "shape of current_data2 is (540, 59)\n"
     ]
    },
    {
     "name": "stderr",
     "output_type": "stream",
     "text": [
      "C:\\Users\\abhij\\AppData\\Local\\Temp\\ipykernel_18688\\568520512.py:16: SettingWithCopyWarning: \n",
      "A value is trying to be set on a copy of a slice from a DataFrame.\n",
      "Try using .loc[row_indexer,col_indexer] = value instead\n",
      "\n",
      "See the caveats in the documentation: https://pandas.pydata.org/pandas-docs/stable/user_guide/indexing.html#returning-a-view-versus-a-copy\n",
      "  current_data['Date'] = current_data.index\n"
     ]
    },
    {
     "name": "stdout",
     "output_type": "stream",
     "text": [
      "shape of df4 is (480, 3541)\n",
      "Completed 51 out of 461 steps\n",
      "the main data is of shape (540, 2)\n"
     ]
    },
    {
     "name": "stderr",
     "output_type": "stream",
     "text": [
      "C:\\Users\\abhij\\AppData\\Local\\Temp\\ipykernel_18688\\568520512.py:16: SettingWithCopyWarning: \n",
      "A value is trying to be set on a copy of a slice from a DataFrame.\n",
      "Try using .loc[row_indexer,col_indexer] = value instead\n",
      "\n",
      "See the caveats in the documentation: https://pandas.pydata.org/pandas-docs/stable/user_guide/indexing.html#returning-a-view-versus-a-copy\n",
      "  current_data['Date'] = current_data.index\n"
     ]
    },
    {
     "name": "stdout",
     "output_type": "stream",
     "text": [
      "shape of current_data2 is (540, 59)\n",
      "shape of df4 is (480, 3541)\n",
      "Completed 52 out of 461 steps\n",
      "the main data is of shape (540, 2)\n"
     ]
    },
    {
     "name": "stderr",
     "output_type": "stream",
     "text": [
      "C:\\Users\\abhij\\AppData\\Local\\Temp\\ipykernel_18688\\568520512.py:16: SettingWithCopyWarning: \n",
      "A value is trying to be set on a copy of a slice from a DataFrame.\n",
      "Try using .loc[row_indexer,col_indexer] = value instead\n",
      "\n",
      "See the caveats in the documentation: https://pandas.pydata.org/pandas-docs/stable/user_guide/indexing.html#returning-a-view-versus-a-copy\n",
      "  current_data['Date'] = current_data.index\n"
     ]
    },
    {
     "name": "stdout",
     "output_type": "stream",
     "text": [
      "shape of current_data2 is (540, 59)\n",
      "shape of df4 is (480, 3541)\n",
      "Completed 53 out of 461 steps\n",
      "the main data is of shape (540, 2)\n",
      "shape of current_data2 is (540, 59)\n"
     ]
    },
    {
     "name": "stderr",
     "output_type": "stream",
     "text": [
      "C:\\Users\\abhij\\AppData\\Local\\Temp\\ipykernel_18688\\568520512.py:16: SettingWithCopyWarning: \n",
      "A value is trying to be set on a copy of a slice from a DataFrame.\n",
      "Try using .loc[row_indexer,col_indexer] = value instead\n",
      "\n",
      "See the caveats in the documentation: https://pandas.pydata.org/pandas-docs/stable/user_guide/indexing.html#returning-a-view-versus-a-copy\n",
      "  current_data['Date'] = current_data.index\n"
     ]
    },
    {
     "name": "stdout",
     "output_type": "stream",
     "text": [
      "shape of df4 is (480, 3541)\n",
      "Completed 54 out of 461 steps\n",
      "the main data is of shape (540, 2)\n",
      "shape of current_data2 is (540, 59)\n"
     ]
    },
    {
     "name": "stderr",
     "output_type": "stream",
     "text": [
      "C:\\Users\\abhij\\AppData\\Local\\Temp\\ipykernel_18688\\568520512.py:16: SettingWithCopyWarning: \n",
      "A value is trying to be set on a copy of a slice from a DataFrame.\n",
      "Try using .loc[row_indexer,col_indexer] = value instead\n",
      "\n",
      "See the caveats in the documentation: https://pandas.pydata.org/pandas-docs/stable/user_guide/indexing.html#returning-a-view-versus-a-copy\n",
      "  current_data['Date'] = current_data.index\n"
     ]
    },
    {
     "name": "stdout",
     "output_type": "stream",
     "text": [
      "shape of df4 is (480, 3541)\n",
      "Completed 55 out of 461 steps\n",
      "the main data is of shape (540, 2)\n",
      "shape of current_data2 is (540, 59)\n"
     ]
    },
    {
     "name": "stderr",
     "output_type": "stream",
     "text": [
      "C:\\Users\\abhij\\AppData\\Local\\Temp\\ipykernel_18688\\568520512.py:16: SettingWithCopyWarning: \n",
      "A value is trying to be set on a copy of a slice from a DataFrame.\n",
      "Try using .loc[row_indexer,col_indexer] = value instead\n",
      "\n",
      "See the caveats in the documentation: https://pandas.pydata.org/pandas-docs/stable/user_guide/indexing.html#returning-a-view-versus-a-copy\n",
      "  current_data['Date'] = current_data.index\n"
     ]
    },
    {
     "name": "stdout",
     "output_type": "stream",
     "text": [
      "shape of df4 is (480, 3541)\n",
      "Completed 56 out of 461 steps\n",
      "the main data is of shape (540, 2)\n",
      "shape of current_data2 is (540, 59)\n"
     ]
    },
    {
     "name": "stderr",
     "output_type": "stream",
     "text": [
      "C:\\Users\\abhij\\AppData\\Local\\Temp\\ipykernel_18688\\568520512.py:16: SettingWithCopyWarning: \n",
      "A value is trying to be set on a copy of a slice from a DataFrame.\n",
      "Try using .loc[row_indexer,col_indexer] = value instead\n",
      "\n",
      "See the caveats in the documentation: https://pandas.pydata.org/pandas-docs/stable/user_guide/indexing.html#returning-a-view-versus-a-copy\n",
      "  current_data['Date'] = current_data.index\n"
     ]
    },
    {
     "name": "stdout",
     "output_type": "stream",
     "text": [
      "shape of df4 is (480, 3541)\n",
      "Completed 57 out of 461 steps\n",
      "the main data is of shape (540, 2)\n",
      "shape of current_data2 is (540, 59)\n"
     ]
    },
    {
     "name": "stderr",
     "output_type": "stream",
     "text": [
      "C:\\Users\\abhij\\AppData\\Local\\Temp\\ipykernel_18688\\568520512.py:16: SettingWithCopyWarning: \n",
      "A value is trying to be set on a copy of a slice from a DataFrame.\n",
      "Try using .loc[row_indexer,col_indexer] = value instead\n",
      "\n",
      "See the caveats in the documentation: https://pandas.pydata.org/pandas-docs/stable/user_guide/indexing.html#returning-a-view-versus-a-copy\n",
      "  current_data['Date'] = current_data.index\n"
     ]
    },
    {
     "name": "stdout",
     "output_type": "stream",
     "text": [
      "shape of df4 is (480, 3541)\n",
      "Completed 58 out of 461 steps\n",
      "the main data is of shape (540, 2)\n",
      "shape of current_data2 is (540, 59)\n"
     ]
    },
    {
     "name": "stderr",
     "output_type": "stream",
     "text": [
      "C:\\Users\\abhij\\AppData\\Local\\Temp\\ipykernel_18688\\568520512.py:16: SettingWithCopyWarning: \n",
      "A value is trying to be set on a copy of a slice from a DataFrame.\n",
      "Try using .loc[row_indexer,col_indexer] = value instead\n",
      "\n",
      "See the caveats in the documentation: https://pandas.pydata.org/pandas-docs/stable/user_guide/indexing.html#returning-a-view-versus-a-copy\n",
      "  current_data['Date'] = current_data.index\n"
     ]
    },
    {
     "name": "stdout",
     "output_type": "stream",
     "text": [
      "shape of df4 is (480, 3541)\n",
      "Completed 59 out of 461 steps\n",
      "the main data is of shape (540, 2)\n",
      "shape of current_data2 is (540, 59)\n"
     ]
    },
    {
     "name": "stderr",
     "output_type": "stream",
     "text": [
      "C:\\Users\\abhij\\AppData\\Local\\Temp\\ipykernel_18688\\568520512.py:16: SettingWithCopyWarning: \n",
      "A value is trying to be set on a copy of a slice from a DataFrame.\n",
      "Try using .loc[row_indexer,col_indexer] = value instead\n",
      "\n",
      "See the caveats in the documentation: https://pandas.pydata.org/pandas-docs/stable/user_guide/indexing.html#returning-a-view-versus-a-copy\n",
      "  current_data['Date'] = current_data.index\n"
     ]
    },
    {
     "name": "stdout",
     "output_type": "stream",
     "text": [
      "shape of df4 is (480, 3541)\n",
      "Completed 60 out of 461 steps\n",
      "the main data is of shape (540, 2)\n",
      "shape of current_data2 is (540, 59)\n"
     ]
    },
    {
     "name": "stderr",
     "output_type": "stream",
     "text": [
      "C:\\Users\\abhij\\AppData\\Local\\Temp\\ipykernel_18688\\568520512.py:16: SettingWithCopyWarning: \n",
      "A value is trying to be set on a copy of a slice from a DataFrame.\n",
      "Try using .loc[row_indexer,col_indexer] = value instead\n",
      "\n",
      "See the caveats in the documentation: https://pandas.pydata.org/pandas-docs/stable/user_guide/indexing.html#returning-a-view-versus-a-copy\n",
      "  current_data['Date'] = current_data.index\n"
     ]
    },
    {
     "name": "stdout",
     "output_type": "stream",
     "text": [
      "shape of df4 is (480, 3541)\n",
      "Completed 61 out of 461 steps\n",
      "the main data is of shape (540, 2)\n"
     ]
    },
    {
     "name": "stderr",
     "output_type": "stream",
     "text": [
      "C:\\Users\\abhij\\AppData\\Local\\Temp\\ipykernel_18688\\568520512.py:16: SettingWithCopyWarning: \n",
      "A value is trying to be set on a copy of a slice from a DataFrame.\n",
      "Try using .loc[row_indexer,col_indexer] = value instead\n",
      "\n",
      "See the caveats in the documentation: https://pandas.pydata.org/pandas-docs/stable/user_guide/indexing.html#returning-a-view-versus-a-copy\n",
      "  current_data['Date'] = current_data.index\n"
     ]
    },
    {
     "name": "stdout",
     "output_type": "stream",
     "text": [
      "shape of current_data2 is (540, 59)\n",
      "shape of df4 is (480, 3541)\n",
      "Completed 62 out of 461 steps\n",
      "the main data is of shape (540, 2)\n",
      "shape of current_data2 is (540, 59)\n"
     ]
    },
    {
     "name": "stderr",
     "output_type": "stream",
     "text": [
      "C:\\Users\\abhij\\AppData\\Local\\Temp\\ipykernel_18688\\568520512.py:16: SettingWithCopyWarning: \n",
      "A value is trying to be set on a copy of a slice from a DataFrame.\n",
      "Try using .loc[row_indexer,col_indexer] = value instead\n",
      "\n",
      "See the caveats in the documentation: https://pandas.pydata.org/pandas-docs/stable/user_guide/indexing.html#returning-a-view-versus-a-copy\n",
      "  current_data['Date'] = current_data.index\n"
     ]
    },
    {
     "name": "stdout",
     "output_type": "stream",
     "text": [
      "shape of df4 is (480, 3541)\n",
      "Completed 63 out of 461 steps\n",
      "the main data is of shape (540, 2)\n",
      "shape of current_data2 is (540, 59)\n"
     ]
    },
    {
     "name": "stderr",
     "output_type": "stream",
     "text": [
      "C:\\Users\\abhij\\AppData\\Local\\Temp\\ipykernel_18688\\568520512.py:16: SettingWithCopyWarning: \n",
      "A value is trying to be set on a copy of a slice from a DataFrame.\n",
      "Try using .loc[row_indexer,col_indexer] = value instead\n",
      "\n",
      "See the caveats in the documentation: https://pandas.pydata.org/pandas-docs/stable/user_guide/indexing.html#returning-a-view-versus-a-copy\n",
      "  current_data['Date'] = current_data.index\n"
     ]
    },
    {
     "name": "stdout",
     "output_type": "stream",
     "text": [
      "shape of df4 is (480, 3541)\n",
      "Completed 64 out of 461 steps\n",
      "the main data is of shape (540, 2)\n",
      "shape of current_data2 is (540, 59)\n"
     ]
    },
    {
     "name": "stderr",
     "output_type": "stream",
     "text": [
      "C:\\Users\\abhij\\AppData\\Local\\Temp\\ipykernel_18688\\568520512.py:16: SettingWithCopyWarning: \n",
      "A value is trying to be set on a copy of a slice from a DataFrame.\n",
      "Try using .loc[row_indexer,col_indexer] = value instead\n",
      "\n",
      "See the caveats in the documentation: https://pandas.pydata.org/pandas-docs/stable/user_guide/indexing.html#returning-a-view-versus-a-copy\n",
      "  current_data['Date'] = current_data.index\n"
     ]
    },
    {
     "name": "stdout",
     "output_type": "stream",
     "text": [
      "shape of df4 is (480, 3541)\n",
      "Completed 65 out of 461 steps\n",
      "the main data is of shape (540, 2)\n",
      "shape of current_data2 is (540, 59)\n"
     ]
    },
    {
     "name": "stderr",
     "output_type": "stream",
     "text": [
      "C:\\Users\\abhij\\AppData\\Local\\Temp\\ipykernel_18688\\568520512.py:16: SettingWithCopyWarning: \n",
      "A value is trying to be set on a copy of a slice from a DataFrame.\n",
      "Try using .loc[row_indexer,col_indexer] = value instead\n",
      "\n",
      "See the caveats in the documentation: https://pandas.pydata.org/pandas-docs/stable/user_guide/indexing.html#returning-a-view-versus-a-copy\n",
      "  current_data['Date'] = current_data.index\n"
     ]
    },
    {
     "name": "stdout",
     "output_type": "stream",
     "text": [
      "shape of df4 is (480, 3541)\n",
      "Completed 66 out of 461 steps\n",
      "the main data is of shape (540, 2)\n",
      "shape of current_data2 is (540, 59)\n"
     ]
    },
    {
     "name": "stderr",
     "output_type": "stream",
     "text": [
      "C:\\Users\\abhij\\AppData\\Local\\Temp\\ipykernel_18688\\568520512.py:16: SettingWithCopyWarning: \n",
      "A value is trying to be set on a copy of a slice from a DataFrame.\n",
      "Try using .loc[row_indexer,col_indexer] = value instead\n",
      "\n",
      "See the caveats in the documentation: https://pandas.pydata.org/pandas-docs/stable/user_guide/indexing.html#returning-a-view-versus-a-copy\n",
      "  current_data['Date'] = current_data.index\n"
     ]
    },
    {
     "name": "stdout",
     "output_type": "stream",
     "text": [
      "shape of df4 is (480, 3541)\n",
      "Completed 67 out of 461 steps\n",
      "the main data is of shape (540, 2)\n",
      "shape of current_data2 is (540, 59)\n"
     ]
    },
    {
     "name": "stderr",
     "output_type": "stream",
     "text": [
      "C:\\Users\\abhij\\AppData\\Local\\Temp\\ipykernel_18688\\568520512.py:16: SettingWithCopyWarning: \n",
      "A value is trying to be set on a copy of a slice from a DataFrame.\n",
      "Try using .loc[row_indexer,col_indexer] = value instead\n",
      "\n",
      "See the caveats in the documentation: https://pandas.pydata.org/pandas-docs/stable/user_guide/indexing.html#returning-a-view-versus-a-copy\n",
      "  current_data['Date'] = current_data.index\n"
     ]
    },
    {
     "name": "stdout",
     "output_type": "stream",
     "text": [
      "shape of df4 is (480, 3541)\n",
      "Completed 68 out of 461 steps\n",
      "the main data is of shape (540, 2)\n",
      "shape of current_data2 is (540, 59)\n"
     ]
    },
    {
     "name": "stderr",
     "output_type": "stream",
     "text": [
      "C:\\Users\\abhij\\AppData\\Local\\Temp\\ipykernel_18688\\568520512.py:16: SettingWithCopyWarning: \n",
      "A value is trying to be set on a copy of a slice from a DataFrame.\n",
      "Try using .loc[row_indexer,col_indexer] = value instead\n",
      "\n",
      "See the caveats in the documentation: https://pandas.pydata.org/pandas-docs/stable/user_guide/indexing.html#returning-a-view-versus-a-copy\n",
      "  current_data['Date'] = current_data.index\n"
     ]
    },
    {
     "name": "stdout",
     "output_type": "stream",
     "text": [
      "shape of df4 is (480, 3541)\n",
      "Completed 69 out of 461 steps\n",
      "the main data is of shape (540, 2)\n"
     ]
    },
    {
     "name": "stderr",
     "output_type": "stream",
     "text": [
      "C:\\Users\\abhij\\AppData\\Local\\Temp\\ipykernel_18688\\568520512.py:16: SettingWithCopyWarning: \n",
      "A value is trying to be set on a copy of a slice from a DataFrame.\n",
      "Try using .loc[row_indexer,col_indexer] = value instead\n",
      "\n",
      "See the caveats in the documentation: https://pandas.pydata.org/pandas-docs/stable/user_guide/indexing.html#returning-a-view-versus-a-copy\n",
      "  current_data['Date'] = current_data.index\n"
     ]
    },
    {
     "name": "stdout",
     "output_type": "stream",
     "text": [
      "shape of current_data2 is (540, 59)\n",
      "shape of df4 is (480, 3541)\n",
      "Completed 70 out of 461 steps\n",
      "the main data is of shape (540, 2)\n"
     ]
    },
    {
     "name": "stderr",
     "output_type": "stream",
     "text": [
      "C:\\Users\\abhij\\AppData\\Local\\Temp\\ipykernel_18688\\568520512.py:16: SettingWithCopyWarning: \n",
      "A value is trying to be set on a copy of a slice from a DataFrame.\n",
      "Try using .loc[row_indexer,col_indexer] = value instead\n",
      "\n",
      "See the caveats in the documentation: https://pandas.pydata.org/pandas-docs/stable/user_guide/indexing.html#returning-a-view-versus-a-copy\n",
      "  current_data['Date'] = current_data.index\n"
     ]
    },
    {
     "name": "stdout",
     "output_type": "stream",
     "text": [
      "shape of current_data2 is (540, 59)\n",
      "shape of df4 is (480, 3541)\n",
      "Completed 71 out of 461 steps\n",
      "the main data is of shape (540, 2)\n",
      "shape of current_data2 is (540, 59)\n"
     ]
    },
    {
     "name": "stderr",
     "output_type": "stream",
     "text": [
      "C:\\Users\\abhij\\AppData\\Local\\Temp\\ipykernel_18688\\568520512.py:16: SettingWithCopyWarning: \n",
      "A value is trying to be set on a copy of a slice from a DataFrame.\n",
      "Try using .loc[row_indexer,col_indexer] = value instead\n",
      "\n",
      "See the caveats in the documentation: https://pandas.pydata.org/pandas-docs/stable/user_guide/indexing.html#returning-a-view-versus-a-copy\n",
      "  current_data['Date'] = current_data.index\n"
     ]
    },
    {
     "name": "stdout",
     "output_type": "stream",
     "text": [
      "shape of df4 is (480, 3541)\n",
      "Completed 72 out of 461 steps\n",
      "the main data is of shape (540, 2)\n"
     ]
    },
    {
     "name": "stderr",
     "output_type": "stream",
     "text": [
      "C:\\Users\\abhij\\AppData\\Local\\Temp\\ipykernel_18688\\568520512.py:16: SettingWithCopyWarning: \n",
      "A value is trying to be set on a copy of a slice from a DataFrame.\n",
      "Try using .loc[row_indexer,col_indexer] = value instead\n",
      "\n",
      "See the caveats in the documentation: https://pandas.pydata.org/pandas-docs/stable/user_guide/indexing.html#returning-a-view-versus-a-copy\n",
      "  current_data['Date'] = current_data.index\n"
     ]
    },
    {
     "name": "stdout",
     "output_type": "stream",
     "text": [
      "shape of current_data2 is (540, 59)\n",
      "shape of df4 is (480, 3541)\n",
      "Completed 73 out of 461 steps\n",
      "the main data is of shape (540, 2)\n",
      "shape of current_data2 is (540, 59)\n"
     ]
    },
    {
     "name": "stderr",
     "output_type": "stream",
     "text": [
      "C:\\Users\\abhij\\AppData\\Local\\Temp\\ipykernel_18688\\568520512.py:16: SettingWithCopyWarning: \n",
      "A value is trying to be set on a copy of a slice from a DataFrame.\n",
      "Try using .loc[row_indexer,col_indexer] = value instead\n",
      "\n",
      "See the caveats in the documentation: https://pandas.pydata.org/pandas-docs/stable/user_guide/indexing.html#returning-a-view-versus-a-copy\n",
      "  current_data['Date'] = current_data.index\n"
     ]
    },
    {
     "name": "stdout",
     "output_type": "stream",
     "text": [
      "shape of df4 is (480, 3541)\n",
      "Completed 74 out of 461 steps\n",
      "the main data is of shape (540, 2)\n"
     ]
    },
    {
     "name": "stderr",
     "output_type": "stream",
     "text": [
      "C:\\Users\\abhij\\AppData\\Local\\Temp\\ipykernel_18688\\568520512.py:16: SettingWithCopyWarning: \n",
      "A value is trying to be set on a copy of a slice from a DataFrame.\n",
      "Try using .loc[row_indexer,col_indexer] = value instead\n",
      "\n",
      "See the caveats in the documentation: https://pandas.pydata.org/pandas-docs/stable/user_guide/indexing.html#returning-a-view-versus-a-copy\n",
      "  current_data['Date'] = current_data.index\n"
     ]
    },
    {
     "name": "stdout",
     "output_type": "stream",
     "text": [
      "shape of current_data2 is (540, 59)\n",
      "shape of df4 is (480, 3541)\n",
      "Completed 75 out of 461 steps\n",
      "the main data is of shape (540, 2)\n"
     ]
    },
    {
     "name": "stderr",
     "output_type": "stream",
     "text": [
      "C:\\Users\\abhij\\AppData\\Local\\Temp\\ipykernel_18688\\568520512.py:16: SettingWithCopyWarning: \n",
      "A value is trying to be set on a copy of a slice from a DataFrame.\n",
      "Try using .loc[row_indexer,col_indexer] = value instead\n",
      "\n",
      "See the caveats in the documentation: https://pandas.pydata.org/pandas-docs/stable/user_guide/indexing.html#returning-a-view-versus-a-copy\n",
      "  current_data['Date'] = current_data.index\n"
     ]
    },
    {
     "name": "stdout",
     "output_type": "stream",
     "text": [
      "shape of current_data2 is (540, 59)\n",
      "shape of df4 is (480, 3541)\n",
      "Completed 76 out of 461 steps\n",
      "the main data is of shape (540, 2)\n"
     ]
    },
    {
     "name": "stderr",
     "output_type": "stream",
     "text": [
      "C:\\Users\\abhij\\AppData\\Local\\Temp\\ipykernel_18688\\568520512.py:16: SettingWithCopyWarning: \n",
      "A value is trying to be set on a copy of a slice from a DataFrame.\n",
      "Try using .loc[row_indexer,col_indexer] = value instead\n",
      "\n",
      "See the caveats in the documentation: https://pandas.pydata.org/pandas-docs/stable/user_guide/indexing.html#returning-a-view-versus-a-copy\n",
      "  current_data['Date'] = current_data.index\n"
     ]
    },
    {
     "name": "stdout",
     "output_type": "stream",
     "text": [
      "shape of current_data2 is (540, 59)\n",
      "shape of df4 is (480, 3541)\n",
      "Completed 77 out of 461 steps\n",
      "the main data is of shape (540, 2)\n",
      "shape of current_data2 is (540, 59)\n"
     ]
    },
    {
     "name": "stderr",
     "output_type": "stream",
     "text": [
      "C:\\Users\\abhij\\AppData\\Local\\Temp\\ipykernel_18688\\568520512.py:16: SettingWithCopyWarning: \n",
      "A value is trying to be set on a copy of a slice from a DataFrame.\n",
      "Try using .loc[row_indexer,col_indexer] = value instead\n",
      "\n",
      "See the caveats in the documentation: https://pandas.pydata.org/pandas-docs/stable/user_guide/indexing.html#returning-a-view-versus-a-copy\n",
      "  current_data['Date'] = current_data.index\n"
     ]
    },
    {
     "name": "stdout",
     "output_type": "stream",
     "text": [
      "shape of df4 is (480, 3541)\n",
      "Completed 78 out of 461 steps\n",
      "the main data is of shape (540, 2)\n",
      "shape of current_data2 is (540, 59)\n"
     ]
    },
    {
     "name": "stderr",
     "output_type": "stream",
     "text": [
      "C:\\Users\\abhij\\AppData\\Local\\Temp\\ipykernel_18688\\568520512.py:16: SettingWithCopyWarning: \n",
      "A value is trying to be set on a copy of a slice from a DataFrame.\n",
      "Try using .loc[row_indexer,col_indexer] = value instead\n",
      "\n",
      "See the caveats in the documentation: https://pandas.pydata.org/pandas-docs/stable/user_guide/indexing.html#returning-a-view-versus-a-copy\n",
      "  current_data['Date'] = current_data.index\n"
     ]
    },
    {
     "name": "stdout",
     "output_type": "stream",
     "text": [
      "shape of df4 is (480, 3541)\n",
      "Completed 79 out of 461 steps\n",
      "the main data is of shape (540, 2)\n",
      "shape of current_data2 is (540, 59)\n"
     ]
    },
    {
     "name": "stderr",
     "output_type": "stream",
     "text": [
      "C:\\Users\\abhij\\AppData\\Local\\Temp\\ipykernel_18688\\568520512.py:16: SettingWithCopyWarning: \n",
      "A value is trying to be set on a copy of a slice from a DataFrame.\n",
      "Try using .loc[row_indexer,col_indexer] = value instead\n",
      "\n",
      "See the caveats in the documentation: https://pandas.pydata.org/pandas-docs/stable/user_guide/indexing.html#returning-a-view-versus-a-copy\n",
      "  current_data['Date'] = current_data.index\n"
     ]
    },
    {
     "name": "stdout",
     "output_type": "stream",
     "text": [
      "shape of df4 is (480, 3541)\n",
      "Completed 80 out of 461 steps\n",
      "the main data is of shape (540, 2)\n",
      "shape of current_data2 is (540, 59)\n"
     ]
    },
    {
     "name": "stderr",
     "output_type": "stream",
     "text": [
      "C:\\Users\\abhij\\AppData\\Local\\Temp\\ipykernel_18688\\568520512.py:16: SettingWithCopyWarning: \n",
      "A value is trying to be set on a copy of a slice from a DataFrame.\n",
      "Try using .loc[row_indexer,col_indexer] = value instead\n",
      "\n",
      "See the caveats in the documentation: https://pandas.pydata.org/pandas-docs/stable/user_guide/indexing.html#returning-a-view-versus-a-copy\n",
      "  current_data['Date'] = current_data.index\n"
     ]
    },
    {
     "name": "stdout",
     "output_type": "stream",
     "text": [
      "shape of df4 is (480, 3541)\n",
      "Completed 81 out of 461 steps\n",
      "the main data is of shape (540, 2)\n",
      "shape of current_data2 is (540, 59)\n"
     ]
    },
    {
     "name": "stderr",
     "output_type": "stream",
     "text": [
      "C:\\Users\\abhij\\AppData\\Local\\Temp\\ipykernel_18688\\568520512.py:16: SettingWithCopyWarning: \n",
      "A value is trying to be set on a copy of a slice from a DataFrame.\n",
      "Try using .loc[row_indexer,col_indexer] = value instead\n",
      "\n",
      "See the caveats in the documentation: https://pandas.pydata.org/pandas-docs/stable/user_guide/indexing.html#returning-a-view-versus-a-copy\n",
      "  current_data['Date'] = current_data.index\n"
     ]
    },
    {
     "name": "stdout",
     "output_type": "stream",
     "text": [
      "shape of df4 is (480, 3541)\n",
      "Completed 82 out of 461 steps\n",
      "the main data is of shape (540, 2)\n",
      "shape of current_data2 is (540, 59)\n"
     ]
    },
    {
     "name": "stderr",
     "output_type": "stream",
     "text": [
      "C:\\Users\\abhij\\AppData\\Local\\Temp\\ipykernel_18688\\568520512.py:16: SettingWithCopyWarning: \n",
      "A value is trying to be set on a copy of a slice from a DataFrame.\n",
      "Try using .loc[row_indexer,col_indexer] = value instead\n",
      "\n",
      "See the caveats in the documentation: https://pandas.pydata.org/pandas-docs/stable/user_guide/indexing.html#returning-a-view-versus-a-copy\n",
      "  current_data['Date'] = current_data.index\n"
     ]
    },
    {
     "name": "stdout",
     "output_type": "stream",
     "text": [
      "shape of df4 is (480, 3541)\n",
      "Completed 83 out of 461 steps\n",
      "the main data is of shape (540, 2)\n"
     ]
    },
    {
     "name": "stderr",
     "output_type": "stream",
     "text": [
      "C:\\Users\\abhij\\AppData\\Local\\Temp\\ipykernel_18688\\568520512.py:16: SettingWithCopyWarning: \n",
      "A value is trying to be set on a copy of a slice from a DataFrame.\n",
      "Try using .loc[row_indexer,col_indexer] = value instead\n",
      "\n",
      "See the caveats in the documentation: https://pandas.pydata.org/pandas-docs/stable/user_guide/indexing.html#returning-a-view-versus-a-copy\n",
      "  current_data['Date'] = current_data.index\n"
     ]
    },
    {
     "name": "stdout",
     "output_type": "stream",
     "text": [
      "shape of current_data2 is (540, 59)\n",
      "shape of df4 is (480, 3541)\n",
      "Completed 84 out of 461 steps\n",
      "the main data is of shape (540, 2)\n"
     ]
    },
    {
     "name": "stderr",
     "output_type": "stream",
     "text": [
      "C:\\Users\\abhij\\AppData\\Local\\Temp\\ipykernel_18688\\568520512.py:16: SettingWithCopyWarning: \n",
      "A value is trying to be set on a copy of a slice from a DataFrame.\n",
      "Try using .loc[row_indexer,col_indexer] = value instead\n",
      "\n",
      "See the caveats in the documentation: https://pandas.pydata.org/pandas-docs/stable/user_guide/indexing.html#returning-a-view-versus-a-copy\n",
      "  current_data['Date'] = current_data.index\n"
     ]
    },
    {
     "name": "stdout",
     "output_type": "stream",
     "text": [
      "shape of current_data2 is (540, 59)\n",
      "shape of df4 is (480, 3541)\n",
      "Completed 85 out of 461 steps\n",
      "the main data is of shape (540, 2)\n",
      "shape of current_data2 is (540, 59)\n"
     ]
    },
    {
     "name": "stderr",
     "output_type": "stream",
     "text": [
      "C:\\Users\\abhij\\AppData\\Local\\Temp\\ipykernel_18688\\568520512.py:16: SettingWithCopyWarning: \n",
      "A value is trying to be set on a copy of a slice from a DataFrame.\n",
      "Try using .loc[row_indexer,col_indexer] = value instead\n",
      "\n",
      "See the caveats in the documentation: https://pandas.pydata.org/pandas-docs/stable/user_guide/indexing.html#returning-a-view-versus-a-copy\n",
      "  current_data['Date'] = current_data.index\n"
     ]
    },
    {
     "name": "stdout",
     "output_type": "stream",
     "text": [
      "shape of df4 is (480, 3541)\n",
      "Completed 86 out of 461 steps\n",
      "the main data is of shape (540, 2)\n"
     ]
    },
    {
     "name": "stderr",
     "output_type": "stream",
     "text": [
      "C:\\Users\\abhij\\AppData\\Local\\Temp\\ipykernel_18688\\568520512.py:16: SettingWithCopyWarning: \n",
      "A value is trying to be set on a copy of a slice from a DataFrame.\n",
      "Try using .loc[row_indexer,col_indexer] = value instead\n",
      "\n",
      "See the caveats in the documentation: https://pandas.pydata.org/pandas-docs/stable/user_guide/indexing.html#returning-a-view-versus-a-copy\n",
      "  current_data['Date'] = current_data.index\n"
     ]
    },
    {
     "name": "stdout",
     "output_type": "stream",
     "text": [
      "shape of current_data2 is (540, 59)\n",
      "shape of df4 is (480, 3541)\n",
      "Completed 87 out of 461 steps\n",
      "the main data is of shape (540, 2)\n",
      "shape of current_data2 is (540, 59)\n"
     ]
    },
    {
     "name": "stderr",
     "output_type": "stream",
     "text": [
      "C:\\Users\\abhij\\AppData\\Local\\Temp\\ipykernel_18688\\568520512.py:16: SettingWithCopyWarning: \n",
      "A value is trying to be set on a copy of a slice from a DataFrame.\n",
      "Try using .loc[row_indexer,col_indexer] = value instead\n",
      "\n",
      "See the caveats in the documentation: https://pandas.pydata.org/pandas-docs/stable/user_guide/indexing.html#returning-a-view-versus-a-copy\n",
      "  current_data['Date'] = current_data.index\n"
     ]
    },
    {
     "name": "stdout",
     "output_type": "stream",
     "text": [
      "shape of df4 is (480, 3541)\n",
      "Completed 88 out of 461 steps\n",
      "the main data is of shape (540, 2)\n"
     ]
    },
    {
     "name": "stderr",
     "output_type": "stream",
     "text": [
      "C:\\Users\\abhij\\AppData\\Local\\Temp\\ipykernel_18688\\568520512.py:16: SettingWithCopyWarning: \n",
      "A value is trying to be set on a copy of a slice from a DataFrame.\n",
      "Try using .loc[row_indexer,col_indexer] = value instead\n",
      "\n",
      "See the caveats in the documentation: https://pandas.pydata.org/pandas-docs/stable/user_guide/indexing.html#returning-a-view-versus-a-copy\n",
      "  current_data['Date'] = current_data.index\n"
     ]
    },
    {
     "name": "stdout",
     "output_type": "stream",
     "text": [
      "shape of current_data2 is (540, 59)\n",
      "shape of df4 is (480, 3541)\n",
      "Completed 89 out of 461 steps\n",
      "the main data is of shape (540, 2)\n",
      "shape of current_data2 is (540, 59)\n"
     ]
    },
    {
     "name": "stderr",
     "output_type": "stream",
     "text": [
      "C:\\Users\\abhij\\AppData\\Local\\Temp\\ipykernel_18688\\568520512.py:16: SettingWithCopyWarning: \n",
      "A value is trying to be set on a copy of a slice from a DataFrame.\n",
      "Try using .loc[row_indexer,col_indexer] = value instead\n",
      "\n",
      "See the caveats in the documentation: https://pandas.pydata.org/pandas-docs/stable/user_guide/indexing.html#returning-a-view-versus-a-copy\n",
      "  current_data['Date'] = current_data.index\n"
     ]
    },
    {
     "name": "stdout",
     "output_type": "stream",
     "text": [
      "shape of df4 is (480, 3541)\n",
      "Completed 90 out of 461 steps\n",
      "the main data is of shape (540, 2)\n"
     ]
    },
    {
     "name": "stderr",
     "output_type": "stream",
     "text": [
      "C:\\Users\\abhij\\AppData\\Local\\Temp\\ipykernel_18688\\568520512.py:16: SettingWithCopyWarning: \n",
      "A value is trying to be set on a copy of a slice from a DataFrame.\n",
      "Try using .loc[row_indexer,col_indexer] = value instead\n",
      "\n",
      "See the caveats in the documentation: https://pandas.pydata.org/pandas-docs/stable/user_guide/indexing.html#returning-a-view-versus-a-copy\n",
      "  current_data['Date'] = current_data.index\n"
     ]
    },
    {
     "name": "stdout",
     "output_type": "stream",
     "text": [
      "shape of current_data2 is (540, 59)\n",
      "shape of df4 is (480, 3541)\n",
      "Completed 91 out of 461 steps\n",
      "the main data is of shape (540, 2)\n"
     ]
    },
    {
     "name": "stderr",
     "output_type": "stream",
     "text": [
      "C:\\Users\\abhij\\AppData\\Local\\Temp\\ipykernel_18688\\568520512.py:16: SettingWithCopyWarning: \n",
      "A value is trying to be set on a copy of a slice from a DataFrame.\n",
      "Try using .loc[row_indexer,col_indexer] = value instead\n",
      "\n",
      "See the caveats in the documentation: https://pandas.pydata.org/pandas-docs/stable/user_guide/indexing.html#returning-a-view-versus-a-copy\n",
      "  current_data['Date'] = current_data.index\n"
     ]
    },
    {
     "name": "stdout",
     "output_type": "stream",
     "text": [
      "shape of current_data2 is (540, 59)\n",
      "shape of df4 is (480, 3541)\n",
      "Completed 92 out of 461 steps\n",
      "the main data is of shape (540, 2)\n"
     ]
    },
    {
     "name": "stderr",
     "output_type": "stream",
     "text": [
      "C:\\Users\\abhij\\AppData\\Local\\Temp\\ipykernel_18688\\568520512.py:16: SettingWithCopyWarning: \n",
      "A value is trying to be set on a copy of a slice from a DataFrame.\n",
      "Try using .loc[row_indexer,col_indexer] = value instead\n",
      "\n",
      "See the caveats in the documentation: https://pandas.pydata.org/pandas-docs/stable/user_guide/indexing.html#returning-a-view-versus-a-copy\n",
      "  current_data['Date'] = current_data.index\n"
     ]
    },
    {
     "name": "stdout",
     "output_type": "stream",
     "text": [
      "shape of current_data2 is (540, 59)\n",
      "shape of df4 is (480, 3541)\n",
      "Completed 93 out of 461 steps\n"
     ]
    },
    {
     "name": "stderr",
     "output_type": "stream",
     "text": [
      "C:\\Users\\abhij\\AppData\\Local\\Temp\\ipykernel_18688\\568520512.py:16: SettingWithCopyWarning: \n",
      "A value is trying to be set on a copy of a slice from a DataFrame.\n",
      "Try using .loc[row_indexer,col_indexer] = value instead\n",
      "\n",
      "See the caveats in the documentation: https://pandas.pydata.org/pandas-docs/stable/user_guide/indexing.html#returning-a-view-versus-a-copy\n",
      "  current_data['Date'] = current_data.index\n"
     ]
    },
    {
     "name": "stdout",
     "output_type": "stream",
     "text": [
      "the main data is of shape (540, 2)\n",
      "shape of current_data2 is (540, 59)\n",
      "shape of df4 is (480, 3541)\n",
      "Completed 94 out of 461 steps\n",
      "the main data is of shape (540, 2)\n"
     ]
    },
    {
     "name": "stderr",
     "output_type": "stream",
     "text": [
      "C:\\Users\\abhij\\AppData\\Local\\Temp\\ipykernel_18688\\568520512.py:16: SettingWithCopyWarning: \n",
      "A value is trying to be set on a copy of a slice from a DataFrame.\n",
      "Try using .loc[row_indexer,col_indexer] = value instead\n",
      "\n",
      "See the caveats in the documentation: https://pandas.pydata.org/pandas-docs/stable/user_guide/indexing.html#returning-a-view-versus-a-copy\n",
      "  current_data['Date'] = current_data.index\n"
     ]
    },
    {
     "name": "stdout",
     "output_type": "stream",
     "text": [
      "shape of current_data2 is (540, 59)\n",
      "shape of df4 is (480, 3541)\n",
      "Completed 95 out of 461 steps\n",
      "the main data is of shape (540, 2)\n"
     ]
    },
    {
     "name": "stderr",
     "output_type": "stream",
     "text": [
      "C:\\Users\\abhij\\AppData\\Local\\Temp\\ipykernel_18688\\568520512.py:16: SettingWithCopyWarning: \n",
      "A value is trying to be set on a copy of a slice from a DataFrame.\n",
      "Try using .loc[row_indexer,col_indexer] = value instead\n",
      "\n",
      "See the caveats in the documentation: https://pandas.pydata.org/pandas-docs/stable/user_guide/indexing.html#returning-a-view-versus-a-copy\n",
      "  current_data['Date'] = current_data.index\n"
     ]
    },
    {
     "name": "stdout",
     "output_type": "stream",
     "text": [
      "shape of current_data2 is (540, 59)\n",
      "shape of df4 is (480, 3541)\n",
      "Completed 96 out of 461 steps\n"
     ]
    },
    {
     "name": "stderr",
     "output_type": "stream",
     "text": [
      "C:\\Users\\abhij\\AppData\\Local\\Temp\\ipykernel_18688\\568520512.py:16: SettingWithCopyWarning: \n",
      "A value is trying to be set on a copy of a slice from a DataFrame.\n",
      "Try using .loc[row_indexer,col_indexer] = value instead\n",
      "\n",
      "See the caveats in the documentation: https://pandas.pydata.org/pandas-docs/stable/user_guide/indexing.html#returning-a-view-versus-a-copy\n",
      "  current_data['Date'] = current_data.index\n"
     ]
    },
    {
     "name": "stdout",
     "output_type": "stream",
     "text": [
      "the main data is of shape (540, 2)\n",
      "shape of current_data2 is (540, 59)\n",
      "shape of df4 is (480, 3541)\n",
      "Completed 97 out of 461 steps\n",
      "the main data is of shape (540, 2)\n"
     ]
    },
    {
     "name": "stderr",
     "output_type": "stream",
     "text": [
      "C:\\Users\\abhij\\AppData\\Local\\Temp\\ipykernel_18688\\568520512.py:16: SettingWithCopyWarning: \n",
      "A value is trying to be set on a copy of a slice from a DataFrame.\n",
      "Try using .loc[row_indexer,col_indexer] = value instead\n",
      "\n",
      "See the caveats in the documentation: https://pandas.pydata.org/pandas-docs/stable/user_guide/indexing.html#returning-a-view-versus-a-copy\n",
      "  current_data['Date'] = current_data.index\n"
     ]
    },
    {
     "name": "stdout",
     "output_type": "stream",
     "text": [
      "shape of current_data2 is (540, 59)\n",
      "shape of df4 is (480, 3541)\n",
      "Completed 98 out of 461 steps\n"
     ]
    },
    {
     "name": "stderr",
     "output_type": "stream",
     "text": [
      "C:\\Users\\abhij\\AppData\\Local\\Temp\\ipykernel_18688\\568520512.py:16: SettingWithCopyWarning: \n",
      "A value is trying to be set on a copy of a slice from a DataFrame.\n",
      "Try using .loc[row_indexer,col_indexer] = value instead\n",
      "\n",
      "See the caveats in the documentation: https://pandas.pydata.org/pandas-docs/stable/user_guide/indexing.html#returning-a-view-versus-a-copy\n",
      "  current_data['Date'] = current_data.index\n"
     ]
    },
    {
     "name": "stdout",
     "output_type": "stream",
     "text": [
      "the main data is of shape (540, 2)\n",
      "shape of current_data2 is (540, 59)\n",
      "shape of df4 is (480, 3541)\n",
      "Completed 99 out of 461 steps\n",
      "the main data is of shape (540, 2)\n"
     ]
    },
    {
     "name": "stderr",
     "output_type": "stream",
     "text": [
      "C:\\Users\\abhij\\AppData\\Local\\Temp\\ipykernel_18688\\568520512.py:16: SettingWithCopyWarning: \n",
      "A value is trying to be set on a copy of a slice from a DataFrame.\n",
      "Try using .loc[row_indexer,col_indexer] = value instead\n",
      "\n",
      "See the caveats in the documentation: https://pandas.pydata.org/pandas-docs/stable/user_guide/indexing.html#returning-a-view-versus-a-copy\n",
      "  current_data['Date'] = current_data.index\n"
     ]
    },
    {
     "name": "stdout",
     "output_type": "stream",
     "text": [
      "shape of current_data2 is (540, 59)\n",
      "shape of df4 is (480, 3541)\n",
      "Completed 100 out of 461 steps\n",
      "the main data is of shape (540, 2)\n"
     ]
    },
    {
     "name": "stderr",
     "output_type": "stream",
     "text": [
      "C:\\Users\\abhij\\AppData\\Local\\Temp\\ipykernel_18688\\568520512.py:16: SettingWithCopyWarning: \n",
      "A value is trying to be set on a copy of a slice from a DataFrame.\n",
      "Try using .loc[row_indexer,col_indexer] = value instead\n",
      "\n",
      "See the caveats in the documentation: https://pandas.pydata.org/pandas-docs/stable/user_guide/indexing.html#returning-a-view-versus-a-copy\n",
      "  current_data['Date'] = current_data.index\n"
     ]
    },
    {
     "name": "stdout",
     "output_type": "stream",
     "text": [
      "shape of current_data2 is (540, 59)\n",
      "shape of df4 is (480, 3541)\n",
      "Completed 101 out of 461 steps\n",
      "the main data is of shape (540, 2)\n"
     ]
    },
    {
     "name": "stderr",
     "output_type": "stream",
     "text": [
      "C:\\Users\\abhij\\AppData\\Local\\Temp\\ipykernel_18688\\568520512.py:16: SettingWithCopyWarning: \n",
      "A value is trying to be set on a copy of a slice from a DataFrame.\n",
      "Try using .loc[row_indexer,col_indexer] = value instead\n",
      "\n",
      "See the caveats in the documentation: https://pandas.pydata.org/pandas-docs/stable/user_guide/indexing.html#returning-a-view-versus-a-copy\n",
      "  current_data['Date'] = current_data.index\n"
     ]
    },
    {
     "name": "stdout",
     "output_type": "stream",
     "text": [
      "shape of current_data2 is (540, 59)\n",
      "shape of df4 is (480, 3541)\n",
      "Completed 102 out of 461 steps\n",
      "the main data is of shape (540, 2)\n"
     ]
    },
    {
     "name": "stderr",
     "output_type": "stream",
     "text": [
      "C:\\Users\\abhij\\AppData\\Local\\Temp\\ipykernel_18688\\568520512.py:16: SettingWithCopyWarning: \n",
      "A value is trying to be set on a copy of a slice from a DataFrame.\n",
      "Try using .loc[row_indexer,col_indexer] = value instead\n",
      "\n",
      "See the caveats in the documentation: https://pandas.pydata.org/pandas-docs/stable/user_guide/indexing.html#returning-a-view-versus-a-copy\n",
      "  current_data['Date'] = current_data.index\n"
     ]
    },
    {
     "name": "stdout",
     "output_type": "stream",
     "text": [
      "shape of current_data2 is (540, 59)\n",
      "shape of df4 is (480, 3541)\n",
      "Completed 103 out of 461 steps\n",
      "the main data is of shape (540, 2)\n"
     ]
    },
    {
     "name": "stderr",
     "output_type": "stream",
     "text": [
      "C:\\Users\\abhij\\AppData\\Local\\Temp\\ipykernel_18688\\568520512.py:16: SettingWithCopyWarning: \n",
      "A value is trying to be set on a copy of a slice from a DataFrame.\n",
      "Try using .loc[row_indexer,col_indexer] = value instead\n",
      "\n",
      "See the caveats in the documentation: https://pandas.pydata.org/pandas-docs/stable/user_guide/indexing.html#returning-a-view-versus-a-copy\n",
      "  current_data['Date'] = current_data.index\n"
     ]
    },
    {
     "name": "stdout",
     "output_type": "stream",
     "text": [
      "shape of current_data2 is (540, 59)\n",
      "shape of df4 is (480, 3541)\n",
      "Completed 104 out of 461 steps\n",
      "the main data is of shape (540, 2)\n"
     ]
    },
    {
     "name": "stderr",
     "output_type": "stream",
     "text": [
      "C:\\Users\\abhij\\AppData\\Local\\Temp\\ipykernel_18688\\568520512.py:16: SettingWithCopyWarning: \n",
      "A value is trying to be set on a copy of a slice from a DataFrame.\n",
      "Try using .loc[row_indexer,col_indexer] = value instead\n",
      "\n",
      "See the caveats in the documentation: https://pandas.pydata.org/pandas-docs/stable/user_guide/indexing.html#returning-a-view-versus-a-copy\n",
      "  current_data['Date'] = current_data.index\n"
     ]
    },
    {
     "name": "stdout",
     "output_type": "stream",
     "text": [
      "shape of current_data2 is (540, 59)\n",
      "shape of df4 is (480, 3541)\n",
      "Completed 105 out of 461 steps\n",
      "the main data is of shape (540, 2)\n"
     ]
    },
    {
     "name": "stderr",
     "output_type": "stream",
     "text": [
      "C:\\Users\\abhij\\AppData\\Local\\Temp\\ipykernel_18688\\568520512.py:16: SettingWithCopyWarning: \n",
      "A value is trying to be set on a copy of a slice from a DataFrame.\n",
      "Try using .loc[row_indexer,col_indexer] = value instead\n",
      "\n",
      "See the caveats in the documentation: https://pandas.pydata.org/pandas-docs/stable/user_guide/indexing.html#returning-a-view-versus-a-copy\n",
      "  current_data['Date'] = current_data.index\n"
     ]
    },
    {
     "name": "stdout",
     "output_type": "stream",
     "text": [
      "shape of current_data2 is (540, 59)\n",
      "shape of df4 is (480, 3541)\n",
      "Completed 106 out of 461 steps\n",
      "the main data is of shape (540, 2)\n"
     ]
    },
    {
     "name": "stderr",
     "output_type": "stream",
     "text": [
      "C:\\Users\\abhij\\AppData\\Local\\Temp\\ipykernel_18688\\568520512.py:16: SettingWithCopyWarning: \n",
      "A value is trying to be set on a copy of a slice from a DataFrame.\n",
      "Try using .loc[row_indexer,col_indexer] = value instead\n",
      "\n",
      "See the caveats in the documentation: https://pandas.pydata.org/pandas-docs/stable/user_guide/indexing.html#returning-a-view-versus-a-copy\n",
      "  current_data['Date'] = current_data.index\n"
     ]
    },
    {
     "name": "stdout",
     "output_type": "stream",
     "text": [
      "shape of current_data2 is (540, 59)\n",
      "shape of df4 is (480, 3541)\n",
      "Completed 107 out of 461 steps\n"
     ]
    },
    {
     "name": "stderr",
     "output_type": "stream",
     "text": [
      "C:\\Users\\abhij\\AppData\\Local\\Temp\\ipykernel_18688\\568520512.py:16: SettingWithCopyWarning: \n",
      "A value is trying to be set on a copy of a slice from a DataFrame.\n",
      "Try using .loc[row_indexer,col_indexer] = value instead\n",
      "\n",
      "See the caveats in the documentation: https://pandas.pydata.org/pandas-docs/stable/user_guide/indexing.html#returning-a-view-versus-a-copy\n",
      "  current_data['Date'] = current_data.index\n"
     ]
    },
    {
     "name": "stdout",
     "output_type": "stream",
     "text": [
      "the main data is of shape (540, 2)\n",
      "shape of current_data2 is (540, 59)\n",
      "shape of df4 is (480, 3541)\n",
      "Completed 108 out of 461 steps\n",
      "the main data is of shape (513, 2)\n"
     ]
    },
    {
     "name": "stderr",
     "output_type": "stream",
     "text": [
      "C:\\Users\\abhij\\AppData\\Local\\Temp\\ipykernel_18688\\568520512.py:16: SettingWithCopyWarning: \n",
      "A value is trying to be set on a copy of a slice from a DataFrame.\n",
      "Try using .loc[row_indexer,col_indexer] = value instead\n",
      "\n",
      "See the caveats in the documentation: https://pandas.pydata.org/pandas-docs/stable/user_guide/indexing.html#returning-a-view-versus-a-copy\n",
      "  current_data['Date'] = current_data.index\n"
     ]
    },
    {
     "name": "stdout",
     "output_type": "stream",
     "text": [
      "shape of current_data2 is (513, 59)\n",
      "shape of df4 is (453, 3541)\n",
      "Completed 109 out of 461 steps\n",
      "the main data is of shape (540, 2)\n"
     ]
    },
    {
     "name": "stderr",
     "output_type": "stream",
     "text": [
      "C:\\Users\\abhij\\AppData\\Local\\Temp\\ipykernel_18688\\568520512.py:16: SettingWithCopyWarning: \n",
      "A value is trying to be set on a copy of a slice from a DataFrame.\n",
      "Try using .loc[row_indexer,col_indexer] = value instead\n",
      "\n",
      "See the caveats in the documentation: https://pandas.pydata.org/pandas-docs/stable/user_guide/indexing.html#returning-a-view-versus-a-copy\n",
      "  current_data['Date'] = current_data.index\n"
     ]
    },
    {
     "name": "stdout",
     "output_type": "stream",
     "text": [
      "shape of current_data2 is (540, 59)\n",
      "shape of df4 is (480, 3541)\n",
      "Completed 110 out of 461 steps\n"
     ]
    },
    {
     "name": "stderr",
     "output_type": "stream",
     "text": [
      "C:\\Users\\abhij\\AppData\\Local\\Temp\\ipykernel_18688\\568520512.py:16: SettingWithCopyWarning: \n",
      "A value is trying to be set on a copy of a slice from a DataFrame.\n",
      "Try using .loc[row_indexer,col_indexer] = value instead\n",
      "\n",
      "See the caveats in the documentation: https://pandas.pydata.org/pandas-docs/stable/user_guide/indexing.html#returning-a-view-versus-a-copy\n",
      "  current_data['Date'] = current_data.index\n"
     ]
    },
    {
     "name": "stdout",
     "output_type": "stream",
     "text": [
      "the main data is of shape (540, 2)\n",
      "shape of current_data2 is (540, 59)\n",
      "shape of df4 is (480, 3541)\n",
      "Completed 111 out of 461 steps\n"
     ]
    },
    {
     "name": "stderr",
     "output_type": "stream",
     "text": [
      "C:\\Users\\abhij\\AppData\\Local\\Temp\\ipykernel_18688\\568520512.py:16: SettingWithCopyWarning: \n",
      "A value is trying to be set on a copy of a slice from a DataFrame.\n",
      "Try using .loc[row_indexer,col_indexer] = value instead\n",
      "\n",
      "See the caveats in the documentation: https://pandas.pydata.org/pandas-docs/stable/user_guide/indexing.html#returning-a-view-versus-a-copy\n",
      "  current_data['Date'] = current_data.index\n"
     ]
    },
    {
     "name": "stdout",
     "output_type": "stream",
     "text": [
      "the main data is of shape (540, 2)\n",
      "shape of current_data2 is (540, 59)\n",
      "shape of df4 is (480, 3541)\n",
      "Completed 112 out of 461 steps\n"
     ]
    },
    {
     "name": "stderr",
     "output_type": "stream",
     "text": [
      "C:\\Users\\abhij\\AppData\\Local\\Temp\\ipykernel_18688\\568520512.py:16: SettingWithCopyWarning: \n",
      "A value is trying to be set on a copy of a slice from a DataFrame.\n",
      "Try using .loc[row_indexer,col_indexer] = value instead\n",
      "\n",
      "See the caveats in the documentation: https://pandas.pydata.org/pandas-docs/stable/user_guide/indexing.html#returning-a-view-versus-a-copy\n",
      "  current_data['Date'] = current_data.index\n"
     ]
    },
    {
     "name": "stdout",
     "output_type": "stream",
     "text": [
      "the main data is of shape (540, 2)\n",
      "shape of current_data2 is (540, 59)\n",
      "shape of df4 is (480, 3541)\n",
      "Completed 113 out of 461 steps\n"
     ]
    },
    {
     "name": "stderr",
     "output_type": "stream",
     "text": [
      "C:\\Users\\abhij\\AppData\\Local\\Temp\\ipykernel_18688\\568520512.py:16: SettingWithCopyWarning: \n",
      "A value is trying to be set on a copy of a slice from a DataFrame.\n",
      "Try using .loc[row_indexer,col_indexer] = value instead\n",
      "\n",
      "See the caveats in the documentation: https://pandas.pydata.org/pandas-docs/stable/user_guide/indexing.html#returning-a-view-versus-a-copy\n",
      "  current_data['Date'] = current_data.index\n"
     ]
    },
    {
     "name": "stdout",
     "output_type": "stream",
     "text": [
      "the main data is of shape (540, 2)\n",
      "shape of current_data2 is (540, 59)\n",
      "shape of df4 is (480, 3541)\n",
      "Completed 114 out of 461 steps\n"
     ]
    },
    {
     "name": "stderr",
     "output_type": "stream",
     "text": [
      "C:\\Users\\abhij\\AppData\\Local\\Temp\\ipykernel_18688\\568520512.py:16: SettingWithCopyWarning: \n",
      "A value is trying to be set on a copy of a slice from a DataFrame.\n",
      "Try using .loc[row_indexer,col_indexer] = value instead\n",
      "\n",
      "See the caveats in the documentation: https://pandas.pydata.org/pandas-docs/stable/user_guide/indexing.html#returning-a-view-versus-a-copy\n",
      "  current_data['Date'] = current_data.index\n"
     ]
    },
    {
     "name": "stdout",
     "output_type": "stream",
     "text": [
      "the main data is of shape (540, 2)\n",
      "shape of current_data2 is (540, 59)\n",
      "shape of df4 is (480, 3541)\n",
      "Completed 115 out of 461 steps\n"
     ]
    },
    {
     "name": "stderr",
     "output_type": "stream",
     "text": [
      "C:\\Users\\abhij\\AppData\\Local\\Temp\\ipykernel_18688\\568520512.py:16: SettingWithCopyWarning: \n",
      "A value is trying to be set on a copy of a slice from a DataFrame.\n",
      "Try using .loc[row_indexer,col_indexer] = value instead\n",
      "\n",
      "See the caveats in the documentation: https://pandas.pydata.org/pandas-docs/stable/user_guide/indexing.html#returning-a-view-versus-a-copy\n",
      "  current_data['Date'] = current_data.index\n"
     ]
    },
    {
     "name": "stdout",
     "output_type": "stream",
     "text": [
      "the main data is of shape (540, 2)\n",
      "shape of current_data2 is (540, 59)\n",
      "shape of df4 is (480, 3541)\n",
      "Completed 116 out of 461 steps\n",
      "the main data is of shape (540, 2)\n",
      "shape of current_data2 is (540, 59)\n"
     ]
    },
    {
     "name": "stderr",
     "output_type": "stream",
     "text": [
      "C:\\Users\\abhij\\AppData\\Local\\Temp\\ipykernel_18688\\568520512.py:16: SettingWithCopyWarning: \n",
      "A value is trying to be set on a copy of a slice from a DataFrame.\n",
      "Try using .loc[row_indexer,col_indexer] = value instead\n",
      "\n",
      "See the caveats in the documentation: https://pandas.pydata.org/pandas-docs/stable/user_guide/indexing.html#returning-a-view-versus-a-copy\n",
      "  current_data['Date'] = current_data.index\n"
     ]
    },
    {
     "name": "stdout",
     "output_type": "stream",
     "text": [
      "shape of df4 is (480, 3541)\n",
      "Completed 117 out of 461 steps\n"
     ]
    },
    {
     "name": "stderr",
     "output_type": "stream",
     "text": [
      "C:\\Users\\abhij\\AppData\\Local\\Temp\\ipykernel_18688\\568520512.py:16: SettingWithCopyWarning: \n",
      "A value is trying to be set on a copy of a slice from a DataFrame.\n",
      "Try using .loc[row_indexer,col_indexer] = value instead\n",
      "\n",
      "See the caveats in the documentation: https://pandas.pydata.org/pandas-docs/stable/user_guide/indexing.html#returning-a-view-versus-a-copy\n",
      "  current_data['Date'] = current_data.index\n"
     ]
    },
    {
     "name": "stdout",
     "output_type": "stream",
     "text": [
      "the main data is of shape (540, 2)\n",
      "shape of current_data2 is (540, 59)\n",
      "shape of df4 is (480, 3541)\n",
      "Completed 118 out of 461 steps\n",
      "the main data is of shape (540, 2)\n"
     ]
    },
    {
     "name": "stderr",
     "output_type": "stream",
     "text": [
      "C:\\Users\\abhij\\AppData\\Local\\Temp\\ipykernel_18688\\568520512.py:16: SettingWithCopyWarning: \n",
      "A value is trying to be set on a copy of a slice from a DataFrame.\n",
      "Try using .loc[row_indexer,col_indexer] = value instead\n",
      "\n",
      "See the caveats in the documentation: https://pandas.pydata.org/pandas-docs/stable/user_guide/indexing.html#returning-a-view-versus-a-copy\n",
      "  current_data['Date'] = current_data.index\n"
     ]
    },
    {
     "name": "stdout",
     "output_type": "stream",
     "text": [
      "shape of current_data2 is (540, 59)\n",
      "shape of df4 is (480, 3541)\n",
      "Completed 119 out of 461 steps\n",
      "the main data is of shape (540, 2)\n",
      "shape of current_data2 is (540, 59)\n"
     ]
    },
    {
     "name": "stderr",
     "output_type": "stream",
     "text": [
      "C:\\Users\\abhij\\AppData\\Local\\Temp\\ipykernel_18688\\568520512.py:16: SettingWithCopyWarning: \n",
      "A value is trying to be set on a copy of a slice from a DataFrame.\n",
      "Try using .loc[row_indexer,col_indexer] = value instead\n",
      "\n",
      "See the caveats in the documentation: https://pandas.pydata.org/pandas-docs/stable/user_guide/indexing.html#returning-a-view-versus-a-copy\n",
      "  current_data['Date'] = current_data.index\n"
     ]
    },
    {
     "name": "stdout",
     "output_type": "stream",
     "text": [
      "shape of df4 is (480, 3541)\n",
      "Completed 120 out of 461 steps\n",
      "the main data is of shape (540, 2)\n",
      "shape of current_data2 is (540, 59)\n"
     ]
    },
    {
     "name": "stderr",
     "output_type": "stream",
     "text": [
      "C:\\Users\\abhij\\AppData\\Local\\Temp\\ipykernel_18688\\568520512.py:16: SettingWithCopyWarning: \n",
      "A value is trying to be set on a copy of a slice from a DataFrame.\n",
      "Try using .loc[row_indexer,col_indexer] = value instead\n",
      "\n",
      "See the caveats in the documentation: https://pandas.pydata.org/pandas-docs/stable/user_guide/indexing.html#returning-a-view-versus-a-copy\n",
      "  current_data['Date'] = current_data.index\n"
     ]
    },
    {
     "name": "stdout",
     "output_type": "stream",
     "text": [
      "shape of df4 is (480, 3541)\n",
      "Completed 121 out of 461 steps\n"
     ]
    },
    {
     "name": "stderr",
     "output_type": "stream",
     "text": [
      "C:\\Users\\abhij\\AppData\\Local\\Temp\\ipykernel_18688\\568520512.py:16: SettingWithCopyWarning: \n",
      "A value is trying to be set on a copy of a slice from a DataFrame.\n",
      "Try using .loc[row_indexer,col_indexer] = value instead\n",
      "\n",
      "See the caveats in the documentation: https://pandas.pydata.org/pandas-docs/stable/user_guide/indexing.html#returning-a-view-versus-a-copy\n",
      "  current_data['Date'] = current_data.index\n"
     ]
    },
    {
     "name": "stdout",
     "output_type": "stream",
     "text": [
      "the main data is of shape (540, 2)\n",
      "shape of current_data2 is (540, 59)\n",
      "shape of df4 is (480, 3541)\n",
      "Completed 122 out of 461 steps\n",
      "the main data is of shape (540, 2)\n",
      "shape of current_data2 is (540, 59)\n"
     ]
    },
    {
     "name": "stderr",
     "output_type": "stream",
     "text": [
      "C:\\Users\\abhij\\AppData\\Local\\Temp\\ipykernel_18688\\568520512.py:16: SettingWithCopyWarning: \n",
      "A value is trying to be set on a copy of a slice from a DataFrame.\n",
      "Try using .loc[row_indexer,col_indexer] = value instead\n",
      "\n",
      "See the caveats in the documentation: https://pandas.pydata.org/pandas-docs/stable/user_guide/indexing.html#returning-a-view-versus-a-copy\n",
      "  current_data['Date'] = current_data.index\n"
     ]
    },
    {
     "name": "stdout",
     "output_type": "stream",
     "text": [
      "shape of df4 is (480, 3541)\n",
      "Completed 123 out of 461 steps\n",
      "the main data is of shape (540, 2)\n",
      "shape of current_data2 is (540, 59)\n"
     ]
    },
    {
     "name": "stderr",
     "output_type": "stream",
     "text": [
      "C:\\Users\\abhij\\AppData\\Local\\Temp\\ipykernel_18688\\568520512.py:16: SettingWithCopyWarning: \n",
      "A value is trying to be set on a copy of a slice from a DataFrame.\n",
      "Try using .loc[row_indexer,col_indexer] = value instead\n",
      "\n",
      "See the caveats in the documentation: https://pandas.pydata.org/pandas-docs/stable/user_guide/indexing.html#returning-a-view-versus-a-copy\n",
      "  current_data['Date'] = current_data.index\n"
     ]
    },
    {
     "name": "stdout",
     "output_type": "stream",
     "text": [
      "shape of df4 is (480, 3541)\n",
      "Completed 124 out of 461 steps\n",
      "the main data is of shape (540, 2)\n"
     ]
    },
    {
     "name": "stderr",
     "output_type": "stream",
     "text": [
      "C:\\Users\\abhij\\AppData\\Local\\Temp\\ipykernel_18688\\568520512.py:16: SettingWithCopyWarning: \n",
      "A value is trying to be set on a copy of a slice from a DataFrame.\n",
      "Try using .loc[row_indexer,col_indexer] = value instead\n",
      "\n",
      "See the caveats in the documentation: https://pandas.pydata.org/pandas-docs/stable/user_guide/indexing.html#returning-a-view-versus-a-copy\n",
      "  current_data['Date'] = current_data.index\n"
     ]
    },
    {
     "name": "stdout",
     "output_type": "stream",
     "text": [
      "shape of current_data2 is (540, 59)\n",
      "shape of df4 is (480, 3541)\n",
      "Completed 125 out of 461 steps\n",
      "the main data is of shape (540, 2)\n",
      "shape of current_data2 is (540, 59)\n"
     ]
    },
    {
     "name": "stderr",
     "output_type": "stream",
     "text": [
      "C:\\Users\\abhij\\AppData\\Local\\Temp\\ipykernel_18688\\568520512.py:16: SettingWithCopyWarning: \n",
      "A value is trying to be set on a copy of a slice from a DataFrame.\n",
      "Try using .loc[row_indexer,col_indexer] = value instead\n",
      "\n",
      "See the caveats in the documentation: https://pandas.pydata.org/pandas-docs/stable/user_guide/indexing.html#returning-a-view-versus-a-copy\n",
      "  current_data['Date'] = current_data.index\n"
     ]
    },
    {
     "name": "stdout",
     "output_type": "stream",
     "text": [
      "shape of df4 is (480, 3541)\n",
      "Completed 126 out of 461 steps\n",
      "the main data is of shape (540, 2)\n",
      "shape of current_data2 is (540, 59)\n"
     ]
    },
    {
     "name": "stderr",
     "output_type": "stream",
     "text": [
      "C:\\Users\\abhij\\AppData\\Local\\Temp\\ipykernel_18688\\568520512.py:16: SettingWithCopyWarning: \n",
      "A value is trying to be set on a copy of a slice from a DataFrame.\n",
      "Try using .loc[row_indexer,col_indexer] = value instead\n",
      "\n",
      "See the caveats in the documentation: https://pandas.pydata.org/pandas-docs/stable/user_guide/indexing.html#returning-a-view-versus-a-copy\n",
      "  current_data['Date'] = current_data.index\n"
     ]
    },
    {
     "name": "stdout",
     "output_type": "stream",
     "text": [
      "shape of df4 is (480, 3541)\n",
      "Completed 127 out of 461 steps\n",
      "the main data is of shape (517, 2)\n",
      "shape of current_data2 is (517, 59)\n"
     ]
    },
    {
     "name": "stderr",
     "output_type": "stream",
     "text": [
      "C:\\Users\\abhij\\AppData\\Local\\Temp\\ipykernel_18688\\568520512.py:16: SettingWithCopyWarning: \n",
      "A value is trying to be set on a copy of a slice from a DataFrame.\n",
      "Try using .loc[row_indexer,col_indexer] = value instead\n",
      "\n",
      "See the caveats in the documentation: https://pandas.pydata.org/pandas-docs/stable/user_guide/indexing.html#returning-a-view-versus-a-copy\n",
      "  current_data['Date'] = current_data.index\n"
     ]
    },
    {
     "name": "stdout",
     "output_type": "stream",
     "text": [
      "shape of df4 is (457, 3541)\n",
      "Completed 128 out of 461 steps\n",
      "the main data is of shape (540, 2)\n",
      "shape of current_data2 is (540, 59)\n"
     ]
    },
    {
     "name": "stderr",
     "output_type": "stream",
     "text": [
      "C:\\Users\\abhij\\AppData\\Local\\Temp\\ipykernel_18688\\568520512.py:16: SettingWithCopyWarning: \n",
      "A value is trying to be set on a copy of a slice from a DataFrame.\n",
      "Try using .loc[row_indexer,col_indexer] = value instead\n",
      "\n",
      "See the caveats in the documentation: https://pandas.pydata.org/pandas-docs/stable/user_guide/indexing.html#returning-a-view-versus-a-copy\n",
      "  current_data['Date'] = current_data.index\n"
     ]
    },
    {
     "name": "stdout",
     "output_type": "stream",
     "text": [
      "shape of df4 is (480, 3541)\n",
      "Completed 129 out of 461 steps\n",
      "the main data is of shape (540, 2)\n",
      "shape of current_data2 is (540, 59)\n"
     ]
    },
    {
     "name": "stderr",
     "output_type": "stream",
     "text": [
      "C:\\Users\\abhij\\AppData\\Local\\Temp\\ipykernel_18688\\568520512.py:16: SettingWithCopyWarning: \n",
      "A value is trying to be set on a copy of a slice from a DataFrame.\n",
      "Try using .loc[row_indexer,col_indexer] = value instead\n",
      "\n",
      "See the caveats in the documentation: https://pandas.pydata.org/pandas-docs/stable/user_guide/indexing.html#returning-a-view-versus-a-copy\n",
      "  current_data['Date'] = current_data.index\n"
     ]
    },
    {
     "name": "stdout",
     "output_type": "stream",
     "text": [
      "shape of df4 is (480, 3541)\n",
      "Completed 130 out of 461 steps\n",
      "the main data is of shape (540, 2)\n",
      "shape of current_data2 is (540, 59)\n"
     ]
    },
    {
     "name": "stderr",
     "output_type": "stream",
     "text": [
      "C:\\Users\\abhij\\AppData\\Local\\Temp\\ipykernel_18688\\568520512.py:16: SettingWithCopyWarning: \n",
      "A value is trying to be set on a copy of a slice from a DataFrame.\n",
      "Try using .loc[row_indexer,col_indexer] = value instead\n",
      "\n",
      "See the caveats in the documentation: https://pandas.pydata.org/pandas-docs/stable/user_guide/indexing.html#returning-a-view-versus-a-copy\n",
      "  current_data['Date'] = current_data.index\n"
     ]
    },
    {
     "name": "stdout",
     "output_type": "stream",
     "text": [
      "shape of df4 is (480, 3541)\n",
      "Completed 131 out of 461 steps\n",
      "the main data is of shape (540, 2)\n",
      "shape of current_data2 is (540, 59)\n"
     ]
    },
    {
     "name": "stderr",
     "output_type": "stream",
     "text": [
      "C:\\Users\\abhij\\AppData\\Local\\Temp\\ipykernel_18688\\568520512.py:16: SettingWithCopyWarning: \n",
      "A value is trying to be set on a copy of a slice from a DataFrame.\n",
      "Try using .loc[row_indexer,col_indexer] = value instead\n",
      "\n",
      "See the caveats in the documentation: https://pandas.pydata.org/pandas-docs/stable/user_guide/indexing.html#returning-a-view-versus-a-copy\n",
      "  current_data['Date'] = current_data.index\n"
     ]
    },
    {
     "name": "stdout",
     "output_type": "stream",
     "text": [
      "shape of df4 is (480, 3541)\n",
      "Completed 132 out of 461 steps\n",
      "the main data is of shape (540, 2)\n",
      "shape of current_data2 is (540, 59)\n"
     ]
    },
    {
     "name": "stderr",
     "output_type": "stream",
     "text": [
      "C:\\Users\\abhij\\AppData\\Local\\Temp\\ipykernel_18688\\568520512.py:16: SettingWithCopyWarning: \n",
      "A value is trying to be set on a copy of a slice from a DataFrame.\n",
      "Try using .loc[row_indexer,col_indexer] = value instead\n",
      "\n",
      "See the caveats in the documentation: https://pandas.pydata.org/pandas-docs/stable/user_guide/indexing.html#returning-a-view-versus-a-copy\n",
      "  current_data['Date'] = current_data.index\n"
     ]
    },
    {
     "name": "stdout",
     "output_type": "stream",
     "text": [
      "shape of df4 is (480, 3541)\n",
      "Completed 133 out of 461 steps\n",
      "the main data is of shape (540, 2)\n",
      "shape of current_data2 is (540, 59)\n"
     ]
    },
    {
     "name": "stderr",
     "output_type": "stream",
     "text": [
      "C:\\Users\\abhij\\AppData\\Local\\Temp\\ipykernel_18688\\568520512.py:16: SettingWithCopyWarning: \n",
      "A value is trying to be set on a copy of a slice from a DataFrame.\n",
      "Try using .loc[row_indexer,col_indexer] = value instead\n",
      "\n",
      "See the caveats in the documentation: https://pandas.pydata.org/pandas-docs/stable/user_guide/indexing.html#returning-a-view-versus-a-copy\n",
      "  current_data['Date'] = current_data.index\n"
     ]
    },
    {
     "name": "stdout",
     "output_type": "stream",
     "text": [
      "shape of df4 is (480, 3541)\n",
      "Completed 134 out of 461 steps\n",
      "the main data is of shape (540, 2)\n",
      "shape of current_data2 is (540, 59)\n"
     ]
    },
    {
     "name": "stderr",
     "output_type": "stream",
     "text": [
      "C:\\Users\\abhij\\AppData\\Local\\Temp\\ipykernel_18688\\568520512.py:16: SettingWithCopyWarning: \n",
      "A value is trying to be set on a copy of a slice from a DataFrame.\n",
      "Try using .loc[row_indexer,col_indexer] = value instead\n",
      "\n",
      "See the caveats in the documentation: https://pandas.pydata.org/pandas-docs/stable/user_guide/indexing.html#returning-a-view-versus-a-copy\n",
      "  current_data['Date'] = current_data.index\n"
     ]
    },
    {
     "name": "stdout",
     "output_type": "stream",
     "text": [
      "shape of df4 is (480, 3541)\n",
      "Completed 135 out of 461 steps\n",
      "the main data is of shape (540, 2)\n",
      "shape of current_data2 is (540, 59)\n"
     ]
    },
    {
     "name": "stderr",
     "output_type": "stream",
     "text": [
      "C:\\Users\\abhij\\AppData\\Local\\Temp\\ipykernel_18688\\568520512.py:16: SettingWithCopyWarning: \n",
      "A value is trying to be set on a copy of a slice from a DataFrame.\n",
      "Try using .loc[row_indexer,col_indexer] = value instead\n",
      "\n",
      "See the caveats in the documentation: https://pandas.pydata.org/pandas-docs/stable/user_guide/indexing.html#returning-a-view-versus-a-copy\n",
      "  current_data['Date'] = current_data.index\n"
     ]
    },
    {
     "name": "stdout",
     "output_type": "stream",
     "text": [
      "shape of df4 is (480, 3541)\n",
      "Completed 136 out of 461 steps\n",
      "the main data is of shape (540, 2)\n",
      "shape of current_data2 is (540, 59)\n"
     ]
    },
    {
     "name": "stderr",
     "output_type": "stream",
     "text": [
      "C:\\Users\\abhij\\AppData\\Local\\Temp\\ipykernel_18688\\568520512.py:16: SettingWithCopyWarning: \n",
      "A value is trying to be set on a copy of a slice from a DataFrame.\n",
      "Try using .loc[row_indexer,col_indexer] = value instead\n",
      "\n",
      "See the caveats in the documentation: https://pandas.pydata.org/pandas-docs/stable/user_guide/indexing.html#returning-a-view-versus-a-copy\n",
      "  current_data['Date'] = current_data.index\n"
     ]
    },
    {
     "name": "stdout",
     "output_type": "stream",
     "text": [
      "shape of df4 is (480, 3541)\n",
      "Completed 137 out of 461 steps\n",
      "the main data is of shape (540, 2)\n",
      "shape of current_data2 is (540, 59)\n"
     ]
    },
    {
     "name": "stderr",
     "output_type": "stream",
     "text": [
      "C:\\Users\\abhij\\AppData\\Local\\Temp\\ipykernel_18688\\568520512.py:16: SettingWithCopyWarning: \n",
      "A value is trying to be set on a copy of a slice from a DataFrame.\n",
      "Try using .loc[row_indexer,col_indexer] = value instead\n",
      "\n",
      "See the caveats in the documentation: https://pandas.pydata.org/pandas-docs/stable/user_guide/indexing.html#returning-a-view-versus-a-copy\n",
      "  current_data['Date'] = current_data.index\n"
     ]
    },
    {
     "name": "stdout",
     "output_type": "stream",
     "text": [
      "shape of df4 is (480, 3541)\n",
      "Completed 138 out of 461 steps\n",
      "the main data is of shape (540, 2)\n",
      "shape of current_data2 is (540, 59)\n"
     ]
    },
    {
     "name": "stderr",
     "output_type": "stream",
     "text": [
      "C:\\Users\\abhij\\AppData\\Local\\Temp\\ipykernel_18688\\568520512.py:16: SettingWithCopyWarning: \n",
      "A value is trying to be set on a copy of a slice from a DataFrame.\n",
      "Try using .loc[row_indexer,col_indexer] = value instead\n",
      "\n",
      "See the caveats in the documentation: https://pandas.pydata.org/pandas-docs/stable/user_guide/indexing.html#returning-a-view-versus-a-copy\n",
      "  current_data['Date'] = current_data.index\n"
     ]
    },
    {
     "name": "stdout",
     "output_type": "stream",
     "text": [
      "shape of df4 is (480, 3541)\n",
      "Completed 139 out of 461 steps\n",
      "the main data is of shape (540, 2)\n",
      "shape of current_data2 is (540, 59)\n"
     ]
    },
    {
     "name": "stderr",
     "output_type": "stream",
     "text": [
      "C:\\Users\\abhij\\AppData\\Local\\Temp\\ipykernel_18688\\568520512.py:16: SettingWithCopyWarning: \n",
      "A value is trying to be set on a copy of a slice from a DataFrame.\n",
      "Try using .loc[row_indexer,col_indexer] = value instead\n",
      "\n",
      "See the caveats in the documentation: https://pandas.pydata.org/pandas-docs/stable/user_guide/indexing.html#returning-a-view-versus-a-copy\n",
      "  current_data['Date'] = current_data.index\n"
     ]
    },
    {
     "name": "stdout",
     "output_type": "stream",
     "text": [
      "shape of df4 is (480, 3541)\n",
      "Completed 140 out of 461 steps\n",
      "the main data is of shape (540, 2)\n",
      "shape of current_data2 is (540, 59)\n"
     ]
    },
    {
     "name": "stderr",
     "output_type": "stream",
     "text": [
      "C:\\Users\\abhij\\AppData\\Local\\Temp\\ipykernel_18688\\568520512.py:16: SettingWithCopyWarning: \n",
      "A value is trying to be set on a copy of a slice from a DataFrame.\n",
      "Try using .loc[row_indexer,col_indexer] = value instead\n",
      "\n",
      "See the caveats in the documentation: https://pandas.pydata.org/pandas-docs/stable/user_guide/indexing.html#returning-a-view-versus-a-copy\n",
      "  current_data['Date'] = current_data.index\n"
     ]
    },
    {
     "name": "stdout",
     "output_type": "stream",
     "text": [
      "shape of df4 is (480, 3541)\n",
      "Completed 141 out of 461 steps\n",
      "the main data is of shape (540, 2)\n",
      "shape of current_data2 is (540, 59)\n"
     ]
    },
    {
     "name": "stderr",
     "output_type": "stream",
     "text": [
      "C:\\Users\\abhij\\AppData\\Local\\Temp\\ipykernel_18688\\568520512.py:16: SettingWithCopyWarning: \n",
      "A value is trying to be set on a copy of a slice from a DataFrame.\n",
      "Try using .loc[row_indexer,col_indexer] = value instead\n",
      "\n",
      "See the caveats in the documentation: https://pandas.pydata.org/pandas-docs/stable/user_guide/indexing.html#returning-a-view-versus-a-copy\n",
      "  current_data['Date'] = current_data.index\n"
     ]
    },
    {
     "name": "stdout",
     "output_type": "stream",
     "text": [
      "shape of df4 is (480, 3541)\n",
      "Completed 142 out of 461 steps\n",
      "the main data is of shape (540, 2)\n",
      "shape of current_data2 is (540, 59)\n"
     ]
    },
    {
     "name": "stderr",
     "output_type": "stream",
     "text": [
      "C:\\Users\\abhij\\AppData\\Local\\Temp\\ipykernel_18688\\568520512.py:16: SettingWithCopyWarning: \n",
      "A value is trying to be set on a copy of a slice from a DataFrame.\n",
      "Try using .loc[row_indexer,col_indexer] = value instead\n",
      "\n",
      "See the caveats in the documentation: https://pandas.pydata.org/pandas-docs/stable/user_guide/indexing.html#returning-a-view-versus-a-copy\n",
      "  current_data['Date'] = current_data.index\n"
     ]
    },
    {
     "name": "stdout",
     "output_type": "stream",
     "text": [
      "shape of df4 is (480, 3541)\n",
      "Completed 143 out of 461 steps\n",
      "the main data is of shape (540, 2)\n",
      "shape of current_data2 is (540, 59)\n"
     ]
    },
    {
     "name": "stderr",
     "output_type": "stream",
     "text": [
      "C:\\Users\\abhij\\AppData\\Local\\Temp\\ipykernel_18688\\568520512.py:16: SettingWithCopyWarning: \n",
      "A value is trying to be set on a copy of a slice from a DataFrame.\n",
      "Try using .loc[row_indexer,col_indexer] = value instead\n",
      "\n",
      "See the caveats in the documentation: https://pandas.pydata.org/pandas-docs/stable/user_guide/indexing.html#returning-a-view-versus-a-copy\n",
      "  current_data['Date'] = current_data.index\n"
     ]
    },
    {
     "name": "stdout",
     "output_type": "stream",
     "text": [
      "shape of df4 is (480, 3541)\n",
      "Completed 144 out of 461 steps\n",
      "the main data is of shape (540, 2)\n",
      "shape of current_data2 is (540, 59)\n"
     ]
    },
    {
     "name": "stderr",
     "output_type": "stream",
     "text": [
      "C:\\Users\\abhij\\AppData\\Local\\Temp\\ipykernel_18688\\568520512.py:16: SettingWithCopyWarning: \n",
      "A value is trying to be set on a copy of a slice from a DataFrame.\n",
      "Try using .loc[row_indexer,col_indexer] = value instead\n",
      "\n",
      "See the caveats in the documentation: https://pandas.pydata.org/pandas-docs/stable/user_guide/indexing.html#returning-a-view-versus-a-copy\n",
      "  current_data['Date'] = current_data.index\n"
     ]
    },
    {
     "name": "stdout",
     "output_type": "stream",
     "text": [
      "shape of df4 is (480, 3541)\n",
      "Completed 145 out of 461 steps\n",
      "the main data is of shape (540, 2)\n",
      "shape of current_data2 is (540, 59)\n"
     ]
    },
    {
     "name": "stderr",
     "output_type": "stream",
     "text": [
      "C:\\Users\\abhij\\AppData\\Local\\Temp\\ipykernel_18688\\568520512.py:16: SettingWithCopyWarning: \n",
      "A value is trying to be set on a copy of a slice from a DataFrame.\n",
      "Try using .loc[row_indexer,col_indexer] = value instead\n",
      "\n",
      "See the caveats in the documentation: https://pandas.pydata.org/pandas-docs/stable/user_guide/indexing.html#returning-a-view-versus-a-copy\n",
      "  current_data['Date'] = current_data.index\n"
     ]
    },
    {
     "name": "stdout",
     "output_type": "stream",
     "text": [
      "shape of df4 is (480, 3541)\n",
      "Completed 146 out of 461 steps\n",
      "the main data is of shape (540, 2)\n",
      "shape of current_data2 is (540, 59)\n"
     ]
    },
    {
     "name": "stderr",
     "output_type": "stream",
     "text": [
      "C:\\Users\\abhij\\AppData\\Local\\Temp\\ipykernel_18688\\568520512.py:16: SettingWithCopyWarning: \n",
      "A value is trying to be set on a copy of a slice from a DataFrame.\n",
      "Try using .loc[row_indexer,col_indexer] = value instead\n",
      "\n",
      "See the caveats in the documentation: https://pandas.pydata.org/pandas-docs/stable/user_guide/indexing.html#returning-a-view-versus-a-copy\n",
      "  current_data['Date'] = current_data.index\n"
     ]
    },
    {
     "name": "stdout",
     "output_type": "stream",
     "text": [
      "shape of df4 is (480, 3541)\n",
      "Completed 147 out of 461 steps\n",
      "the main data is of shape (540, 2)\n",
      "shape of current_data2 is (540, 59)\n"
     ]
    },
    {
     "name": "stderr",
     "output_type": "stream",
     "text": [
      "C:\\Users\\abhij\\AppData\\Local\\Temp\\ipykernel_18688\\568520512.py:16: SettingWithCopyWarning: \n",
      "A value is trying to be set on a copy of a slice from a DataFrame.\n",
      "Try using .loc[row_indexer,col_indexer] = value instead\n",
      "\n",
      "See the caveats in the documentation: https://pandas.pydata.org/pandas-docs/stable/user_guide/indexing.html#returning-a-view-versus-a-copy\n",
      "  current_data['Date'] = current_data.index\n"
     ]
    },
    {
     "name": "stdout",
     "output_type": "stream",
     "text": [
      "shape of df4 is (480, 3541)\n",
      "Completed 148 out of 461 steps\n",
      "the main data is of shape (540, 2)\n",
      "shape of current_data2 is (540, 59)\n"
     ]
    },
    {
     "name": "stderr",
     "output_type": "stream",
     "text": [
      "C:\\Users\\abhij\\AppData\\Local\\Temp\\ipykernel_18688\\568520512.py:16: SettingWithCopyWarning: \n",
      "A value is trying to be set on a copy of a slice from a DataFrame.\n",
      "Try using .loc[row_indexer,col_indexer] = value instead\n",
      "\n",
      "See the caveats in the documentation: https://pandas.pydata.org/pandas-docs/stable/user_guide/indexing.html#returning-a-view-versus-a-copy\n",
      "  current_data['Date'] = current_data.index\n"
     ]
    },
    {
     "name": "stdout",
     "output_type": "stream",
     "text": [
      "shape of df4 is (480, 3541)\n",
      "Completed 149 out of 461 steps\n",
      "the main data is of shape (540, 2)\n",
      "shape of current_data2 is (540, 59)\n"
     ]
    },
    {
     "name": "stderr",
     "output_type": "stream",
     "text": [
      "C:\\Users\\abhij\\AppData\\Local\\Temp\\ipykernel_18688\\568520512.py:16: SettingWithCopyWarning: \n",
      "A value is trying to be set on a copy of a slice from a DataFrame.\n",
      "Try using .loc[row_indexer,col_indexer] = value instead\n",
      "\n",
      "See the caveats in the documentation: https://pandas.pydata.org/pandas-docs/stable/user_guide/indexing.html#returning-a-view-versus-a-copy\n",
      "  current_data['Date'] = current_data.index\n"
     ]
    },
    {
     "name": "stdout",
     "output_type": "stream",
     "text": [
      "shape of df4 is (480, 3541)\n",
      "Completed 150 out of 461 steps\n",
      "the main data is of shape (540, 2)\n",
      "shape of current_data2 is (540, 59)\n"
     ]
    },
    {
     "name": "stderr",
     "output_type": "stream",
     "text": [
      "C:\\Users\\abhij\\AppData\\Local\\Temp\\ipykernel_18688\\568520512.py:16: SettingWithCopyWarning: \n",
      "A value is trying to be set on a copy of a slice from a DataFrame.\n",
      "Try using .loc[row_indexer,col_indexer] = value instead\n",
      "\n",
      "See the caveats in the documentation: https://pandas.pydata.org/pandas-docs/stable/user_guide/indexing.html#returning-a-view-versus-a-copy\n",
      "  current_data['Date'] = current_data.index\n"
     ]
    },
    {
     "name": "stdout",
     "output_type": "stream",
     "text": [
      "shape of df4 is (480, 3541)\n",
      "Completed 151 out of 461 steps\n",
      "the main data is of shape (540, 2)\n",
      "shape of current_data2 is (540, 59)\n"
     ]
    },
    {
     "name": "stderr",
     "output_type": "stream",
     "text": [
      "C:\\Users\\abhij\\AppData\\Local\\Temp\\ipykernel_18688\\568520512.py:16: SettingWithCopyWarning: \n",
      "A value is trying to be set on a copy of a slice from a DataFrame.\n",
      "Try using .loc[row_indexer,col_indexer] = value instead\n",
      "\n",
      "See the caveats in the documentation: https://pandas.pydata.org/pandas-docs/stable/user_guide/indexing.html#returning-a-view-versus-a-copy\n",
      "  current_data['Date'] = current_data.index\n"
     ]
    },
    {
     "name": "stdout",
     "output_type": "stream",
     "text": [
      "shape of df4 is (480, 3541)\n",
      "Completed 152 out of 461 steps\n",
      "the main data is of shape (540, 2)\n",
      "shape of current_data2 is (540, 59)\n"
     ]
    },
    {
     "name": "stderr",
     "output_type": "stream",
     "text": [
      "C:\\Users\\abhij\\AppData\\Local\\Temp\\ipykernel_18688\\568520512.py:16: SettingWithCopyWarning: \n",
      "A value is trying to be set on a copy of a slice from a DataFrame.\n",
      "Try using .loc[row_indexer,col_indexer] = value instead\n",
      "\n",
      "See the caveats in the documentation: https://pandas.pydata.org/pandas-docs/stable/user_guide/indexing.html#returning-a-view-versus-a-copy\n",
      "  current_data['Date'] = current_data.index\n"
     ]
    },
    {
     "name": "stdout",
     "output_type": "stream",
     "text": [
      "shape of df4 is (480, 3541)\n",
      "Completed 153 out of 461 steps\n",
      "the main data is of shape (540, 2)\n",
      "shape of current_data2 is (540, 59)\n"
     ]
    },
    {
     "name": "stderr",
     "output_type": "stream",
     "text": [
      "C:\\Users\\abhij\\AppData\\Local\\Temp\\ipykernel_18688\\568520512.py:16: SettingWithCopyWarning: \n",
      "A value is trying to be set on a copy of a slice from a DataFrame.\n",
      "Try using .loc[row_indexer,col_indexer] = value instead\n",
      "\n",
      "See the caveats in the documentation: https://pandas.pydata.org/pandas-docs/stable/user_guide/indexing.html#returning-a-view-versus-a-copy\n",
      "  current_data['Date'] = current_data.index\n"
     ]
    },
    {
     "name": "stdout",
     "output_type": "stream",
     "text": [
      "shape of df4 is (480, 3541)\n",
      "Completed 154 out of 461 steps\n",
      "the main data is of shape (540, 2)\n",
      "shape of current_data2 is (540, 59)\n"
     ]
    },
    {
     "name": "stderr",
     "output_type": "stream",
     "text": [
      "C:\\Users\\abhij\\AppData\\Local\\Temp\\ipykernel_18688\\568520512.py:16: SettingWithCopyWarning: \n",
      "A value is trying to be set on a copy of a slice from a DataFrame.\n",
      "Try using .loc[row_indexer,col_indexer] = value instead\n",
      "\n",
      "See the caveats in the documentation: https://pandas.pydata.org/pandas-docs/stable/user_guide/indexing.html#returning-a-view-versus-a-copy\n",
      "  current_data['Date'] = current_data.index\n"
     ]
    },
    {
     "name": "stdout",
     "output_type": "stream",
     "text": [
      "shape of df4 is (480, 3541)\n",
      "Completed 155 out of 461 steps\n",
      "the main data is of shape (540, 2)\n",
      "shape of current_data2 is (540, 59)\n"
     ]
    },
    {
     "name": "stderr",
     "output_type": "stream",
     "text": [
      "C:\\Users\\abhij\\AppData\\Local\\Temp\\ipykernel_18688\\568520512.py:16: SettingWithCopyWarning: \n",
      "A value is trying to be set on a copy of a slice from a DataFrame.\n",
      "Try using .loc[row_indexer,col_indexer] = value instead\n",
      "\n",
      "See the caveats in the documentation: https://pandas.pydata.org/pandas-docs/stable/user_guide/indexing.html#returning-a-view-versus-a-copy\n",
      "  current_data['Date'] = current_data.index\n"
     ]
    },
    {
     "name": "stdout",
     "output_type": "stream",
     "text": [
      "shape of df4 is (480, 3541)\n",
      "Completed 156 out of 461 steps\n",
      "the main data is of shape (540, 2)\n",
      "shape of current_data2 is (540, 59)\n"
     ]
    },
    {
     "name": "stderr",
     "output_type": "stream",
     "text": [
      "C:\\Users\\abhij\\AppData\\Local\\Temp\\ipykernel_18688\\568520512.py:16: SettingWithCopyWarning: \n",
      "A value is trying to be set on a copy of a slice from a DataFrame.\n",
      "Try using .loc[row_indexer,col_indexer] = value instead\n",
      "\n",
      "See the caveats in the documentation: https://pandas.pydata.org/pandas-docs/stable/user_guide/indexing.html#returning-a-view-versus-a-copy\n",
      "  current_data['Date'] = current_data.index\n"
     ]
    },
    {
     "name": "stdout",
     "output_type": "stream",
     "text": [
      "shape of df4 is (480, 3541)\n",
      "Completed 157 out of 461 steps\n",
      "the main data is of shape (540, 2)\n",
      "shape of current_data2 is (540, 59)\n"
     ]
    },
    {
     "name": "stderr",
     "output_type": "stream",
     "text": [
      "C:\\Users\\abhij\\AppData\\Local\\Temp\\ipykernel_18688\\568520512.py:16: SettingWithCopyWarning: \n",
      "A value is trying to be set on a copy of a slice from a DataFrame.\n",
      "Try using .loc[row_indexer,col_indexer] = value instead\n",
      "\n",
      "See the caveats in the documentation: https://pandas.pydata.org/pandas-docs/stable/user_guide/indexing.html#returning-a-view-versus-a-copy\n",
      "  current_data['Date'] = current_data.index\n"
     ]
    },
    {
     "name": "stdout",
     "output_type": "stream",
     "text": [
      "shape of df4 is (480, 3541)\n",
      "Completed 158 out of 461 steps\n",
      "the main data is of shape (540, 2)\n",
      "shape of current_data2 is (540, 59)\n"
     ]
    },
    {
     "name": "stderr",
     "output_type": "stream",
     "text": [
      "C:\\Users\\abhij\\AppData\\Local\\Temp\\ipykernel_18688\\568520512.py:16: SettingWithCopyWarning: \n",
      "A value is trying to be set on a copy of a slice from a DataFrame.\n",
      "Try using .loc[row_indexer,col_indexer] = value instead\n",
      "\n",
      "See the caveats in the documentation: https://pandas.pydata.org/pandas-docs/stable/user_guide/indexing.html#returning-a-view-versus-a-copy\n",
      "  current_data['Date'] = current_data.index\n"
     ]
    },
    {
     "name": "stdout",
     "output_type": "stream",
     "text": [
      "shape of df4 is (480, 3541)\n",
      "Completed 159 out of 461 steps\n",
      "the main data is of shape (540, 2)\n",
      "shape of current_data2 is (540, 59)\n"
     ]
    },
    {
     "name": "stderr",
     "output_type": "stream",
     "text": [
      "C:\\Users\\abhij\\AppData\\Local\\Temp\\ipykernel_18688\\568520512.py:16: SettingWithCopyWarning: \n",
      "A value is trying to be set on a copy of a slice from a DataFrame.\n",
      "Try using .loc[row_indexer,col_indexer] = value instead\n",
      "\n",
      "See the caveats in the documentation: https://pandas.pydata.org/pandas-docs/stable/user_guide/indexing.html#returning-a-view-versus-a-copy\n",
      "  current_data['Date'] = current_data.index\n"
     ]
    },
    {
     "name": "stdout",
     "output_type": "stream",
     "text": [
      "shape of df4 is (480, 3541)\n",
      "Completed 160 out of 461 steps\n",
      "the main data is of shape (540, 2)\n",
      "shape of current_data2 is (540, 59)\n"
     ]
    },
    {
     "name": "stderr",
     "output_type": "stream",
     "text": [
      "C:\\Users\\abhij\\AppData\\Local\\Temp\\ipykernel_18688\\568520512.py:16: SettingWithCopyWarning: \n",
      "A value is trying to be set on a copy of a slice from a DataFrame.\n",
      "Try using .loc[row_indexer,col_indexer] = value instead\n",
      "\n",
      "See the caveats in the documentation: https://pandas.pydata.org/pandas-docs/stable/user_guide/indexing.html#returning-a-view-versus-a-copy\n",
      "  current_data['Date'] = current_data.index\n"
     ]
    },
    {
     "name": "stdout",
     "output_type": "stream",
     "text": [
      "shape of df4 is (480, 3541)\n",
      "Completed 161 out of 461 steps\n",
      "the main data is of shape (540, 2)\n",
      "shape of current_data2 is (540, 59)\n"
     ]
    },
    {
     "name": "stderr",
     "output_type": "stream",
     "text": [
      "C:\\Users\\abhij\\AppData\\Local\\Temp\\ipykernel_18688\\568520512.py:16: SettingWithCopyWarning: \n",
      "A value is trying to be set on a copy of a slice from a DataFrame.\n",
      "Try using .loc[row_indexer,col_indexer] = value instead\n",
      "\n",
      "See the caveats in the documentation: https://pandas.pydata.org/pandas-docs/stable/user_guide/indexing.html#returning-a-view-versus-a-copy\n",
      "  current_data['Date'] = current_data.index\n"
     ]
    },
    {
     "name": "stdout",
     "output_type": "stream",
     "text": [
      "shape of df4 is (480, 3541)\n",
      "Completed 162 out of 461 steps\n",
      "the main data is of shape (540, 2)\n",
      "shape of current_data2 is (540, 59)\n"
     ]
    },
    {
     "name": "stderr",
     "output_type": "stream",
     "text": [
      "C:\\Users\\abhij\\AppData\\Local\\Temp\\ipykernel_18688\\568520512.py:16: SettingWithCopyWarning: \n",
      "A value is trying to be set on a copy of a slice from a DataFrame.\n",
      "Try using .loc[row_indexer,col_indexer] = value instead\n",
      "\n",
      "See the caveats in the documentation: https://pandas.pydata.org/pandas-docs/stable/user_guide/indexing.html#returning-a-view-versus-a-copy\n",
      "  current_data['Date'] = current_data.index\n"
     ]
    },
    {
     "name": "stdout",
     "output_type": "stream",
     "text": [
      "shape of df4 is (480, 3541)\n",
      "Completed 163 out of 461 steps\n",
      "the main data is of shape (540, 2)\n",
      "shape of current_data2 is (540, 59)\n"
     ]
    },
    {
     "name": "stderr",
     "output_type": "stream",
     "text": [
      "C:\\Users\\abhij\\AppData\\Local\\Temp\\ipykernel_18688\\568520512.py:16: SettingWithCopyWarning: \n",
      "A value is trying to be set on a copy of a slice from a DataFrame.\n",
      "Try using .loc[row_indexer,col_indexer] = value instead\n",
      "\n",
      "See the caveats in the documentation: https://pandas.pydata.org/pandas-docs/stable/user_guide/indexing.html#returning-a-view-versus-a-copy\n",
      "  current_data['Date'] = current_data.index\n"
     ]
    },
    {
     "name": "stdout",
     "output_type": "stream",
     "text": [
      "shape of df4 is (480, 3541)\n",
      "Completed 164 out of 461 steps\n",
      "the main data is of shape (540, 2)\n",
      "shape of current_data2 is (540, 59)\n"
     ]
    },
    {
     "name": "stderr",
     "output_type": "stream",
     "text": [
      "C:\\Users\\abhij\\AppData\\Local\\Temp\\ipykernel_18688\\568520512.py:16: SettingWithCopyWarning: \n",
      "A value is trying to be set on a copy of a slice from a DataFrame.\n",
      "Try using .loc[row_indexer,col_indexer] = value instead\n",
      "\n",
      "See the caveats in the documentation: https://pandas.pydata.org/pandas-docs/stable/user_guide/indexing.html#returning-a-view-versus-a-copy\n",
      "  current_data['Date'] = current_data.index\n"
     ]
    },
    {
     "name": "stdout",
     "output_type": "stream",
     "text": [
      "shape of df4 is (480, 3541)\n",
      "Completed 165 out of 461 steps\n",
      "the main data is of shape (540, 2)\n",
      "shape of current_data2 is (540, 59)\n"
     ]
    },
    {
     "name": "stderr",
     "output_type": "stream",
     "text": [
      "C:\\Users\\abhij\\AppData\\Local\\Temp\\ipykernel_18688\\568520512.py:16: SettingWithCopyWarning: \n",
      "A value is trying to be set on a copy of a slice from a DataFrame.\n",
      "Try using .loc[row_indexer,col_indexer] = value instead\n",
      "\n",
      "See the caveats in the documentation: https://pandas.pydata.org/pandas-docs/stable/user_guide/indexing.html#returning-a-view-versus-a-copy\n",
      "  current_data['Date'] = current_data.index\n"
     ]
    },
    {
     "name": "stdout",
     "output_type": "stream",
     "text": [
      "shape of df4 is (480, 3541)\n",
      "Completed 166 out of 461 steps\n",
      "the main data is of shape (540, 2)\n",
      "shape of current_data2 is (540, 59)\n"
     ]
    },
    {
     "name": "stderr",
     "output_type": "stream",
     "text": [
      "C:\\Users\\abhij\\AppData\\Local\\Temp\\ipykernel_18688\\568520512.py:16: SettingWithCopyWarning: \n",
      "A value is trying to be set on a copy of a slice from a DataFrame.\n",
      "Try using .loc[row_indexer,col_indexer] = value instead\n",
      "\n",
      "See the caveats in the documentation: https://pandas.pydata.org/pandas-docs/stable/user_guide/indexing.html#returning-a-view-versus-a-copy\n",
      "  current_data['Date'] = current_data.index\n"
     ]
    },
    {
     "name": "stdout",
     "output_type": "stream",
     "text": [
      "shape of df4 is (480, 3541)\n",
      "Completed 167 out of 461 steps\n",
      "the main data is of shape (540, 2)\n",
      "shape of current_data2 is (540, 59)\n"
     ]
    },
    {
     "name": "stderr",
     "output_type": "stream",
     "text": [
      "C:\\Users\\abhij\\AppData\\Local\\Temp\\ipykernel_18688\\568520512.py:16: SettingWithCopyWarning: \n",
      "A value is trying to be set on a copy of a slice from a DataFrame.\n",
      "Try using .loc[row_indexer,col_indexer] = value instead\n",
      "\n",
      "See the caveats in the documentation: https://pandas.pydata.org/pandas-docs/stable/user_guide/indexing.html#returning-a-view-versus-a-copy\n",
      "  current_data['Date'] = current_data.index\n"
     ]
    },
    {
     "name": "stdout",
     "output_type": "stream",
     "text": [
      "shape of df4 is (480, 3541)\n",
      "Completed 168 out of 461 steps\n",
      "the main data is of shape (540, 2)\n",
      "shape of current_data2 is (540, 59)\n"
     ]
    },
    {
     "name": "stderr",
     "output_type": "stream",
     "text": [
      "C:\\Users\\abhij\\AppData\\Local\\Temp\\ipykernel_18688\\568520512.py:16: SettingWithCopyWarning: \n",
      "A value is trying to be set on a copy of a slice from a DataFrame.\n",
      "Try using .loc[row_indexer,col_indexer] = value instead\n",
      "\n",
      "See the caveats in the documentation: https://pandas.pydata.org/pandas-docs/stable/user_guide/indexing.html#returning-a-view-versus-a-copy\n",
      "  current_data['Date'] = current_data.index\n"
     ]
    },
    {
     "name": "stdout",
     "output_type": "stream",
     "text": [
      "shape of df4 is (480, 3541)\n",
      "Completed 169 out of 461 steps\n",
      "the main data is of shape (540, 2)\n",
      "shape of current_data2 is (540, 59)\n"
     ]
    },
    {
     "name": "stderr",
     "output_type": "stream",
     "text": [
      "C:\\Users\\abhij\\AppData\\Local\\Temp\\ipykernel_18688\\568520512.py:16: SettingWithCopyWarning: \n",
      "A value is trying to be set on a copy of a slice from a DataFrame.\n",
      "Try using .loc[row_indexer,col_indexer] = value instead\n",
      "\n",
      "See the caveats in the documentation: https://pandas.pydata.org/pandas-docs/stable/user_guide/indexing.html#returning-a-view-versus-a-copy\n",
      "  current_data['Date'] = current_data.index\n"
     ]
    },
    {
     "name": "stdout",
     "output_type": "stream",
     "text": [
      "shape of df4 is (480, 3541)\n",
      "Completed 170 out of 461 steps\n",
      "the main data is of shape (540, 2)\n",
      "shape of current_data2 is (540, 59)\n"
     ]
    },
    {
     "name": "stderr",
     "output_type": "stream",
     "text": [
      "C:\\Users\\abhij\\AppData\\Local\\Temp\\ipykernel_18688\\568520512.py:16: SettingWithCopyWarning: \n",
      "A value is trying to be set on a copy of a slice from a DataFrame.\n",
      "Try using .loc[row_indexer,col_indexer] = value instead\n",
      "\n",
      "See the caveats in the documentation: https://pandas.pydata.org/pandas-docs/stable/user_guide/indexing.html#returning-a-view-versus-a-copy\n",
      "  current_data['Date'] = current_data.index\n"
     ]
    },
    {
     "name": "stdout",
     "output_type": "stream",
     "text": [
      "shape of df4 is (480, 3541)\n",
      "Completed 171 out of 461 steps\n",
      "the main data is of shape (540, 2)\n",
      "shape of current_data2 is (540, 59)\n"
     ]
    },
    {
     "name": "stderr",
     "output_type": "stream",
     "text": [
      "C:\\Users\\abhij\\AppData\\Local\\Temp\\ipykernel_18688\\568520512.py:16: SettingWithCopyWarning: \n",
      "A value is trying to be set on a copy of a slice from a DataFrame.\n",
      "Try using .loc[row_indexer,col_indexer] = value instead\n",
      "\n",
      "See the caveats in the documentation: https://pandas.pydata.org/pandas-docs/stable/user_guide/indexing.html#returning-a-view-versus-a-copy\n",
      "  current_data['Date'] = current_data.index\n"
     ]
    },
    {
     "name": "stdout",
     "output_type": "stream",
     "text": [
      "shape of df4 is (480, 3541)\n",
      "Completed 172 out of 461 steps\n",
      "the main data is of shape (540, 2)\n",
      "shape of current_data2 is (540, 59)\n"
     ]
    },
    {
     "name": "stderr",
     "output_type": "stream",
     "text": [
      "C:\\Users\\abhij\\AppData\\Local\\Temp\\ipykernel_18688\\568520512.py:16: SettingWithCopyWarning: \n",
      "A value is trying to be set on a copy of a slice from a DataFrame.\n",
      "Try using .loc[row_indexer,col_indexer] = value instead\n",
      "\n",
      "See the caveats in the documentation: https://pandas.pydata.org/pandas-docs/stable/user_guide/indexing.html#returning-a-view-versus-a-copy\n",
      "  current_data['Date'] = current_data.index\n"
     ]
    },
    {
     "name": "stdout",
     "output_type": "stream",
     "text": [
      "shape of df4 is (480, 3541)\n",
      "Completed 173 out of 461 steps\n",
      "the main data is of shape (540, 2)\n",
      "shape of current_data2 is (540, 59)\n"
     ]
    },
    {
     "name": "stderr",
     "output_type": "stream",
     "text": [
      "C:\\Users\\abhij\\AppData\\Local\\Temp\\ipykernel_18688\\568520512.py:16: SettingWithCopyWarning: \n",
      "A value is trying to be set on a copy of a slice from a DataFrame.\n",
      "Try using .loc[row_indexer,col_indexer] = value instead\n",
      "\n",
      "See the caveats in the documentation: https://pandas.pydata.org/pandas-docs/stable/user_guide/indexing.html#returning-a-view-versus-a-copy\n",
      "  current_data['Date'] = current_data.index\n"
     ]
    },
    {
     "name": "stdout",
     "output_type": "stream",
     "text": [
      "shape of df4 is (480, 3541)\n",
      "Completed 174 out of 461 steps\n",
      "the main data is of shape (540, 2)\n",
      "shape of current_data2 is (540, 59)\n"
     ]
    },
    {
     "name": "stderr",
     "output_type": "stream",
     "text": [
      "C:\\Users\\abhij\\AppData\\Local\\Temp\\ipykernel_18688\\568520512.py:16: SettingWithCopyWarning: \n",
      "A value is trying to be set on a copy of a slice from a DataFrame.\n",
      "Try using .loc[row_indexer,col_indexer] = value instead\n",
      "\n",
      "See the caveats in the documentation: https://pandas.pydata.org/pandas-docs/stable/user_guide/indexing.html#returning-a-view-versus-a-copy\n",
      "  current_data['Date'] = current_data.index\n"
     ]
    },
    {
     "name": "stdout",
     "output_type": "stream",
     "text": [
      "shape of df4 is (480, 3541)\n",
      "Completed 175 out of 461 steps\n",
      "the main data is of shape (540, 2)\n",
      "shape of current_data2 is (540, 59)\n"
     ]
    },
    {
     "name": "stderr",
     "output_type": "stream",
     "text": [
      "C:\\Users\\abhij\\AppData\\Local\\Temp\\ipykernel_18688\\568520512.py:16: SettingWithCopyWarning: \n",
      "A value is trying to be set on a copy of a slice from a DataFrame.\n",
      "Try using .loc[row_indexer,col_indexer] = value instead\n",
      "\n",
      "See the caveats in the documentation: https://pandas.pydata.org/pandas-docs/stable/user_guide/indexing.html#returning-a-view-versus-a-copy\n",
      "  current_data['Date'] = current_data.index\n"
     ]
    },
    {
     "name": "stdout",
     "output_type": "stream",
     "text": [
      "shape of df4 is (480, 3541)\n",
      "Completed 176 out of 461 steps\n",
      "the main data is of shape (540, 2)\n",
      "shape of current_data2 is (540, 59)\n"
     ]
    },
    {
     "name": "stderr",
     "output_type": "stream",
     "text": [
      "C:\\Users\\abhij\\AppData\\Local\\Temp\\ipykernel_18688\\568520512.py:16: SettingWithCopyWarning: \n",
      "A value is trying to be set on a copy of a slice from a DataFrame.\n",
      "Try using .loc[row_indexer,col_indexer] = value instead\n",
      "\n",
      "See the caveats in the documentation: https://pandas.pydata.org/pandas-docs/stable/user_guide/indexing.html#returning-a-view-versus-a-copy\n",
      "  current_data['Date'] = current_data.index\n"
     ]
    },
    {
     "name": "stdout",
     "output_type": "stream",
     "text": [
      "shape of df4 is (480, 3541)\n",
      "Completed 177 out of 461 steps\n",
      "the main data is of shape (540, 2)\n",
      "shape of current_data2 is (540, 59)\n"
     ]
    },
    {
     "name": "stderr",
     "output_type": "stream",
     "text": [
      "C:\\Users\\abhij\\AppData\\Local\\Temp\\ipykernel_18688\\568520512.py:16: SettingWithCopyWarning: \n",
      "A value is trying to be set on a copy of a slice from a DataFrame.\n",
      "Try using .loc[row_indexer,col_indexer] = value instead\n",
      "\n",
      "See the caveats in the documentation: https://pandas.pydata.org/pandas-docs/stable/user_guide/indexing.html#returning-a-view-versus-a-copy\n",
      "  current_data['Date'] = current_data.index\n"
     ]
    },
    {
     "name": "stdout",
     "output_type": "stream",
     "text": [
      "shape of df4 is (480, 3541)\n",
      "Completed 178 out of 461 steps\n",
      "the main data is of shape (540, 2)\n",
      "shape of current_data2 is (540, 59)\n"
     ]
    },
    {
     "name": "stderr",
     "output_type": "stream",
     "text": [
      "C:\\Users\\abhij\\AppData\\Local\\Temp\\ipykernel_18688\\568520512.py:16: SettingWithCopyWarning: \n",
      "A value is trying to be set on a copy of a slice from a DataFrame.\n",
      "Try using .loc[row_indexer,col_indexer] = value instead\n",
      "\n",
      "See the caveats in the documentation: https://pandas.pydata.org/pandas-docs/stable/user_guide/indexing.html#returning-a-view-versus-a-copy\n",
      "  current_data['Date'] = current_data.index\n"
     ]
    },
    {
     "name": "stdout",
     "output_type": "stream",
     "text": [
      "shape of df4 is (480, 3541)\n",
      "Completed 179 out of 461 steps\n",
      "the main data is of shape (535, 2)\n",
      "shape of current_data2 is (535, 59)\n"
     ]
    },
    {
     "name": "stderr",
     "output_type": "stream",
     "text": [
      "C:\\Users\\abhij\\AppData\\Local\\Temp\\ipykernel_18688\\568520512.py:16: SettingWithCopyWarning: \n",
      "A value is trying to be set on a copy of a slice from a DataFrame.\n",
      "Try using .loc[row_indexer,col_indexer] = value instead\n",
      "\n",
      "See the caveats in the documentation: https://pandas.pydata.org/pandas-docs/stable/user_guide/indexing.html#returning-a-view-versus-a-copy\n",
      "  current_data['Date'] = current_data.index\n"
     ]
    },
    {
     "name": "stdout",
     "output_type": "stream",
     "text": [
      "shape of df4 is (475, 3541)\n",
      "Completed 180 out of 461 steps\n",
      "the main data is of shape (540, 2)\n",
      "shape of current_data2 is (540, 59)\n"
     ]
    },
    {
     "name": "stderr",
     "output_type": "stream",
     "text": [
      "C:\\Users\\abhij\\AppData\\Local\\Temp\\ipykernel_18688\\568520512.py:16: SettingWithCopyWarning: \n",
      "A value is trying to be set on a copy of a slice from a DataFrame.\n",
      "Try using .loc[row_indexer,col_indexer] = value instead\n",
      "\n",
      "See the caveats in the documentation: https://pandas.pydata.org/pandas-docs/stable/user_guide/indexing.html#returning-a-view-versus-a-copy\n",
      "  current_data['Date'] = current_data.index\n"
     ]
    },
    {
     "name": "stdout",
     "output_type": "stream",
     "text": [
      "shape of df4 is (480, 3541)\n",
      "Completed 181 out of 461 steps\n",
      "the main data is of shape (540, 2)\n",
      "shape of current_data2 is (540, 59)\n"
     ]
    },
    {
     "name": "stderr",
     "output_type": "stream",
     "text": [
      "C:\\Users\\abhij\\AppData\\Local\\Temp\\ipykernel_18688\\568520512.py:16: SettingWithCopyWarning: \n",
      "A value is trying to be set on a copy of a slice from a DataFrame.\n",
      "Try using .loc[row_indexer,col_indexer] = value instead\n",
      "\n",
      "See the caveats in the documentation: https://pandas.pydata.org/pandas-docs/stable/user_guide/indexing.html#returning-a-view-versus-a-copy\n",
      "  current_data['Date'] = current_data.index\n"
     ]
    },
    {
     "name": "stdout",
     "output_type": "stream",
     "text": [
      "shape of df4 is (480, 3541)\n",
      "Completed 182 out of 461 steps\n",
      "the main data is of shape (540, 2)\n",
      "shape of current_data2 is (540, 59)\n"
     ]
    },
    {
     "name": "stderr",
     "output_type": "stream",
     "text": [
      "C:\\Users\\abhij\\AppData\\Local\\Temp\\ipykernel_18688\\568520512.py:16: SettingWithCopyWarning: \n",
      "A value is trying to be set on a copy of a slice from a DataFrame.\n",
      "Try using .loc[row_indexer,col_indexer] = value instead\n",
      "\n",
      "See the caveats in the documentation: https://pandas.pydata.org/pandas-docs/stable/user_guide/indexing.html#returning-a-view-versus-a-copy\n",
      "  current_data['Date'] = current_data.index\n"
     ]
    },
    {
     "name": "stdout",
     "output_type": "stream",
     "text": [
      "shape of df4 is (480, 3541)\n",
      "Completed 183 out of 461 steps\n",
      "the main data is of shape (540, 2)\n",
      "shape of current_data2 is (540, 59)\n"
     ]
    },
    {
     "name": "stderr",
     "output_type": "stream",
     "text": [
      "C:\\Users\\abhij\\AppData\\Local\\Temp\\ipykernel_18688\\568520512.py:16: SettingWithCopyWarning: \n",
      "A value is trying to be set on a copy of a slice from a DataFrame.\n",
      "Try using .loc[row_indexer,col_indexer] = value instead\n",
      "\n",
      "See the caveats in the documentation: https://pandas.pydata.org/pandas-docs/stable/user_guide/indexing.html#returning-a-view-versus-a-copy\n",
      "  current_data['Date'] = current_data.index\n"
     ]
    },
    {
     "name": "stdout",
     "output_type": "stream",
     "text": [
      "shape of df4 is (480, 3541)\n",
      "Completed 184 out of 461 steps\n",
      "the main data is of shape (540, 2)\n",
      "shape of current_data2 is (540, 59)\n"
     ]
    },
    {
     "name": "stderr",
     "output_type": "stream",
     "text": [
      "C:\\Users\\abhij\\AppData\\Local\\Temp\\ipykernel_18688\\568520512.py:16: SettingWithCopyWarning: \n",
      "A value is trying to be set on a copy of a slice from a DataFrame.\n",
      "Try using .loc[row_indexer,col_indexer] = value instead\n",
      "\n",
      "See the caveats in the documentation: https://pandas.pydata.org/pandas-docs/stable/user_guide/indexing.html#returning-a-view-versus-a-copy\n",
      "  current_data['Date'] = current_data.index\n"
     ]
    },
    {
     "name": "stdout",
     "output_type": "stream",
     "text": [
      "shape of df4 is (480, 3541)\n",
      "Completed 185 out of 461 steps\n",
      "the main data is of shape (540, 2)\n",
      "shape of current_data2 is (540, 59)\n"
     ]
    },
    {
     "name": "stderr",
     "output_type": "stream",
     "text": [
      "C:\\Users\\abhij\\AppData\\Local\\Temp\\ipykernel_18688\\568520512.py:16: SettingWithCopyWarning: \n",
      "A value is trying to be set on a copy of a slice from a DataFrame.\n",
      "Try using .loc[row_indexer,col_indexer] = value instead\n",
      "\n",
      "See the caveats in the documentation: https://pandas.pydata.org/pandas-docs/stable/user_guide/indexing.html#returning-a-view-versus-a-copy\n",
      "  current_data['Date'] = current_data.index\n"
     ]
    },
    {
     "name": "stdout",
     "output_type": "stream",
     "text": [
      "shape of df4 is (480, 3541)\n",
      "Completed 186 out of 461 steps\n",
      "the main data is of shape (540, 2)\n",
      "shape of current_data2 is (540, 59)\n"
     ]
    },
    {
     "name": "stderr",
     "output_type": "stream",
     "text": [
      "C:\\Users\\abhij\\AppData\\Local\\Temp\\ipykernel_18688\\568520512.py:16: SettingWithCopyWarning: \n",
      "A value is trying to be set on a copy of a slice from a DataFrame.\n",
      "Try using .loc[row_indexer,col_indexer] = value instead\n",
      "\n",
      "See the caveats in the documentation: https://pandas.pydata.org/pandas-docs/stable/user_guide/indexing.html#returning-a-view-versus-a-copy\n",
      "  current_data['Date'] = current_data.index\n"
     ]
    },
    {
     "name": "stdout",
     "output_type": "stream",
     "text": [
      "shape of df4 is (480, 3541)\n",
      "Completed 187 out of 461 steps\n",
      "the main data is of shape (540, 2)\n",
      "shape of current_data2 is (540, 59)\n"
     ]
    },
    {
     "name": "stderr",
     "output_type": "stream",
     "text": [
      "C:\\Users\\abhij\\AppData\\Local\\Temp\\ipykernel_18688\\568520512.py:16: SettingWithCopyWarning: \n",
      "A value is trying to be set on a copy of a slice from a DataFrame.\n",
      "Try using .loc[row_indexer,col_indexer] = value instead\n",
      "\n",
      "See the caveats in the documentation: https://pandas.pydata.org/pandas-docs/stable/user_guide/indexing.html#returning-a-view-versus-a-copy\n",
      "  current_data['Date'] = current_data.index\n"
     ]
    },
    {
     "name": "stdout",
     "output_type": "stream",
     "text": [
      "shape of df4 is (480, 3541)\n",
      "Completed 188 out of 461 steps\n",
      "the main data is of shape (540, 2)\n",
      "shape of current_data2 is (540, 59)\n"
     ]
    },
    {
     "name": "stderr",
     "output_type": "stream",
     "text": [
      "C:\\Users\\abhij\\AppData\\Local\\Temp\\ipykernel_18688\\568520512.py:16: SettingWithCopyWarning: \n",
      "A value is trying to be set on a copy of a slice from a DataFrame.\n",
      "Try using .loc[row_indexer,col_indexer] = value instead\n",
      "\n",
      "See the caveats in the documentation: https://pandas.pydata.org/pandas-docs/stable/user_guide/indexing.html#returning-a-view-versus-a-copy\n",
      "  current_data['Date'] = current_data.index\n"
     ]
    },
    {
     "name": "stdout",
     "output_type": "stream",
     "text": [
      "shape of df4 is (480, 3541)\n",
      "Completed 189 out of 461 steps\n",
      "the main data is of shape (540, 2)\n",
      "shape of current_data2 is (540, 59)\n"
     ]
    },
    {
     "name": "stderr",
     "output_type": "stream",
     "text": [
      "C:\\Users\\abhij\\AppData\\Local\\Temp\\ipykernel_18688\\568520512.py:16: SettingWithCopyWarning: \n",
      "A value is trying to be set on a copy of a slice from a DataFrame.\n",
      "Try using .loc[row_indexer,col_indexer] = value instead\n",
      "\n",
      "See the caveats in the documentation: https://pandas.pydata.org/pandas-docs/stable/user_guide/indexing.html#returning-a-view-versus-a-copy\n",
      "  current_data['Date'] = current_data.index\n"
     ]
    },
    {
     "name": "stdout",
     "output_type": "stream",
     "text": [
      "shape of df4 is (480, 3541)\n",
      "Completed 190 out of 461 steps\n",
      "the main data is of shape (540, 2)\n",
      "shape of current_data2 is (540, 59)\n"
     ]
    },
    {
     "name": "stderr",
     "output_type": "stream",
     "text": [
      "C:\\Users\\abhij\\AppData\\Local\\Temp\\ipykernel_18688\\568520512.py:16: SettingWithCopyWarning: \n",
      "A value is trying to be set on a copy of a slice from a DataFrame.\n",
      "Try using .loc[row_indexer,col_indexer] = value instead\n",
      "\n",
      "See the caveats in the documentation: https://pandas.pydata.org/pandas-docs/stable/user_guide/indexing.html#returning-a-view-versus-a-copy\n",
      "  current_data['Date'] = current_data.index\n"
     ]
    },
    {
     "name": "stdout",
     "output_type": "stream",
     "text": [
      "shape of df4 is (480, 3541)\n",
      "Completed 191 out of 461 steps\n",
      "the main data is of shape (540, 2)\n",
      "shape of current_data2 is (540, 59)\n"
     ]
    },
    {
     "name": "stderr",
     "output_type": "stream",
     "text": [
      "C:\\Users\\abhij\\AppData\\Local\\Temp\\ipykernel_18688\\568520512.py:16: SettingWithCopyWarning: \n",
      "A value is trying to be set on a copy of a slice from a DataFrame.\n",
      "Try using .loc[row_indexer,col_indexer] = value instead\n",
      "\n",
      "See the caveats in the documentation: https://pandas.pydata.org/pandas-docs/stable/user_guide/indexing.html#returning-a-view-versus-a-copy\n",
      "  current_data['Date'] = current_data.index\n"
     ]
    },
    {
     "name": "stdout",
     "output_type": "stream",
     "text": [
      "shape of df4 is (480, 3541)\n",
      "Completed 192 out of 461 steps\n",
      "the main data is of shape (540, 2)\n",
      "shape of current_data2 is (540, 59)\n"
     ]
    },
    {
     "name": "stderr",
     "output_type": "stream",
     "text": [
      "C:\\Users\\abhij\\AppData\\Local\\Temp\\ipykernel_18688\\568520512.py:16: SettingWithCopyWarning: \n",
      "A value is trying to be set on a copy of a slice from a DataFrame.\n",
      "Try using .loc[row_indexer,col_indexer] = value instead\n",
      "\n",
      "See the caveats in the documentation: https://pandas.pydata.org/pandas-docs/stable/user_guide/indexing.html#returning-a-view-versus-a-copy\n",
      "  current_data['Date'] = current_data.index\n"
     ]
    },
    {
     "name": "stdout",
     "output_type": "stream",
     "text": [
      "shape of df4 is (480, 3541)\n",
      "Completed 193 out of 461 steps\n",
      "the main data is of shape (540, 2)\n",
      "shape of current_data2 is (540, 59)\n"
     ]
    },
    {
     "name": "stderr",
     "output_type": "stream",
     "text": [
      "C:\\Users\\abhij\\AppData\\Local\\Temp\\ipykernel_18688\\568520512.py:16: SettingWithCopyWarning: \n",
      "A value is trying to be set on a copy of a slice from a DataFrame.\n",
      "Try using .loc[row_indexer,col_indexer] = value instead\n",
      "\n",
      "See the caveats in the documentation: https://pandas.pydata.org/pandas-docs/stable/user_guide/indexing.html#returning-a-view-versus-a-copy\n",
      "  current_data['Date'] = current_data.index\n"
     ]
    },
    {
     "name": "stdout",
     "output_type": "stream",
     "text": [
      "shape of df4 is (480, 3541)\n",
      "Completed 194 out of 461 steps\n",
      "the main data is of shape (540, 2)\n",
      "shape of current_data2 is (540, 59)\n"
     ]
    },
    {
     "name": "stderr",
     "output_type": "stream",
     "text": [
      "C:\\Users\\abhij\\AppData\\Local\\Temp\\ipykernel_18688\\568520512.py:16: SettingWithCopyWarning: \n",
      "A value is trying to be set on a copy of a slice from a DataFrame.\n",
      "Try using .loc[row_indexer,col_indexer] = value instead\n",
      "\n",
      "See the caveats in the documentation: https://pandas.pydata.org/pandas-docs/stable/user_guide/indexing.html#returning-a-view-versus-a-copy\n",
      "  current_data['Date'] = current_data.index\n"
     ]
    },
    {
     "name": "stdout",
     "output_type": "stream",
     "text": [
      "shape of df4 is (480, 3541)\n",
      "Completed 195 out of 461 steps\n",
      "the main data is of shape (540, 2)\n",
      "shape of current_data2 is (540, 59)\n"
     ]
    },
    {
     "name": "stderr",
     "output_type": "stream",
     "text": [
      "C:\\Users\\abhij\\AppData\\Local\\Temp\\ipykernel_18688\\568520512.py:16: SettingWithCopyWarning: \n",
      "A value is trying to be set on a copy of a slice from a DataFrame.\n",
      "Try using .loc[row_indexer,col_indexer] = value instead\n",
      "\n",
      "See the caveats in the documentation: https://pandas.pydata.org/pandas-docs/stable/user_guide/indexing.html#returning-a-view-versus-a-copy\n",
      "  current_data['Date'] = current_data.index\n"
     ]
    },
    {
     "name": "stdout",
     "output_type": "stream",
     "text": [
      "shape of df4 is (480, 3541)\n",
      "Completed 196 out of 461 steps\n",
      "the main data is of shape (540, 2)\n",
      "shape of current_data2 is (540, 59)\n"
     ]
    },
    {
     "name": "stderr",
     "output_type": "stream",
     "text": [
      "C:\\Users\\abhij\\AppData\\Local\\Temp\\ipykernel_18688\\568520512.py:16: SettingWithCopyWarning: \n",
      "A value is trying to be set on a copy of a slice from a DataFrame.\n",
      "Try using .loc[row_indexer,col_indexer] = value instead\n",
      "\n",
      "See the caveats in the documentation: https://pandas.pydata.org/pandas-docs/stable/user_guide/indexing.html#returning-a-view-versus-a-copy\n",
      "  current_data['Date'] = current_data.index\n"
     ]
    },
    {
     "name": "stdout",
     "output_type": "stream",
     "text": [
      "shape of df4 is (480, 3541)\n",
      "Completed 197 out of 461 steps\n",
      "the main data is of shape (540, 2)\n",
      "shape of current_data2 is (540, 59)\n"
     ]
    },
    {
     "name": "stderr",
     "output_type": "stream",
     "text": [
      "C:\\Users\\abhij\\AppData\\Local\\Temp\\ipykernel_18688\\568520512.py:16: SettingWithCopyWarning: \n",
      "A value is trying to be set on a copy of a slice from a DataFrame.\n",
      "Try using .loc[row_indexer,col_indexer] = value instead\n",
      "\n",
      "See the caveats in the documentation: https://pandas.pydata.org/pandas-docs/stable/user_guide/indexing.html#returning-a-view-versus-a-copy\n",
      "  current_data['Date'] = current_data.index\n"
     ]
    },
    {
     "name": "stdout",
     "output_type": "stream",
     "text": [
      "shape of df4 is (480, 3541)\n",
      "Completed 198 out of 461 steps\n",
      "the main data is of shape (540, 2)\n",
      "shape of current_data2 is (540, 59)\n"
     ]
    },
    {
     "name": "stderr",
     "output_type": "stream",
     "text": [
      "C:\\Users\\abhij\\AppData\\Local\\Temp\\ipykernel_18688\\568520512.py:16: SettingWithCopyWarning: \n",
      "A value is trying to be set on a copy of a slice from a DataFrame.\n",
      "Try using .loc[row_indexer,col_indexer] = value instead\n",
      "\n",
      "See the caveats in the documentation: https://pandas.pydata.org/pandas-docs/stable/user_guide/indexing.html#returning-a-view-versus-a-copy\n",
      "  current_data['Date'] = current_data.index\n"
     ]
    },
    {
     "name": "stdout",
     "output_type": "stream",
     "text": [
      "shape of df4 is (480, 3541)\n",
      "Completed 199 out of 461 steps\n",
      "the main data is of shape (540, 2)\n",
      "shape of current_data2 is (540, 59)\n"
     ]
    },
    {
     "name": "stderr",
     "output_type": "stream",
     "text": [
      "C:\\Users\\abhij\\AppData\\Local\\Temp\\ipykernel_18688\\568520512.py:16: SettingWithCopyWarning: \n",
      "A value is trying to be set on a copy of a slice from a DataFrame.\n",
      "Try using .loc[row_indexer,col_indexer] = value instead\n",
      "\n",
      "See the caveats in the documentation: https://pandas.pydata.org/pandas-docs/stable/user_guide/indexing.html#returning-a-view-versus-a-copy\n",
      "  current_data['Date'] = current_data.index\n"
     ]
    },
    {
     "name": "stdout",
     "output_type": "stream",
     "text": [
      "shape of df4 is (480, 3541)\n",
      "Completed 200 out of 461 steps\n",
      "the main data is of shape (540, 2)\n",
      "shape of current_data2 is (540, 59)\n"
     ]
    },
    {
     "name": "stderr",
     "output_type": "stream",
     "text": [
      "C:\\Users\\abhij\\AppData\\Local\\Temp\\ipykernel_18688\\568520512.py:16: SettingWithCopyWarning: \n",
      "A value is trying to be set on a copy of a slice from a DataFrame.\n",
      "Try using .loc[row_indexer,col_indexer] = value instead\n",
      "\n",
      "See the caveats in the documentation: https://pandas.pydata.org/pandas-docs/stable/user_guide/indexing.html#returning-a-view-versus-a-copy\n",
      "  current_data['Date'] = current_data.index\n"
     ]
    },
    {
     "name": "stdout",
     "output_type": "stream",
     "text": [
      "shape of df4 is (480, 3541)\n",
      "Completed 201 out of 461 steps\n",
      "the main data is of shape (540, 2)\n",
      "shape of current_data2 is (540, 59)\n"
     ]
    },
    {
     "name": "stderr",
     "output_type": "stream",
     "text": [
      "C:\\Users\\abhij\\AppData\\Local\\Temp\\ipykernel_18688\\568520512.py:16: SettingWithCopyWarning: \n",
      "A value is trying to be set on a copy of a slice from a DataFrame.\n",
      "Try using .loc[row_indexer,col_indexer] = value instead\n",
      "\n",
      "See the caveats in the documentation: https://pandas.pydata.org/pandas-docs/stable/user_guide/indexing.html#returning-a-view-versus-a-copy\n",
      "  current_data['Date'] = current_data.index\n"
     ]
    },
    {
     "name": "stdout",
     "output_type": "stream",
     "text": [
      "shape of df4 is (480, 3541)\n",
      "Completed 202 out of 461 steps\n",
      "the main data is of shape (540, 2)\n",
      "shape of current_data2 is (540, 59)\n"
     ]
    },
    {
     "name": "stderr",
     "output_type": "stream",
     "text": [
      "C:\\Users\\abhij\\AppData\\Local\\Temp\\ipykernel_18688\\568520512.py:16: SettingWithCopyWarning: \n",
      "A value is trying to be set on a copy of a slice from a DataFrame.\n",
      "Try using .loc[row_indexer,col_indexer] = value instead\n",
      "\n",
      "See the caveats in the documentation: https://pandas.pydata.org/pandas-docs/stable/user_guide/indexing.html#returning-a-view-versus-a-copy\n",
      "  current_data['Date'] = current_data.index\n"
     ]
    },
    {
     "name": "stdout",
     "output_type": "stream",
     "text": [
      "shape of df4 is (480, 3541)\n",
      "Completed 203 out of 461 steps\n",
      "the main data is of shape (540, 2)\n",
      "shape of current_data2 is (540, 59)\n"
     ]
    },
    {
     "name": "stderr",
     "output_type": "stream",
     "text": [
      "C:\\Users\\abhij\\AppData\\Local\\Temp\\ipykernel_18688\\568520512.py:16: SettingWithCopyWarning: \n",
      "A value is trying to be set on a copy of a slice from a DataFrame.\n",
      "Try using .loc[row_indexer,col_indexer] = value instead\n",
      "\n",
      "See the caveats in the documentation: https://pandas.pydata.org/pandas-docs/stable/user_guide/indexing.html#returning-a-view-versus-a-copy\n",
      "  current_data['Date'] = current_data.index\n"
     ]
    },
    {
     "name": "stdout",
     "output_type": "stream",
     "text": [
      "shape of df4 is (480, 3541)\n",
      "Completed 204 out of 461 steps\n",
      "the main data is of shape (540, 2)\n",
      "shape of current_data2 is (540, 59)\n"
     ]
    },
    {
     "name": "stderr",
     "output_type": "stream",
     "text": [
      "C:\\Users\\abhij\\AppData\\Local\\Temp\\ipykernel_18688\\568520512.py:16: SettingWithCopyWarning: \n",
      "A value is trying to be set on a copy of a slice from a DataFrame.\n",
      "Try using .loc[row_indexer,col_indexer] = value instead\n",
      "\n",
      "See the caveats in the documentation: https://pandas.pydata.org/pandas-docs/stable/user_guide/indexing.html#returning-a-view-versus-a-copy\n",
      "  current_data['Date'] = current_data.index\n"
     ]
    },
    {
     "name": "stdout",
     "output_type": "stream",
     "text": [
      "shape of df4 is (480, 3541)\n",
      "Completed 205 out of 461 steps\n",
      "the main data is of shape (540, 2)\n",
      "shape of current_data2 is (540, 59)\n"
     ]
    },
    {
     "name": "stderr",
     "output_type": "stream",
     "text": [
      "C:\\Users\\abhij\\AppData\\Local\\Temp\\ipykernel_18688\\568520512.py:16: SettingWithCopyWarning: \n",
      "A value is trying to be set on a copy of a slice from a DataFrame.\n",
      "Try using .loc[row_indexer,col_indexer] = value instead\n",
      "\n",
      "See the caveats in the documentation: https://pandas.pydata.org/pandas-docs/stable/user_guide/indexing.html#returning-a-view-versus-a-copy\n",
      "  current_data['Date'] = current_data.index\n"
     ]
    },
    {
     "name": "stdout",
     "output_type": "stream",
     "text": [
      "shape of df4 is (480, 3541)\n",
      "Completed 206 out of 461 steps\n",
      "the main data is of shape (540, 2)\n",
      "shape of current_data2 is (540, 59)\n"
     ]
    },
    {
     "name": "stderr",
     "output_type": "stream",
     "text": [
      "C:\\Users\\abhij\\AppData\\Local\\Temp\\ipykernel_18688\\568520512.py:16: SettingWithCopyWarning: \n",
      "A value is trying to be set on a copy of a slice from a DataFrame.\n",
      "Try using .loc[row_indexer,col_indexer] = value instead\n",
      "\n",
      "See the caveats in the documentation: https://pandas.pydata.org/pandas-docs/stable/user_guide/indexing.html#returning-a-view-versus-a-copy\n",
      "  current_data['Date'] = current_data.index\n"
     ]
    },
    {
     "name": "stdout",
     "output_type": "stream",
     "text": [
      "shape of df4 is (480, 3541)\n",
      "Completed 207 out of 461 steps\n",
      "the main data is of shape (540, 2)\n",
      "shape of current_data2 is (540, 59)\n"
     ]
    },
    {
     "name": "stderr",
     "output_type": "stream",
     "text": [
      "C:\\Users\\abhij\\AppData\\Local\\Temp\\ipykernel_18688\\568520512.py:16: SettingWithCopyWarning: \n",
      "A value is trying to be set on a copy of a slice from a DataFrame.\n",
      "Try using .loc[row_indexer,col_indexer] = value instead\n",
      "\n",
      "See the caveats in the documentation: https://pandas.pydata.org/pandas-docs/stable/user_guide/indexing.html#returning-a-view-versus-a-copy\n",
      "  current_data['Date'] = current_data.index\n"
     ]
    },
    {
     "name": "stdout",
     "output_type": "stream",
     "text": [
      "shape of df4 is (480, 3541)\n",
      "Completed 208 out of 461 steps\n",
      "the main data is of shape (540, 2)\n",
      "shape of current_data2 is (540, 59)\n"
     ]
    },
    {
     "name": "stderr",
     "output_type": "stream",
     "text": [
      "C:\\Users\\abhij\\AppData\\Local\\Temp\\ipykernel_18688\\568520512.py:16: SettingWithCopyWarning: \n",
      "A value is trying to be set on a copy of a slice from a DataFrame.\n",
      "Try using .loc[row_indexer,col_indexer] = value instead\n",
      "\n",
      "See the caveats in the documentation: https://pandas.pydata.org/pandas-docs/stable/user_guide/indexing.html#returning-a-view-versus-a-copy\n",
      "  current_data['Date'] = current_data.index\n"
     ]
    },
    {
     "name": "stdout",
     "output_type": "stream",
     "text": [
      "shape of df4 is (480, 3541)\n",
      "Completed 209 out of 461 steps\n",
      "the main data is of shape (540, 2)\n",
      "shape of current_data2 is (540, 59)\n"
     ]
    },
    {
     "name": "stderr",
     "output_type": "stream",
     "text": [
      "C:\\Users\\abhij\\AppData\\Local\\Temp\\ipykernel_18688\\568520512.py:16: SettingWithCopyWarning: \n",
      "A value is trying to be set on a copy of a slice from a DataFrame.\n",
      "Try using .loc[row_indexer,col_indexer] = value instead\n",
      "\n",
      "See the caveats in the documentation: https://pandas.pydata.org/pandas-docs/stable/user_guide/indexing.html#returning-a-view-versus-a-copy\n",
      "  current_data['Date'] = current_data.index\n"
     ]
    },
    {
     "name": "stdout",
     "output_type": "stream",
     "text": [
      "shape of df4 is (480, 3541)\n",
      "Completed 210 out of 461 steps\n",
      "the main data is of shape (540, 2)\n",
      "shape of current_data2 is (540, 59)\n"
     ]
    },
    {
     "name": "stderr",
     "output_type": "stream",
     "text": [
      "C:\\Users\\abhij\\AppData\\Local\\Temp\\ipykernel_18688\\568520512.py:16: SettingWithCopyWarning: \n",
      "A value is trying to be set on a copy of a slice from a DataFrame.\n",
      "Try using .loc[row_indexer,col_indexer] = value instead\n",
      "\n",
      "See the caveats in the documentation: https://pandas.pydata.org/pandas-docs/stable/user_guide/indexing.html#returning-a-view-versus-a-copy\n",
      "  current_data['Date'] = current_data.index\n"
     ]
    },
    {
     "name": "stdout",
     "output_type": "stream",
     "text": [
      "shape of df4 is (480, 3541)\n",
      "Completed 211 out of 461 steps\n",
      "the main data is of shape (540, 2)\n",
      "shape of current_data2 is (540, 59)\n"
     ]
    },
    {
     "name": "stderr",
     "output_type": "stream",
     "text": [
      "C:\\Users\\abhij\\AppData\\Local\\Temp\\ipykernel_18688\\568520512.py:16: SettingWithCopyWarning: \n",
      "A value is trying to be set on a copy of a slice from a DataFrame.\n",
      "Try using .loc[row_indexer,col_indexer] = value instead\n",
      "\n",
      "See the caveats in the documentation: https://pandas.pydata.org/pandas-docs/stable/user_guide/indexing.html#returning-a-view-versus-a-copy\n",
      "  current_data['Date'] = current_data.index\n"
     ]
    },
    {
     "name": "stdout",
     "output_type": "stream",
     "text": [
      "shape of df4 is (480, 3541)\n",
      "Completed 212 out of 461 steps\n",
      "the main data is of shape (540, 2)\n",
      "shape of current_data2 is (540, 59)\n"
     ]
    },
    {
     "name": "stderr",
     "output_type": "stream",
     "text": [
      "C:\\Users\\abhij\\AppData\\Local\\Temp\\ipykernel_18688\\568520512.py:16: SettingWithCopyWarning: \n",
      "A value is trying to be set on a copy of a slice from a DataFrame.\n",
      "Try using .loc[row_indexer,col_indexer] = value instead\n",
      "\n",
      "See the caveats in the documentation: https://pandas.pydata.org/pandas-docs/stable/user_guide/indexing.html#returning-a-view-versus-a-copy\n",
      "  current_data['Date'] = current_data.index\n"
     ]
    },
    {
     "name": "stdout",
     "output_type": "stream",
     "text": [
      "shape of df4 is (480, 3541)\n",
      "Completed 213 out of 461 steps\n",
      "the main data is of shape (540, 2)\n",
      "shape of current_data2 is (540, 59)\n"
     ]
    },
    {
     "name": "stderr",
     "output_type": "stream",
     "text": [
      "C:\\Users\\abhij\\AppData\\Local\\Temp\\ipykernel_18688\\568520512.py:16: SettingWithCopyWarning: \n",
      "A value is trying to be set on a copy of a slice from a DataFrame.\n",
      "Try using .loc[row_indexer,col_indexer] = value instead\n",
      "\n",
      "See the caveats in the documentation: https://pandas.pydata.org/pandas-docs/stable/user_guide/indexing.html#returning-a-view-versus-a-copy\n",
      "  current_data['Date'] = current_data.index\n"
     ]
    },
    {
     "name": "stdout",
     "output_type": "stream",
     "text": [
      "shape of df4 is (480, 3541)\n",
      "Completed 214 out of 461 steps\n",
      "the main data is of shape (540, 2)\n",
      "shape of current_data2 is (540, 59)\n"
     ]
    },
    {
     "name": "stderr",
     "output_type": "stream",
     "text": [
      "C:\\Users\\abhij\\AppData\\Local\\Temp\\ipykernel_18688\\568520512.py:16: SettingWithCopyWarning: \n",
      "A value is trying to be set on a copy of a slice from a DataFrame.\n",
      "Try using .loc[row_indexer,col_indexer] = value instead\n",
      "\n",
      "See the caveats in the documentation: https://pandas.pydata.org/pandas-docs/stable/user_guide/indexing.html#returning-a-view-versus-a-copy\n",
      "  current_data['Date'] = current_data.index\n"
     ]
    },
    {
     "name": "stdout",
     "output_type": "stream",
     "text": [
      "shape of df4 is (480, 3541)\n",
      "Completed 215 out of 461 steps\n",
      "the main data is of shape (540, 2)\n",
      "shape of current_data2 is (540, 59)\n"
     ]
    },
    {
     "name": "stderr",
     "output_type": "stream",
     "text": [
      "C:\\Users\\abhij\\AppData\\Local\\Temp\\ipykernel_18688\\568520512.py:16: SettingWithCopyWarning: \n",
      "A value is trying to be set on a copy of a slice from a DataFrame.\n",
      "Try using .loc[row_indexer,col_indexer] = value instead\n",
      "\n",
      "See the caveats in the documentation: https://pandas.pydata.org/pandas-docs/stable/user_guide/indexing.html#returning-a-view-versus-a-copy\n",
      "  current_data['Date'] = current_data.index\n"
     ]
    },
    {
     "name": "stdout",
     "output_type": "stream",
     "text": [
      "shape of df4 is (480, 3541)\n",
      "Completed 216 out of 461 steps\n",
      "the main data is of shape (540, 2)\n",
      "shape of current_data2 is (540, 59)\n"
     ]
    },
    {
     "name": "stderr",
     "output_type": "stream",
     "text": [
      "C:\\Users\\abhij\\AppData\\Local\\Temp\\ipykernel_18688\\568520512.py:16: SettingWithCopyWarning: \n",
      "A value is trying to be set on a copy of a slice from a DataFrame.\n",
      "Try using .loc[row_indexer,col_indexer] = value instead\n",
      "\n",
      "See the caveats in the documentation: https://pandas.pydata.org/pandas-docs/stable/user_guide/indexing.html#returning-a-view-versus-a-copy\n",
      "  current_data['Date'] = current_data.index\n"
     ]
    },
    {
     "name": "stdout",
     "output_type": "stream",
     "text": [
      "shape of df4 is (480, 3541)\n",
      "Completed 217 out of 461 steps\n",
      "the main data is of shape (540, 2)\n",
      "shape of current_data2 is (540, 59)\n"
     ]
    },
    {
     "name": "stderr",
     "output_type": "stream",
     "text": [
      "C:\\Users\\abhij\\AppData\\Local\\Temp\\ipykernel_18688\\568520512.py:16: SettingWithCopyWarning: \n",
      "A value is trying to be set on a copy of a slice from a DataFrame.\n",
      "Try using .loc[row_indexer,col_indexer] = value instead\n",
      "\n",
      "See the caveats in the documentation: https://pandas.pydata.org/pandas-docs/stable/user_guide/indexing.html#returning-a-view-versus-a-copy\n",
      "  current_data['Date'] = current_data.index\n"
     ]
    },
    {
     "name": "stdout",
     "output_type": "stream",
     "text": [
      "shape of df4 is (480, 3541)\n",
      "Completed 218 out of 461 steps\n",
      "the main data is of shape (540, 2)\n",
      "shape of current_data2 is (540, 59)\n"
     ]
    },
    {
     "name": "stderr",
     "output_type": "stream",
     "text": [
      "C:\\Users\\abhij\\AppData\\Local\\Temp\\ipykernel_18688\\568520512.py:16: SettingWithCopyWarning: \n",
      "A value is trying to be set on a copy of a slice from a DataFrame.\n",
      "Try using .loc[row_indexer,col_indexer] = value instead\n",
      "\n",
      "See the caveats in the documentation: https://pandas.pydata.org/pandas-docs/stable/user_guide/indexing.html#returning-a-view-versus-a-copy\n",
      "  current_data['Date'] = current_data.index\n"
     ]
    },
    {
     "name": "stdout",
     "output_type": "stream",
     "text": [
      "shape of df4 is (480, 3541)\n",
      "Completed 219 out of 461 steps\n",
      "the main data is of shape (540, 2)\n",
      "shape of current_data2 is (540, 59)\n"
     ]
    },
    {
     "name": "stderr",
     "output_type": "stream",
     "text": [
      "C:\\Users\\abhij\\AppData\\Local\\Temp\\ipykernel_18688\\568520512.py:16: SettingWithCopyWarning: \n",
      "A value is trying to be set on a copy of a slice from a DataFrame.\n",
      "Try using .loc[row_indexer,col_indexer] = value instead\n",
      "\n",
      "See the caveats in the documentation: https://pandas.pydata.org/pandas-docs/stable/user_guide/indexing.html#returning-a-view-versus-a-copy\n",
      "  current_data['Date'] = current_data.index\n"
     ]
    },
    {
     "name": "stdout",
     "output_type": "stream",
     "text": [
      "shape of df4 is (480, 3541)\n",
      "Completed 220 out of 461 steps\n",
      "the main data is of shape (540, 2)\n",
      "shape of current_data2 is (540, 59)\n"
     ]
    },
    {
     "name": "stderr",
     "output_type": "stream",
     "text": [
      "C:\\Users\\abhij\\AppData\\Local\\Temp\\ipykernel_18688\\568520512.py:16: SettingWithCopyWarning: \n",
      "A value is trying to be set on a copy of a slice from a DataFrame.\n",
      "Try using .loc[row_indexer,col_indexer] = value instead\n",
      "\n",
      "See the caveats in the documentation: https://pandas.pydata.org/pandas-docs/stable/user_guide/indexing.html#returning-a-view-versus-a-copy\n",
      "  current_data['Date'] = current_data.index\n"
     ]
    },
    {
     "name": "stdout",
     "output_type": "stream",
     "text": [
      "shape of df4 is (480, 3541)\n",
      "Completed 221 out of 461 steps\n",
      "the main data is of shape (540, 2)\n",
      "shape of current_data2 is (540, 59)\n"
     ]
    },
    {
     "name": "stderr",
     "output_type": "stream",
     "text": [
      "C:\\Users\\abhij\\AppData\\Local\\Temp\\ipykernel_18688\\568520512.py:16: SettingWithCopyWarning: \n",
      "A value is trying to be set on a copy of a slice from a DataFrame.\n",
      "Try using .loc[row_indexer,col_indexer] = value instead\n",
      "\n",
      "See the caveats in the documentation: https://pandas.pydata.org/pandas-docs/stable/user_guide/indexing.html#returning-a-view-versus-a-copy\n",
      "  current_data['Date'] = current_data.index\n"
     ]
    },
    {
     "name": "stdout",
     "output_type": "stream",
     "text": [
      "shape of df4 is (480, 3541)\n",
      "Completed 222 out of 461 steps\n",
      "the main data is of shape (540, 2)\n",
      "shape of current_data2 is (540, 59)\n"
     ]
    },
    {
     "name": "stderr",
     "output_type": "stream",
     "text": [
      "C:\\Users\\abhij\\AppData\\Local\\Temp\\ipykernel_18688\\568520512.py:16: SettingWithCopyWarning: \n",
      "A value is trying to be set on a copy of a slice from a DataFrame.\n",
      "Try using .loc[row_indexer,col_indexer] = value instead\n",
      "\n",
      "See the caveats in the documentation: https://pandas.pydata.org/pandas-docs/stable/user_guide/indexing.html#returning-a-view-versus-a-copy\n",
      "  current_data['Date'] = current_data.index\n"
     ]
    },
    {
     "name": "stdout",
     "output_type": "stream",
     "text": [
      "shape of df4 is (480, 3541)\n",
      "Completed 223 out of 461 steps\n",
      "the main data is of shape (540, 2)\n",
      "shape of current_data2 is (540, 59)\n"
     ]
    },
    {
     "name": "stderr",
     "output_type": "stream",
     "text": [
      "C:\\Users\\abhij\\AppData\\Local\\Temp\\ipykernel_18688\\568520512.py:16: SettingWithCopyWarning: \n",
      "A value is trying to be set on a copy of a slice from a DataFrame.\n",
      "Try using .loc[row_indexer,col_indexer] = value instead\n",
      "\n",
      "See the caveats in the documentation: https://pandas.pydata.org/pandas-docs/stable/user_guide/indexing.html#returning-a-view-versus-a-copy\n",
      "  current_data['Date'] = current_data.index\n"
     ]
    },
    {
     "name": "stdout",
     "output_type": "stream",
     "text": [
      "shape of df4 is (480, 3541)\n",
      "Completed 224 out of 461 steps\n",
      "the main data is of shape (540, 2)\n",
      "shape of current_data2 is (540, 59)\n"
     ]
    },
    {
     "name": "stderr",
     "output_type": "stream",
     "text": [
      "C:\\Users\\abhij\\AppData\\Local\\Temp\\ipykernel_18688\\568520512.py:16: SettingWithCopyWarning: \n",
      "A value is trying to be set on a copy of a slice from a DataFrame.\n",
      "Try using .loc[row_indexer,col_indexer] = value instead\n",
      "\n",
      "See the caveats in the documentation: https://pandas.pydata.org/pandas-docs/stable/user_guide/indexing.html#returning-a-view-versus-a-copy\n",
      "  current_data['Date'] = current_data.index\n"
     ]
    },
    {
     "name": "stdout",
     "output_type": "stream",
     "text": [
      "shape of df4 is (480, 3541)\n",
      "Completed 225 out of 461 steps\n",
      "the main data is of shape (540, 2)\n",
      "shape of current_data2 is (540, 59)\n"
     ]
    },
    {
     "name": "stderr",
     "output_type": "stream",
     "text": [
      "C:\\Users\\abhij\\AppData\\Local\\Temp\\ipykernel_18688\\568520512.py:16: SettingWithCopyWarning: \n",
      "A value is trying to be set on a copy of a slice from a DataFrame.\n",
      "Try using .loc[row_indexer,col_indexer] = value instead\n",
      "\n",
      "See the caveats in the documentation: https://pandas.pydata.org/pandas-docs/stable/user_guide/indexing.html#returning-a-view-versus-a-copy\n",
      "  current_data['Date'] = current_data.index\n"
     ]
    },
    {
     "name": "stdout",
     "output_type": "stream",
     "text": [
      "shape of df4 is (480, 3541)\n",
      "Completed 226 out of 461 steps\n",
      "the main data is of shape (540, 2)\n",
      "shape of current_data2 is (540, 59)\n"
     ]
    },
    {
     "name": "stderr",
     "output_type": "stream",
     "text": [
      "C:\\Users\\abhij\\AppData\\Local\\Temp\\ipykernel_18688\\568520512.py:16: SettingWithCopyWarning: \n",
      "A value is trying to be set on a copy of a slice from a DataFrame.\n",
      "Try using .loc[row_indexer,col_indexer] = value instead\n",
      "\n",
      "See the caveats in the documentation: https://pandas.pydata.org/pandas-docs/stable/user_guide/indexing.html#returning-a-view-versus-a-copy\n",
      "  current_data['Date'] = current_data.index\n"
     ]
    },
    {
     "name": "stdout",
     "output_type": "stream",
     "text": [
      "shape of df4 is (480, 3541)\n",
      "Completed 227 out of 461 steps\n",
      "the main data is of shape (540, 2)\n",
      "shape of current_data2 is (540, 59)\n"
     ]
    },
    {
     "name": "stderr",
     "output_type": "stream",
     "text": [
      "C:\\Users\\abhij\\AppData\\Local\\Temp\\ipykernel_18688\\568520512.py:16: SettingWithCopyWarning: \n",
      "A value is trying to be set on a copy of a slice from a DataFrame.\n",
      "Try using .loc[row_indexer,col_indexer] = value instead\n",
      "\n",
      "See the caveats in the documentation: https://pandas.pydata.org/pandas-docs/stable/user_guide/indexing.html#returning-a-view-versus-a-copy\n",
      "  current_data['Date'] = current_data.index\n"
     ]
    },
    {
     "name": "stdout",
     "output_type": "stream",
     "text": [
      "shape of df4 is (480, 3541)\n",
      "Completed 228 out of 461 steps\n",
      "the main data is of shape (540, 2)\n",
      "shape of current_data2 is (540, 59)\n"
     ]
    },
    {
     "name": "stderr",
     "output_type": "stream",
     "text": [
      "C:\\Users\\abhij\\AppData\\Local\\Temp\\ipykernel_18688\\568520512.py:16: SettingWithCopyWarning: \n",
      "A value is trying to be set on a copy of a slice from a DataFrame.\n",
      "Try using .loc[row_indexer,col_indexer] = value instead\n",
      "\n",
      "See the caveats in the documentation: https://pandas.pydata.org/pandas-docs/stable/user_guide/indexing.html#returning-a-view-versus-a-copy\n",
      "  current_data['Date'] = current_data.index\n"
     ]
    },
    {
     "name": "stdout",
     "output_type": "stream",
     "text": [
      "shape of df4 is (480, 3541)\n",
      "Completed 229 out of 461 steps\n",
      "the main data is of shape (540, 2)\n",
      "shape of current_data2 is (540, 59)\n"
     ]
    },
    {
     "name": "stderr",
     "output_type": "stream",
     "text": [
      "C:\\Users\\abhij\\AppData\\Local\\Temp\\ipykernel_18688\\568520512.py:16: SettingWithCopyWarning: \n",
      "A value is trying to be set on a copy of a slice from a DataFrame.\n",
      "Try using .loc[row_indexer,col_indexer] = value instead\n",
      "\n",
      "See the caveats in the documentation: https://pandas.pydata.org/pandas-docs/stable/user_guide/indexing.html#returning-a-view-versus-a-copy\n",
      "  current_data['Date'] = current_data.index\n"
     ]
    },
    {
     "name": "stdout",
     "output_type": "stream",
     "text": [
      "shape of df4 is (480, 3541)\n",
      "Completed 230 out of 461 steps\n",
      "the main data is of shape (540, 2)\n",
      "shape of current_data2 is (540, 59)\n"
     ]
    },
    {
     "name": "stderr",
     "output_type": "stream",
     "text": [
      "C:\\Users\\abhij\\AppData\\Local\\Temp\\ipykernel_18688\\568520512.py:16: SettingWithCopyWarning: \n",
      "A value is trying to be set on a copy of a slice from a DataFrame.\n",
      "Try using .loc[row_indexer,col_indexer] = value instead\n",
      "\n",
      "See the caveats in the documentation: https://pandas.pydata.org/pandas-docs/stable/user_guide/indexing.html#returning-a-view-versus-a-copy\n",
      "  current_data['Date'] = current_data.index\n"
     ]
    },
    {
     "name": "stdout",
     "output_type": "stream",
     "text": [
      "shape of df4 is (480, 3541)\n",
      "Completed 231 out of 461 steps\n",
      "the main data is of shape (540, 2)\n",
      "shape of current_data2 is (540, 59)\n"
     ]
    },
    {
     "name": "stderr",
     "output_type": "stream",
     "text": [
      "C:\\Users\\abhij\\AppData\\Local\\Temp\\ipykernel_18688\\568520512.py:16: SettingWithCopyWarning: \n",
      "A value is trying to be set on a copy of a slice from a DataFrame.\n",
      "Try using .loc[row_indexer,col_indexer] = value instead\n",
      "\n",
      "See the caveats in the documentation: https://pandas.pydata.org/pandas-docs/stable/user_guide/indexing.html#returning-a-view-versus-a-copy\n",
      "  current_data['Date'] = current_data.index\n"
     ]
    },
    {
     "name": "stdout",
     "output_type": "stream",
     "text": [
      "shape of df4 is (480, 3541)\n",
      "Completed 232 out of 461 steps\n",
      "the main data is of shape (540, 2)\n",
      "shape of current_data2 is (540, 59)\n"
     ]
    },
    {
     "name": "stderr",
     "output_type": "stream",
     "text": [
      "C:\\Users\\abhij\\AppData\\Local\\Temp\\ipykernel_18688\\568520512.py:16: SettingWithCopyWarning: \n",
      "A value is trying to be set on a copy of a slice from a DataFrame.\n",
      "Try using .loc[row_indexer,col_indexer] = value instead\n",
      "\n",
      "See the caveats in the documentation: https://pandas.pydata.org/pandas-docs/stable/user_guide/indexing.html#returning-a-view-versus-a-copy\n",
      "  current_data['Date'] = current_data.index\n"
     ]
    },
    {
     "name": "stdout",
     "output_type": "stream",
     "text": [
      "shape of df4 is (480, 3541)\n",
      "Completed 233 out of 461 steps\n",
      "the main data is of shape (540, 2)\n",
      "shape of current_data2 is (540, 59)\n"
     ]
    },
    {
     "name": "stderr",
     "output_type": "stream",
     "text": [
      "C:\\Users\\abhij\\AppData\\Local\\Temp\\ipykernel_18688\\568520512.py:16: SettingWithCopyWarning: \n",
      "A value is trying to be set on a copy of a slice from a DataFrame.\n",
      "Try using .loc[row_indexer,col_indexer] = value instead\n",
      "\n",
      "See the caveats in the documentation: https://pandas.pydata.org/pandas-docs/stable/user_guide/indexing.html#returning-a-view-versus-a-copy\n",
      "  current_data['Date'] = current_data.index\n"
     ]
    },
    {
     "name": "stdout",
     "output_type": "stream",
     "text": [
      "shape of df4 is (480, 3541)\n",
      "Completed 234 out of 461 steps\n",
      "the main data is of shape (540, 2)\n",
      "shape of current_data2 is (540, 59)\n"
     ]
    },
    {
     "name": "stderr",
     "output_type": "stream",
     "text": [
      "C:\\Users\\abhij\\AppData\\Local\\Temp\\ipykernel_18688\\568520512.py:16: SettingWithCopyWarning: \n",
      "A value is trying to be set on a copy of a slice from a DataFrame.\n",
      "Try using .loc[row_indexer,col_indexer] = value instead\n",
      "\n",
      "See the caveats in the documentation: https://pandas.pydata.org/pandas-docs/stable/user_guide/indexing.html#returning-a-view-versus-a-copy\n",
      "  current_data['Date'] = current_data.index\n"
     ]
    },
    {
     "name": "stdout",
     "output_type": "stream",
     "text": [
      "shape of df4 is (480, 3541)\n",
      "Completed 235 out of 461 steps\n",
      "the main data is of shape (540, 2)\n",
      "shape of current_data2 is (540, 59)\n"
     ]
    },
    {
     "name": "stderr",
     "output_type": "stream",
     "text": [
      "C:\\Users\\abhij\\AppData\\Local\\Temp\\ipykernel_18688\\568520512.py:16: SettingWithCopyWarning: \n",
      "A value is trying to be set on a copy of a slice from a DataFrame.\n",
      "Try using .loc[row_indexer,col_indexer] = value instead\n",
      "\n",
      "See the caveats in the documentation: https://pandas.pydata.org/pandas-docs/stable/user_guide/indexing.html#returning-a-view-versus-a-copy\n",
      "  current_data['Date'] = current_data.index\n"
     ]
    },
    {
     "name": "stdout",
     "output_type": "stream",
     "text": [
      "shape of df4 is (480, 3541)\n",
      "Completed 236 out of 461 steps\n",
      "the main data is of shape (540, 2)\n",
      "shape of current_data2 is (540, 59)\n"
     ]
    },
    {
     "name": "stderr",
     "output_type": "stream",
     "text": [
      "C:\\Users\\abhij\\AppData\\Local\\Temp\\ipykernel_18688\\568520512.py:16: SettingWithCopyWarning: \n",
      "A value is trying to be set on a copy of a slice from a DataFrame.\n",
      "Try using .loc[row_indexer,col_indexer] = value instead\n",
      "\n",
      "See the caveats in the documentation: https://pandas.pydata.org/pandas-docs/stable/user_guide/indexing.html#returning-a-view-versus-a-copy\n",
      "  current_data['Date'] = current_data.index\n"
     ]
    },
    {
     "name": "stdout",
     "output_type": "stream",
     "text": [
      "shape of df4 is (480, 3541)\n",
      "Completed 237 out of 461 steps\n",
      "the main data is of shape (540, 2)\n",
      "shape of current_data2 is (540, 59)\n"
     ]
    },
    {
     "name": "stderr",
     "output_type": "stream",
     "text": [
      "C:\\Users\\abhij\\AppData\\Local\\Temp\\ipykernel_18688\\568520512.py:16: SettingWithCopyWarning: \n",
      "A value is trying to be set on a copy of a slice from a DataFrame.\n",
      "Try using .loc[row_indexer,col_indexer] = value instead\n",
      "\n",
      "See the caveats in the documentation: https://pandas.pydata.org/pandas-docs/stable/user_guide/indexing.html#returning-a-view-versus-a-copy\n",
      "  current_data['Date'] = current_data.index\n"
     ]
    },
    {
     "name": "stdout",
     "output_type": "stream",
     "text": [
      "shape of df4 is (480, 3541)\n",
      "Completed 238 out of 461 steps\n",
      "the main data is of shape (540, 2)\n",
      "shape of current_data2 is (540, 59)\n"
     ]
    },
    {
     "name": "stderr",
     "output_type": "stream",
     "text": [
      "C:\\Users\\abhij\\AppData\\Local\\Temp\\ipykernel_18688\\568520512.py:16: SettingWithCopyWarning: \n",
      "A value is trying to be set on a copy of a slice from a DataFrame.\n",
      "Try using .loc[row_indexer,col_indexer] = value instead\n",
      "\n",
      "See the caveats in the documentation: https://pandas.pydata.org/pandas-docs/stable/user_guide/indexing.html#returning-a-view-versus-a-copy\n",
      "  current_data['Date'] = current_data.index\n"
     ]
    },
    {
     "name": "stdout",
     "output_type": "stream",
     "text": [
      "shape of df4 is (480, 3541)\n",
      "Completed 239 out of 461 steps\n",
      "the main data is of shape (540, 2)\n",
      "shape of current_data2 is (540, 59)\n"
     ]
    },
    {
     "name": "stderr",
     "output_type": "stream",
     "text": [
      "C:\\Users\\abhij\\AppData\\Local\\Temp\\ipykernel_18688\\568520512.py:16: SettingWithCopyWarning: \n",
      "A value is trying to be set on a copy of a slice from a DataFrame.\n",
      "Try using .loc[row_indexer,col_indexer] = value instead\n",
      "\n",
      "See the caveats in the documentation: https://pandas.pydata.org/pandas-docs/stable/user_guide/indexing.html#returning-a-view-versus-a-copy\n",
      "  current_data['Date'] = current_data.index\n"
     ]
    },
    {
     "name": "stdout",
     "output_type": "stream",
     "text": [
      "shape of df4 is (480, 3541)\n",
      "Completed 240 out of 461 steps\n",
      "the main data is of shape (540, 2)\n",
      "shape of current_data2 is (540, 59)\n"
     ]
    },
    {
     "name": "stderr",
     "output_type": "stream",
     "text": [
      "C:\\Users\\abhij\\AppData\\Local\\Temp\\ipykernel_18688\\568520512.py:16: SettingWithCopyWarning: \n",
      "A value is trying to be set on a copy of a slice from a DataFrame.\n",
      "Try using .loc[row_indexer,col_indexer] = value instead\n",
      "\n",
      "See the caveats in the documentation: https://pandas.pydata.org/pandas-docs/stable/user_guide/indexing.html#returning-a-view-versus-a-copy\n",
      "  current_data['Date'] = current_data.index\n"
     ]
    },
    {
     "name": "stdout",
     "output_type": "stream",
     "text": [
      "shape of df4 is (480, 3541)\n",
      "Completed 241 out of 461 steps\n",
      "the main data is of shape (540, 2)\n",
      "shape of current_data2 is (540, 59)\n"
     ]
    },
    {
     "name": "stderr",
     "output_type": "stream",
     "text": [
      "C:\\Users\\abhij\\AppData\\Local\\Temp\\ipykernel_18688\\568520512.py:16: SettingWithCopyWarning: \n",
      "A value is trying to be set on a copy of a slice from a DataFrame.\n",
      "Try using .loc[row_indexer,col_indexer] = value instead\n",
      "\n",
      "See the caveats in the documentation: https://pandas.pydata.org/pandas-docs/stable/user_guide/indexing.html#returning-a-view-versus-a-copy\n",
      "  current_data['Date'] = current_data.index\n"
     ]
    },
    {
     "name": "stdout",
     "output_type": "stream",
     "text": [
      "shape of df4 is (480, 3541)\n",
      "Completed 242 out of 461 steps\n",
      "the main data is of shape (540, 2)\n",
      "shape of current_data2 is (540, 59)\n"
     ]
    },
    {
     "name": "stderr",
     "output_type": "stream",
     "text": [
      "C:\\Users\\abhij\\AppData\\Local\\Temp\\ipykernel_18688\\568520512.py:16: SettingWithCopyWarning: \n",
      "A value is trying to be set on a copy of a slice from a DataFrame.\n",
      "Try using .loc[row_indexer,col_indexer] = value instead\n",
      "\n",
      "See the caveats in the documentation: https://pandas.pydata.org/pandas-docs/stable/user_guide/indexing.html#returning-a-view-versus-a-copy\n",
      "  current_data['Date'] = current_data.index\n"
     ]
    },
    {
     "name": "stdout",
     "output_type": "stream",
     "text": [
      "shape of df4 is (480, 3541)\n",
      "Completed 243 out of 461 steps\n",
      "the main data is of shape (517, 2)\n",
      "shape of current_data2 is (517, 59)\n"
     ]
    },
    {
     "name": "stderr",
     "output_type": "stream",
     "text": [
      "C:\\Users\\abhij\\AppData\\Local\\Temp\\ipykernel_18688\\568520512.py:16: SettingWithCopyWarning: \n",
      "A value is trying to be set on a copy of a slice from a DataFrame.\n",
      "Try using .loc[row_indexer,col_indexer] = value instead\n",
      "\n",
      "See the caveats in the documentation: https://pandas.pydata.org/pandas-docs/stable/user_guide/indexing.html#returning-a-view-versus-a-copy\n",
      "  current_data['Date'] = current_data.index\n"
     ]
    },
    {
     "name": "stdout",
     "output_type": "stream",
     "text": [
      "shape of df4 is (457, 3541)\n",
      "Completed 244 out of 461 steps\n",
      "the main data is of shape (540, 2)\n",
      "shape of current_data2 is (540, 59)\n"
     ]
    },
    {
     "name": "stderr",
     "output_type": "stream",
     "text": [
      "C:\\Users\\abhij\\AppData\\Local\\Temp\\ipykernel_18688\\568520512.py:16: SettingWithCopyWarning: \n",
      "A value is trying to be set on a copy of a slice from a DataFrame.\n",
      "Try using .loc[row_indexer,col_indexer] = value instead\n",
      "\n",
      "See the caveats in the documentation: https://pandas.pydata.org/pandas-docs/stable/user_guide/indexing.html#returning-a-view-versus-a-copy\n",
      "  current_data['Date'] = current_data.index\n"
     ]
    },
    {
     "name": "stdout",
     "output_type": "stream",
     "text": [
      "shape of df4 is (480, 3541)\n",
      "Completed 245 out of 461 steps\n",
      "the main data is of shape (540, 2)\n",
      "shape of current_data2 is (540, 59)\n"
     ]
    },
    {
     "name": "stderr",
     "output_type": "stream",
     "text": [
      "C:\\Users\\abhij\\AppData\\Local\\Temp\\ipykernel_18688\\568520512.py:16: SettingWithCopyWarning: \n",
      "A value is trying to be set on a copy of a slice from a DataFrame.\n",
      "Try using .loc[row_indexer,col_indexer] = value instead\n",
      "\n",
      "See the caveats in the documentation: https://pandas.pydata.org/pandas-docs/stable/user_guide/indexing.html#returning-a-view-versus-a-copy\n",
      "  current_data['Date'] = current_data.index\n"
     ]
    },
    {
     "name": "stdout",
     "output_type": "stream",
     "text": [
      "shape of df4 is (480, 3541)\n",
      "Completed 246 out of 461 steps\n",
      "the main data is of shape (540, 2)\n",
      "shape of current_data2 is (540, 59)\n"
     ]
    },
    {
     "name": "stderr",
     "output_type": "stream",
     "text": [
      "C:\\Users\\abhij\\AppData\\Local\\Temp\\ipykernel_18688\\568520512.py:16: SettingWithCopyWarning: \n",
      "A value is trying to be set on a copy of a slice from a DataFrame.\n",
      "Try using .loc[row_indexer,col_indexer] = value instead\n",
      "\n",
      "See the caveats in the documentation: https://pandas.pydata.org/pandas-docs/stable/user_guide/indexing.html#returning-a-view-versus-a-copy\n",
      "  current_data['Date'] = current_data.index\n"
     ]
    },
    {
     "name": "stdout",
     "output_type": "stream",
     "text": [
      "shape of df4 is (480, 3541)\n",
      "Completed 247 out of 461 steps\n",
      "the main data is of shape (540, 2)\n",
      "shape of current_data2 is (540, 59)\n"
     ]
    },
    {
     "name": "stderr",
     "output_type": "stream",
     "text": [
      "C:\\Users\\abhij\\AppData\\Local\\Temp\\ipykernel_18688\\568520512.py:16: SettingWithCopyWarning: \n",
      "A value is trying to be set on a copy of a slice from a DataFrame.\n",
      "Try using .loc[row_indexer,col_indexer] = value instead\n",
      "\n",
      "See the caveats in the documentation: https://pandas.pydata.org/pandas-docs/stable/user_guide/indexing.html#returning-a-view-versus-a-copy\n",
      "  current_data['Date'] = current_data.index\n"
     ]
    },
    {
     "name": "stdout",
     "output_type": "stream",
     "text": [
      "shape of df4 is (480, 3541)\n",
      "Completed 248 out of 461 steps\n",
      "the main data is of shape (540, 2)\n",
      "shape of current_data2 is (540, 59)\n"
     ]
    },
    {
     "name": "stderr",
     "output_type": "stream",
     "text": [
      "C:\\Users\\abhij\\AppData\\Local\\Temp\\ipykernel_18688\\568520512.py:16: SettingWithCopyWarning: \n",
      "A value is trying to be set on a copy of a slice from a DataFrame.\n",
      "Try using .loc[row_indexer,col_indexer] = value instead\n",
      "\n",
      "See the caveats in the documentation: https://pandas.pydata.org/pandas-docs/stable/user_guide/indexing.html#returning-a-view-versus-a-copy\n",
      "  current_data['Date'] = current_data.index\n"
     ]
    },
    {
     "name": "stdout",
     "output_type": "stream",
     "text": [
      "shape of df4 is (480, 3541)\n",
      "Completed 249 out of 461 steps\n",
      "the main data is of shape (540, 2)\n",
      "shape of current_data2 is (540, 59)\n"
     ]
    },
    {
     "name": "stderr",
     "output_type": "stream",
     "text": [
      "C:\\Users\\abhij\\AppData\\Local\\Temp\\ipykernel_18688\\568520512.py:16: SettingWithCopyWarning: \n",
      "A value is trying to be set on a copy of a slice from a DataFrame.\n",
      "Try using .loc[row_indexer,col_indexer] = value instead\n",
      "\n",
      "See the caveats in the documentation: https://pandas.pydata.org/pandas-docs/stable/user_guide/indexing.html#returning-a-view-versus-a-copy\n",
      "  current_data['Date'] = current_data.index\n"
     ]
    },
    {
     "name": "stdout",
     "output_type": "stream",
     "text": [
      "shape of df4 is (480, 3541)\n",
      "Completed 250 out of 461 steps\n",
      "the main data is of shape (540, 2)\n",
      "shape of current_data2 is (540, 59)\n"
     ]
    },
    {
     "name": "stderr",
     "output_type": "stream",
     "text": [
      "C:\\Users\\abhij\\AppData\\Local\\Temp\\ipykernel_18688\\568520512.py:16: SettingWithCopyWarning: \n",
      "A value is trying to be set on a copy of a slice from a DataFrame.\n",
      "Try using .loc[row_indexer,col_indexer] = value instead\n",
      "\n",
      "See the caveats in the documentation: https://pandas.pydata.org/pandas-docs/stable/user_guide/indexing.html#returning-a-view-versus-a-copy\n",
      "  current_data['Date'] = current_data.index\n"
     ]
    },
    {
     "name": "stdout",
     "output_type": "stream",
     "text": [
      "shape of df4 is (480, 3541)\n",
      "Completed 251 out of 461 steps\n",
      "the main data is of shape (540, 2)\n",
      "shape of current_data2 is (540, 59)\n"
     ]
    },
    {
     "name": "stderr",
     "output_type": "stream",
     "text": [
      "C:\\Users\\abhij\\AppData\\Local\\Temp\\ipykernel_18688\\568520512.py:16: SettingWithCopyWarning: \n",
      "A value is trying to be set on a copy of a slice from a DataFrame.\n",
      "Try using .loc[row_indexer,col_indexer] = value instead\n",
      "\n",
      "See the caveats in the documentation: https://pandas.pydata.org/pandas-docs/stable/user_guide/indexing.html#returning-a-view-versus-a-copy\n",
      "  current_data['Date'] = current_data.index\n"
     ]
    },
    {
     "name": "stdout",
     "output_type": "stream",
     "text": [
      "shape of df4 is (480, 3541)\n",
      "Completed 252 out of 461 steps\n",
      "the main data is of shape (540, 2)\n",
      "shape of current_data2 is (540, 59)\n"
     ]
    },
    {
     "name": "stderr",
     "output_type": "stream",
     "text": [
      "C:\\Users\\abhij\\AppData\\Local\\Temp\\ipykernel_18688\\568520512.py:16: SettingWithCopyWarning: \n",
      "A value is trying to be set on a copy of a slice from a DataFrame.\n",
      "Try using .loc[row_indexer,col_indexer] = value instead\n",
      "\n",
      "See the caveats in the documentation: https://pandas.pydata.org/pandas-docs/stable/user_guide/indexing.html#returning-a-view-versus-a-copy\n",
      "  current_data['Date'] = current_data.index\n"
     ]
    },
    {
     "name": "stdout",
     "output_type": "stream",
     "text": [
      "shape of df4 is (480, 3541)\n",
      "Completed 253 out of 461 steps\n",
      "the main data is of shape (540, 2)\n",
      "shape of current_data2 is (540, 59)\n"
     ]
    },
    {
     "name": "stderr",
     "output_type": "stream",
     "text": [
      "C:\\Users\\abhij\\AppData\\Local\\Temp\\ipykernel_18688\\568520512.py:16: SettingWithCopyWarning: \n",
      "A value is trying to be set on a copy of a slice from a DataFrame.\n",
      "Try using .loc[row_indexer,col_indexer] = value instead\n",
      "\n",
      "See the caveats in the documentation: https://pandas.pydata.org/pandas-docs/stable/user_guide/indexing.html#returning-a-view-versus-a-copy\n",
      "  current_data['Date'] = current_data.index\n"
     ]
    },
    {
     "name": "stdout",
     "output_type": "stream",
     "text": [
      "shape of df4 is (480, 3541)\n",
      "Completed 254 out of 461 steps\n",
      "the main data is of shape (540, 2)\n",
      "shape of current_data2 is (540, 59)\n"
     ]
    },
    {
     "name": "stderr",
     "output_type": "stream",
     "text": [
      "C:\\Users\\abhij\\AppData\\Local\\Temp\\ipykernel_18688\\568520512.py:16: SettingWithCopyWarning: \n",
      "A value is trying to be set on a copy of a slice from a DataFrame.\n",
      "Try using .loc[row_indexer,col_indexer] = value instead\n",
      "\n",
      "See the caveats in the documentation: https://pandas.pydata.org/pandas-docs/stable/user_guide/indexing.html#returning-a-view-versus-a-copy\n",
      "  current_data['Date'] = current_data.index\n"
     ]
    },
    {
     "name": "stdout",
     "output_type": "stream",
     "text": [
      "shape of df4 is (480, 3541)\n",
      "Completed 255 out of 461 steps\n",
      "the main data is of shape (512, 2)\n",
      "shape of current_data2 is (512, 59)\n"
     ]
    },
    {
     "name": "stderr",
     "output_type": "stream",
     "text": [
      "C:\\Users\\abhij\\AppData\\Local\\Temp\\ipykernel_18688\\568520512.py:16: SettingWithCopyWarning: \n",
      "A value is trying to be set on a copy of a slice from a DataFrame.\n",
      "Try using .loc[row_indexer,col_indexer] = value instead\n",
      "\n",
      "See the caveats in the documentation: https://pandas.pydata.org/pandas-docs/stable/user_guide/indexing.html#returning-a-view-versus-a-copy\n",
      "  current_data['Date'] = current_data.index\n"
     ]
    },
    {
     "name": "stdout",
     "output_type": "stream",
     "text": [
      "shape of df4 is (452, 3541)\n",
      "Completed 256 out of 461 steps\n",
      "the main data is of shape (540, 2)\n",
      "shape of current_data2 is (540, 59)\n"
     ]
    },
    {
     "name": "stderr",
     "output_type": "stream",
     "text": [
      "C:\\Users\\abhij\\AppData\\Local\\Temp\\ipykernel_18688\\568520512.py:16: SettingWithCopyWarning: \n",
      "A value is trying to be set on a copy of a slice from a DataFrame.\n",
      "Try using .loc[row_indexer,col_indexer] = value instead\n",
      "\n",
      "See the caveats in the documentation: https://pandas.pydata.org/pandas-docs/stable/user_guide/indexing.html#returning-a-view-versus-a-copy\n",
      "  current_data['Date'] = current_data.index\n"
     ]
    },
    {
     "name": "stdout",
     "output_type": "stream",
     "text": [
      "shape of df4 is (480, 3541)\n",
      "Completed 257 out of 461 steps\n",
      "the main data is of shape (540, 2)\n",
      "shape of current_data2 is (540, 59)\n"
     ]
    },
    {
     "name": "stderr",
     "output_type": "stream",
     "text": [
      "C:\\Users\\abhij\\AppData\\Local\\Temp\\ipykernel_18688\\568520512.py:16: SettingWithCopyWarning: \n",
      "A value is trying to be set on a copy of a slice from a DataFrame.\n",
      "Try using .loc[row_indexer,col_indexer] = value instead\n",
      "\n",
      "See the caveats in the documentation: https://pandas.pydata.org/pandas-docs/stable/user_guide/indexing.html#returning-a-view-versus-a-copy\n",
      "  current_data['Date'] = current_data.index\n"
     ]
    },
    {
     "name": "stdout",
     "output_type": "stream",
     "text": [
      "shape of df4 is (480, 3541)\n",
      "Completed 258 out of 461 steps\n",
      "the main data is of shape (540, 2)\n",
      "shape of current_data2 is (540, 59)\n"
     ]
    },
    {
     "name": "stderr",
     "output_type": "stream",
     "text": [
      "C:\\Users\\abhij\\AppData\\Local\\Temp\\ipykernel_18688\\568520512.py:16: SettingWithCopyWarning: \n",
      "A value is trying to be set on a copy of a slice from a DataFrame.\n",
      "Try using .loc[row_indexer,col_indexer] = value instead\n",
      "\n",
      "See the caveats in the documentation: https://pandas.pydata.org/pandas-docs/stable/user_guide/indexing.html#returning-a-view-versus-a-copy\n",
      "  current_data['Date'] = current_data.index\n"
     ]
    },
    {
     "name": "stdout",
     "output_type": "stream",
     "text": [
      "shape of df4 is (480, 3541)\n",
      "Completed 259 out of 461 steps\n",
      "the main data is of shape (540, 2)\n",
      "shape of current_data2 is (540, 59)\n"
     ]
    },
    {
     "name": "stderr",
     "output_type": "stream",
     "text": [
      "C:\\Users\\abhij\\AppData\\Local\\Temp\\ipykernel_18688\\568520512.py:16: SettingWithCopyWarning: \n",
      "A value is trying to be set on a copy of a slice from a DataFrame.\n",
      "Try using .loc[row_indexer,col_indexer] = value instead\n",
      "\n",
      "See the caveats in the documentation: https://pandas.pydata.org/pandas-docs/stable/user_guide/indexing.html#returning-a-view-versus-a-copy\n",
      "  current_data['Date'] = current_data.index\n"
     ]
    },
    {
     "name": "stdout",
     "output_type": "stream",
     "text": [
      "shape of df4 is (480, 3541)\n",
      "Completed 260 out of 461 steps\n",
      "the main data is of shape (540, 2)\n",
      "shape of current_data2 is (540, 59)\n"
     ]
    },
    {
     "name": "stderr",
     "output_type": "stream",
     "text": [
      "C:\\Users\\abhij\\AppData\\Local\\Temp\\ipykernel_18688\\568520512.py:16: SettingWithCopyWarning: \n",
      "A value is trying to be set on a copy of a slice from a DataFrame.\n",
      "Try using .loc[row_indexer,col_indexer] = value instead\n",
      "\n",
      "See the caveats in the documentation: https://pandas.pydata.org/pandas-docs/stable/user_guide/indexing.html#returning-a-view-versus-a-copy\n",
      "  current_data['Date'] = current_data.index\n"
     ]
    },
    {
     "name": "stdout",
     "output_type": "stream",
     "text": [
      "shape of df4 is (480, 3541)\n",
      "Completed 261 out of 461 steps\n",
      "the main data is of shape (540, 2)\n",
      "shape of current_data2 is (540, 59)\n"
     ]
    },
    {
     "name": "stderr",
     "output_type": "stream",
     "text": [
      "C:\\Users\\abhij\\AppData\\Local\\Temp\\ipykernel_18688\\568520512.py:16: SettingWithCopyWarning: \n",
      "A value is trying to be set on a copy of a slice from a DataFrame.\n",
      "Try using .loc[row_indexer,col_indexer] = value instead\n",
      "\n",
      "See the caveats in the documentation: https://pandas.pydata.org/pandas-docs/stable/user_guide/indexing.html#returning-a-view-versus-a-copy\n",
      "  current_data['Date'] = current_data.index\n"
     ]
    },
    {
     "name": "stdout",
     "output_type": "stream",
     "text": [
      "shape of df4 is (480, 3541)\n",
      "Completed 262 out of 461 steps\n",
      "the main data is of shape (540, 2)\n",
      "shape of current_data2 is (540, 59)\n"
     ]
    },
    {
     "name": "stderr",
     "output_type": "stream",
     "text": [
      "C:\\Users\\abhij\\AppData\\Local\\Temp\\ipykernel_18688\\568520512.py:16: SettingWithCopyWarning: \n",
      "A value is trying to be set on a copy of a slice from a DataFrame.\n",
      "Try using .loc[row_indexer,col_indexer] = value instead\n",
      "\n",
      "See the caveats in the documentation: https://pandas.pydata.org/pandas-docs/stable/user_guide/indexing.html#returning-a-view-versus-a-copy\n",
      "  current_data['Date'] = current_data.index\n"
     ]
    },
    {
     "name": "stdout",
     "output_type": "stream",
     "text": [
      "shape of df4 is (480, 3541)\n",
      "Completed 263 out of 461 steps\n",
      "the main data is of shape (540, 2)\n",
      "shape of current_data2 is (540, 59)\n"
     ]
    },
    {
     "name": "stderr",
     "output_type": "stream",
     "text": [
      "C:\\Users\\abhij\\AppData\\Local\\Temp\\ipykernel_18688\\568520512.py:16: SettingWithCopyWarning: \n",
      "A value is trying to be set on a copy of a slice from a DataFrame.\n",
      "Try using .loc[row_indexer,col_indexer] = value instead\n",
      "\n",
      "See the caveats in the documentation: https://pandas.pydata.org/pandas-docs/stable/user_guide/indexing.html#returning-a-view-versus-a-copy\n",
      "  current_data['Date'] = current_data.index\n"
     ]
    },
    {
     "name": "stdout",
     "output_type": "stream",
     "text": [
      "shape of df4 is (480, 3541)\n",
      "Completed 264 out of 461 steps\n",
      "the main data is of shape (540, 2)\n",
      "shape of current_data2 is (540, 59)\n"
     ]
    },
    {
     "name": "stderr",
     "output_type": "stream",
     "text": [
      "C:\\Users\\abhij\\AppData\\Local\\Temp\\ipykernel_18688\\568520512.py:16: SettingWithCopyWarning: \n",
      "A value is trying to be set on a copy of a slice from a DataFrame.\n",
      "Try using .loc[row_indexer,col_indexer] = value instead\n",
      "\n",
      "See the caveats in the documentation: https://pandas.pydata.org/pandas-docs/stable/user_guide/indexing.html#returning-a-view-versus-a-copy\n",
      "  current_data['Date'] = current_data.index\n"
     ]
    },
    {
     "name": "stdout",
     "output_type": "stream",
     "text": [
      "shape of df4 is (480, 3541)\n",
      "Completed 265 out of 461 steps\n",
      "the main data is of shape (540, 2)\n",
      "shape of current_data2 is (540, 59)\n"
     ]
    },
    {
     "name": "stderr",
     "output_type": "stream",
     "text": [
      "C:\\Users\\abhij\\AppData\\Local\\Temp\\ipykernel_18688\\568520512.py:16: SettingWithCopyWarning: \n",
      "A value is trying to be set on a copy of a slice from a DataFrame.\n",
      "Try using .loc[row_indexer,col_indexer] = value instead\n",
      "\n",
      "See the caveats in the documentation: https://pandas.pydata.org/pandas-docs/stable/user_guide/indexing.html#returning-a-view-versus-a-copy\n",
      "  current_data['Date'] = current_data.index\n"
     ]
    },
    {
     "name": "stdout",
     "output_type": "stream",
     "text": [
      "shape of df4 is (480, 3541)\n",
      "Completed 266 out of 461 steps\n",
      "the main data is of shape (540, 2)\n",
      "shape of current_data2 is (540, 59)\n"
     ]
    },
    {
     "name": "stderr",
     "output_type": "stream",
     "text": [
      "C:\\Users\\abhij\\AppData\\Local\\Temp\\ipykernel_18688\\568520512.py:16: SettingWithCopyWarning: \n",
      "A value is trying to be set on a copy of a slice from a DataFrame.\n",
      "Try using .loc[row_indexer,col_indexer] = value instead\n",
      "\n",
      "See the caveats in the documentation: https://pandas.pydata.org/pandas-docs/stable/user_guide/indexing.html#returning-a-view-versus-a-copy\n",
      "  current_data['Date'] = current_data.index\n"
     ]
    },
    {
     "name": "stdout",
     "output_type": "stream",
     "text": [
      "shape of df4 is (480, 3541)\n",
      "Completed 267 out of 461 steps\n",
      "the main data is of shape (540, 2)\n",
      "shape of current_data2 is (540, 59)\n"
     ]
    },
    {
     "name": "stderr",
     "output_type": "stream",
     "text": [
      "C:\\Users\\abhij\\AppData\\Local\\Temp\\ipykernel_18688\\568520512.py:16: SettingWithCopyWarning: \n",
      "A value is trying to be set on a copy of a slice from a DataFrame.\n",
      "Try using .loc[row_indexer,col_indexer] = value instead\n",
      "\n",
      "See the caveats in the documentation: https://pandas.pydata.org/pandas-docs/stable/user_guide/indexing.html#returning-a-view-versus-a-copy\n",
      "  current_data['Date'] = current_data.index\n"
     ]
    },
    {
     "name": "stdout",
     "output_type": "stream",
     "text": [
      "shape of df4 is (480, 3541)\n",
      "Completed 268 out of 461 steps\n",
      "the main data is of shape (513, 2)\n",
      "shape of current_data2 is (513, 59)\n"
     ]
    },
    {
     "name": "stderr",
     "output_type": "stream",
     "text": [
      "C:\\Users\\abhij\\AppData\\Local\\Temp\\ipykernel_18688\\568520512.py:16: SettingWithCopyWarning: \n",
      "A value is trying to be set on a copy of a slice from a DataFrame.\n",
      "Try using .loc[row_indexer,col_indexer] = value instead\n",
      "\n",
      "See the caveats in the documentation: https://pandas.pydata.org/pandas-docs/stable/user_guide/indexing.html#returning-a-view-versus-a-copy\n",
      "  current_data['Date'] = current_data.index\n"
     ]
    },
    {
     "name": "stdout",
     "output_type": "stream",
     "text": [
      "shape of df4 is (453, 3541)\n",
      "Completed 269 out of 461 steps\n",
      "the main data is of shape (540, 2)\n",
      "shape of current_data2 is (540, 59)\n"
     ]
    },
    {
     "name": "stderr",
     "output_type": "stream",
     "text": [
      "C:\\Users\\abhij\\AppData\\Local\\Temp\\ipykernel_18688\\568520512.py:16: SettingWithCopyWarning: \n",
      "A value is trying to be set on a copy of a slice from a DataFrame.\n",
      "Try using .loc[row_indexer,col_indexer] = value instead\n",
      "\n",
      "See the caveats in the documentation: https://pandas.pydata.org/pandas-docs/stable/user_guide/indexing.html#returning-a-view-versus-a-copy\n",
      "  current_data['Date'] = current_data.index\n"
     ]
    },
    {
     "name": "stdout",
     "output_type": "stream",
     "text": [
      "shape of df4 is (480, 3541)\n",
      "Completed 270 out of 461 steps\n",
      "the main data is of shape (540, 2)\n",
      "shape of current_data2 is (540, 59)\n"
     ]
    },
    {
     "name": "stderr",
     "output_type": "stream",
     "text": [
      "C:\\Users\\abhij\\AppData\\Local\\Temp\\ipykernel_18688\\568520512.py:16: SettingWithCopyWarning: \n",
      "A value is trying to be set on a copy of a slice from a DataFrame.\n",
      "Try using .loc[row_indexer,col_indexer] = value instead\n",
      "\n",
      "See the caveats in the documentation: https://pandas.pydata.org/pandas-docs/stable/user_guide/indexing.html#returning-a-view-versus-a-copy\n",
      "  current_data['Date'] = current_data.index\n"
     ]
    },
    {
     "name": "stdout",
     "output_type": "stream",
     "text": [
      "shape of df4 is (480, 3541)\n",
      "Completed 271 out of 461 steps\n",
      "the main data is of shape (540, 2)\n",
      "shape of current_data2 is (540, 59)\n"
     ]
    },
    {
     "name": "stderr",
     "output_type": "stream",
     "text": [
      "C:\\Users\\abhij\\AppData\\Local\\Temp\\ipykernel_18688\\568520512.py:16: SettingWithCopyWarning: \n",
      "A value is trying to be set on a copy of a slice from a DataFrame.\n",
      "Try using .loc[row_indexer,col_indexer] = value instead\n",
      "\n",
      "See the caveats in the documentation: https://pandas.pydata.org/pandas-docs/stable/user_guide/indexing.html#returning-a-view-versus-a-copy\n",
      "  current_data['Date'] = current_data.index\n"
     ]
    },
    {
     "name": "stdout",
     "output_type": "stream",
     "text": [
      "shape of df4 is (480, 3541)\n",
      "Completed 272 out of 461 steps\n",
      "the main data is of shape (540, 2)\n",
      "shape of current_data2 is (540, 59)\n"
     ]
    },
    {
     "name": "stderr",
     "output_type": "stream",
     "text": [
      "C:\\Users\\abhij\\AppData\\Local\\Temp\\ipykernel_18688\\568520512.py:16: SettingWithCopyWarning: \n",
      "A value is trying to be set on a copy of a slice from a DataFrame.\n",
      "Try using .loc[row_indexer,col_indexer] = value instead\n",
      "\n",
      "See the caveats in the documentation: https://pandas.pydata.org/pandas-docs/stable/user_guide/indexing.html#returning-a-view-versus-a-copy\n",
      "  current_data['Date'] = current_data.index\n"
     ]
    },
    {
     "name": "stdout",
     "output_type": "stream",
     "text": [
      "shape of df4 is (480, 3541)\n",
      "Completed 273 out of 461 steps\n",
      "the main data is of shape (540, 2)\n",
      "shape of current_data2 is (540, 59)\n"
     ]
    },
    {
     "name": "stderr",
     "output_type": "stream",
     "text": [
      "C:\\Users\\abhij\\AppData\\Local\\Temp\\ipykernel_18688\\568520512.py:16: SettingWithCopyWarning: \n",
      "A value is trying to be set on a copy of a slice from a DataFrame.\n",
      "Try using .loc[row_indexer,col_indexer] = value instead\n",
      "\n",
      "See the caveats in the documentation: https://pandas.pydata.org/pandas-docs/stable/user_guide/indexing.html#returning-a-view-versus-a-copy\n",
      "  current_data['Date'] = current_data.index\n"
     ]
    },
    {
     "name": "stdout",
     "output_type": "stream",
     "text": [
      "shape of df4 is (480, 3541)\n",
      "Completed 274 out of 461 steps\n",
      "the main data is of shape (540, 2)\n",
      "shape of current_data2 is (540, 59)\n"
     ]
    },
    {
     "name": "stderr",
     "output_type": "stream",
     "text": [
      "C:\\Users\\abhij\\AppData\\Local\\Temp\\ipykernel_18688\\568520512.py:16: SettingWithCopyWarning: \n",
      "A value is trying to be set on a copy of a slice from a DataFrame.\n",
      "Try using .loc[row_indexer,col_indexer] = value instead\n",
      "\n",
      "See the caveats in the documentation: https://pandas.pydata.org/pandas-docs/stable/user_guide/indexing.html#returning-a-view-versus-a-copy\n",
      "  current_data['Date'] = current_data.index\n"
     ]
    },
    {
     "name": "stdout",
     "output_type": "stream",
     "text": [
      "shape of df4 is (480, 3541)\n",
      "Completed 275 out of 461 steps\n",
      "the main data is of shape (521, 2)\n",
      "shape of current_data2 is (521, 59)\n"
     ]
    },
    {
     "name": "stderr",
     "output_type": "stream",
     "text": [
      "C:\\Users\\abhij\\AppData\\Local\\Temp\\ipykernel_18688\\568520512.py:16: SettingWithCopyWarning: \n",
      "A value is trying to be set on a copy of a slice from a DataFrame.\n",
      "Try using .loc[row_indexer,col_indexer] = value instead\n",
      "\n",
      "See the caveats in the documentation: https://pandas.pydata.org/pandas-docs/stable/user_guide/indexing.html#returning-a-view-versus-a-copy\n",
      "  current_data['Date'] = current_data.index\n"
     ]
    },
    {
     "name": "stdout",
     "output_type": "stream",
     "text": [
      "shape of df4 is (461, 3541)\n",
      "Completed 276 out of 461 steps\n",
      "the main data is of shape (540, 2)\n",
      "shape of current_data2 is (540, 59)\n"
     ]
    },
    {
     "name": "stderr",
     "output_type": "stream",
     "text": [
      "C:\\Users\\abhij\\AppData\\Local\\Temp\\ipykernel_18688\\568520512.py:16: SettingWithCopyWarning: \n",
      "A value is trying to be set on a copy of a slice from a DataFrame.\n",
      "Try using .loc[row_indexer,col_indexer] = value instead\n",
      "\n",
      "See the caveats in the documentation: https://pandas.pydata.org/pandas-docs/stable/user_guide/indexing.html#returning-a-view-versus-a-copy\n",
      "  current_data['Date'] = current_data.index\n"
     ]
    },
    {
     "name": "stdout",
     "output_type": "stream",
     "text": [
      "shape of df4 is (480, 3541)\n",
      "Completed 277 out of 461 steps\n",
      "the main data is of shape (540, 2)\n",
      "shape of current_data2 is (540, 59)\n"
     ]
    },
    {
     "name": "stderr",
     "output_type": "stream",
     "text": [
      "C:\\Users\\abhij\\AppData\\Local\\Temp\\ipykernel_18688\\568520512.py:16: SettingWithCopyWarning: \n",
      "A value is trying to be set on a copy of a slice from a DataFrame.\n",
      "Try using .loc[row_indexer,col_indexer] = value instead\n",
      "\n",
      "See the caveats in the documentation: https://pandas.pydata.org/pandas-docs/stable/user_guide/indexing.html#returning-a-view-versus-a-copy\n",
      "  current_data['Date'] = current_data.index\n"
     ]
    },
    {
     "name": "stdout",
     "output_type": "stream",
     "text": [
      "shape of df4 is (480, 3541)\n",
      "Completed 278 out of 461 steps\n",
      "the main data is of shape (540, 2)\n",
      "shape of current_data2 is (540, 59)\n"
     ]
    },
    {
     "name": "stderr",
     "output_type": "stream",
     "text": [
      "C:\\Users\\abhij\\AppData\\Local\\Temp\\ipykernel_18688\\568520512.py:16: SettingWithCopyWarning: \n",
      "A value is trying to be set on a copy of a slice from a DataFrame.\n",
      "Try using .loc[row_indexer,col_indexer] = value instead\n",
      "\n",
      "See the caveats in the documentation: https://pandas.pydata.org/pandas-docs/stable/user_guide/indexing.html#returning-a-view-versus-a-copy\n",
      "  current_data['Date'] = current_data.index\n"
     ]
    },
    {
     "name": "stdout",
     "output_type": "stream",
     "text": [
      "shape of df4 is (480, 3541)\n",
      "Completed 279 out of 461 steps\n",
      "the main data is of shape (540, 2)\n",
      "shape of current_data2 is (540, 59)\n"
     ]
    },
    {
     "name": "stderr",
     "output_type": "stream",
     "text": [
      "C:\\Users\\abhij\\AppData\\Local\\Temp\\ipykernel_18688\\568520512.py:16: SettingWithCopyWarning: \n",
      "A value is trying to be set on a copy of a slice from a DataFrame.\n",
      "Try using .loc[row_indexer,col_indexer] = value instead\n",
      "\n",
      "See the caveats in the documentation: https://pandas.pydata.org/pandas-docs/stable/user_guide/indexing.html#returning-a-view-versus-a-copy\n",
      "  current_data['Date'] = current_data.index\n"
     ]
    },
    {
     "name": "stdout",
     "output_type": "stream",
     "text": [
      "shape of df4 is (480, 3541)\n",
      "Completed 280 out of 461 steps\n",
      "the main data is of shape (540, 2)\n",
      "shape of current_data2 is (540, 59)\n"
     ]
    },
    {
     "name": "stderr",
     "output_type": "stream",
     "text": [
      "C:\\Users\\abhij\\AppData\\Local\\Temp\\ipykernel_18688\\568520512.py:16: SettingWithCopyWarning: \n",
      "A value is trying to be set on a copy of a slice from a DataFrame.\n",
      "Try using .loc[row_indexer,col_indexer] = value instead\n",
      "\n",
      "See the caveats in the documentation: https://pandas.pydata.org/pandas-docs/stable/user_guide/indexing.html#returning-a-view-versus-a-copy\n",
      "  current_data['Date'] = current_data.index\n"
     ]
    },
    {
     "name": "stdout",
     "output_type": "stream",
     "text": [
      "shape of df4 is (480, 3541)\n",
      "Completed 281 out of 461 steps\n",
      "the main data is of shape (540, 2)\n",
      "shape of current_data2 is (540, 59)\n"
     ]
    },
    {
     "name": "stderr",
     "output_type": "stream",
     "text": [
      "C:\\Users\\abhij\\AppData\\Local\\Temp\\ipykernel_18688\\568520512.py:16: SettingWithCopyWarning: \n",
      "A value is trying to be set on a copy of a slice from a DataFrame.\n",
      "Try using .loc[row_indexer,col_indexer] = value instead\n",
      "\n",
      "See the caveats in the documentation: https://pandas.pydata.org/pandas-docs/stable/user_guide/indexing.html#returning-a-view-versus-a-copy\n",
      "  current_data['Date'] = current_data.index\n"
     ]
    },
    {
     "name": "stdout",
     "output_type": "stream",
     "text": [
      "shape of df4 is (480, 3541)\n",
      "Completed 282 out of 461 steps\n",
      "the main data is of shape (540, 2)\n",
      "shape of current_data2 is (540, 59)\n"
     ]
    },
    {
     "name": "stderr",
     "output_type": "stream",
     "text": [
      "C:\\Users\\abhij\\AppData\\Local\\Temp\\ipykernel_18688\\568520512.py:16: SettingWithCopyWarning: \n",
      "A value is trying to be set on a copy of a slice from a DataFrame.\n",
      "Try using .loc[row_indexer,col_indexer] = value instead\n",
      "\n",
      "See the caveats in the documentation: https://pandas.pydata.org/pandas-docs/stable/user_guide/indexing.html#returning-a-view-versus-a-copy\n",
      "  current_data['Date'] = current_data.index\n"
     ]
    },
    {
     "name": "stdout",
     "output_type": "stream",
     "text": [
      "shape of df4 is (480, 3541)\n",
      "Completed 283 out of 461 steps\n",
      "the main data is of shape (540, 2)\n",
      "shape of current_data2 is (540, 59)\n"
     ]
    },
    {
     "name": "stderr",
     "output_type": "stream",
     "text": [
      "C:\\Users\\abhij\\AppData\\Local\\Temp\\ipykernel_18688\\568520512.py:16: SettingWithCopyWarning: \n",
      "A value is trying to be set on a copy of a slice from a DataFrame.\n",
      "Try using .loc[row_indexer,col_indexer] = value instead\n",
      "\n",
      "See the caveats in the documentation: https://pandas.pydata.org/pandas-docs/stable/user_guide/indexing.html#returning-a-view-versus-a-copy\n",
      "  current_data['Date'] = current_data.index\n"
     ]
    },
    {
     "name": "stdout",
     "output_type": "stream",
     "text": [
      "shape of df4 is (480, 3541)\n",
      "Completed 284 out of 461 steps\n",
      "the main data is of shape (540, 2)\n",
      "shape of current_data2 is (540, 59)\n"
     ]
    },
    {
     "name": "stderr",
     "output_type": "stream",
     "text": [
      "C:\\Users\\abhij\\AppData\\Local\\Temp\\ipykernel_18688\\568520512.py:16: SettingWithCopyWarning: \n",
      "A value is trying to be set on a copy of a slice from a DataFrame.\n",
      "Try using .loc[row_indexer,col_indexer] = value instead\n",
      "\n",
      "See the caveats in the documentation: https://pandas.pydata.org/pandas-docs/stable/user_guide/indexing.html#returning-a-view-versus-a-copy\n",
      "  current_data['Date'] = current_data.index\n"
     ]
    },
    {
     "name": "stdout",
     "output_type": "stream",
     "text": [
      "shape of df4 is (480, 3541)\n",
      "Completed 285 out of 461 steps\n",
      "the main data is of shape (540, 2)\n",
      "shape of current_data2 is (540, 59)\n"
     ]
    },
    {
     "name": "stderr",
     "output_type": "stream",
     "text": [
      "C:\\Users\\abhij\\AppData\\Local\\Temp\\ipykernel_18688\\568520512.py:16: SettingWithCopyWarning: \n",
      "A value is trying to be set on a copy of a slice from a DataFrame.\n",
      "Try using .loc[row_indexer,col_indexer] = value instead\n",
      "\n",
      "See the caveats in the documentation: https://pandas.pydata.org/pandas-docs/stable/user_guide/indexing.html#returning-a-view-versus-a-copy\n",
      "  current_data['Date'] = current_data.index\n"
     ]
    },
    {
     "name": "stdout",
     "output_type": "stream",
     "text": [
      "shape of df4 is (480, 3541)\n",
      "Completed 286 out of 461 steps\n",
      "the main data is of shape (540, 2)\n",
      "shape of current_data2 is (540, 59)\n"
     ]
    },
    {
     "name": "stderr",
     "output_type": "stream",
     "text": [
      "C:\\Users\\abhij\\AppData\\Local\\Temp\\ipykernel_18688\\568520512.py:16: SettingWithCopyWarning: \n",
      "A value is trying to be set on a copy of a slice from a DataFrame.\n",
      "Try using .loc[row_indexer,col_indexer] = value instead\n",
      "\n",
      "See the caveats in the documentation: https://pandas.pydata.org/pandas-docs/stable/user_guide/indexing.html#returning-a-view-versus-a-copy\n",
      "  current_data['Date'] = current_data.index\n"
     ]
    },
    {
     "name": "stdout",
     "output_type": "stream",
     "text": [
      "shape of df4 is (480, 3541)\n",
      "Completed 287 out of 461 steps\n",
      "the main data is of shape (540, 2)\n",
      "shape of current_data2 is (540, 59)\n"
     ]
    },
    {
     "name": "stderr",
     "output_type": "stream",
     "text": [
      "C:\\Users\\abhij\\AppData\\Local\\Temp\\ipykernel_18688\\568520512.py:16: SettingWithCopyWarning: \n",
      "A value is trying to be set on a copy of a slice from a DataFrame.\n",
      "Try using .loc[row_indexer,col_indexer] = value instead\n",
      "\n",
      "See the caveats in the documentation: https://pandas.pydata.org/pandas-docs/stable/user_guide/indexing.html#returning-a-view-versus-a-copy\n",
      "  current_data['Date'] = current_data.index\n"
     ]
    },
    {
     "name": "stdout",
     "output_type": "stream",
     "text": [
      "shape of df4 is (480, 3541)\n",
      "Completed 288 out of 461 steps\n",
      "the main data is of shape (540, 2)\n",
      "shape of current_data2 is (540, 59)\n"
     ]
    },
    {
     "name": "stderr",
     "output_type": "stream",
     "text": [
      "C:\\Users\\abhij\\AppData\\Local\\Temp\\ipykernel_18688\\568520512.py:16: SettingWithCopyWarning: \n",
      "A value is trying to be set on a copy of a slice from a DataFrame.\n",
      "Try using .loc[row_indexer,col_indexer] = value instead\n",
      "\n",
      "See the caveats in the documentation: https://pandas.pydata.org/pandas-docs/stable/user_guide/indexing.html#returning-a-view-versus-a-copy\n",
      "  current_data['Date'] = current_data.index\n"
     ]
    },
    {
     "name": "stdout",
     "output_type": "stream",
     "text": [
      "shape of df4 is (480, 3541)\n",
      "Completed 289 out of 461 steps\n",
      "the main data is of shape (540, 2)\n",
      "shape of current_data2 is (540, 59)\n"
     ]
    },
    {
     "name": "stderr",
     "output_type": "stream",
     "text": [
      "C:\\Users\\abhij\\AppData\\Local\\Temp\\ipykernel_18688\\568520512.py:16: SettingWithCopyWarning: \n",
      "A value is trying to be set on a copy of a slice from a DataFrame.\n",
      "Try using .loc[row_indexer,col_indexer] = value instead\n",
      "\n",
      "See the caveats in the documentation: https://pandas.pydata.org/pandas-docs/stable/user_guide/indexing.html#returning-a-view-versus-a-copy\n",
      "  current_data['Date'] = current_data.index\n"
     ]
    },
    {
     "name": "stdout",
     "output_type": "stream",
     "text": [
      "shape of df4 is (480, 3541)\n",
      "Completed 290 out of 461 steps\n",
      "the main data is of shape (540, 2)\n",
      "shape of current_data2 is (540, 59)\n"
     ]
    },
    {
     "name": "stderr",
     "output_type": "stream",
     "text": [
      "C:\\Users\\abhij\\AppData\\Local\\Temp\\ipykernel_18688\\568520512.py:16: SettingWithCopyWarning: \n",
      "A value is trying to be set on a copy of a slice from a DataFrame.\n",
      "Try using .loc[row_indexer,col_indexer] = value instead\n",
      "\n",
      "See the caveats in the documentation: https://pandas.pydata.org/pandas-docs/stable/user_guide/indexing.html#returning-a-view-versus-a-copy\n",
      "  current_data['Date'] = current_data.index\n"
     ]
    },
    {
     "name": "stdout",
     "output_type": "stream",
     "text": [
      "shape of df4 is (480, 3541)\n",
      "Completed 291 out of 461 steps\n",
      "the main data is of shape (540, 2)\n",
      "shape of current_data2 is (540, 59)\n"
     ]
    },
    {
     "name": "stderr",
     "output_type": "stream",
     "text": [
      "C:\\Users\\abhij\\AppData\\Local\\Temp\\ipykernel_18688\\568520512.py:16: SettingWithCopyWarning: \n",
      "A value is trying to be set on a copy of a slice from a DataFrame.\n",
      "Try using .loc[row_indexer,col_indexer] = value instead\n",
      "\n",
      "See the caveats in the documentation: https://pandas.pydata.org/pandas-docs/stable/user_guide/indexing.html#returning-a-view-versus-a-copy\n",
      "  current_data['Date'] = current_data.index\n"
     ]
    },
    {
     "name": "stdout",
     "output_type": "stream",
     "text": [
      "shape of df4 is (480, 3541)\n",
      "Completed 292 out of 461 steps\n",
      "the main data is of shape (540, 2)\n",
      "shape of current_data2 is (540, 59)\n"
     ]
    },
    {
     "name": "stderr",
     "output_type": "stream",
     "text": [
      "C:\\Users\\abhij\\AppData\\Local\\Temp\\ipykernel_18688\\568520512.py:16: SettingWithCopyWarning: \n",
      "A value is trying to be set on a copy of a slice from a DataFrame.\n",
      "Try using .loc[row_indexer,col_indexer] = value instead\n",
      "\n",
      "See the caveats in the documentation: https://pandas.pydata.org/pandas-docs/stable/user_guide/indexing.html#returning-a-view-versus-a-copy\n",
      "  current_data['Date'] = current_data.index\n"
     ]
    },
    {
     "name": "stdout",
     "output_type": "stream",
     "text": [
      "shape of df4 is (480, 3541)\n",
      "Completed 293 out of 461 steps\n",
      "the main data is of shape (540, 2)\n",
      "shape of current_data2 is (540, 59)\n"
     ]
    },
    {
     "name": "stderr",
     "output_type": "stream",
     "text": [
      "C:\\Users\\abhij\\AppData\\Local\\Temp\\ipykernel_18688\\568520512.py:16: SettingWithCopyWarning: \n",
      "A value is trying to be set on a copy of a slice from a DataFrame.\n",
      "Try using .loc[row_indexer,col_indexer] = value instead\n",
      "\n",
      "See the caveats in the documentation: https://pandas.pydata.org/pandas-docs/stable/user_guide/indexing.html#returning-a-view-versus-a-copy\n",
      "  current_data['Date'] = current_data.index\n"
     ]
    },
    {
     "name": "stdout",
     "output_type": "stream",
     "text": [
      "shape of df4 is (480, 3541)\n",
      "Completed 294 out of 461 steps\n",
      "the main data is of shape (540, 2)\n",
      "shape of current_data2 is (540, 59)\n"
     ]
    },
    {
     "name": "stderr",
     "output_type": "stream",
     "text": [
      "C:\\Users\\abhij\\AppData\\Local\\Temp\\ipykernel_18688\\568520512.py:16: SettingWithCopyWarning: \n",
      "A value is trying to be set on a copy of a slice from a DataFrame.\n",
      "Try using .loc[row_indexer,col_indexer] = value instead\n",
      "\n",
      "See the caveats in the documentation: https://pandas.pydata.org/pandas-docs/stable/user_guide/indexing.html#returning-a-view-versus-a-copy\n",
      "  current_data['Date'] = current_data.index\n"
     ]
    },
    {
     "name": "stdout",
     "output_type": "stream",
     "text": [
      "shape of df4 is (480, 3541)\n",
      "Completed 295 out of 461 steps\n",
      "the main data is of shape (540, 2)\n",
      "shape of current_data2 is (540, 59)\n"
     ]
    },
    {
     "name": "stderr",
     "output_type": "stream",
     "text": [
      "C:\\Users\\abhij\\AppData\\Local\\Temp\\ipykernel_18688\\568520512.py:16: SettingWithCopyWarning: \n",
      "A value is trying to be set on a copy of a slice from a DataFrame.\n",
      "Try using .loc[row_indexer,col_indexer] = value instead\n",
      "\n",
      "See the caveats in the documentation: https://pandas.pydata.org/pandas-docs/stable/user_guide/indexing.html#returning-a-view-versus-a-copy\n",
      "  current_data['Date'] = current_data.index\n"
     ]
    },
    {
     "name": "stdout",
     "output_type": "stream",
     "text": [
      "shape of df4 is (480, 3541)\n",
      "Completed 296 out of 461 steps\n",
      "the main data is of shape (540, 2)\n",
      "shape of current_data2 is (540, 59)\n"
     ]
    },
    {
     "name": "stderr",
     "output_type": "stream",
     "text": [
      "C:\\Users\\abhij\\AppData\\Local\\Temp\\ipykernel_18688\\568520512.py:16: SettingWithCopyWarning: \n",
      "A value is trying to be set on a copy of a slice from a DataFrame.\n",
      "Try using .loc[row_indexer,col_indexer] = value instead\n",
      "\n",
      "See the caveats in the documentation: https://pandas.pydata.org/pandas-docs/stable/user_guide/indexing.html#returning-a-view-versus-a-copy\n",
      "  current_data['Date'] = current_data.index\n"
     ]
    },
    {
     "name": "stdout",
     "output_type": "stream",
     "text": [
      "shape of df4 is (480, 3541)\n",
      "Completed 297 out of 461 steps\n",
      "the main data is of shape (540, 2)\n",
      "shape of current_data2 is (540, 59)\n"
     ]
    },
    {
     "name": "stderr",
     "output_type": "stream",
     "text": [
      "C:\\Users\\abhij\\AppData\\Local\\Temp\\ipykernel_18688\\568520512.py:16: SettingWithCopyWarning: \n",
      "A value is trying to be set on a copy of a slice from a DataFrame.\n",
      "Try using .loc[row_indexer,col_indexer] = value instead\n",
      "\n",
      "See the caveats in the documentation: https://pandas.pydata.org/pandas-docs/stable/user_guide/indexing.html#returning-a-view-versus-a-copy\n",
      "  current_data['Date'] = current_data.index\n"
     ]
    },
    {
     "name": "stdout",
     "output_type": "stream",
     "text": [
      "shape of df4 is (480, 3541)\n",
      "Completed 298 out of 461 steps\n",
      "the main data is of shape (540, 2)\n",
      "shape of current_data2 is (540, 59)\n"
     ]
    },
    {
     "name": "stderr",
     "output_type": "stream",
     "text": [
      "C:\\Users\\abhij\\AppData\\Local\\Temp\\ipykernel_18688\\568520512.py:16: SettingWithCopyWarning: \n",
      "A value is trying to be set on a copy of a slice from a DataFrame.\n",
      "Try using .loc[row_indexer,col_indexer] = value instead\n",
      "\n",
      "See the caveats in the documentation: https://pandas.pydata.org/pandas-docs/stable/user_guide/indexing.html#returning-a-view-versus-a-copy\n",
      "  current_data['Date'] = current_data.index\n"
     ]
    },
    {
     "name": "stdout",
     "output_type": "stream",
     "text": [
      "shape of df4 is (480, 3541)\n",
      "Completed 299 out of 461 steps\n",
      "the main data is of shape (540, 2)\n",
      "shape of current_data2 is (540, 59)\n"
     ]
    },
    {
     "name": "stderr",
     "output_type": "stream",
     "text": [
      "C:\\Users\\abhij\\AppData\\Local\\Temp\\ipykernel_18688\\568520512.py:16: SettingWithCopyWarning: \n",
      "A value is trying to be set on a copy of a slice from a DataFrame.\n",
      "Try using .loc[row_indexer,col_indexer] = value instead\n",
      "\n",
      "See the caveats in the documentation: https://pandas.pydata.org/pandas-docs/stable/user_guide/indexing.html#returning-a-view-versus-a-copy\n",
      "  current_data['Date'] = current_data.index\n"
     ]
    },
    {
     "name": "stdout",
     "output_type": "stream",
     "text": [
      "shape of df4 is (480, 3541)\n",
      "Completed 300 out of 461 steps\n",
      "the main data is of shape (540, 2)\n",
      "shape of current_data2 is (540, 59)\n"
     ]
    },
    {
     "name": "stderr",
     "output_type": "stream",
     "text": [
      "C:\\Users\\abhij\\AppData\\Local\\Temp\\ipykernel_18688\\568520512.py:16: SettingWithCopyWarning: \n",
      "A value is trying to be set on a copy of a slice from a DataFrame.\n",
      "Try using .loc[row_indexer,col_indexer] = value instead\n",
      "\n",
      "See the caveats in the documentation: https://pandas.pydata.org/pandas-docs/stable/user_guide/indexing.html#returning-a-view-versus-a-copy\n",
      "  current_data['Date'] = current_data.index\n"
     ]
    },
    {
     "name": "stdout",
     "output_type": "stream",
     "text": [
      "shape of df4 is (480, 3541)\n",
      "Completed 301 out of 461 steps\n",
      "the main data is of shape (540, 2)\n",
      "shape of current_data2 is (540, 59)\n"
     ]
    },
    {
     "name": "stderr",
     "output_type": "stream",
     "text": [
      "C:\\Users\\abhij\\AppData\\Local\\Temp\\ipykernel_18688\\568520512.py:16: SettingWithCopyWarning: \n",
      "A value is trying to be set on a copy of a slice from a DataFrame.\n",
      "Try using .loc[row_indexer,col_indexer] = value instead\n",
      "\n",
      "See the caveats in the documentation: https://pandas.pydata.org/pandas-docs/stable/user_guide/indexing.html#returning-a-view-versus-a-copy\n",
      "  current_data['Date'] = current_data.index\n"
     ]
    },
    {
     "name": "stdout",
     "output_type": "stream",
     "text": [
      "shape of df4 is (480, 3541)\n",
      "Completed 302 out of 461 steps\n",
      "the main data is of shape (540, 2)\n",
      "shape of current_data2 is (540, 59)\n"
     ]
    },
    {
     "name": "stderr",
     "output_type": "stream",
     "text": [
      "C:\\Users\\abhij\\AppData\\Local\\Temp\\ipykernel_18688\\568520512.py:16: SettingWithCopyWarning: \n",
      "A value is trying to be set on a copy of a slice from a DataFrame.\n",
      "Try using .loc[row_indexer,col_indexer] = value instead\n",
      "\n",
      "See the caveats in the documentation: https://pandas.pydata.org/pandas-docs/stable/user_guide/indexing.html#returning-a-view-versus-a-copy\n",
      "  current_data['Date'] = current_data.index\n"
     ]
    },
    {
     "name": "stdout",
     "output_type": "stream",
     "text": [
      "shape of df4 is (480, 3541)\n",
      "Completed 303 out of 461 steps\n",
      "the main data is of shape (540, 2)\n",
      "shape of current_data2 is (540, 59)\n"
     ]
    },
    {
     "name": "stderr",
     "output_type": "stream",
     "text": [
      "C:\\Users\\abhij\\AppData\\Local\\Temp\\ipykernel_18688\\568520512.py:16: SettingWithCopyWarning: \n",
      "A value is trying to be set on a copy of a slice from a DataFrame.\n",
      "Try using .loc[row_indexer,col_indexer] = value instead\n",
      "\n",
      "See the caveats in the documentation: https://pandas.pydata.org/pandas-docs/stable/user_guide/indexing.html#returning-a-view-versus-a-copy\n",
      "  current_data['Date'] = current_data.index\n"
     ]
    },
    {
     "name": "stdout",
     "output_type": "stream",
     "text": [
      "shape of df4 is (480, 3541)\n",
      "Completed 304 out of 461 steps\n",
      "the main data is of shape (540, 2)\n",
      "shape of current_data2 is (540, 59)\n"
     ]
    },
    {
     "name": "stderr",
     "output_type": "stream",
     "text": [
      "C:\\Users\\abhij\\AppData\\Local\\Temp\\ipykernel_18688\\568520512.py:16: SettingWithCopyWarning: \n",
      "A value is trying to be set on a copy of a slice from a DataFrame.\n",
      "Try using .loc[row_indexer,col_indexer] = value instead\n",
      "\n",
      "See the caveats in the documentation: https://pandas.pydata.org/pandas-docs/stable/user_guide/indexing.html#returning-a-view-versus-a-copy\n",
      "  current_data['Date'] = current_data.index\n"
     ]
    },
    {
     "name": "stdout",
     "output_type": "stream",
     "text": [
      "shape of df4 is (480, 3541)\n",
      "Completed 305 out of 461 steps\n",
      "the main data is of shape (540, 2)\n",
      "shape of current_data2 is (540, 59)\n"
     ]
    },
    {
     "name": "stderr",
     "output_type": "stream",
     "text": [
      "C:\\Users\\abhij\\AppData\\Local\\Temp\\ipykernel_18688\\568520512.py:16: SettingWithCopyWarning: \n",
      "A value is trying to be set on a copy of a slice from a DataFrame.\n",
      "Try using .loc[row_indexer,col_indexer] = value instead\n",
      "\n",
      "See the caveats in the documentation: https://pandas.pydata.org/pandas-docs/stable/user_guide/indexing.html#returning-a-view-versus-a-copy\n",
      "  current_data['Date'] = current_data.index\n"
     ]
    },
    {
     "name": "stdout",
     "output_type": "stream",
     "text": [
      "shape of df4 is (480, 3541)\n",
      "Completed 306 out of 461 steps\n",
      "the main data is of shape (540, 2)\n",
      "shape of current_data2 is (540, 59)\n"
     ]
    },
    {
     "name": "stderr",
     "output_type": "stream",
     "text": [
      "C:\\Users\\abhij\\AppData\\Local\\Temp\\ipykernel_18688\\568520512.py:16: SettingWithCopyWarning: \n",
      "A value is trying to be set on a copy of a slice from a DataFrame.\n",
      "Try using .loc[row_indexer,col_indexer] = value instead\n",
      "\n",
      "See the caveats in the documentation: https://pandas.pydata.org/pandas-docs/stable/user_guide/indexing.html#returning-a-view-versus-a-copy\n",
      "  current_data['Date'] = current_data.index\n"
     ]
    },
    {
     "name": "stdout",
     "output_type": "stream",
     "text": [
      "shape of df4 is (480, 3541)\n",
      "Completed 307 out of 461 steps\n",
      "the main data is of shape (511, 2)\n",
      "shape of current_data2 is (511, 59)\n"
     ]
    },
    {
     "name": "stderr",
     "output_type": "stream",
     "text": [
      "C:\\Users\\abhij\\AppData\\Local\\Temp\\ipykernel_18688\\568520512.py:16: SettingWithCopyWarning: \n",
      "A value is trying to be set on a copy of a slice from a DataFrame.\n",
      "Try using .loc[row_indexer,col_indexer] = value instead\n",
      "\n",
      "See the caveats in the documentation: https://pandas.pydata.org/pandas-docs/stable/user_guide/indexing.html#returning-a-view-versus-a-copy\n",
      "  current_data['Date'] = current_data.index\n"
     ]
    },
    {
     "name": "stdout",
     "output_type": "stream",
     "text": [
      "shape of df4 is (451, 3541)\n",
      "Completed 308 out of 461 steps\n",
      "the main data is of shape (540, 2)\n",
      "shape of current_data2 is (540, 59)\n"
     ]
    },
    {
     "name": "stderr",
     "output_type": "stream",
     "text": [
      "C:\\Users\\abhij\\AppData\\Local\\Temp\\ipykernel_18688\\568520512.py:16: SettingWithCopyWarning: \n",
      "A value is trying to be set on a copy of a slice from a DataFrame.\n",
      "Try using .loc[row_indexer,col_indexer] = value instead\n",
      "\n",
      "See the caveats in the documentation: https://pandas.pydata.org/pandas-docs/stable/user_guide/indexing.html#returning-a-view-versus-a-copy\n",
      "  current_data['Date'] = current_data.index\n"
     ]
    },
    {
     "name": "stdout",
     "output_type": "stream",
     "text": [
      "shape of df4 is (480, 3541)\n",
      "Completed 309 out of 461 steps\n",
      "the main data is of shape (540, 2)\n",
      "shape of current_data2 is (540, 59)\n"
     ]
    },
    {
     "name": "stderr",
     "output_type": "stream",
     "text": [
      "C:\\Users\\abhij\\AppData\\Local\\Temp\\ipykernel_18688\\568520512.py:16: SettingWithCopyWarning: \n",
      "A value is trying to be set on a copy of a slice from a DataFrame.\n",
      "Try using .loc[row_indexer,col_indexer] = value instead\n",
      "\n",
      "See the caveats in the documentation: https://pandas.pydata.org/pandas-docs/stable/user_guide/indexing.html#returning-a-view-versus-a-copy\n",
      "  current_data['Date'] = current_data.index\n"
     ]
    },
    {
     "name": "stdout",
     "output_type": "stream",
     "text": [
      "shape of df4 is (480, 3541)\n",
      "Completed 310 out of 461 steps\n",
      "the main data is of shape (540, 2)\n",
      "shape of current_data2 is (540, 59)\n"
     ]
    },
    {
     "name": "stderr",
     "output_type": "stream",
     "text": [
      "C:\\Users\\abhij\\AppData\\Local\\Temp\\ipykernel_18688\\568520512.py:16: SettingWithCopyWarning: \n",
      "A value is trying to be set on a copy of a slice from a DataFrame.\n",
      "Try using .loc[row_indexer,col_indexer] = value instead\n",
      "\n",
      "See the caveats in the documentation: https://pandas.pydata.org/pandas-docs/stable/user_guide/indexing.html#returning-a-view-versus-a-copy\n",
      "  current_data['Date'] = current_data.index\n"
     ]
    },
    {
     "name": "stdout",
     "output_type": "stream",
     "text": [
      "shape of df4 is (480, 3541)\n",
      "Completed 311 out of 461 steps\n",
      "the main data is of shape (540, 2)\n",
      "shape of current_data2 is (540, 59)\n"
     ]
    },
    {
     "name": "stderr",
     "output_type": "stream",
     "text": [
      "C:\\Users\\abhij\\AppData\\Local\\Temp\\ipykernel_18688\\568520512.py:16: SettingWithCopyWarning: \n",
      "A value is trying to be set on a copy of a slice from a DataFrame.\n",
      "Try using .loc[row_indexer,col_indexer] = value instead\n",
      "\n",
      "See the caveats in the documentation: https://pandas.pydata.org/pandas-docs/stable/user_guide/indexing.html#returning-a-view-versus-a-copy\n",
      "  current_data['Date'] = current_data.index\n"
     ]
    },
    {
     "name": "stdout",
     "output_type": "stream",
     "text": [
      "shape of df4 is (480, 3541)\n",
      "Completed 312 out of 461 steps\n",
      "the main data is of shape (540, 2)\n",
      "shape of current_data2 is (540, 59)\n"
     ]
    },
    {
     "name": "stderr",
     "output_type": "stream",
     "text": [
      "C:\\Users\\abhij\\AppData\\Local\\Temp\\ipykernel_18688\\568520512.py:16: SettingWithCopyWarning: \n",
      "A value is trying to be set on a copy of a slice from a DataFrame.\n",
      "Try using .loc[row_indexer,col_indexer] = value instead\n",
      "\n",
      "See the caveats in the documentation: https://pandas.pydata.org/pandas-docs/stable/user_guide/indexing.html#returning-a-view-versus-a-copy\n",
      "  current_data['Date'] = current_data.index\n"
     ]
    },
    {
     "name": "stdout",
     "output_type": "stream",
     "text": [
      "shape of df4 is (480, 3541)\n",
      "Completed 313 out of 461 steps\n",
      "the main data is of shape (540, 2)\n",
      "shape of current_data2 is (540, 59)\n"
     ]
    },
    {
     "name": "stderr",
     "output_type": "stream",
     "text": [
      "C:\\Users\\abhij\\AppData\\Local\\Temp\\ipykernel_18688\\568520512.py:16: SettingWithCopyWarning: \n",
      "A value is trying to be set on a copy of a slice from a DataFrame.\n",
      "Try using .loc[row_indexer,col_indexer] = value instead\n",
      "\n",
      "See the caveats in the documentation: https://pandas.pydata.org/pandas-docs/stable/user_guide/indexing.html#returning-a-view-versus-a-copy\n",
      "  current_data['Date'] = current_data.index\n"
     ]
    },
    {
     "name": "stdout",
     "output_type": "stream",
     "text": [
      "shape of df4 is (480, 3541)\n",
      "Completed 314 out of 461 steps\n",
      "the main data is of shape (540, 2)\n",
      "shape of current_data2 is (540, 59)\n"
     ]
    },
    {
     "name": "stderr",
     "output_type": "stream",
     "text": [
      "C:\\Users\\abhij\\AppData\\Local\\Temp\\ipykernel_18688\\568520512.py:16: SettingWithCopyWarning: \n",
      "A value is trying to be set on a copy of a slice from a DataFrame.\n",
      "Try using .loc[row_indexer,col_indexer] = value instead\n",
      "\n",
      "See the caveats in the documentation: https://pandas.pydata.org/pandas-docs/stable/user_guide/indexing.html#returning-a-view-versus-a-copy\n",
      "  current_data['Date'] = current_data.index\n"
     ]
    },
    {
     "name": "stdout",
     "output_type": "stream",
     "text": [
      "shape of df4 is (480, 3541)\n",
      "Completed 315 out of 461 steps\n",
      "the main data is of shape (540, 2)\n",
      "shape of current_data2 is (540, 59)\n"
     ]
    },
    {
     "name": "stderr",
     "output_type": "stream",
     "text": [
      "C:\\Users\\abhij\\AppData\\Local\\Temp\\ipykernel_18688\\568520512.py:16: SettingWithCopyWarning: \n",
      "A value is trying to be set on a copy of a slice from a DataFrame.\n",
      "Try using .loc[row_indexer,col_indexer] = value instead\n",
      "\n",
      "See the caveats in the documentation: https://pandas.pydata.org/pandas-docs/stable/user_guide/indexing.html#returning-a-view-versus-a-copy\n",
      "  current_data['Date'] = current_data.index\n"
     ]
    },
    {
     "name": "stdout",
     "output_type": "stream",
     "text": [
      "shape of df4 is (480, 3541)\n",
      "Completed 316 out of 461 steps\n",
      "the main data is of shape (540, 2)\n",
      "shape of current_data2 is (540, 59)\n"
     ]
    },
    {
     "name": "stderr",
     "output_type": "stream",
     "text": [
      "C:\\Users\\abhij\\AppData\\Local\\Temp\\ipykernel_18688\\568520512.py:16: SettingWithCopyWarning: \n",
      "A value is trying to be set on a copy of a slice from a DataFrame.\n",
      "Try using .loc[row_indexer,col_indexer] = value instead\n",
      "\n",
      "See the caveats in the documentation: https://pandas.pydata.org/pandas-docs/stable/user_guide/indexing.html#returning-a-view-versus-a-copy\n",
      "  current_data['Date'] = current_data.index\n"
     ]
    },
    {
     "name": "stdout",
     "output_type": "stream",
     "text": [
      "shape of df4 is (480, 3541)\n",
      "Completed 317 out of 461 steps\n",
      "the main data is of shape (540, 2)\n",
      "shape of current_data2 is (540, 59)\n"
     ]
    },
    {
     "name": "stderr",
     "output_type": "stream",
     "text": [
      "C:\\Users\\abhij\\AppData\\Local\\Temp\\ipykernel_18688\\568520512.py:16: SettingWithCopyWarning: \n",
      "A value is trying to be set on a copy of a slice from a DataFrame.\n",
      "Try using .loc[row_indexer,col_indexer] = value instead\n",
      "\n",
      "See the caveats in the documentation: https://pandas.pydata.org/pandas-docs/stable/user_guide/indexing.html#returning-a-view-versus-a-copy\n",
      "  current_data['Date'] = current_data.index\n"
     ]
    },
    {
     "name": "stdout",
     "output_type": "stream",
     "text": [
      "shape of df4 is (480, 3541)\n",
      "Completed 318 out of 461 steps\n",
      "the main data is of shape (540, 2)\n",
      "shape of current_data2 is (540, 59)\n"
     ]
    },
    {
     "name": "stderr",
     "output_type": "stream",
     "text": [
      "C:\\Users\\abhij\\AppData\\Local\\Temp\\ipykernel_18688\\568520512.py:16: SettingWithCopyWarning: \n",
      "A value is trying to be set on a copy of a slice from a DataFrame.\n",
      "Try using .loc[row_indexer,col_indexer] = value instead\n",
      "\n",
      "See the caveats in the documentation: https://pandas.pydata.org/pandas-docs/stable/user_guide/indexing.html#returning-a-view-versus-a-copy\n",
      "  current_data['Date'] = current_data.index\n"
     ]
    },
    {
     "name": "stdout",
     "output_type": "stream",
     "text": [
      "shape of df4 is (480, 3541)\n",
      "Completed 319 out of 461 steps\n",
      "the main data is of shape (531, 2)\n",
      "shape of current_data2 is (531, 59)\n"
     ]
    },
    {
     "name": "stderr",
     "output_type": "stream",
     "text": [
      "C:\\Users\\abhij\\AppData\\Local\\Temp\\ipykernel_18688\\568520512.py:16: SettingWithCopyWarning: \n",
      "A value is trying to be set on a copy of a slice from a DataFrame.\n",
      "Try using .loc[row_indexer,col_indexer] = value instead\n",
      "\n",
      "See the caveats in the documentation: https://pandas.pydata.org/pandas-docs/stable/user_guide/indexing.html#returning-a-view-versus-a-copy\n",
      "  current_data['Date'] = current_data.index\n"
     ]
    },
    {
     "name": "stdout",
     "output_type": "stream",
     "text": [
      "shape of df4 is (471, 3541)\n",
      "Completed 320 out of 461 steps\n",
      "the main data is of shape (540, 2)\n",
      "shape of current_data2 is (540, 59)\n"
     ]
    },
    {
     "name": "stderr",
     "output_type": "stream",
     "text": [
      "C:\\Users\\abhij\\AppData\\Local\\Temp\\ipykernel_18688\\568520512.py:16: SettingWithCopyWarning: \n",
      "A value is trying to be set on a copy of a slice from a DataFrame.\n",
      "Try using .loc[row_indexer,col_indexer] = value instead\n",
      "\n",
      "See the caveats in the documentation: https://pandas.pydata.org/pandas-docs/stable/user_guide/indexing.html#returning-a-view-versus-a-copy\n",
      "  current_data['Date'] = current_data.index\n"
     ]
    },
    {
     "name": "stdout",
     "output_type": "stream",
     "text": [
      "shape of df4 is (480, 3541)\n",
      "Completed 321 out of 461 steps\n",
      "the main data is of shape (540, 2)\n",
      "shape of current_data2 is (540, 59)\n"
     ]
    },
    {
     "name": "stderr",
     "output_type": "stream",
     "text": [
      "C:\\Users\\abhij\\AppData\\Local\\Temp\\ipykernel_18688\\568520512.py:16: SettingWithCopyWarning: \n",
      "A value is trying to be set on a copy of a slice from a DataFrame.\n",
      "Try using .loc[row_indexer,col_indexer] = value instead\n",
      "\n",
      "See the caveats in the documentation: https://pandas.pydata.org/pandas-docs/stable/user_guide/indexing.html#returning-a-view-versus-a-copy\n",
      "  current_data['Date'] = current_data.index\n"
     ]
    },
    {
     "name": "stdout",
     "output_type": "stream",
     "text": [
      "shape of df4 is (480, 3541)\n",
      "Completed 322 out of 461 steps\n",
      "the main data is of shape (540, 2)\n",
      "shape of current_data2 is (540, 59)\n"
     ]
    },
    {
     "name": "stderr",
     "output_type": "stream",
     "text": [
      "C:\\Users\\abhij\\AppData\\Local\\Temp\\ipykernel_18688\\568520512.py:16: SettingWithCopyWarning: \n",
      "A value is trying to be set on a copy of a slice from a DataFrame.\n",
      "Try using .loc[row_indexer,col_indexer] = value instead\n",
      "\n",
      "See the caveats in the documentation: https://pandas.pydata.org/pandas-docs/stable/user_guide/indexing.html#returning-a-view-versus-a-copy\n",
      "  current_data['Date'] = current_data.index\n"
     ]
    },
    {
     "name": "stdout",
     "output_type": "stream",
     "text": [
      "shape of df4 is (480, 3541)\n",
      "Completed 323 out of 461 steps\n",
      "the main data is of shape (540, 2)\n",
      "shape of current_data2 is (540, 59)\n"
     ]
    },
    {
     "name": "stderr",
     "output_type": "stream",
     "text": [
      "C:\\Users\\abhij\\AppData\\Local\\Temp\\ipykernel_18688\\568520512.py:16: SettingWithCopyWarning: \n",
      "A value is trying to be set on a copy of a slice from a DataFrame.\n",
      "Try using .loc[row_indexer,col_indexer] = value instead\n",
      "\n",
      "See the caveats in the documentation: https://pandas.pydata.org/pandas-docs/stable/user_guide/indexing.html#returning-a-view-versus-a-copy\n",
      "  current_data['Date'] = current_data.index\n"
     ]
    },
    {
     "name": "stdout",
     "output_type": "stream",
     "text": [
      "shape of df4 is (480, 3541)\n",
      "Completed 324 out of 461 steps\n",
      "the main data is of shape (540, 2)\n",
      "shape of current_data2 is (540, 59)\n"
     ]
    },
    {
     "name": "stderr",
     "output_type": "stream",
     "text": [
      "C:\\Users\\abhij\\AppData\\Local\\Temp\\ipykernel_18688\\568520512.py:16: SettingWithCopyWarning: \n",
      "A value is trying to be set on a copy of a slice from a DataFrame.\n",
      "Try using .loc[row_indexer,col_indexer] = value instead\n",
      "\n",
      "See the caveats in the documentation: https://pandas.pydata.org/pandas-docs/stable/user_guide/indexing.html#returning-a-view-versus-a-copy\n",
      "  current_data['Date'] = current_data.index\n"
     ]
    },
    {
     "name": "stdout",
     "output_type": "stream",
     "text": [
      "shape of df4 is (480, 3541)\n",
      "Completed 325 out of 461 steps\n",
      "the main data is of shape (540, 2)\n",
      "shape of current_data2 is (540, 59)\n"
     ]
    },
    {
     "name": "stderr",
     "output_type": "stream",
     "text": [
      "C:\\Users\\abhij\\AppData\\Local\\Temp\\ipykernel_18688\\568520512.py:16: SettingWithCopyWarning: \n",
      "A value is trying to be set on a copy of a slice from a DataFrame.\n",
      "Try using .loc[row_indexer,col_indexer] = value instead\n",
      "\n",
      "See the caveats in the documentation: https://pandas.pydata.org/pandas-docs/stable/user_guide/indexing.html#returning-a-view-versus-a-copy\n",
      "  current_data['Date'] = current_data.index\n"
     ]
    },
    {
     "name": "stdout",
     "output_type": "stream",
     "text": [
      "shape of df4 is (480, 3541)\n",
      "Completed 326 out of 461 steps\n",
      "the main data is of shape (540, 2)\n",
      "shape of current_data2 is (540, 59)\n"
     ]
    },
    {
     "name": "stderr",
     "output_type": "stream",
     "text": [
      "C:\\Users\\abhij\\AppData\\Local\\Temp\\ipykernel_18688\\568520512.py:16: SettingWithCopyWarning: \n",
      "A value is trying to be set on a copy of a slice from a DataFrame.\n",
      "Try using .loc[row_indexer,col_indexer] = value instead\n",
      "\n",
      "See the caveats in the documentation: https://pandas.pydata.org/pandas-docs/stable/user_guide/indexing.html#returning-a-view-versus-a-copy\n",
      "  current_data['Date'] = current_data.index\n"
     ]
    },
    {
     "name": "stdout",
     "output_type": "stream",
     "text": [
      "shape of df4 is (480, 3541)\n",
      "Completed 327 out of 461 steps\n",
      "the main data is of shape (540, 2)\n",
      "shape of current_data2 is (540, 59)\n"
     ]
    },
    {
     "name": "stderr",
     "output_type": "stream",
     "text": [
      "C:\\Users\\abhij\\AppData\\Local\\Temp\\ipykernel_18688\\568520512.py:16: SettingWithCopyWarning: \n",
      "A value is trying to be set on a copy of a slice from a DataFrame.\n",
      "Try using .loc[row_indexer,col_indexer] = value instead\n",
      "\n",
      "See the caveats in the documentation: https://pandas.pydata.org/pandas-docs/stable/user_guide/indexing.html#returning-a-view-versus-a-copy\n",
      "  current_data['Date'] = current_data.index\n"
     ]
    },
    {
     "name": "stdout",
     "output_type": "stream",
     "text": [
      "shape of df4 is (480, 3541)\n",
      "Completed 328 out of 461 steps\n",
      "the main data is of shape (540, 2)\n",
      "shape of current_data2 is (540, 59)\n"
     ]
    },
    {
     "name": "stderr",
     "output_type": "stream",
     "text": [
      "C:\\Users\\abhij\\AppData\\Local\\Temp\\ipykernel_18688\\568520512.py:16: SettingWithCopyWarning: \n",
      "A value is trying to be set on a copy of a slice from a DataFrame.\n",
      "Try using .loc[row_indexer,col_indexer] = value instead\n",
      "\n",
      "See the caveats in the documentation: https://pandas.pydata.org/pandas-docs/stable/user_guide/indexing.html#returning-a-view-versus-a-copy\n",
      "  current_data['Date'] = current_data.index\n"
     ]
    },
    {
     "name": "stdout",
     "output_type": "stream",
     "text": [
      "shape of df4 is (480, 3541)\n",
      "Completed 329 out of 461 steps\n",
      "the main data is of shape (540, 2)\n",
      "shape of current_data2 is (540, 59)\n"
     ]
    },
    {
     "name": "stderr",
     "output_type": "stream",
     "text": [
      "C:\\Users\\abhij\\AppData\\Local\\Temp\\ipykernel_18688\\568520512.py:16: SettingWithCopyWarning: \n",
      "A value is trying to be set on a copy of a slice from a DataFrame.\n",
      "Try using .loc[row_indexer,col_indexer] = value instead\n",
      "\n",
      "See the caveats in the documentation: https://pandas.pydata.org/pandas-docs/stable/user_guide/indexing.html#returning-a-view-versus-a-copy\n",
      "  current_data['Date'] = current_data.index\n"
     ]
    },
    {
     "name": "stdout",
     "output_type": "stream",
     "text": [
      "shape of df4 is (480, 3541)\n",
      "Completed 330 out of 461 steps\n",
      "the main data is of shape (540, 2)\n",
      "shape of current_data2 is (540, 59)\n"
     ]
    },
    {
     "name": "stderr",
     "output_type": "stream",
     "text": [
      "C:\\Users\\abhij\\AppData\\Local\\Temp\\ipykernel_18688\\568520512.py:16: SettingWithCopyWarning: \n",
      "A value is trying to be set on a copy of a slice from a DataFrame.\n",
      "Try using .loc[row_indexer,col_indexer] = value instead\n",
      "\n",
      "See the caveats in the documentation: https://pandas.pydata.org/pandas-docs/stable/user_guide/indexing.html#returning-a-view-versus-a-copy\n",
      "  current_data['Date'] = current_data.index\n"
     ]
    },
    {
     "name": "stdout",
     "output_type": "stream",
     "text": [
      "shape of df4 is (480, 3541)\n",
      "Completed 331 out of 461 steps\n",
      "the main data is of shape (540, 2)\n",
      "shape of current_data2 is (540, 59)\n"
     ]
    },
    {
     "name": "stderr",
     "output_type": "stream",
     "text": [
      "C:\\Users\\abhij\\AppData\\Local\\Temp\\ipykernel_18688\\568520512.py:16: SettingWithCopyWarning: \n",
      "A value is trying to be set on a copy of a slice from a DataFrame.\n",
      "Try using .loc[row_indexer,col_indexer] = value instead\n",
      "\n",
      "See the caveats in the documentation: https://pandas.pydata.org/pandas-docs/stable/user_guide/indexing.html#returning-a-view-versus-a-copy\n",
      "  current_data['Date'] = current_data.index\n"
     ]
    },
    {
     "name": "stdout",
     "output_type": "stream",
     "text": [
      "shape of df4 is (480, 3541)\n",
      "Completed 332 out of 461 steps\n",
      "the main data is of shape (540, 2)\n",
      "shape of current_data2 is (540, 59)\n"
     ]
    },
    {
     "name": "stderr",
     "output_type": "stream",
     "text": [
      "C:\\Users\\abhij\\AppData\\Local\\Temp\\ipykernel_18688\\568520512.py:16: SettingWithCopyWarning: \n",
      "A value is trying to be set on a copy of a slice from a DataFrame.\n",
      "Try using .loc[row_indexer,col_indexer] = value instead\n",
      "\n",
      "See the caveats in the documentation: https://pandas.pydata.org/pandas-docs/stable/user_guide/indexing.html#returning-a-view-versus-a-copy\n",
      "  current_data['Date'] = current_data.index\n"
     ]
    },
    {
     "name": "stdout",
     "output_type": "stream",
     "text": [
      "shape of df4 is (480, 3541)\n",
      "Completed 333 out of 461 steps\n",
      "the main data is of shape (540, 2)\n",
      "shape of current_data2 is (540, 59)\n"
     ]
    },
    {
     "name": "stderr",
     "output_type": "stream",
     "text": [
      "C:\\Users\\abhij\\AppData\\Local\\Temp\\ipykernel_18688\\568520512.py:16: SettingWithCopyWarning: \n",
      "A value is trying to be set on a copy of a slice from a DataFrame.\n",
      "Try using .loc[row_indexer,col_indexer] = value instead\n",
      "\n",
      "See the caveats in the documentation: https://pandas.pydata.org/pandas-docs/stable/user_guide/indexing.html#returning-a-view-versus-a-copy\n",
      "  current_data['Date'] = current_data.index\n"
     ]
    },
    {
     "name": "stdout",
     "output_type": "stream",
     "text": [
      "shape of df4 is (480, 3541)\n",
      "Completed 334 out of 461 steps\n",
      "the main data is of shape (540, 2)\n",
      "shape of current_data2 is (540, 59)\n"
     ]
    },
    {
     "name": "stderr",
     "output_type": "stream",
     "text": [
      "C:\\Users\\abhij\\AppData\\Local\\Temp\\ipykernel_18688\\568520512.py:16: SettingWithCopyWarning: \n",
      "A value is trying to be set on a copy of a slice from a DataFrame.\n",
      "Try using .loc[row_indexer,col_indexer] = value instead\n",
      "\n",
      "See the caveats in the documentation: https://pandas.pydata.org/pandas-docs/stable/user_guide/indexing.html#returning-a-view-versus-a-copy\n",
      "  current_data['Date'] = current_data.index\n"
     ]
    },
    {
     "name": "stdout",
     "output_type": "stream",
     "text": [
      "shape of df4 is (480, 3541)\n",
      "Completed 335 out of 461 steps\n",
      "the main data is of shape (540, 2)\n",
      "shape of current_data2 is (540, 59)\n"
     ]
    },
    {
     "name": "stderr",
     "output_type": "stream",
     "text": [
      "C:\\Users\\abhij\\AppData\\Local\\Temp\\ipykernel_18688\\568520512.py:16: SettingWithCopyWarning: \n",
      "A value is trying to be set on a copy of a slice from a DataFrame.\n",
      "Try using .loc[row_indexer,col_indexer] = value instead\n",
      "\n",
      "See the caveats in the documentation: https://pandas.pydata.org/pandas-docs/stable/user_guide/indexing.html#returning-a-view-versus-a-copy\n",
      "  current_data['Date'] = current_data.index\n"
     ]
    },
    {
     "name": "stdout",
     "output_type": "stream",
     "text": [
      "shape of df4 is (480, 3541)\n",
      "Completed 336 out of 461 steps\n",
      "the main data is of shape (540, 2)\n",
      "shape of current_data2 is (540, 59)\n"
     ]
    },
    {
     "name": "stderr",
     "output_type": "stream",
     "text": [
      "C:\\Users\\abhij\\AppData\\Local\\Temp\\ipykernel_18688\\568520512.py:16: SettingWithCopyWarning: \n",
      "A value is trying to be set on a copy of a slice from a DataFrame.\n",
      "Try using .loc[row_indexer,col_indexer] = value instead\n",
      "\n",
      "See the caveats in the documentation: https://pandas.pydata.org/pandas-docs/stable/user_guide/indexing.html#returning-a-view-versus-a-copy\n",
      "  current_data['Date'] = current_data.index\n"
     ]
    },
    {
     "name": "stdout",
     "output_type": "stream",
     "text": [
      "shape of df4 is (480, 3541)\n",
      "Completed 337 out of 461 steps\n",
      "the main data is of shape (540, 2)\n",
      "shape of current_data2 is (540, 59)\n"
     ]
    },
    {
     "name": "stderr",
     "output_type": "stream",
     "text": [
      "C:\\Users\\abhij\\AppData\\Local\\Temp\\ipykernel_18688\\568520512.py:16: SettingWithCopyWarning: \n",
      "A value is trying to be set on a copy of a slice from a DataFrame.\n",
      "Try using .loc[row_indexer,col_indexer] = value instead\n",
      "\n",
      "See the caveats in the documentation: https://pandas.pydata.org/pandas-docs/stable/user_guide/indexing.html#returning-a-view-versus-a-copy\n",
      "  current_data['Date'] = current_data.index\n"
     ]
    },
    {
     "name": "stdout",
     "output_type": "stream",
     "text": [
      "shape of df4 is (480, 3541)\n",
      "Completed 338 out of 461 steps\n",
      "the main data is of shape (540, 2)\n",
      "shape of current_data2 is (540, 59)\n"
     ]
    },
    {
     "name": "stderr",
     "output_type": "stream",
     "text": [
      "C:\\Users\\abhij\\AppData\\Local\\Temp\\ipykernel_18688\\568520512.py:16: SettingWithCopyWarning: \n",
      "A value is trying to be set on a copy of a slice from a DataFrame.\n",
      "Try using .loc[row_indexer,col_indexer] = value instead\n",
      "\n",
      "See the caveats in the documentation: https://pandas.pydata.org/pandas-docs/stable/user_guide/indexing.html#returning-a-view-versus-a-copy\n",
      "  current_data['Date'] = current_data.index\n"
     ]
    },
    {
     "name": "stdout",
     "output_type": "stream",
     "text": [
      "shape of df4 is (480, 3541)\n",
      "Completed 339 out of 461 steps\n",
      "the main data is of shape (540, 2)\n",
      "shape of current_data2 is (540, 59)\n"
     ]
    },
    {
     "name": "stderr",
     "output_type": "stream",
     "text": [
      "C:\\Users\\abhij\\AppData\\Local\\Temp\\ipykernel_18688\\568520512.py:16: SettingWithCopyWarning: \n",
      "A value is trying to be set on a copy of a slice from a DataFrame.\n",
      "Try using .loc[row_indexer,col_indexer] = value instead\n",
      "\n",
      "See the caveats in the documentation: https://pandas.pydata.org/pandas-docs/stable/user_guide/indexing.html#returning-a-view-versus-a-copy\n",
      "  current_data['Date'] = current_data.index\n"
     ]
    },
    {
     "name": "stdout",
     "output_type": "stream",
     "text": [
      "shape of df4 is (480, 3541)\n",
      "Completed 340 out of 461 steps\n",
      "the main data is of shape (540, 2)\n",
      "shape of current_data2 is (540, 59)\n"
     ]
    },
    {
     "name": "stderr",
     "output_type": "stream",
     "text": [
      "C:\\Users\\abhij\\AppData\\Local\\Temp\\ipykernel_18688\\568520512.py:16: SettingWithCopyWarning: \n",
      "A value is trying to be set on a copy of a slice from a DataFrame.\n",
      "Try using .loc[row_indexer,col_indexer] = value instead\n",
      "\n",
      "See the caveats in the documentation: https://pandas.pydata.org/pandas-docs/stable/user_guide/indexing.html#returning-a-view-versus-a-copy\n",
      "  current_data['Date'] = current_data.index\n"
     ]
    },
    {
     "name": "stdout",
     "output_type": "stream",
     "text": [
      "shape of df4 is (480, 3541)\n",
      "Completed 341 out of 461 steps\n",
      "the main data is of shape (540, 2)\n",
      "shape of current_data2 is (540, 59)\n"
     ]
    },
    {
     "name": "stderr",
     "output_type": "stream",
     "text": [
      "C:\\Users\\abhij\\AppData\\Local\\Temp\\ipykernel_18688\\568520512.py:16: SettingWithCopyWarning: \n",
      "A value is trying to be set on a copy of a slice from a DataFrame.\n",
      "Try using .loc[row_indexer,col_indexer] = value instead\n",
      "\n",
      "See the caveats in the documentation: https://pandas.pydata.org/pandas-docs/stable/user_guide/indexing.html#returning-a-view-versus-a-copy\n",
      "  current_data['Date'] = current_data.index\n"
     ]
    },
    {
     "name": "stdout",
     "output_type": "stream",
     "text": [
      "shape of df4 is (480, 3541)\n",
      "Completed 342 out of 461 steps\n",
      "the main data is of shape (540, 2)\n",
      "shape of current_data2 is (540, 59)\n"
     ]
    },
    {
     "name": "stderr",
     "output_type": "stream",
     "text": [
      "C:\\Users\\abhij\\AppData\\Local\\Temp\\ipykernel_18688\\568520512.py:16: SettingWithCopyWarning: \n",
      "A value is trying to be set on a copy of a slice from a DataFrame.\n",
      "Try using .loc[row_indexer,col_indexer] = value instead\n",
      "\n",
      "See the caveats in the documentation: https://pandas.pydata.org/pandas-docs/stable/user_guide/indexing.html#returning-a-view-versus-a-copy\n",
      "  current_data['Date'] = current_data.index\n"
     ]
    },
    {
     "name": "stdout",
     "output_type": "stream",
     "text": [
      "shape of df4 is (480, 3541)\n",
      "Completed 343 out of 461 steps\n",
      "the main data is of shape (540, 2)\n",
      "shape of current_data2 is (540, 59)\n"
     ]
    },
    {
     "name": "stderr",
     "output_type": "stream",
     "text": [
      "C:\\Users\\abhij\\AppData\\Local\\Temp\\ipykernel_18688\\568520512.py:16: SettingWithCopyWarning: \n",
      "A value is trying to be set on a copy of a slice from a DataFrame.\n",
      "Try using .loc[row_indexer,col_indexer] = value instead\n",
      "\n",
      "See the caveats in the documentation: https://pandas.pydata.org/pandas-docs/stable/user_guide/indexing.html#returning-a-view-versus-a-copy\n",
      "  current_data['Date'] = current_data.index\n"
     ]
    },
    {
     "name": "stdout",
     "output_type": "stream",
     "text": [
      "shape of df4 is (480, 3541)\n",
      "Completed 344 out of 461 steps\n",
      "the main data is of shape (540, 2)\n",
      "shape of current_data2 is (540, 59)\n"
     ]
    },
    {
     "name": "stderr",
     "output_type": "stream",
     "text": [
      "C:\\Users\\abhij\\AppData\\Local\\Temp\\ipykernel_18688\\568520512.py:16: SettingWithCopyWarning: \n",
      "A value is trying to be set on a copy of a slice from a DataFrame.\n",
      "Try using .loc[row_indexer,col_indexer] = value instead\n",
      "\n",
      "See the caveats in the documentation: https://pandas.pydata.org/pandas-docs/stable/user_guide/indexing.html#returning-a-view-versus-a-copy\n",
      "  current_data['Date'] = current_data.index\n"
     ]
    },
    {
     "name": "stdout",
     "output_type": "stream",
     "text": [
      "shape of df4 is (480, 3541)\n",
      "Completed 345 out of 461 steps\n",
      "the main data is of shape (540, 2)\n",
      "shape of current_data2 is (540, 59)\n"
     ]
    },
    {
     "name": "stderr",
     "output_type": "stream",
     "text": [
      "C:\\Users\\abhij\\AppData\\Local\\Temp\\ipykernel_18688\\568520512.py:16: SettingWithCopyWarning: \n",
      "A value is trying to be set on a copy of a slice from a DataFrame.\n",
      "Try using .loc[row_indexer,col_indexer] = value instead\n",
      "\n",
      "See the caveats in the documentation: https://pandas.pydata.org/pandas-docs/stable/user_guide/indexing.html#returning-a-view-versus-a-copy\n",
      "  current_data['Date'] = current_data.index\n"
     ]
    },
    {
     "name": "stdout",
     "output_type": "stream",
     "text": [
      "shape of df4 is (480, 3541)\n",
      "Completed 346 out of 461 steps\n",
      "the main data is of shape (540, 2)\n",
      "shape of current_data2 is (540, 59)\n"
     ]
    },
    {
     "name": "stderr",
     "output_type": "stream",
     "text": [
      "C:\\Users\\abhij\\AppData\\Local\\Temp\\ipykernel_18688\\568520512.py:16: SettingWithCopyWarning: \n",
      "A value is trying to be set on a copy of a slice from a DataFrame.\n",
      "Try using .loc[row_indexer,col_indexer] = value instead\n",
      "\n",
      "See the caveats in the documentation: https://pandas.pydata.org/pandas-docs/stable/user_guide/indexing.html#returning-a-view-versus-a-copy\n",
      "  current_data['Date'] = current_data.index\n"
     ]
    },
    {
     "name": "stdout",
     "output_type": "stream",
     "text": [
      "shape of df4 is (480, 3541)\n",
      "Completed 347 out of 461 steps\n",
      "the main data is of shape (540, 2)\n",
      "shape of current_data2 is (540, 59)\n"
     ]
    },
    {
     "name": "stderr",
     "output_type": "stream",
     "text": [
      "C:\\Users\\abhij\\AppData\\Local\\Temp\\ipykernel_18688\\568520512.py:16: SettingWithCopyWarning: \n",
      "A value is trying to be set on a copy of a slice from a DataFrame.\n",
      "Try using .loc[row_indexer,col_indexer] = value instead\n",
      "\n",
      "See the caveats in the documentation: https://pandas.pydata.org/pandas-docs/stable/user_guide/indexing.html#returning-a-view-versus-a-copy\n",
      "  current_data['Date'] = current_data.index\n"
     ]
    },
    {
     "name": "stdout",
     "output_type": "stream",
     "text": [
      "shape of df4 is (480, 3541)\n",
      "Completed 348 out of 461 steps\n",
      "the main data is of shape (540, 2)\n",
      "shape of current_data2 is (540, 59)\n"
     ]
    },
    {
     "name": "stderr",
     "output_type": "stream",
     "text": [
      "C:\\Users\\abhij\\AppData\\Local\\Temp\\ipykernel_18688\\568520512.py:16: SettingWithCopyWarning: \n",
      "A value is trying to be set on a copy of a slice from a DataFrame.\n",
      "Try using .loc[row_indexer,col_indexer] = value instead\n",
      "\n",
      "See the caveats in the documentation: https://pandas.pydata.org/pandas-docs/stable/user_guide/indexing.html#returning-a-view-versus-a-copy\n",
      "  current_data['Date'] = current_data.index\n"
     ]
    },
    {
     "name": "stdout",
     "output_type": "stream",
     "text": [
      "shape of df4 is (480, 3541)\n",
      "Completed 349 out of 461 steps\n",
      "the main data is of shape (540, 2)\n",
      "shape of current_data2 is (540, 59)\n"
     ]
    },
    {
     "name": "stderr",
     "output_type": "stream",
     "text": [
      "C:\\Users\\abhij\\AppData\\Local\\Temp\\ipykernel_18688\\568520512.py:16: SettingWithCopyWarning: \n",
      "A value is trying to be set on a copy of a slice from a DataFrame.\n",
      "Try using .loc[row_indexer,col_indexer] = value instead\n",
      "\n",
      "See the caveats in the documentation: https://pandas.pydata.org/pandas-docs/stable/user_guide/indexing.html#returning-a-view-versus-a-copy\n",
      "  current_data['Date'] = current_data.index\n"
     ]
    },
    {
     "name": "stdout",
     "output_type": "stream",
     "text": [
      "shape of df4 is (480, 3541)\n",
      "Completed 350 out of 461 steps\n",
      "the main data is of shape (540, 2)\n",
      "shape of current_data2 is (540, 59)\n"
     ]
    },
    {
     "name": "stderr",
     "output_type": "stream",
     "text": [
      "C:\\Users\\abhij\\AppData\\Local\\Temp\\ipykernel_18688\\568520512.py:16: SettingWithCopyWarning: \n",
      "A value is trying to be set on a copy of a slice from a DataFrame.\n",
      "Try using .loc[row_indexer,col_indexer] = value instead\n",
      "\n",
      "See the caveats in the documentation: https://pandas.pydata.org/pandas-docs/stable/user_guide/indexing.html#returning-a-view-versus-a-copy\n",
      "  current_data['Date'] = current_data.index\n"
     ]
    },
    {
     "name": "stdout",
     "output_type": "stream",
     "text": [
      "shape of df4 is (480, 3541)\n",
      "Completed 351 out of 461 steps\n",
      "the main data is of shape (540, 2)\n",
      "shape of current_data2 is (540, 59)\n"
     ]
    },
    {
     "name": "stderr",
     "output_type": "stream",
     "text": [
      "C:\\Users\\abhij\\AppData\\Local\\Temp\\ipykernel_18688\\568520512.py:16: SettingWithCopyWarning: \n",
      "A value is trying to be set on a copy of a slice from a DataFrame.\n",
      "Try using .loc[row_indexer,col_indexer] = value instead\n",
      "\n",
      "See the caveats in the documentation: https://pandas.pydata.org/pandas-docs/stable/user_guide/indexing.html#returning-a-view-versus-a-copy\n",
      "  current_data['Date'] = current_data.index\n"
     ]
    },
    {
     "name": "stdout",
     "output_type": "stream",
     "text": [
      "shape of df4 is (480, 3541)\n",
      "Completed 352 out of 461 steps\n",
      "the main data is of shape (540, 2)\n",
      "shape of current_data2 is (540, 59)\n"
     ]
    },
    {
     "name": "stderr",
     "output_type": "stream",
     "text": [
      "C:\\Users\\abhij\\AppData\\Local\\Temp\\ipykernel_18688\\568520512.py:16: SettingWithCopyWarning: \n",
      "A value is trying to be set on a copy of a slice from a DataFrame.\n",
      "Try using .loc[row_indexer,col_indexer] = value instead\n",
      "\n",
      "See the caveats in the documentation: https://pandas.pydata.org/pandas-docs/stable/user_guide/indexing.html#returning-a-view-versus-a-copy\n",
      "  current_data['Date'] = current_data.index\n"
     ]
    },
    {
     "name": "stdout",
     "output_type": "stream",
     "text": [
      "shape of df4 is (480, 3541)\n",
      "Completed 353 out of 461 steps\n",
      "the main data is of shape (540, 2)\n",
      "shape of current_data2 is (540, 59)\n"
     ]
    },
    {
     "name": "stderr",
     "output_type": "stream",
     "text": [
      "C:\\Users\\abhij\\AppData\\Local\\Temp\\ipykernel_18688\\568520512.py:16: SettingWithCopyWarning: \n",
      "A value is trying to be set on a copy of a slice from a DataFrame.\n",
      "Try using .loc[row_indexer,col_indexer] = value instead\n",
      "\n",
      "See the caveats in the documentation: https://pandas.pydata.org/pandas-docs/stable/user_guide/indexing.html#returning-a-view-versus-a-copy\n",
      "  current_data['Date'] = current_data.index\n"
     ]
    },
    {
     "name": "stdout",
     "output_type": "stream",
     "text": [
      "shape of df4 is (480, 3541)\n",
      "Completed 354 out of 461 steps\n",
      "the main data is of shape (540, 2)\n",
      "shape of current_data2 is (540, 59)\n"
     ]
    },
    {
     "name": "stderr",
     "output_type": "stream",
     "text": [
      "C:\\Users\\abhij\\AppData\\Local\\Temp\\ipykernel_18688\\568520512.py:16: SettingWithCopyWarning: \n",
      "A value is trying to be set on a copy of a slice from a DataFrame.\n",
      "Try using .loc[row_indexer,col_indexer] = value instead\n",
      "\n",
      "See the caveats in the documentation: https://pandas.pydata.org/pandas-docs/stable/user_guide/indexing.html#returning-a-view-versus-a-copy\n",
      "  current_data['Date'] = current_data.index\n"
     ]
    },
    {
     "name": "stdout",
     "output_type": "stream",
     "text": [
      "shape of df4 is (480, 3541)\n",
      "Completed 355 out of 461 steps\n",
      "the main data is of shape (540, 2)\n",
      "shape of current_data2 is (540, 59)\n"
     ]
    },
    {
     "name": "stderr",
     "output_type": "stream",
     "text": [
      "C:\\Users\\abhij\\AppData\\Local\\Temp\\ipykernel_18688\\568520512.py:16: SettingWithCopyWarning: \n",
      "A value is trying to be set on a copy of a slice from a DataFrame.\n",
      "Try using .loc[row_indexer,col_indexer] = value instead\n",
      "\n",
      "See the caveats in the documentation: https://pandas.pydata.org/pandas-docs/stable/user_guide/indexing.html#returning-a-view-versus-a-copy\n",
      "  current_data['Date'] = current_data.index\n"
     ]
    },
    {
     "name": "stdout",
     "output_type": "stream",
     "text": [
      "shape of df4 is (480, 3541)\n",
      "Completed 356 out of 461 steps\n",
      "the main data is of shape (540, 2)\n",
      "shape of current_data2 is (540, 59)\n"
     ]
    },
    {
     "name": "stderr",
     "output_type": "stream",
     "text": [
      "C:\\Users\\abhij\\AppData\\Local\\Temp\\ipykernel_18688\\568520512.py:16: SettingWithCopyWarning: \n",
      "A value is trying to be set on a copy of a slice from a DataFrame.\n",
      "Try using .loc[row_indexer,col_indexer] = value instead\n",
      "\n",
      "See the caveats in the documentation: https://pandas.pydata.org/pandas-docs/stable/user_guide/indexing.html#returning-a-view-versus-a-copy\n",
      "  current_data['Date'] = current_data.index\n"
     ]
    },
    {
     "name": "stdout",
     "output_type": "stream",
     "text": [
      "shape of df4 is (480, 3541)\n",
      "Completed 357 out of 461 steps\n",
      "the main data is of shape (540, 2)\n",
      "shape of current_data2 is (540, 59)\n"
     ]
    },
    {
     "name": "stderr",
     "output_type": "stream",
     "text": [
      "C:\\Users\\abhij\\AppData\\Local\\Temp\\ipykernel_18688\\568520512.py:16: SettingWithCopyWarning: \n",
      "A value is trying to be set on a copy of a slice from a DataFrame.\n",
      "Try using .loc[row_indexer,col_indexer] = value instead\n",
      "\n",
      "See the caveats in the documentation: https://pandas.pydata.org/pandas-docs/stable/user_guide/indexing.html#returning-a-view-versus-a-copy\n",
      "  current_data['Date'] = current_data.index\n"
     ]
    },
    {
     "name": "stdout",
     "output_type": "stream",
     "text": [
      "shape of df4 is (480, 3541)\n",
      "Completed 358 out of 461 steps\n",
      "the main data is of shape (540, 2)\n",
      "shape of current_data2 is (540, 59)\n"
     ]
    },
    {
     "name": "stderr",
     "output_type": "stream",
     "text": [
      "C:\\Users\\abhij\\AppData\\Local\\Temp\\ipykernel_18688\\568520512.py:16: SettingWithCopyWarning: \n",
      "A value is trying to be set on a copy of a slice from a DataFrame.\n",
      "Try using .loc[row_indexer,col_indexer] = value instead\n",
      "\n",
      "See the caveats in the documentation: https://pandas.pydata.org/pandas-docs/stable/user_guide/indexing.html#returning-a-view-versus-a-copy\n",
      "  current_data['Date'] = current_data.index\n"
     ]
    },
    {
     "name": "stdout",
     "output_type": "stream",
     "text": [
      "shape of df4 is (480, 3541)\n",
      "Completed 359 out of 461 steps\n",
      "the main data is of shape (540, 2)\n",
      "shape of current_data2 is (540, 59)\n"
     ]
    },
    {
     "name": "stderr",
     "output_type": "stream",
     "text": [
      "C:\\Users\\abhij\\AppData\\Local\\Temp\\ipykernel_18688\\568520512.py:16: SettingWithCopyWarning: \n",
      "A value is trying to be set on a copy of a slice from a DataFrame.\n",
      "Try using .loc[row_indexer,col_indexer] = value instead\n",
      "\n",
      "See the caveats in the documentation: https://pandas.pydata.org/pandas-docs/stable/user_guide/indexing.html#returning-a-view-versus-a-copy\n",
      "  current_data['Date'] = current_data.index\n"
     ]
    },
    {
     "name": "stdout",
     "output_type": "stream",
     "text": [
      "shape of df4 is (480, 3541)\n",
      "Completed 360 out of 461 steps\n",
      "the main data is of shape (540, 2)\n",
      "shape of current_data2 is (540, 59)\n"
     ]
    },
    {
     "name": "stderr",
     "output_type": "stream",
     "text": [
      "C:\\Users\\abhij\\AppData\\Local\\Temp\\ipykernel_18688\\568520512.py:16: SettingWithCopyWarning: \n",
      "A value is trying to be set on a copy of a slice from a DataFrame.\n",
      "Try using .loc[row_indexer,col_indexer] = value instead\n",
      "\n",
      "See the caveats in the documentation: https://pandas.pydata.org/pandas-docs/stable/user_guide/indexing.html#returning-a-view-versus-a-copy\n",
      "  current_data['Date'] = current_data.index\n"
     ]
    },
    {
     "name": "stdout",
     "output_type": "stream",
     "text": [
      "shape of df4 is (480, 3541)\n",
      "Completed 361 out of 461 steps\n",
      "the main data is of shape (540, 2)\n",
      "shape of current_data2 is (540, 59)\n"
     ]
    },
    {
     "name": "stderr",
     "output_type": "stream",
     "text": [
      "C:\\Users\\abhij\\AppData\\Local\\Temp\\ipykernel_18688\\568520512.py:16: SettingWithCopyWarning: \n",
      "A value is trying to be set on a copy of a slice from a DataFrame.\n",
      "Try using .loc[row_indexer,col_indexer] = value instead\n",
      "\n",
      "See the caveats in the documentation: https://pandas.pydata.org/pandas-docs/stable/user_guide/indexing.html#returning-a-view-versus-a-copy\n",
      "  current_data['Date'] = current_data.index\n"
     ]
    },
    {
     "name": "stdout",
     "output_type": "stream",
     "text": [
      "shape of df4 is (480, 3541)\n",
      "Completed 362 out of 461 steps\n",
      "the main data is of shape (540, 2)\n",
      "shape of current_data2 is (540, 59)\n"
     ]
    },
    {
     "name": "stderr",
     "output_type": "stream",
     "text": [
      "C:\\Users\\abhij\\AppData\\Local\\Temp\\ipykernel_18688\\568520512.py:16: SettingWithCopyWarning: \n",
      "A value is trying to be set on a copy of a slice from a DataFrame.\n",
      "Try using .loc[row_indexer,col_indexer] = value instead\n",
      "\n",
      "See the caveats in the documentation: https://pandas.pydata.org/pandas-docs/stable/user_guide/indexing.html#returning-a-view-versus-a-copy\n",
      "  current_data['Date'] = current_data.index\n"
     ]
    },
    {
     "name": "stdout",
     "output_type": "stream",
     "text": [
      "shape of df4 is (480, 3541)\n",
      "Completed 363 out of 461 steps\n",
      "the main data is of shape (540, 2)\n",
      "shape of current_data2 is (540, 59)\n"
     ]
    },
    {
     "name": "stderr",
     "output_type": "stream",
     "text": [
      "C:\\Users\\abhij\\AppData\\Local\\Temp\\ipykernel_18688\\568520512.py:16: SettingWithCopyWarning: \n",
      "A value is trying to be set on a copy of a slice from a DataFrame.\n",
      "Try using .loc[row_indexer,col_indexer] = value instead\n",
      "\n",
      "See the caveats in the documentation: https://pandas.pydata.org/pandas-docs/stable/user_guide/indexing.html#returning-a-view-versus-a-copy\n",
      "  current_data['Date'] = current_data.index\n"
     ]
    },
    {
     "name": "stdout",
     "output_type": "stream",
     "text": [
      "shape of df4 is (480, 3541)\n",
      "Completed 364 out of 461 steps\n",
      "the main data is of shape (540, 2)\n",
      "shape of current_data2 is (540, 59)\n"
     ]
    },
    {
     "name": "stderr",
     "output_type": "stream",
     "text": [
      "C:\\Users\\abhij\\AppData\\Local\\Temp\\ipykernel_18688\\568520512.py:16: SettingWithCopyWarning: \n",
      "A value is trying to be set on a copy of a slice from a DataFrame.\n",
      "Try using .loc[row_indexer,col_indexer] = value instead\n",
      "\n",
      "See the caveats in the documentation: https://pandas.pydata.org/pandas-docs/stable/user_guide/indexing.html#returning-a-view-versus-a-copy\n",
      "  current_data['Date'] = current_data.index\n"
     ]
    },
    {
     "name": "stdout",
     "output_type": "stream",
     "text": [
      "shape of df4 is (480, 3541)\n",
      "Completed 365 out of 461 steps\n",
      "the main data is of shape (540, 2)\n",
      "shape of current_data2 is (540, 59)\n"
     ]
    },
    {
     "name": "stderr",
     "output_type": "stream",
     "text": [
      "C:\\Users\\abhij\\AppData\\Local\\Temp\\ipykernel_18688\\568520512.py:16: SettingWithCopyWarning: \n",
      "A value is trying to be set on a copy of a slice from a DataFrame.\n",
      "Try using .loc[row_indexer,col_indexer] = value instead\n",
      "\n",
      "See the caveats in the documentation: https://pandas.pydata.org/pandas-docs/stable/user_guide/indexing.html#returning-a-view-versus-a-copy\n",
      "  current_data['Date'] = current_data.index\n"
     ]
    },
    {
     "name": "stdout",
     "output_type": "stream",
     "text": [
      "shape of df4 is (480, 3541)\n",
      "Completed 366 out of 461 steps\n",
      "the main data is of shape (540, 2)\n",
      "shape of current_data2 is (540, 59)\n"
     ]
    },
    {
     "name": "stderr",
     "output_type": "stream",
     "text": [
      "C:\\Users\\abhij\\AppData\\Local\\Temp\\ipykernel_18688\\568520512.py:16: SettingWithCopyWarning: \n",
      "A value is trying to be set on a copy of a slice from a DataFrame.\n",
      "Try using .loc[row_indexer,col_indexer] = value instead\n",
      "\n",
      "See the caveats in the documentation: https://pandas.pydata.org/pandas-docs/stable/user_guide/indexing.html#returning-a-view-versus-a-copy\n",
      "  current_data['Date'] = current_data.index\n"
     ]
    },
    {
     "name": "stdout",
     "output_type": "stream",
     "text": [
      "shape of df4 is (480, 3541)\n",
      "Completed 367 out of 461 steps\n",
      "the main data is of shape (540, 2)\n",
      "shape of current_data2 is (540, 59)\n"
     ]
    },
    {
     "name": "stderr",
     "output_type": "stream",
     "text": [
      "C:\\Users\\abhij\\AppData\\Local\\Temp\\ipykernel_18688\\568520512.py:16: SettingWithCopyWarning: \n",
      "A value is trying to be set on a copy of a slice from a DataFrame.\n",
      "Try using .loc[row_indexer,col_indexer] = value instead\n",
      "\n",
      "See the caveats in the documentation: https://pandas.pydata.org/pandas-docs/stable/user_guide/indexing.html#returning-a-view-versus-a-copy\n",
      "  current_data['Date'] = current_data.index\n"
     ]
    },
    {
     "name": "stdout",
     "output_type": "stream",
     "text": [
      "shape of df4 is (480, 3541)\n",
      "Completed 368 out of 461 steps\n",
      "the main data is of shape (540, 2)\n",
      "shape of current_data2 is (540, 59)\n"
     ]
    },
    {
     "name": "stderr",
     "output_type": "stream",
     "text": [
      "C:\\Users\\abhij\\AppData\\Local\\Temp\\ipykernel_18688\\568520512.py:16: SettingWithCopyWarning: \n",
      "A value is trying to be set on a copy of a slice from a DataFrame.\n",
      "Try using .loc[row_indexer,col_indexer] = value instead\n",
      "\n",
      "See the caveats in the documentation: https://pandas.pydata.org/pandas-docs/stable/user_guide/indexing.html#returning-a-view-versus-a-copy\n",
      "  current_data['Date'] = current_data.index\n"
     ]
    },
    {
     "name": "stdout",
     "output_type": "stream",
     "text": [
      "shape of df4 is (480, 3541)\n",
      "Completed 369 out of 461 steps\n",
      "the main data is of shape (540, 2)\n",
      "shape of current_data2 is (540, 59)\n"
     ]
    },
    {
     "name": "stderr",
     "output_type": "stream",
     "text": [
      "C:\\Users\\abhij\\AppData\\Local\\Temp\\ipykernel_18688\\568520512.py:16: SettingWithCopyWarning: \n",
      "A value is trying to be set on a copy of a slice from a DataFrame.\n",
      "Try using .loc[row_indexer,col_indexer] = value instead\n",
      "\n",
      "See the caveats in the documentation: https://pandas.pydata.org/pandas-docs/stable/user_guide/indexing.html#returning-a-view-versus-a-copy\n",
      "  current_data['Date'] = current_data.index\n"
     ]
    },
    {
     "name": "stdout",
     "output_type": "stream",
     "text": [
      "shape of df4 is (480, 3541)\n",
      "Completed 370 out of 461 steps\n",
      "the main data is of shape (540, 2)\n",
      "shape of current_data2 is (540, 59)\n"
     ]
    },
    {
     "name": "stderr",
     "output_type": "stream",
     "text": [
      "C:\\Users\\abhij\\AppData\\Local\\Temp\\ipykernel_18688\\568520512.py:16: SettingWithCopyWarning: \n",
      "A value is trying to be set on a copy of a slice from a DataFrame.\n",
      "Try using .loc[row_indexer,col_indexer] = value instead\n",
      "\n",
      "See the caveats in the documentation: https://pandas.pydata.org/pandas-docs/stable/user_guide/indexing.html#returning-a-view-versus-a-copy\n",
      "  current_data['Date'] = current_data.index\n"
     ]
    },
    {
     "name": "stdout",
     "output_type": "stream",
     "text": [
      "shape of df4 is (480, 3541)\n",
      "Completed 371 out of 461 steps\n",
      "the main data is of shape (540, 2)\n",
      "shape of current_data2 is (540, 59)\n"
     ]
    },
    {
     "name": "stderr",
     "output_type": "stream",
     "text": [
      "C:\\Users\\abhij\\AppData\\Local\\Temp\\ipykernel_18688\\568520512.py:16: SettingWithCopyWarning: \n",
      "A value is trying to be set on a copy of a slice from a DataFrame.\n",
      "Try using .loc[row_indexer,col_indexer] = value instead\n",
      "\n",
      "See the caveats in the documentation: https://pandas.pydata.org/pandas-docs/stable/user_guide/indexing.html#returning-a-view-versus-a-copy\n",
      "  current_data['Date'] = current_data.index\n"
     ]
    },
    {
     "name": "stdout",
     "output_type": "stream",
     "text": [
      "shape of df4 is (480, 3541)\n",
      "Completed 372 out of 461 steps\n",
      "the main data is of shape (540, 2)\n",
      "shape of current_data2 is (540, 59)\n"
     ]
    },
    {
     "name": "stderr",
     "output_type": "stream",
     "text": [
      "C:\\Users\\abhij\\AppData\\Local\\Temp\\ipykernel_18688\\568520512.py:16: SettingWithCopyWarning: \n",
      "A value is trying to be set on a copy of a slice from a DataFrame.\n",
      "Try using .loc[row_indexer,col_indexer] = value instead\n",
      "\n",
      "See the caveats in the documentation: https://pandas.pydata.org/pandas-docs/stable/user_guide/indexing.html#returning-a-view-versus-a-copy\n",
      "  current_data['Date'] = current_data.index\n"
     ]
    },
    {
     "name": "stdout",
     "output_type": "stream",
     "text": [
      "shape of df4 is (480, 3541)\n",
      "Completed 373 out of 461 steps\n",
      "the main data is of shape (540, 2)\n",
      "shape of current_data2 is (540, 59)\n"
     ]
    },
    {
     "name": "stderr",
     "output_type": "stream",
     "text": [
      "C:\\Users\\abhij\\AppData\\Local\\Temp\\ipykernel_18688\\568520512.py:16: SettingWithCopyWarning: \n",
      "A value is trying to be set on a copy of a slice from a DataFrame.\n",
      "Try using .loc[row_indexer,col_indexer] = value instead\n",
      "\n",
      "See the caveats in the documentation: https://pandas.pydata.org/pandas-docs/stable/user_guide/indexing.html#returning-a-view-versus-a-copy\n",
      "  current_data['Date'] = current_data.index\n"
     ]
    },
    {
     "name": "stdout",
     "output_type": "stream",
     "text": [
      "shape of df4 is (480, 3541)\n",
      "Completed 374 out of 461 steps\n",
      "the main data is of shape (540, 2)\n",
      "shape of current_data2 is (540, 59)\n"
     ]
    },
    {
     "name": "stderr",
     "output_type": "stream",
     "text": [
      "C:\\Users\\abhij\\AppData\\Local\\Temp\\ipykernel_18688\\568520512.py:16: SettingWithCopyWarning: \n",
      "A value is trying to be set on a copy of a slice from a DataFrame.\n",
      "Try using .loc[row_indexer,col_indexer] = value instead\n",
      "\n",
      "See the caveats in the documentation: https://pandas.pydata.org/pandas-docs/stable/user_guide/indexing.html#returning-a-view-versus-a-copy\n",
      "  current_data['Date'] = current_data.index\n"
     ]
    },
    {
     "name": "stdout",
     "output_type": "stream",
     "text": [
      "shape of df4 is (480, 3541)\n",
      "Completed 375 out of 461 steps\n",
      "the main data is of shape (540, 2)\n",
      "shape of current_data2 is (540, 59)\n"
     ]
    },
    {
     "name": "stderr",
     "output_type": "stream",
     "text": [
      "C:\\Users\\abhij\\AppData\\Local\\Temp\\ipykernel_18688\\568520512.py:16: SettingWithCopyWarning: \n",
      "A value is trying to be set on a copy of a slice from a DataFrame.\n",
      "Try using .loc[row_indexer,col_indexer] = value instead\n",
      "\n",
      "See the caveats in the documentation: https://pandas.pydata.org/pandas-docs/stable/user_guide/indexing.html#returning-a-view-versus-a-copy\n",
      "  current_data['Date'] = current_data.index\n"
     ]
    },
    {
     "name": "stdout",
     "output_type": "stream",
     "text": [
      "shape of df4 is (480, 3541)\n",
      "Completed 376 out of 461 steps\n",
      "the main data is of shape (540, 2)\n",
      "shape of current_data2 is (540, 59)\n"
     ]
    },
    {
     "name": "stderr",
     "output_type": "stream",
     "text": [
      "C:\\Users\\abhij\\AppData\\Local\\Temp\\ipykernel_18688\\568520512.py:16: SettingWithCopyWarning: \n",
      "A value is trying to be set on a copy of a slice from a DataFrame.\n",
      "Try using .loc[row_indexer,col_indexer] = value instead\n",
      "\n",
      "See the caveats in the documentation: https://pandas.pydata.org/pandas-docs/stable/user_guide/indexing.html#returning-a-view-versus-a-copy\n",
      "  current_data['Date'] = current_data.index\n"
     ]
    },
    {
     "name": "stdout",
     "output_type": "stream",
     "text": [
      "shape of df4 is (480, 3541)\n",
      "Completed 377 out of 461 steps\n",
      "the main data is of shape (540, 2)\n",
      "shape of current_data2 is (540, 59)\n"
     ]
    },
    {
     "name": "stderr",
     "output_type": "stream",
     "text": [
      "C:\\Users\\abhij\\AppData\\Local\\Temp\\ipykernel_18688\\568520512.py:16: SettingWithCopyWarning: \n",
      "A value is trying to be set on a copy of a slice from a DataFrame.\n",
      "Try using .loc[row_indexer,col_indexer] = value instead\n",
      "\n",
      "See the caveats in the documentation: https://pandas.pydata.org/pandas-docs/stable/user_guide/indexing.html#returning-a-view-versus-a-copy\n",
      "  current_data['Date'] = current_data.index\n"
     ]
    },
    {
     "name": "stdout",
     "output_type": "stream",
     "text": [
      "shape of df4 is (480, 3541)\n",
      "Completed 378 out of 461 steps\n",
      "the main data is of shape (540, 2)\n",
      "shape of current_data2 is (540, 59)\n"
     ]
    },
    {
     "name": "stderr",
     "output_type": "stream",
     "text": [
      "C:\\Users\\abhij\\AppData\\Local\\Temp\\ipykernel_18688\\568520512.py:16: SettingWithCopyWarning: \n",
      "A value is trying to be set on a copy of a slice from a DataFrame.\n",
      "Try using .loc[row_indexer,col_indexer] = value instead\n",
      "\n",
      "See the caveats in the documentation: https://pandas.pydata.org/pandas-docs/stable/user_guide/indexing.html#returning-a-view-versus-a-copy\n",
      "  current_data['Date'] = current_data.index\n"
     ]
    },
    {
     "name": "stdout",
     "output_type": "stream",
     "text": [
      "shape of df4 is (480, 3541)\n",
      "Completed 379 out of 461 steps\n",
      "the main data is of shape (540, 2)\n",
      "shape of current_data2 is (540, 59)\n"
     ]
    },
    {
     "name": "stderr",
     "output_type": "stream",
     "text": [
      "C:\\Users\\abhij\\AppData\\Local\\Temp\\ipykernel_18688\\568520512.py:16: SettingWithCopyWarning: \n",
      "A value is trying to be set on a copy of a slice from a DataFrame.\n",
      "Try using .loc[row_indexer,col_indexer] = value instead\n",
      "\n",
      "See the caveats in the documentation: https://pandas.pydata.org/pandas-docs/stable/user_guide/indexing.html#returning-a-view-versus-a-copy\n",
      "  current_data['Date'] = current_data.index\n"
     ]
    },
    {
     "name": "stdout",
     "output_type": "stream",
     "text": [
      "shape of df4 is (480, 3541)\n",
      "Completed 380 out of 461 steps\n",
      "the main data is of shape (540, 2)\n",
      "shape of current_data2 is (540, 59)\n"
     ]
    },
    {
     "name": "stderr",
     "output_type": "stream",
     "text": [
      "C:\\Users\\abhij\\AppData\\Local\\Temp\\ipykernel_18688\\568520512.py:16: SettingWithCopyWarning: \n",
      "A value is trying to be set on a copy of a slice from a DataFrame.\n",
      "Try using .loc[row_indexer,col_indexer] = value instead\n",
      "\n",
      "See the caveats in the documentation: https://pandas.pydata.org/pandas-docs/stable/user_guide/indexing.html#returning-a-view-versus-a-copy\n",
      "  current_data['Date'] = current_data.index\n"
     ]
    },
    {
     "name": "stdout",
     "output_type": "stream",
     "text": [
      "shape of df4 is (480, 3541)\n",
      "Completed 381 out of 461 steps\n",
      "the main data is of shape (540, 2)\n",
      "shape of current_data2 is (540, 59)\n"
     ]
    },
    {
     "name": "stderr",
     "output_type": "stream",
     "text": [
      "C:\\Users\\abhij\\AppData\\Local\\Temp\\ipykernel_18688\\568520512.py:16: SettingWithCopyWarning: \n",
      "A value is trying to be set on a copy of a slice from a DataFrame.\n",
      "Try using .loc[row_indexer,col_indexer] = value instead\n",
      "\n",
      "See the caveats in the documentation: https://pandas.pydata.org/pandas-docs/stable/user_guide/indexing.html#returning-a-view-versus-a-copy\n",
      "  current_data['Date'] = current_data.index\n"
     ]
    },
    {
     "name": "stdout",
     "output_type": "stream",
     "text": [
      "shape of df4 is (480, 3541)\n",
      "Completed 382 out of 461 steps\n",
      "the main data is of shape (540, 2)\n",
      "shape of current_data2 is (540, 59)\n"
     ]
    },
    {
     "name": "stderr",
     "output_type": "stream",
     "text": [
      "C:\\Users\\abhij\\AppData\\Local\\Temp\\ipykernel_18688\\568520512.py:16: SettingWithCopyWarning: \n",
      "A value is trying to be set on a copy of a slice from a DataFrame.\n",
      "Try using .loc[row_indexer,col_indexer] = value instead\n",
      "\n",
      "See the caveats in the documentation: https://pandas.pydata.org/pandas-docs/stable/user_guide/indexing.html#returning-a-view-versus-a-copy\n",
      "  current_data['Date'] = current_data.index\n"
     ]
    },
    {
     "name": "stdout",
     "output_type": "stream",
     "text": [
      "shape of df4 is (480, 3541)\n",
      "Completed 383 out of 461 steps\n",
      "the main data is of shape (540, 2)\n",
      "shape of current_data2 is (540, 59)\n"
     ]
    },
    {
     "name": "stderr",
     "output_type": "stream",
     "text": [
      "C:\\Users\\abhij\\AppData\\Local\\Temp\\ipykernel_18688\\568520512.py:16: SettingWithCopyWarning: \n",
      "A value is trying to be set on a copy of a slice from a DataFrame.\n",
      "Try using .loc[row_indexer,col_indexer] = value instead\n",
      "\n",
      "See the caveats in the documentation: https://pandas.pydata.org/pandas-docs/stable/user_guide/indexing.html#returning-a-view-versus-a-copy\n",
      "  current_data['Date'] = current_data.index\n"
     ]
    },
    {
     "name": "stdout",
     "output_type": "stream",
     "text": [
      "shape of df4 is (480, 3541)\n",
      "Completed 384 out of 461 steps\n",
      "the main data is of shape (540, 2)\n",
      "shape of current_data2 is (540, 59)\n"
     ]
    },
    {
     "name": "stderr",
     "output_type": "stream",
     "text": [
      "C:\\Users\\abhij\\AppData\\Local\\Temp\\ipykernel_18688\\568520512.py:16: SettingWithCopyWarning: \n",
      "A value is trying to be set on a copy of a slice from a DataFrame.\n",
      "Try using .loc[row_indexer,col_indexer] = value instead\n",
      "\n",
      "See the caveats in the documentation: https://pandas.pydata.org/pandas-docs/stable/user_guide/indexing.html#returning-a-view-versus-a-copy\n",
      "  current_data['Date'] = current_data.index\n"
     ]
    },
    {
     "name": "stdout",
     "output_type": "stream",
     "text": [
      "shape of df4 is (480, 3541)\n",
      "Completed 385 out of 461 steps\n",
      "the main data is of shape (540, 2)\n",
      "shape of current_data2 is (540, 59)\n"
     ]
    },
    {
     "name": "stderr",
     "output_type": "stream",
     "text": [
      "C:\\Users\\abhij\\AppData\\Local\\Temp\\ipykernel_18688\\568520512.py:16: SettingWithCopyWarning: \n",
      "A value is trying to be set on a copy of a slice from a DataFrame.\n",
      "Try using .loc[row_indexer,col_indexer] = value instead\n",
      "\n",
      "See the caveats in the documentation: https://pandas.pydata.org/pandas-docs/stable/user_guide/indexing.html#returning-a-view-versus-a-copy\n",
      "  current_data['Date'] = current_data.index\n"
     ]
    },
    {
     "name": "stdout",
     "output_type": "stream",
     "text": [
      "shape of df4 is (480, 3541)\n",
      "Completed 386 out of 461 steps\n",
      "the main data is of shape (540, 2)\n",
      "shape of current_data2 is (540, 59)\n"
     ]
    },
    {
     "name": "stderr",
     "output_type": "stream",
     "text": [
      "C:\\Users\\abhij\\AppData\\Local\\Temp\\ipykernel_18688\\568520512.py:16: SettingWithCopyWarning: \n",
      "A value is trying to be set on a copy of a slice from a DataFrame.\n",
      "Try using .loc[row_indexer,col_indexer] = value instead\n",
      "\n",
      "See the caveats in the documentation: https://pandas.pydata.org/pandas-docs/stable/user_guide/indexing.html#returning-a-view-versus-a-copy\n",
      "  current_data['Date'] = current_data.index\n"
     ]
    },
    {
     "name": "stdout",
     "output_type": "stream",
     "text": [
      "shape of df4 is (480, 3541)\n",
      "Completed 387 out of 461 steps\n",
      "the main data is of shape (540, 2)\n",
      "shape of current_data2 is (540, 59)\n"
     ]
    },
    {
     "name": "stderr",
     "output_type": "stream",
     "text": [
      "C:\\Users\\abhij\\AppData\\Local\\Temp\\ipykernel_18688\\568520512.py:16: SettingWithCopyWarning: \n",
      "A value is trying to be set on a copy of a slice from a DataFrame.\n",
      "Try using .loc[row_indexer,col_indexer] = value instead\n",
      "\n",
      "See the caveats in the documentation: https://pandas.pydata.org/pandas-docs/stable/user_guide/indexing.html#returning-a-view-versus-a-copy\n",
      "  current_data['Date'] = current_data.index\n"
     ]
    },
    {
     "name": "stdout",
     "output_type": "stream",
     "text": [
      "shape of df4 is (480, 3541)\n",
      "Completed 388 out of 461 steps\n",
      "the main data is of shape (540, 2)\n",
      "shape of current_data2 is (540, 59)\n"
     ]
    },
    {
     "name": "stderr",
     "output_type": "stream",
     "text": [
      "C:\\Users\\abhij\\AppData\\Local\\Temp\\ipykernel_18688\\568520512.py:16: SettingWithCopyWarning: \n",
      "A value is trying to be set on a copy of a slice from a DataFrame.\n",
      "Try using .loc[row_indexer,col_indexer] = value instead\n",
      "\n",
      "See the caveats in the documentation: https://pandas.pydata.org/pandas-docs/stable/user_guide/indexing.html#returning-a-view-versus-a-copy\n",
      "  current_data['Date'] = current_data.index\n"
     ]
    },
    {
     "name": "stdout",
     "output_type": "stream",
     "text": [
      "shape of df4 is (480, 3541)\n",
      "Completed 389 out of 461 steps\n",
      "the main data is of shape (540, 2)\n",
      "shape of current_data2 is (540, 59)\n"
     ]
    },
    {
     "name": "stderr",
     "output_type": "stream",
     "text": [
      "C:\\Users\\abhij\\AppData\\Local\\Temp\\ipykernel_18688\\568520512.py:16: SettingWithCopyWarning: \n",
      "A value is trying to be set on a copy of a slice from a DataFrame.\n",
      "Try using .loc[row_indexer,col_indexer] = value instead\n",
      "\n",
      "See the caveats in the documentation: https://pandas.pydata.org/pandas-docs/stable/user_guide/indexing.html#returning-a-view-versus-a-copy\n",
      "  current_data['Date'] = current_data.index\n"
     ]
    },
    {
     "name": "stdout",
     "output_type": "stream",
     "text": [
      "shape of df4 is (480, 3541)\n",
      "Completed 390 out of 461 steps\n",
      "the main data is of shape (540, 2)\n",
      "shape of current_data2 is (540, 59)\n"
     ]
    },
    {
     "name": "stderr",
     "output_type": "stream",
     "text": [
      "C:\\Users\\abhij\\AppData\\Local\\Temp\\ipykernel_18688\\568520512.py:16: SettingWithCopyWarning: \n",
      "A value is trying to be set on a copy of a slice from a DataFrame.\n",
      "Try using .loc[row_indexer,col_indexer] = value instead\n",
      "\n",
      "See the caveats in the documentation: https://pandas.pydata.org/pandas-docs/stable/user_guide/indexing.html#returning-a-view-versus-a-copy\n",
      "  current_data['Date'] = current_data.index\n"
     ]
    },
    {
     "name": "stdout",
     "output_type": "stream",
     "text": [
      "shape of df4 is (480, 3541)\n",
      "Completed 391 out of 461 steps\n",
      "the main data is of shape (540, 2)\n",
      "shape of current_data2 is (540, 59)\n"
     ]
    },
    {
     "name": "stderr",
     "output_type": "stream",
     "text": [
      "C:\\Users\\abhij\\AppData\\Local\\Temp\\ipykernel_18688\\568520512.py:16: SettingWithCopyWarning: \n",
      "A value is trying to be set on a copy of a slice from a DataFrame.\n",
      "Try using .loc[row_indexer,col_indexer] = value instead\n",
      "\n",
      "See the caveats in the documentation: https://pandas.pydata.org/pandas-docs/stable/user_guide/indexing.html#returning-a-view-versus-a-copy\n",
      "  current_data['Date'] = current_data.index\n"
     ]
    },
    {
     "name": "stdout",
     "output_type": "stream",
     "text": [
      "shape of df4 is (480, 3541)\n",
      "Completed 392 out of 461 steps\n",
      "the main data is of shape (540, 2)\n",
      "shape of current_data2 is (540, 59)\n"
     ]
    },
    {
     "name": "stderr",
     "output_type": "stream",
     "text": [
      "C:\\Users\\abhij\\AppData\\Local\\Temp\\ipykernel_18688\\568520512.py:16: SettingWithCopyWarning: \n",
      "A value is trying to be set on a copy of a slice from a DataFrame.\n",
      "Try using .loc[row_indexer,col_indexer] = value instead\n",
      "\n",
      "See the caveats in the documentation: https://pandas.pydata.org/pandas-docs/stable/user_guide/indexing.html#returning-a-view-versus-a-copy\n",
      "  current_data['Date'] = current_data.index\n"
     ]
    },
    {
     "name": "stdout",
     "output_type": "stream",
     "text": [
      "shape of df4 is (480, 3541)\n",
      "Completed 393 out of 461 steps\n",
      "the main data is of shape (540, 2)\n",
      "shape of current_data2 is (540, 59)\n"
     ]
    },
    {
     "name": "stderr",
     "output_type": "stream",
     "text": [
      "C:\\Users\\abhij\\AppData\\Local\\Temp\\ipykernel_18688\\568520512.py:16: SettingWithCopyWarning: \n",
      "A value is trying to be set on a copy of a slice from a DataFrame.\n",
      "Try using .loc[row_indexer,col_indexer] = value instead\n",
      "\n",
      "See the caveats in the documentation: https://pandas.pydata.org/pandas-docs/stable/user_guide/indexing.html#returning-a-view-versus-a-copy\n",
      "  current_data['Date'] = current_data.index\n"
     ]
    },
    {
     "name": "stdout",
     "output_type": "stream",
     "text": [
      "shape of df4 is (480, 3541)\n",
      "Completed 394 out of 461 steps\n",
      "the main data is of shape (540, 2)\n",
      "shape of current_data2 is (540, 59)\n"
     ]
    },
    {
     "name": "stderr",
     "output_type": "stream",
     "text": [
      "C:\\Users\\abhij\\AppData\\Local\\Temp\\ipykernel_18688\\568520512.py:16: SettingWithCopyWarning: \n",
      "A value is trying to be set on a copy of a slice from a DataFrame.\n",
      "Try using .loc[row_indexer,col_indexer] = value instead\n",
      "\n",
      "See the caveats in the documentation: https://pandas.pydata.org/pandas-docs/stable/user_guide/indexing.html#returning-a-view-versus-a-copy\n",
      "  current_data['Date'] = current_data.index\n"
     ]
    },
    {
     "name": "stdout",
     "output_type": "stream",
     "text": [
      "shape of df4 is (480, 3541)\n",
      "Completed 395 out of 461 steps\n",
      "the main data is of shape (540, 2)\n",
      "shape of current_data2 is (540, 59)\n"
     ]
    },
    {
     "name": "stderr",
     "output_type": "stream",
     "text": [
      "C:\\Users\\abhij\\AppData\\Local\\Temp\\ipykernel_18688\\568520512.py:16: SettingWithCopyWarning: \n",
      "A value is trying to be set on a copy of a slice from a DataFrame.\n",
      "Try using .loc[row_indexer,col_indexer] = value instead\n",
      "\n",
      "See the caveats in the documentation: https://pandas.pydata.org/pandas-docs/stable/user_guide/indexing.html#returning-a-view-versus-a-copy\n",
      "  current_data['Date'] = current_data.index\n"
     ]
    },
    {
     "name": "stdout",
     "output_type": "stream",
     "text": [
      "shape of df4 is (480, 3541)\n",
      "Completed 396 out of 461 steps\n",
      "the main data is of shape (540, 2)\n",
      "shape of current_data2 is (540, 59)\n"
     ]
    },
    {
     "name": "stderr",
     "output_type": "stream",
     "text": [
      "C:\\Users\\abhij\\AppData\\Local\\Temp\\ipykernel_18688\\568520512.py:16: SettingWithCopyWarning: \n",
      "A value is trying to be set on a copy of a slice from a DataFrame.\n",
      "Try using .loc[row_indexer,col_indexer] = value instead\n",
      "\n",
      "See the caveats in the documentation: https://pandas.pydata.org/pandas-docs/stable/user_guide/indexing.html#returning-a-view-versus-a-copy\n",
      "  current_data['Date'] = current_data.index\n"
     ]
    },
    {
     "name": "stdout",
     "output_type": "stream",
     "text": [
      "shape of df4 is (480, 3541)\n",
      "Completed 397 out of 461 steps\n",
      "the main data is of shape (540, 2)\n",
      "shape of current_data2 is (540, 59)\n"
     ]
    },
    {
     "name": "stderr",
     "output_type": "stream",
     "text": [
      "C:\\Users\\abhij\\AppData\\Local\\Temp\\ipykernel_18688\\568520512.py:16: SettingWithCopyWarning: \n",
      "A value is trying to be set on a copy of a slice from a DataFrame.\n",
      "Try using .loc[row_indexer,col_indexer] = value instead\n",
      "\n",
      "See the caveats in the documentation: https://pandas.pydata.org/pandas-docs/stable/user_guide/indexing.html#returning-a-view-versus-a-copy\n",
      "  current_data['Date'] = current_data.index\n"
     ]
    },
    {
     "name": "stdout",
     "output_type": "stream",
     "text": [
      "shape of df4 is (480, 3541)\n",
      "Completed 398 out of 461 steps\n",
      "the main data is of shape (540, 2)\n",
      "shape of current_data2 is (540, 59)\n"
     ]
    },
    {
     "name": "stderr",
     "output_type": "stream",
     "text": [
      "C:\\Users\\abhij\\AppData\\Local\\Temp\\ipykernel_18688\\568520512.py:16: SettingWithCopyWarning: \n",
      "A value is trying to be set on a copy of a slice from a DataFrame.\n",
      "Try using .loc[row_indexer,col_indexer] = value instead\n",
      "\n",
      "See the caveats in the documentation: https://pandas.pydata.org/pandas-docs/stable/user_guide/indexing.html#returning-a-view-versus-a-copy\n",
      "  current_data['Date'] = current_data.index\n"
     ]
    },
    {
     "name": "stdout",
     "output_type": "stream",
     "text": [
      "shape of df4 is (480, 3541)\n",
      "Completed 399 out of 461 steps\n",
      "the main data is of shape (540, 2)\n",
      "shape of current_data2 is (540, 59)\n"
     ]
    },
    {
     "name": "stderr",
     "output_type": "stream",
     "text": [
      "C:\\Users\\abhij\\AppData\\Local\\Temp\\ipykernel_18688\\568520512.py:16: SettingWithCopyWarning: \n",
      "A value is trying to be set on a copy of a slice from a DataFrame.\n",
      "Try using .loc[row_indexer,col_indexer] = value instead\n",
      "\n",
      "See the caveats in the documentation: https://pandas.pydata.org/pandas-docs/stable/user_guide/indexing.html#returning-a-view-versus-a-copy\n",
      "  current_data['Date'] = current_data.index\n"
     ]
    },
    {
     "name": "stdout",
     "output_type": "stream",
     "text": [
      "shape of df4 is (480, 3541)\n",
      "Completed 400 out of 461 steps\n",
      "the main data is of shape (540, 2)\n",
      "shape of current_data2 is (540, 59)\n"
     ]
    },
    {
     "name": "stderr",
     "output_type": "stream",
     "text": [
      "C:\\Users\\abhij\\AppData\\Local\\Temp\\ipykernel_18688\\568520512.py:16: SettingWithCopyWarning: \n",
      "A value is trying to be set on a copy of a slice from a DataFrame.\n",
      "Try using .loc[row_indexer,col_indexer] = value instead\n",
      "\n",
      "See the caveats in the documentation: https://pandas.pydata.org/pandas-docs/stable/user_guide/indexing.html#returning-a-view-versus-a-copy\n",
      "  current_data['Date'] = current_data.index\n"
     ]
    },
    {
     "name": "stdout",
     "output_type": "stream",
     "text": [
      "shape of df4 is (480, 3541)\n",
      "Completed 401 out of 461 steps\n",
      "the main data is of shape (540, 2)\n",
      "shape of current_data2 is (540, 59)\n"
     ]
    },
    {
     "name": "stderr",
     "output_type": "stream",
     "text": [
      "C:\\Users\\abhij\\AppData\\Local\\Temp\\ipykernel_18688\\568520512.py:16: SettingWithCopyWarning: \n",
      "A value is trying to be set on a copy of a slice from a DataFrame.\n",
      "Try using .loc[row_indexer,col_indexer] = value instead\n",
      "\n",
      "See the caveats in the documentation: https://pandas.pydata.org/pandas-docs/stable/user_guide/indexing.html#returning-a-view-versus-a-copy\n",
      "  current_data['Date'] = current_data.index\n"
     ]
    },
    {
     "name": "stdout",
     "output_type": "stream",
     "text": [
      "shape of df4 is (480, 3541)\n",
      "Completed 402 out of 461 steps\n",
      "the main data is of shape (540, 2)\n",
      "shape of current_data2 is (540, 59)\n"
     ]
    },
    {
     "name": "stderr",
     "output_type": "stream",
     "text": [
      "C:\\Users\\abhij\\AppData\\Local\\Temp\\ipykernel_18688\\568520512.py:16: SettingWithCopyWarning: \n",
      "A value is trying to be set on a copy of a slice from a DataFrame.\n",
      "Try using .loc[row_indexer,col_indexer] = value instead\n",
      "\n",
      "See the caveats in the documentation: https://pandas.pydata.org/pandas-docs/stable/user_guide/indexing.html#returning-a-view-versus-a-copy\n",
      "  current_data['Date'] = current_data.index\n"
     ]
    },
    {
     "name": "stdout",
     "output_type": "stream",
     "text": [
      "shape of df4 is (480, 3541)\n",
      "Completed 403 out of 461 steps\n",
      "the main data is of shape (540, 2)\n",
      "shape of current_data2 is (540, 59)\n"
     ]
    },
    {
     "name": "stderr",
     "output_type": "stream",
     "text": [
      "C:\\Users\\abhij\\AppData\\Local\\Temp\\ipykernel_18688\\568520512.py:16: SettingWithCopyWarning: \n",
      "A value is trying to be set on a copy of a slice from a DataFrame.\n",
      "Try using .loc[row_indexer,col_indexer] = value instead\n",
      "\n",
      "See the caveats in the documentation: https://pandas.pydata.org/pandas-docs/stable/user_guide/indexing.html#returning-a-view-versus-a-copy\n",
      "  current_data['Date'] = current_data.index\n"
     ]
    },
    {
     "name": "stdout",
     "output_type": "stream",
     "text": [
      "shape of df4 is (480, 3541)\n",
      "Completed 404 out of 461 steps\n",
      "the main data is of shape (540, 2)\n",
      "shape of current_data2 is (540, 59)\n"
     ]
    },
    {
     "name": "stderr",
     "output_type": "stream",
     "text": [
      "C:\\Users\\abhij\\AppData\\Local\\Temp\\ipykernel_18688\\568520512.py:16: SettingWithCopyWarning: \n",
      "A value is trying to be set on a copy of a slice from a DataFrame.\n",
      "Try using .loc[row_indexer,col_indexer] = value instead\n",
      "\n",
      "See the caveats in the documentation: https://pandas.pydata.org/pandas-docs/stable/user_guide/indexing.html#returning-a-view-versus-a-copy\n",
      "  current_data['Date'] = current_data.index\n"
     ]
    },
    {
     "name": "stdout",
     "output_type": "stream",
     "text": [
      "shape of df4 is (480, 3541)\n",
      "Completed 405 out of 461 steps\n",
      "the main data is of shape (540, 2)\n",
      "shape of current_data2 is (540, 59)\n"
     ]
    },
    {
     "name": "stderr",
     "output_type": "stream",
     "text": [
      "C:\\Users\\abhij\\AppData\\Local\\Temp\\ipykernel_18688\\568520512.py:16: SettingWithCopyWarning: \n",
      "A value is trying to be set on a copy of a slice from a DataFrame.\n",
      "Try using .loc[row_indexer,col_indexer] = value instead\n",
      "\n",
      "See the caveats in the documentation: https://pandas.pydata.org/pandas-docs/stable/user_guide/indexing.html#returning-a-view-versus-a-copy\n",
      "  current_data['Date'] = current_data.index\n"
     ]
    },
    {
     "name": "stdout",
     "output_type": "stream",
     "text": [
      "shape of df4 is (480, 3541)\n",
      "Completed 406 out of 461 steps\n",
      "the main data is of shape (540, 2)\n",
      "shape of current_data2 is (540, 59)\n"
     ]
    },
    {
     "name": "stderr",
     "output_type": "stream",
     "text": [
      "C:\\Users\\abhij\\AppData\\Local\\Temp\\ipykernel_18688\\568520512.py:16: SettingWithCopyWarning: \n",
      "A value is trying to be set on a copy of a slice from a DataFrame.\n",
      "Try using .loc[row_indexer,col_indexer] = value instead\n",
      "\n",
      "See the caveats in the documentation: https://pandas.pydata.org/pandas-docs/stable/user_guide/indexing.html#returning-a-view-versus-a-copy\n",
      "  current_data['Date'] = current_data.index\n"
     ]
    },
    {
     "name": "stdout",
     "output_type": "stream",
     "text": [
      "shape of df4 is (480, 3541)\n",
      "Completed 407 out of 461 steps\n",
      "the main data is of shape (540, 2)\n",
      "shape of current_data2 is (540, 59)\n"
     ]
    },
    {
     "name": "stderr",
     "output_type": "stream",
     "text": [
      "C:\\Users\\abhij\\AppData\\Local\\Temp\\ipykernel_18688\\568520512.py:16: SettingWithCopyWarning: \n",
      "A value is trying to be set on a copy of a slice from a DataFrame.\n",
      "Try using .loc[row_indexer,col_indexer] = value instead\n",
      "\n",
      "See the caveats in the documentation: https://pandas.pydata.org/pandas-docs/stable/user_guide/indexing.html#returning-a-view-versus-a-copy\n",
      "  current_data['Date'] = current_data.index\n"
     ]
    },
    {
     "name": "stdout",
     "output_type": "stream",
     "text": [
      "shape of df4 is (480, 3541)\n",
      "Completed 408 out of 461 steps\n",
      "the main data is of shape (540, 2)\n",
      "shape of current_data2 is (540, 59)\n"
     ]
    },
    {
     "name": "stderr",
     "output_type": "stream",
     "text": [
      "C:\\Users\\abhij\\AppData\\Local\\Temp\\ipykernel_18688\\568520512.py:16: SettingWithCopyWarning: \n",
      "A value is trying to be set on a copy of a slice from a DataFrame.\n",
      "Try using .loc[row_indexer,col_indexer] = value instead\n",
      "\n",
      "See the caveats in the documentation: https://pandas.pydata.org/pandas-docs/stable/user_guide/indexing.html#returning-a-view-versus-a-copy\n",
      "  current_data['Date'] = current_data.index\n"
     ]
    },
    {
     "name": "stdout",
     "output_type": "stream",
     "text": [
      "shape of df4 is (480, 3541)\n",
      "Completed 409 out of 461 steps\n",
      "the main data is of shape (540, 2)\n",
      "shape of current_data2 is (540, 59)\n"
     ]
    },
    {
     "name": "stderr",
     "output_type": "stream",
     "text": [
      "C:\\Users\\abhij\\AppData\\Local\\Temp\\ipykernel_18688\\568520512.py:16: SettingWithCopyWarning: \n",
      "A value is trying to be set on a copy of a slice from a DataFrame.\n",
      "Try using .loc[row_indexer,col_indexer] = value instead\n",
      "\n",
      "See the caveats in the documentation: https://pandas.pydata.org/pandas-docs/stable/user_guide/indexing.html#returning-a-view-versus-a-copy\n",
      "  current_data['Date'] = current_data.index\n"
     ]
    },
    {
     "name": "stdout",
     "output_type": "stream",
     "text": [
      "shape of df4 is (480, 3541)\n",
      "Completed 410 out of 461 steps\n",
      "the main data is of shape (540, 2)\n",
      "shape of current_data2 is (540, 59)\n"
     ]
    },
    {
     "name": "stderr",
     "output_type": "stream",
     "text": [
      "C:\\Users\\abhij\\AppData\\Local\\Temp\\ipykernel_18688\\568520512.py:16: SettingWithCopyWarning: \n",
      "A value is trying to be set on a copy of a slice from a DataFrame.\n",
      "Try using .loc[row_indexer,col_indexer] = value instead\n",
      "\n",
      "See the caveats in the documentation: https://pandas.pydata.org/pandas-docs/stable/user_guide/indexing.html#returning-a-view-versus-a-copy\n",
      "  current_data['Date'] = current_data.index\n"
     ]
    },
    {
     "name": "stdout",
     "output_type": "stream",
     "text": [
      "shape of df4 is (480, 3541)\n",
      "Completed 411 out of 461 steps\n",
      "the main data is of shape (540, 2)\n",
      "shape of current_data2 is (540, 59)\n"
     ]
    },
    {
     "name": "stderr",
     "output_type": "stream",
     "text": [
      "C:\\Users\\abhij\\AppData\\Local\\Temp\\ipykernel_18688\\568520512.py:16: SettingWithCopyWarning: \n",
      "A value is trying to be set on a copy of a slice from a DataFrame.\n",
      "Try using .loc[row_indexer,col_indexer] = value instead\n",
      "\n",
      "See the caveats in the documentation: https://pandas.pydata.org/pandas-docs/stable/user_guide/indexing.html#returning-a-view-versus-a-copy\n",
      "  current_data['Date'] = current_data.index\n"
     ]
    },
    {
     "name": "stdout",
     "output_type": "stream",
     "text": [
      "shape of df4 is (480, 3541)\n",
      "Completed 412 out of 461 steps\n",
      "the main data is of shape (540, 2)\n",
      "shape of current_data2 is (540, 59)\n"
     ]
    },
    {
     "name": "stderr",
     "output_type": "stream",
     "text": [
      "C:\\Users\\abhij\\AppData\\Local\\Temp\\ipykernel_18688\\568520512.py:16: SettingWithCopyWarning: \n",
      "A value is trying to be set on a copy of a slice from a DataFrame.\n",
      "Try using .loc[row_indexer,col_indexer] = value instead\n",
      "\n",
      "See the caveats in the documentation: https://pandas.pydata.org/pandas-docs/stable/user_guide/indexing.html#returning-a-view-versus-a-copy\n",
      "  current_data['Date'] = current_data.index\n"
     ]
    },
    {
     "name": "stdout",
     "output_type": "stream",
     "text": [
      "shape of df4 is (480, 3541)\n",
      "Completed 413 out of 461 steps\n",
      "the main data is of shape (540, 2)\n",
      "shape of current_data2 is (540, 59)\n"
     ]
    },
    {
     "name": "stderr",
     "output_type": "stream",
     "text": [
      "C:\\Users\\abhij\\AppData\\Local\\Temp\\ipykernel_18688\\568520512.py:16: SettingWithCopyWarning: \n",
      "A value is trying to be set on a copy of a slice from a DataFrame.\n",
      "Try using .loc[row_indexer,col_indexer] = value instead\n",
      "\n",
      "See the caveats in the documentation: https://pandas.pydata.org/pandas-docs/stable/user_guide/indexing.html#returning-a-view-versus-a-copy\n",
      "  current_data['Date'] = current_data.index\n"
     ]
    },
    {
     "name": "stdout",
     "output_type": "stream",
     "text": [
      "shape of df4 is (480, 3541)\n",
      "Completed 414 out of 461 steps\n",
      "the main data is of shape (540, 2)\n",
      "shape of current_data2 is (540, 59)\n"
     ]
    },
    {
     "name": "stderr",
     "output_type": "stream",
     "text": [
      "C:\\Users\\abhij\\AppData\\Local\\Temp\\ipykernel_18688\\568520512.py:16: SettingWithCopyWarning: \n",
      "A value is trying to be set on a copy of a slice from a DataFrame.\n",
      "Try using .loc[row_indexer,col_indexer] = value instead\n",
      "\n",
      "See the caveats in the documentation: https://pandas.pydata.org/pandas-docs/stable/user_guide/indexing.html#returning-a-view-versus-a-copy\n",
      "  current_data['Date'] = current_data.index\n"
     ]
    },
    {
     "name": "stdout",
     "output_type": "stream",
     "text": [
      "shape of df4 is (480, 3541)\n",
      "Completed 415 out of 461 steps\n",
      "the main data is of shape (540, 2)\n",
      "shape of current_data2 is (540, 59)\n"
     ]
    },
    {
     "name": "stderr",
     "output_type": "stream",
     "text": [
      "C:\\Users\\abhij\\AppData\\Local\\Temp\\ipykernel_18688\\568520512.py:16: SettingWithCopyWarning: \n",
      "A value is trying to be set on a copy of a slice from a DataFrame.\n",
      "Try using .loc[row_indexer,col_indexer] = value instead\n",
      "\n",
      "See the caveats in the documentation: https://pandas.pydata.org/pandas-docs/stable/user_guide/indexing.html#returning-a-view-versus-a-copy\n",
      "  current_data['Date'] = current_data.index\n"
     ]
    },
    {
     "name": "stdout",
     "output_type": "stream",
     "text": [
      "shape of df4 is (480, 3541)\n",
      "Completed 416 out of 461 steps\n",
      "the main data is of shape (540, 2)\n",
      "shape of current_data2 is (540, 59)\n"
     ]
    },
    {
     "name": "stderr",
     "output_type": "stream",
     "text": [
      "C:\\Users\\abhij\\AppData\\Local\\Temp\\ipykernel_18688\\568520512.py:16: SettingWithCopyWarning: \n",
      "A value is trying to be set on a copy of a slice from a DataFrame.\n",
      "Try using .loc[row_indexer,col_indexer] = value instead\n",
      "\n",
      "See the caveats in the documentation: https://pandas.pydata.org/pandas-docs/stable/user_guide/indexing.html#returning-a-view-versus-a-copy\n",
      "  current_data['Date'] = current_data.index\n"
     ]
    },
    {
     "name": "stdout",
     "output_type": "stream",
     "text": [
      "shape of df4 is (480, 3541)\n",
      "Completed 417 out of 461 steps\n",
      "the main data is of shape (540, 2)\n",
      "shape of current_data2 is (540, 59)\n"
     ]
    },
    {
     "name": "stderr",
     "output_type": "stream",
     "text": [
      "C:\\Users\\abhij\\AppData\\Local\\Temp\\ipykernel_18688\\568520512.py:16: SettingWithCopyWarning: \n",
      "A value is trying to be set on a copy of a slice from a DataFrame.\n",
      "Try using .loc[row_indexer,col_indexer] = value instead\n",
      "\n",
      "See the caveats in the documentation: https://pandas.pydata.org/pandas-docs/stable/user_guide/indexing.html#returning-a-view-versus-a-copy\n",
      "  current_data['Date'] = current_data.index\n"
     ]
    },
    {
     "name": "stdout",
     "output_type": "stream",
     "text": [
      "shape of df4 is (480, 3541)\n",
      "Completed 418 out of 461 steps\n",
      "the main data is of shape (540, 2)\n",
      "shape of current_data2 is (540, 59)\n"
     ]
    },
    {
     "name": "stderr",
     "output_type": "stream",
     "text": [
      "C:\\Users\\abhij\\AppData\\Local\\Temp\\ipykernel_18688\\568520512.py:16: SettingWithCopyWarning: \n",
      "A value is trying to be set on a copy of a slice from a DataFrame.\n",
      "Try using .loc[row_indexer,col_indexer] = value instead\n",
      "\n",
      "See the caveats in the documentation: https://pandas.pydata.org/pandas-docs/stable/user_guide/indexing.html#returning-a-view-versus-a-copy\n",
      "  current_data['Date'] = current_data.index\n"
     ]
    },
    {
     "name": "stdout",
     "output_type": "stream",
     "text": [
      "shape of df4 is (480, 3541)\n",
      "Completed 419 out of 461 steps\n",
      "the main data is of shape (540, 2)\n",
      "shape of current_data2 is (540, 59)\n"
     ]
    },
    {
     "name": "stderr",
     "output_type": "stream",
     "text": [
      "C:\\Users\\abhij\\AppData\\Local\\Temp\\ipykernel_18688\\568520512.py:16: SettingWithCopyWarning: \n",
      "A value is trying to be set on a copy of a slice from a DataFrame.\n",
      "Try using .loc[row_indexer,col_indexer] = value instead\n",
      "\n",
      "See the caveats in the documentation: https://pandas.pydata.org/pandas-docs/stable/user_guide/indexing.html#returning-a-view-versus-a-copy\n",
      "  current_data['Date'] = current_data.index\n"
     ]
    },
    {
     "name": "stdout",
     "output_type": "stream",
     "text": [
      "shape of df4 is (480, 3541)\n",
      "Completed 420 out of 461 steps\n",
      "the main data is of shape (540, 2)\n",
      "shape of current_data2 is (540, 59)\n"
     ]
    },
    {
     "name": "stderr",
     "output_type": "stream",
     "text": [
      "C:\\Users\\abhij\\AppData\\Local\\Temp\\ipykernel_18688\\568520512.py:16: SettingWithCopyWarning: \n",
      "A value is trying to be set on a copy of a slice from a DataFrame.\n",
      "Try using .loc[row_indexer,col_indexer] = value instead\n",
      "\n",
      "See the caveats in the documentation: https://pandas.pydata.org/pandas-docs/stable/user_guide/indexing.html#returning-a-view-versus-a-copy\n",
      "  current_data['Date'] = current_data.index\n"
     ]
    },
    {
     "name": "stdout",
     "output_type": "stream",
     "text": [
      "shape of df4 is (480, 3541)\n",
      "Completed 421 out of 461 steps\n",
      "the main data is of shape (540, 2)\n",
      "shape of current_data2 is (540, 59)\n"
     ]
    },
    {
     "name": "stderr",
     "output_type": "stream",
     "text": [
      "C:\\Users\\abhij\\AppData\\Local\\Temp\\ipykernel_18688\\568520512.py:16: SettingWithCopyWarning: \n",
      "A value is trying to be set on a copy of a slice from a DataFrame.\n",
      "Try using .loc[row_indexer,col_indexer] = value instead\n",
      "\n",
      "See the caveats in the documentation: https://pandas.pydata.org/pandas-docs/stable/user_guide/indexing.html#returning-a-view-versus-a-copy\n",
      "  current_data['Date'] = current_data.index\n"
     ]
    },
    {
     "name": "stdout",
     "output_type": "stream",
     "text": [
      "shape of df4 is (480, 3541)\n",
      "Completed 422 out of 461 steps\n",
      "the main data is of shape (540, 2)\n",
      "shape of current_data2 is (540, 59)\n"
     ]
    },
    {
     "name": "stderr",
     "output_type": "stream",
     "text": [
      "C:\\Users\\abhij\\AppData\\Local\\Temp\\ipykernel_18688\\568520512.py:16: SettingWithCopyWarning: \n",
      "A value is trying to be set on a copy of a slice from a DataFrame.\n",
      "Try using .loc[row_indexer,col_indexer] = value instead\n",
      "\n",
      "See the caveats in the documentation: https://pandas.pydata.org/pandas-docs/stable/user_guide/indexing.html#returning-a-view-versus-a-copy\n",
      "  current_data['Date'] = current_data.index\n"
     ]
    },
    {
     "name": "stdout",
     "output_type": "stream",
     "text": [
      "shape of df4 is (480, 3541)\n",
      "Completed 423 out of 461 steps\n",
      "the main data is of shape (540, 2)\n",
      "shape of current_data2 is (540, 59)\n"
     ]
    },
    {
     "name": "stderr",
     "output_type": "stream",
     "text": [
      "C:\\Users\\abhij\\AppData\\Local\\Temp\\ipykernel_18688\\568520512.py:16: SettingWithCopyWarning: \n",
      "A value is trying to be set on a copy of a slice from a DataFrame.\n",
      "Try using .loc[row_indexer,col_indexer] = value instead\n",
      "\n",
      "See the caveats in the documentation: https://pandas.pydata.org/pandas-docs/stable/user_guide/indexing.html#returning-a-view-versus-a-copy\n",
      "  current_data['Date'] = current_data.index\n"
     ]
    },
    {
     "name": "stdout",
     "output_type": "stream",
     "text": [
      "shape of df4 is (480, 3541)\n",
      "Completed 424 out of 461 steps\n",
      "the main data is of shape (540, 2)\n",
      "shape of current_data2 is (540, 59)\n"
     ]
    },
    {
     "name": "stderr",
     "output_type": "stream",
     "text": [
      "C:\\Users\\abhij\\AppData\\Local\\Temp\\ipykernel_18688\\568520512.py:16: SettingWithCopyWarning: \n",
      "A value is trying to be set on a copy of a slice from a DataFrame.\n",
      "Try using .loc[row_indexer,col_indexer] = value instead\n",
      "\n",
      "See the caveats in the documentation: https://pandas.pydata.org/pandas-docs/stable/user_guide/indexing.html#returning-a-view-versus-a-copy\n",
      "  current_data['Date'] = current_data.index\n"
     ]
    },
    {
     "name": "stdout",
     "output_type": "stream",
     "text": [
      "shape of df4 is (480, 3541)\n",
      "Completed 425 out of 461 steps\n",
      "the main data is of shape (540, 2)\n",
      "shape of current_data2 is (540, 59)\n"
     ]
    },
    {
     "name": "stderr",
     "output_type": "stream",
     "text": [
      "C:\\Users\\abhij\\AppData\\Local\\Temp\\ipykernel_18688\\568520512.py:16: SettingWithCopyWarning: \n",
      "A value is trying to be set on a copy of a slice from a DataFrame.\n",
      "Try using .loc[row_indexer,col_indexer] = value instead\n",
      "\n",
      "See the caveats in the documentation: https://pandas.pydata.org/pandas-docs/stable/user_guide/indexing.html#returning-a-view-versus-a-copy\n",
      "  current_data['Date'] = current_data.index\n"
     ]
    },
    {
     "name": "stdout",
     "output_type": "stream",
     "text": [
      "shape of df4 is (480, 3541)\n",
      "Completed 426 out of 461 steps\n",
      "the main data is of shape (540, 2)\n",
      "shape of current_data2 is (540, 59)\n"
     ]
    },
    {
     "name": "stderr",
     "output_type": "stream",
     "text": [
      "C:\\Users\\abhij\\AppData\\Local\\Temp\\ipykernel_18688\\568520512.py:16: SettingWithCopyWarning: \n",
      "A value is trying to be set on a copy of a slice from a DataFrame.\n",
      "Try using .loc[row_indexer,col_indexer] = value instead\n",
      "\n",
      "See the caveats in the documentation: https://pandas.pydata.org/pandas-docs/stable/user_guide/indexing.html#returning-a-view-versus-a-copy\n",
      "  current_data['Date'] = current_data.index\n"
     ]
    },
    {
     "name": "stdout",
     "output_type": "stream",
     "text": [
      "shape of df4 is (480, 3541)\n",
      "Completed 427 out of 461 steps\n",
      "the main data is of shape (540, 2)\n",
      "shape of current_data2 is (540, 59)\n"
     ]
    },
    {
     "name": "stderr",
     "output_type": "stream",
     "text": [
      "C:\\Users\\abhij\\AppData\\Local\\Temp\\ipykernel_18688\\568520512.py:16: SettingWithCopyWarning: \n",
      "A value is trying to be set on a copy of a slice from a DataFrame.\n",
      "Try using .loc[row_indexer,col_indexer] = value instead\n",
      "\n",
      "See the caveats in the documentation: https://pandas.pydata.org/pandas-docs/stable/user_guide/indexing.html#returning-a-view-versus-a-copy\n",
      "  current_data['Date'] = current_data.index\n"
     ]
    },
    {
     "name": "stdout",
     "output_type": "stream",
     "text": [
      "shape of df4 is (480, 3541)\n",
      "Completed 428 out of 461 steps\n",
      "the main data is of shape (540, 2)\n",
      "shape of current_data2 is (540, 59)\n"
     ]
    },
    {
     "name": "stderr",
     "output_type": "stream",
     "text": [
      "C:\\Users\\abhij\\AppData\\Local\\Temp\\ipykernel_18688\\568520512.py:16: SettingWithCopyWarning: \n",
      "A value is trying to be set on a copy of a slice from a DataFrame.\n",
      "Try using .loc[row_indexer,col_indexer] = value instead\n",
      "\n",
      "See the caveats in the documentation: https://pandas.pydata.org/pandas-docs/stable/user_guide/indexing.html#returning-a-view-versus-a-copy\n",
      "  current_data['Date'] = current_data.index\n"
     ]
    },
    {
     "name": "stdout",
     "output_type": "stream",
     "text": [
      "shape of df4 is (480, 3541)\n",
      "Completed 429 out of 461 steps\n",
      "the main data is of shape (540, 2)\n",
      "shape of current_data2 is (540, 59)\n"
     ]
    },
    {
     "name": "stderr",
     "output_type": "stream",
     "text": [
      "C:\\Users\\abhij\\AppData\\Local\\Temp\\ipykernel_18688\\568520512.py:16: SettingWithCopyWarning: \n",
      "A value is trying to be set on a copy of a slice from a DataFrame.\n",
      "Try using .loc[row_indexer,col_indexer] = value instead\n",
      "\n",
      "See the caveats in the documentation: https://pandas.pydata.org/pandas-docs/stable/user_guide/indexing.html#returning-a-view-versus-a-copy\n",
      "  current_data['Date'] = current_data.index\n"
     ]
    },
    {
     "name": "stdout",
     "output_type": "stream",
     "text": [
      "shape of df4 is (480, 3541)\n",
      "Completed 430 out of 461 steps\n",
      "the main data is of shape (540, 2)\n",
      "shape of current_data2 is (540, 59)\n"
     ]
    },
    {
     "name": "stderr",
     "output_type": "stream",
     "text": [
      "C:\\Users\\abhij\\AppData\\Local\\Temp\\ipykernel_18688\\568520512.py:16: SettingWithCopyWarning: \n",
      "A value is trying to be set on a copy of a slice from a DataFrame.\n",
      "Try using .loc[row_indexer,col_indexer] = value instead\n",
      "\n",
      "See the caveats in the documentation: https://pandas.pydata.org/pandas-docs/stable/user_guide/indexing.html#returning-a-view-versus-a-copy\n",
      "  current_data['Date'] = current_data.index\n"
     ]
    },
    {
     "name": "stdout",
     "output_type": "stream",
     "text": [
      "shape of df4 is (480, 3541)\n",
      "Completed 431 out of 461 steps\n",
      "the main data is of shape (540, 2)\n",
      "shape of current_data2 is (540, 59)\n"
     ]
    },
    {
     "name": "stderr",
     "output_type": "stream",
     "text": [
      "C:\\Users\\abhij\\AppData\\Local\\Temp\\ipykernel_18688\\568520512.py:16: SettingWithCopyWarning: \n",
      "A value is trying to be set on a copy of a slice from a DataFrame.\n",
      "Try using .loc[row_indexer,col_indexer] = value instead\n",
      "\n",
      "See the caveats in the documentation: https://pandas.pydata.org/pandas-docs/stable/user_guide/indexing.html#returning-a-view-versus-a-copy\n",
      "  current_data['Date'] = current_data.index\n"
     ]
    },
    {
     "name": "stdout",
     "output_type": "stream",
     "text": [
      "shape of df4 is (480, 3541)\n",
      "Completed 432 out of 461 steps\n",
      "the main data is of shape (540, 2)\n",
      "shape of current_data2 is (540, 59)\n"
     ]
    },
    {
     "name": "stderr",
     "output_type": "stream",
     "text": [
      "C:\\Users\\abhij\\AppData\\Local\\Temp\\ipykernel_18688\\568520512.py:16: SettingWithCopyWarning: \n",
      "A value is trying to be set on a copy of a slice from a DataFrame.\n",
      "Try using .loc[row_indexer,col_indexer] = value instead\n",
      "\n",
      "See the caveats in the documentation: https://pandas.pydata.org/pandas-docs/stable/user_guide/indexing.html#returning-a-view-versus-a-copy\n",
      "  current_data['Date'] = current_data.index\n"
     ]
    },
    {
     "name": "stdout",
     "output_type": "stream",
     "text": [
      "shape of df4 is (480, 3541)\n",
      "Completed 433 out of 461 steps\n",
      "the main data is of shape (540, 2)\n",
      "shape of current_data2 is (540, 59)\n"
     ]
    },
    {
     "name": "stderr",
     "output_type": "stream",
     "text": [
      "C:\\Users\\abhij\\AppData\\Local\\Temp\\ipykernel_18688\\568520512.py:16: SettingWithCopyWarning: \n",
      "A value is trying to be set on a copy of a slice from a DataFrame.\n",
      "Try using .loc[row_indexer,col_indexer] = value instead\n",
      "\n",
      "See the caveats in the documentation: https://pandas.pydata.org/pandas-docs/stable/user_guide/indexing.html#returning-a-view-versus-a-copy\n",
      "  current_data['Date'] = current_data.index\n"
     ]
    },
    {
     "name": "stdout",
     "output_type": "stream",
     "text": [
      "shape of df4 is (480, 3541)\n",
      "Completed 434 out of 461 steps\n",
      "the main data is of shape (540, 2)\n",
      "shape of current_data2 is (540, 59)\n"
     ]
    },
    {
     "name": "stderr",
     "output_type": "stream",
     "text": [
      "C:\\Users\\abhij\\AppData\\Local\\Temp\\ipykernel_18688\\568520512.py:16: SettingWithCopyWarning: \n",
      "A value is trying to be set on a copy of a slice from a DataFrame.\n",
      "Try using .loc[row_indexer,col_indexer] = value instead\n",
      "\n",
      "See the caveats in the documentation: https://pandas.pydata.org/pandas-docs/stable/user_guide/indexing.html#returning-a-view-versus-a-copy\n",
      "  current_data['Date'] = current_data.index\n"
     ]
    },
    {
     "name": "stdout",
     "output_type": "stream",
     "text": [
      "shape of df4 is (480, 3541)\n",
      "Completed 435 out of 461 steps\n",
      "the main data is of shape (540, 2)\n",
      "shape of current_data2 is (540, 59)\n"
     ]
    },
    {
     "name": "stderr",
     "output_type": "stream",
     "text": [
      "C:\\Users\\abhij\\AppData\\Local\\Temp\\ipykernel_18688\\568520512.py:16: SettingWithCopyWarning: \n",
      "A value is trying to be set on a copy of a slice from a DataFrame.\n",
      "Try using .loc[row_indexer,col_indexer] = value instead\n",
      "\n",
      "See the caveats in the documentation: https://pandas.pydata.org/pandas-docs/stable/user_guide/indexing.html#returning-a-view-versus-a-copy\n",
      "  current_data['Date'] = current_data.index\n"
     ]
    },
    {
     "name": "stdout",
     "output_type": "stream",
     "text": [
      "shape of df4 is (480, 3541)\n",
      "Completed 436 out of 461 steps\n",
      "the main data is of shape (540, 2)\n",
      "shape of current_data2 is (540, 59)\n"
     ]
    },
    {
     "name": "stderr",
     "output_type": "stream",
     "text": [
      "C:\\Users\\abhij\\AppData\\Local\\Temp\\ipykernel_18688\\568520512.py:16: SettingWithCopyWarning: \n",
      "A value is trying to be set on a copy of a slice from a DataFrame.\n",
      "Try using .loc[row_indexer,col_indexer] = value instead\n",
      "\n",
      "See the caveats in the documentation: https://pandas.pydata.org/pandas-docs/stable/user_guide/indexing.html#returning-a-view-versus-a-copy\n",
      "  current_data['Date'] = current_data.index\n"
     ]
    },
    {
     "name": "stdout",
     "output_type": "stream",
     "text": [
      "shape of df4 is (480, 3541)\n",
      "Completed 437 out of 461 steps\n",
      "the main data is of shape (540, 2)\n",
      "shape of current_data2 is (540, 59)\n"
     ]
    },
    {
     "name": "stderr",
     "output_type": "stream",
     "text": [
      "C:\\Users\\abhij\\AppData\\Local\\Temp\\ipykernel_18688\\568520512.py:16: SettingWithCopyWarning: \n",
      "A value is trying to be set on a copy of a slice from a DataFrame.\n",
      "Try using .loc[row_indexer,col_indexer] = value instead\n",
      "\n",
      "See the caveats in the documentation: https://pandas.pydata.org/pandas-docs/stable/user_guide/indexing.html#returning-a-view-versus-a-copy\n",
      "  current_data['Date'] = current_data.index\n"
     ]
    },
    {
     "name": "stdout",
     "output_type": "stream",
     "text": [
      "shape of df4 is (480, 3541)\n",
      "Completed 438 out of 461 steps\n",
      "the main data is of shape (540, 2)\n",
      "shape of current_data2 is (540, 59)\n"
     ]
    },
    {
     "name": "stderr",
     "output_type": "stream",
     "text": [
      "C:\\Users\\abhij\\AppData\\Local\\Temp\\ipykernel_18688\\568520512.py:16: SettingWithCopyWarning: \n",
      "A value is trying to be set on a copy of a slice from a DataFrame.\n",
      "Try using .loc[row_indexer,col_indexer] = value instead\n",
      "\n",
      "See the caveats in the documentation: https://pandas.pydata.org/pandas-docs/stable/user_guide/indexing.html#returning-a-view-versus-a-copy\n",
      "  current_data['Date'] = current_data.index\n"
     ]
    },
    {
     "name": "stdout",
     "output_type": "stream",
     "text": [
      "shape of df4 is (480, 3541)\n",
      "Completed 439 out of 461 steps\n",
      "the main data is of shape (540, 2)\n",
      "shape of current_data2 is (540, 59)\n"
     ]
    },
    {
     "name": "stderr",
     "output_type": "stream",
     "text": [
      "C:\\Users\\abhij\\AppData\\Local\\Temp\\ipykernel_18688\\568520512.py:16: SettingWithCopyWarning: \n",
      "A value is trying to be set on a copy of a slice from a DataFrame.\n",
      "Try using .loc[row_indexer,col_indexer] = value instead\n",
      "\n",
      "See the caveats in the documentation: https://pandas.pydata.org/pandas-docs/stable/user_guide/indexing.html#returning-a-view-versus-a-copy\n",
      "  current_data['Date'] = current_data.index\n"
     ]
    },
    {
     "name": "stdout",
     "output_type": "stream",
     "text": [
      "shape of df4 is (480, 3541)\n",
      "Completed 440 out of 461 steps\n",
      "the main data is of shape (540, 2)\n",
      "shape of current_data2 is (540, 59)\n"
     ]
    },
    {
     "name": "stderr",
     "output_type": "stream",
     "text": [
      "C:\\Users\\abhij\\AppData\\Local\\Temp\\ipykernel_18688\\568520512.py:16: SettingWithCopyWarning: \n",
      "A value is trying to be set on a copy of a slice from a DataFrame.\n",
      "Try using .loc[row_indexer,col_indexer] = value instead\n",
      "\n",
      "See the caveats in the documentation: https://pandas.pydata.org/pandas-docs/stable/user_guide/indexing.html#returning-a-view-versus-a-copy\n",
      "  current_data['Date'] = current_data.index\n"
     ]
    },
    {
     "name": "stdout",
     "output_type": "stream",
     "text": [
      "shape of df4 is (480, 3541)\n",
      "Completed 441 out of 461 steps\n",
      "the main data is of shape (540, 2)\n",
      "shape of current_data2 is (540, 59)\n"
     ]
    },
    {
     "name": "stderr",
     "output_type": "stream",
     "text": [
      "C:\\Users\\abhij\\AppData\\Local\\Temp\\ipykernel_18688\\568520512.py:16: SettingWithCopyWarning: \n",
      "A value is trying to be set on a copy of a slice from a DataFrame.\n",
      "Try using .loc[row_indexer,col_indexer] = value instead\n",
      "\n",
      "See the caveats in the documentation: https://pandas.pydata.org/pandas-docs/stable/user_guide/indexing.html#returning-a-view-versus-a-copy\n",
      "  current_data['Date'] = current_data.index\n"
     ]
    },
    {
     "name": "stdout",
     "output_type": "stream",
     "text": [
      "shape of df4 is (480, 3541)\n",
      "Completed 442 out of 461 steps\n",
      "the main data is of shape (540, 2)\n",
      "shape of current_data2 is (540, 59)\n"
     ]
    },
    {
     "name": "stderr",
     "output_type": "stream",
     "text": [
      "C:\\Users\\abhij\\AppData\\Local\\Temp\\ipykernel_18688\\568520512.py:16: SettingWithCopyWarning: \n",
      "A value is trying to be set on a copy of a slice from a DataFrame.\n",
      "Try using .loc[row_indexer,col_indexer] = value instead\n",
      "\n",
      "See the caveats in the documentation: https://pandas.pydata.org/pandas-docs/stable/user_guide/indexing.html#returning-a-view-versus-a-copy\n",
      "  current_data['Date'] = current_data.index\n"
     ]
    },
    {
     "name": "stdout",
     "output_type": "stream",
     "text": [
      "shape of df4 is (480, 3541)\n",
      "Completed 443 out of 461 steps\n",
      "the main data is of shape (540, 2)\n",
      "shape of current_data2 is (540, 59)\n"
     ]
    },
    {
     "name": "stderr",
     "output_type": "stream",
     "text": [
      "C:\\Users\\abhij\\AppData\\Local\\Temp\\ipykernel_18688\\568520512.py:16: SettingWithCopyWarning: \n",
      "A value is trying to be set on a copy of a slice from a DataFrame.\n",
      "Try using .loc[row_indexer,col_indexer] = value instead\n",
      "\n",
      "See the caveats in the documentation: https://pandas.pydata.org/pandas-docs/stable/user_guide/indexing.html#returning-a-view-versus-a-copy\n",
      "  current_data['Date'] = current_data.index\n"
     ]
    },
    {
     "name": "stdout",
     "output_type": "stream",
     "text": [
      "shape of df4 is (480, 3541)\n",
      "Completed 444 out of 461 steps\n",
      "the main data is of shape (540, 2)\n",
      "shape of current_data2 is (540, 59)\n"
     ]
    },
    {
     "name": "stderr",
     "output_type": "stream",
     "text": [
      "C:\\Users\\abhij\\AppData\\Local\\Temp\\ipykernel_18688\\568520512.py:16: SettingWithCopyWarning: \n",
      "A value is trying to be set on a copy of a slice from a DataFrame.\n",
      "Try using .loc[row_indexer,col_indexer] = value instead\n",
      "\n",
      "See the caveats in the documentation: https://pandas.pydata.org/pandas-docs/stable/user_guide/indexing.html#returning-a-view-versus-a-copy\n",
      "  current_data['Date'] = current_data.index\n"
     ]
    },
    {
     "name": "stdout",
     "output_type": "stream",
     "text": [
      "shape of df4 is (480, 3541)\n",
      "Completed 445 out of 461 steps\n",
      "the main data is of shape (540, 2)\n",
      "shape of current_data2 is (540, 59)\n"
     ]
    },
    {
     "name": "stderr",
     "output_type": "stream",
     "text": [
      "C:\\Users\\abhij\\AppData\\Local\\Temp\\ipykernel_18688\\568520512.py:16: SettingWithCopyWarning: \n",
      "A value is trying to be set on a copy of a slice from a DataFrame.\n",
      "Try using .loc[row_indexer,col_indexer] = value instead\n",
      "\n",
      "See the caveats in the documentation: https://pandas.pydata.org/pandas-docs/stable/user_guide/indexing.html#returning-a-view-versus-a-copy\n",
      "  current_data['Date'] = current_data.index\n"
     ]
    },
    {
     "name": "stdout",
     "output_type": "stream",
     "text": [
      "shape of df4 is (480, 3541)\n",
      "Completed 446 out of 461 steps\n",
      "the main data is of shape (540, 2)\n",
      "shape of current_data2 is (540, 59)\n"
     ]
    },
    {
     "name": "stderr",
     "output_type": "stream",
     "text": [
      "C:\\Users\\abhij\\AppData\\Local\\Temp\\ipykernel_18688\\568520512.py:16: SettingWithCopyWarning: \n",
      "A value is trying to be set on a copy of a slice from a DataFrame.\n",
      "Try using .loc[row_indexer,col_indexer] = value instead\n",
      "\n",
      "See the caveats in the documentation: https://pandas.pydata.org/pandas-docs/stable/user_guide/indexing.html#returning-a-view-versus-a-copy\n",
      "  current_data['Date'] = current_data.index\n"
     ]
    },
    {
     "name": "stdout",
     "output_type": "stream",
     "text": [
      "shape of df4 is (480, 3541)\n",
      "Completed 447 out of 461 steps\n",
      "the main data is of shape (540, 2)\n",
      "shape of current_data2 is (540, 59)\n"
     ]
    },
    {
     "name": "stderr",
     "output_type": "stream",
     "text": [
      "C:\\Users\\abhij\\AppData\\Local\\Temp\\ipykernel_18688\\568520512.py:16: SettingWithCopyWarning: \n",
      "A value is trying to be set on a copy of a slice from a DataFrame.\n",
      "Try using .loc[row_indexer,col_indexer] = value instead\n",
      "\n",
      "See the caveats in the documentation: https://pandas.pydata.org/pandas-docs/stable/user_guide/indexing.html#returning-a-view-versus-a-copy\n",
      "  current_data['Date'] = current_data.index\n"
     ]
    },
    {
     "name": "stdout",
     "output_type": "stream",
     "text": [
      "shape of df4 is (480, 3541)\n",
      "Completed 448 out of 461 steps\n",
      "the main data is of shape (540, 2)\n",
      "shape of current_data2 is (540, 59)\n"
     ]
    },
    {
     "name": "stderr",
     "output_type": "stream",
     "text": [
      "C:\\Users\\abhij\\AppData\\Local\\Temp\\ipykernel_18688\\568520512.py:16: SettingWithCopyWarning: \n",
      "A value is trying to be set on a copy of a slice from a DataFrame.\n",
      "Try using .loc[row_indexer,col_indexer] = value instead\n",
      "\n",
      "See the caveats in the documentation: https://pandas.pydata.org/pandas-docs/stable/user_guide/indexing.html#returning-a-view-versus-a-copy\n",
      "  current_data['Date'] = current_data.index\n"
     ]
    },
    {
     "name": "stdout",
     "output_type": "stream",
     "text": [
      "shape of df4 is (480, 3541)\n",
      "Completed 449 out of 461 steps\n",
      "the main data is of shape (540, 2)\n",
      "shape of current_data2 is (540, 59)\n"
     ]
    },
    {
     "name": "stderr",
     "output_type": "stream",
     "text": [
      "C:\\Users\\abhij\\AppData\\Local\\Temp\\ipykernel_18688\\568520512.py:16: SettingWithCopyWarning: \n",
      "A value is trying to be set on a copy of a slice from a DataFrame.\n",
      "Try using .loc[row_indexer,col_indexer] = value instead\n",
      "\n",
      "See the caveats in the documentation: https://pandas.pydata.org/pandas-docs/stable/user_guide/indexing.html#returning-a-view-versus-a-copy\n",
      "  current_data['Date'] = current_data.index\n"
     ]
    },
    {
     "name": "stdout",
     "output_type": "stream",
     "text": [
      "shape of df4 is (480, 3541)\n",
      "Completed 450 out of 461 steps\n",
      "the main data is of shape (540, 2)\n",
      "shape of current_data2 is (540, 59)\n"
     ]
    },
    {
     "name": "stderr",
     "output_type": "stream",
     "text": [
      "C:\\Users\\abhij\\AppData\\Local\\Temp\\ipykernel_18688\\568520512.py:16: SettingWithCopyWarning: \n",
      "A value is trying to be set on a copy of a slice from a DataFrame.\n",
      "Try using .loc[row_indexer,col_indexer] = value instead\n",
      "\n",
      "See the caveats in the documentation: https://pandas.pydata.org/pandas-docs/stable/user_guide/indexing.html#returning-a-view-versus-a-copy\n",
      "  current_data['Date'] = current_data.index\n"
     ]
    },
    {
     "name": "stdout",
     "output_type": "stream",
     "text": [
      "shape of df4 is (480, 3541)\n",
      "Completed 451 out of 461 steps\n",
      "the main data is of shape (540, 2)\n",
      "shape of current_data2 is (540, 59)\n"
     ]
    },
    {
     "name": "stderr",
     "output_type": "stream",
     "text": [
      "C:\\Users\\abhij\\AppData\\Local\\Temp\\ipykernel_18688\\568520512.py:16: SettingWithCopyWarning: \n",
      "A value is trying to be set on a copy of a slice from a DataFrame.\n",
      "Try using .loc[row_indexer,col_indexer] = value instead\n",
      "\n",
      "See the caveats in the documentation: https://pandas.pydata.org/pandas-docs/stable/user_guide/indexing.html#returning-a-view-versus-a-copy\n",
      "  current_data['Date'] = current_data.index\n"
     ]
    },
    {
     "name": "stdout",
     "output_type": "stream",
     "text": [
      "shape of df4 is (480, 3541)\n",
      "Completed 452 out of 461 steps\n",
      "the main data is of shape (540, 2)\n",
      "shape of current_data2 is (540, 59)\n"
     ]
    },
    {
     "name": "stderr",
     "output_type": "stream",
     "text": [
      "C:\\Users\\abhij\\AppData\\Local\\Temp\\ipykernel_18688\\568520512.py:16: SettingWithCopyWarning: \n",
      "A value is trying to be set on a copy of a slice from a DataFrame.\n",
      "Try using .loc[row_indexer,col_indexer] = value instead\n",
      "\n",
      "See the caveats in the documentation: https://pandas.pydata.org/pandas-docs/stable/user_guide/indexing.html#returning-a-view-versus-a-copy\n",
      "  current_data['Date'] = current_data.index\n"
     ]
    },
    {
     "name": "stdout",
     "output_type": "stream",
     "text": [
      "shape of df4 is (480, 3541)\n",
      "Completed 453 out of 461 steps\n",
      "the main data is of shape (540, 2)\n",
      "shape of current_data2 is (540, 59)\n"
     ]
    },
    {
     "name": "stderr",
     "output_type": "stream",
     "text": [
      "C:\\Users\\abhij\\AppData\\Local\\Temp\\ipykernel_18688\\568520512.py:16: SettingWithCopyWarning: \n",
      "A value is trying to be set on a copy of a slice from a DataFrame.\n",
      "Try using .loc[row_indexer,col_indexer] = value instead\n",
      "\n",
      "See the caveats in the documentation: https://pandas.pydata.org/pandas-docs/stable/user_guide/indexing.html#returning-a-view-versus-a-copy\n",
      "  current_data['Date'] = current_data.index\n"
     ]
    },
    {
     "name": "stdout",
     "output_type": "stream",
     "text": [
      "shape of df4 is (480, 3541)\n",
      "Completed 454 out of 461 steps\n",
      "the main data is of shape (540, 2)\n",
      "shape of current_data2 is (540, 59)\n"
     ]
    },
    {
     "name": "stderr",
     "output_type": "stream",
     "text": [
      "C:\\Users\\abhij\\AppData\\Local\\Temp\\ipykernel_18688\\568520512.py:16: SettingWithCopyWarning: \n",
      "A value is trying to be set on a copy of a slice from a DataFrame.\n",
      "Try using .loc[row_indexer,col_indexer] = value instead\n",
      "\n",
      "See the caveats in the documentation: https://pandas.pydata.org/pandas-docs/stable/user_guide/indexing.html#returning-a-view-versus-a-copy\n",
      "  current_data['Date'] = current_data.index\n"
     ]
    },
    {
     "name": "stdout",
     "output_type": "stream",
     "text": [
      "shape of df4 is (480, 3541)\n",
      "Completed 455 out of 461 steps\n",
      "the main data is of shape (540, 2)\n",
      "shape of current_data2 is (540, 59)\n"
     ]
    },
    {
     "name": "stderr",
     "output_type": "stream",
     "text": [
      "C:\\Users\\abhij\\AppData\\Local\\Temp\\ipykernel_18688\\568520512.py:16: SettingWithCopyWarning: \n",
      "A value is trying to be set on a copy of a slice from a DataFrame.\n",
      "Try using .loc[row_indexer,col_indexer] = value instead\n",
      "\n",
      "See the caveats in the documentation: https://pandas.pydata.org/pandas-docs/stable/user_guide/indexing.html#returning-a-view-versus-a-copy\n",
      "  current_data['Date'] = current_data.index\n"
     ]
    },
    {
     "name": "stdout",
     "output_type": "stream",
     "text": [
      "shape of df4 is (480, 3541)\n",
      "Completed 456 out of 461 steps\n",
      "the main data is of shape (540, 2)\n",
      "shape of current_data2 is (540, 59)\n"
     ]
    },
    {
     "name": "stderr",
     "output_type": "stream",
     "text": [
      "C:\\Users\\abhij\\AppData\\Local\\Temp\\ipykernel_18688\\568520512.py:16: SettingWithCopyWarning: \n",
      "A value is trying to be set on a copy of a slice from a DataFrame.\n",
      "Try using .loc[row_indexer,col_indexer] = value instead\n",
      "\n",
      "See the caveats in the documentation: https://pandas.pydata.org/pandas-docs/stable/user_guide/indexing.html#returning-a-view-versus-a-copy\n",
      "  current_data['Date'] = current_data.index\n"
     ]
    },
    {
     "name": "stdout",
     "output_type": "stream",
     "text": [
      "shape of df4 is (480, 3541)\n",
      "Completed 457 out of 461 steps\n",
      "the main data is of shape (540, 2)\n",
      "shape of current_data2 is (540, 59)\n"
     ]
    },
    {
     "name": "stderr",
     "output_type": "stream",
     "text": [
      "C:\\Users\\abhij\\AppData\\Local\\Temp\\ipykernel_18688\\568520512.py:16: SettingWithCopyWarning: \n",
      "A value is trying to be set on a copy of a slice from a DataFrame.\n",
      "Try using .loc[row_indexer,col_indexer] = value instead\n",
      "\n",
      "See the caveats in the documentation: https://pandas.pydata.org/pandas-docs/stable/user_guide/indexing.html#returning-a-view-versus-a-copy\n",
      "  current_data['Date'] = current_data.index\n"
     ]
    },
    {
     "name": "stdout",
     "output_type": "stream",
     "text": [
      "shape of df4 is (480, 3541)\n",
      "Completed 458 out of 461 steps\n",
      "the main data is of shape (540, 2)\n",
      "shape of current_data2 is (540, 59)\n"
     ]
    },
    {
     "name": "stderr",
     "output_type": "stream",
     "text": [
      "C:\\Users\\abhij\\AppData\\Local\\Temp\\ipykernel_18688\\568520512.py:16: SettingWithCopyWarning: \n",
      "A value is trying to be set on a copy of a slice from a DataFrame.\n",
      "Try using .loc[row_indexer,col_indexer] = value instead\n",
      "\n",
      "See the caveats in the documentation: https://pandas.pydata.org/pandas-docs/stable/user_guide/indexing.html#returning-a-view-versus-a-copy\n",
      "  current_data['Date'] = current_data.index\n"
     ]
    },
    {
     "name": "stdout",
     "output_type": "stream",
     "text": [
      "shape of df4 is (480, 3541)\n",
      "Completed 459 out of 461 steps\n",
      "the main data is of shape (540, 2)\n",
      "shape of current_data2 is (540, 59)\n"
     ]
    },
    {
     "name": "stderr",
     "output_type": "stream",
     "text": [
      "C:\\Users\\abhij\\AppData\\Local\\Temp\\ipykernel_18688\\568520512.py:16: SettingWithCopyWarning: \n",
      "A value is trying to be set on a copy of a slice from a DataFrame.\n",
      "Try using .loc[row_indexer,col_indexer] = value instead\n",
      "\n",
      "See the caveats in the documentation: https://pandas.pydata.org/pandas-docs/stable/user_guide/indexing.html#returning-a-view-versus-a-copy\n",
      "  current_data['Date'] = current_data.index\n"
     ]
    },
    {
     "name": "stdout",
     "output_type": "stream",
     "text": [
      "shape of df4 is (480, 3541)\n",
      "Completed 460 out of 461 steps\n",
      "the main data is of shape (540, 2)\n",
      "shape of current_data2 is (540, 59)\n"
     ]
    },
    {
     "name": "stderr",
     "output_type": "stream",
     "text": [
      "C:\\Users\\abhij\\AppData\\Local\\Temp\\ipykernel_18688\\568520512.py:16: SettingWithCopyWarning: \n",
      "A value is trying to be set on a copy of a slice from a DataFrame.\n",
      "Try using .loc[row_indexer,col_indexer] = value instead\n",
      "\n",
      "See the caveats in the documentation: https://pandas.pydata.org/pandas-docs/stable/user_guide/indexing.html#returning-a-view-versus-a-copy\n",
      "  current_data['Date'] = current_data.index\n"
     ]
    },
    {
     "name": "stdout",
     "output_type": "stream",
     "text": [
      "shape of df4 is (480, 3541)\n"
     ]
    }
   ],
   "source": [
    "y_all =[]\n",
    "count = 0 \n",
    "days_shape = 60\n",
    "pred_days = 15\n",
    "reward = 10\n",
    "#X_big =[]\n",
    "\n",
    "for company in nse_companies:\n",
    "    \n",
    "    print('Completed',count,'out of',len(nse_companies),'steps')\n",
    "    count = count+1\n",
    "    \n",
    "    current_data = data[company]\n",
    "    current_data = current_data.iloc[::-1]  #reversing rows to get current date first\n",
    "    \n",
    "    current_data['Date'] = current_data.index\n",
    "    current_data = current_data.reset_index(drop=True)\n",
    "    current_data = current_data[['Date','Close']]\n",
    "    print('the main data is of shape',current_data.shape) \n",
    "    \n",
    "    current_data_05 = current_data\n",
    "    current_data_05['Xth'] = current_data['Close']\n",
    "    \n",
    "    c1 = []\n",
    "    for i in range(1,days_shape):\n",
    "        current_data_05['temp'] = current_data_05.loc[:,'Xth'] - current_data_05.loc[:,'Xth'].shift(-1*i)\n",
    "        current_data_05['temp'] = current_data_05.loc[:,'temp']/current_data_05.loc[:,'Xth']*100\n",
    "        c1.append(current_data_05['temp'].to_numpy())\n",
    "    #print('the lenth of concatenated stuff is',len(c1[0]))\n",
    "    \n",
    "    current_data1 = pd.DataFrame(c1)\n",
    "    current_data2 = current_data1.transpose()    \n",
    "    print('shape of current_data2 is',current_data2.shape )   \n",
    "\n",
    "    \n",
    "    c2 =current_data2.to_numpy()\n",
    "    \n",
    "    c3 =[]\n",
    "\n",
    "    for i in range(int(len(c2)-days_shape)):\n",
    "        c6 = np.concatenate((c2[i:i+days_shape]))\n",
    "        c3.append(c6)\n",
    "\n",
    "    aes = current_data.shape[0]\n",
    "    \n",
    "    df4 = pd.DataFrame(c3)\n",
    "    df4['Xth'] = current_data_05.iloc[:aes]['Xth']\n",
    "    print('shape of df4 is',df4.shape )\n",
    "    #### y value % is what i am coding next\n",
    "    df4['Pred_Xth_%'] = df4['Xth'].shift(-1*pred_days)\n",
    "    df4['Pred_Xth_%']  = (df4['Pred_Xth_%']-df4['Xth']) /df4['Xth']*100\n",
    "    \n",
    "     \n",
    "    df5 = df4.dropna()\n",
    "    \n",
    "    df6 = df5#.copy()\n",
    "    \n",
    "\n",
    " ####################################################           \n",
    "            \n",
    "    df7 = df6.drop('Xth',axis=1)     \n",
    "\n",
    "    \n",
    "    X1 = df7\n",
    "\n",
    "    import numpy as np\n",
    "     \n",
    "        \n",
    "    X_1 = np.asarray(X1).astype(np.float32)\n",
    "    \n",
    "    if count == 1:\n",
    "        X_big = X_1\n",
    "        #print(X_big)\n",
    "    else:\n",
    "        X_big = np.concatenate((X_big, X_1), 0)\n",
    "        \n",
    "    #X_big.append(X_1)\n"
   ]
  },
  {
   "cell_type": "code",
   "execution_count": 6,
   "id": "190b9ef8",
   "metadata": {
    "scrolled": true
   },
   "outputs": [
    {
     "data": {
      "text/plain": [
       "194326"
      ]
     },
     "execution_count": 6,
     "metadata": {},
     "output_type": "execute_result"
    }
   ],
   "source": [
    "len(X_big)"
   ]
  },
  {
   "cell_type": "code",
   "execution_count": 7,
   "id": "71fe271e",
   "metadata": {},
   "outputs": [],
   "source": [
    "X_big_one = pd.DataFrame(X_big)"
   ]
  },
  {
   "cell_type": "code",
   "execution_count": 8,
   "id": "f8f667d9",
   "metadata": {},
   "outputs": [
    {
     "data": {
      "text/html": [
       "<div>\n",
       "<style scoped>\n",
       "    .dataframe tbody tr th:only-of-type {\n",
       "        vertical-align: middle;\n",
       "    }\n",
       "\n",
       "    .dataframe tbody tr th {\n",
       "        vertical-align: top;\n",
       "    }\n",
       "\n",
       "    .dataframe thead th {\n",
       "        text-align: right;\n",
       "    }\n",
       "</style>\n",
       "<table border=\"1\" class=\"dataframe\">\n",
       "  <thead>\n",
       "    <tr style=\"text-align: right;\">\n",
       "      <th></th>\n",
       "      <th>0</th>\n",
       "      <th>1</th>\n",
       "      <th>2</th>\n",
       "      <th>3</th>\n",
       "      <th>4</th>\n",
       "      <th>5</th>\n",
       "      <th>6</th>\n",
       "      <th>7</th>\n",
       "      <th>8</th>\n",
       "      <th>9</th>\n",
       "      <th>...</th>\n",
       "      <th>3531</th>\n",
       "      <th>3532</th>\n",
       "      <th>3533</th>\n",
       "      <th>3534</th>\n",
       "      <th>3535</th>\n",
       "      <th>3536</th>\n",
       "      <th>3537</th>\n",
       "      <th>3538</th>\n",
       "      <th>3539</th>\n",
       "      <th>3540</th>\n",
       "    </tr>\n",
       "  </thead>\n",
       "  <tbody>\n",
       "    <tr>\n",
       "      <th>0</th>\n",
       "      <td>-0.700247</td>\n",
       "      <td>-1.990173</td>\n",
       "      <td>-0.122850</td>\n",
       "      <td>0.884522</td>\n",
       "      <td>-5.196558</td>\n",
       "      <td>-5.024573</td>\n",
       "      <td>-4.570026</td>\n",
       "      <td>-6.191649</td>\n",
       "      <td>-8.058965</td>\n",
       "      <td>-5.270273</td>\n",
       "      <td>...</td>\n",
       "      <td>7.153076</td>\n",
       "      <td>7.798154</td>\n",
       "      <td>4.536348</td>\n",
       "      <td>5.423332</td>\n",
       "      <td>3.951097</td>\n",
       "      <td>4.258029</td>\n",
       "      <td>6.541813</td>\n",
       "      <td>7.847573</td>\n",
       "      <td>6.141243</td>\n",
       "      <td>5.319409</td>\n",
       "    </tr>\n",
       "    <tr>\n",
       "      <th>1</th>\n",
       "      <td>-1.280956</td>\n",
       "      <td>0.573382</td>\n",
       "      <td>1.573749</td>\n",
       "      <td>-4.465045</td>\n",
       "      <td>-4.294255</td>\n",
       "      <td>-3.842869</td>\n",
       "      <td>-5.453216</td>\n",
       "      <td>-7.307547</td>\n",
       "      <td>-4.538247</td>\n",
       "      <td>-2.964498</td>\n",
       "      <td>...</td>\n",
       "      <td>8.646461</td>\n",
       "      <td>5.414666</td>\n",
       "      <td>6.293489</td>\n",
       "      <td>4.834799</td>\n",
       "      <td>5.138908</td>\n",
       "      <td>7.401679</td>\n",
       "      <td>8.695426</td>\n",
       "      <td>7.004795</td>\n",
       "      <td>7.455802</td>\n",
       "      <td>4.696840</td>\n",
       "    </tr>\n",
       "    <tr>\n",
       "      <th>2</th>\n",
       "      <td>1.830886</td>\n",
       "      <td>2.818601</td>\n",
       "      <td>-3.143818</td>\n",
       "      <td>-2.975188</td>\n",
       "      <td>-2.529511</td>\n",
       "      <td>-4.119491</td>\n",
       "      <td>-5.950369</td>\n",
       "      <td>-3.216094</td>\n",
       "      <td>-1.662249</td>\n",
       "      <td>-3.758132</td>\n",
       "      <td>...</td>\n",
       "      <td>1.640178</td>\n",
       "      <td>2.554071</td>\n",
       "      <td>1.037171</td>\n",
       "      <td>1.353416</td>\n",
       "      <td>3.706484</td>\n",
       "      <td>5.051858</td>\n",
       "      <td>3.293762</td>\n",
       "      <td>3.762768</td>\n",
       "      <td>5.636106</td>\n",
       "      <td>3.493134</td>\n",
       "    </tr>\n",
       "    <tr>\n",
       "      <th>3</th>\n",
       "      <td>1.006136</td>\n",
       "      <td>-5.067483</td>\n",
       "      <td>-4.895709</td>\n",
       "      <td>-4.441719</td>\n",
       "      <td>-6.061353</td>\n",
       "      <td>-7.926377</td>\n",
       "      <td>-5.141107</td>\n",
       "      <td>-3.558282</td>\n",
       "      <td>-5.693254</td>\n",
       "      <td>-7.631903</td>\n",
       "      <td>...</td>\n",
       "      <td>1.198340</td>\n",
       "      <td>-0.339665</td>\n",
       "      <td>-0.019020</td>\n",
       "      <td>2.366786</td>\n",
       "      <td>3.730878</td>\n",
       "      <td>1.948322</td>\n",
       "      <td>2.423852</td>\n",
       "      <td>4.323255</td>\n",
       "      <td>4.141196</td>\n",
       "      <td>5.202457</td>\n",
       "    </tr>\n",
       "    <tr>\n",
       "      <th>4</th>\n",
       "      <td>-6.135350</td>\n",
       "      <td>-5.961829</td>\n",
       "      <td>-5.503226</td>\n",
       "      <td>-7.139320</td>\n",
       "      <td>-9.023300</td>\n",
       "      <td>-6.209722</td>\n",
       "      <td>-4.610810</td>\n",
       "      <td>-6.767481</td>\n",
       "      <td>-8.725834</td>\n",
       "      <td>-8.068919</td>\n",
       "      <td>...</td>\n",
       "      <td>-0.816342</td>\n",
       "      <td>-0.494174</td>\n",
       "      <td>1.902966</td>\n",
       "      <td>3.273539</td>\n",
       "      <td>1.482514</td>\n",
       "      <td>1.960304</td>\n",
       "      <td>3.868729</td>\n",
       "      <td>3.685806</td>\n",
       "      <td>4.491222</td>\n",
       "      <td>-0.483387</td>\n",
       "    </tr>\n",
       "    <tr>\n",
       "      <th>...</th>\n",
       "      <td>...</td>\n",
       "      <td>...</td>\n",
       "      <td>...</td>\n",
       "      <td>...</td>\n",
       "      <td>...</td>\n",
       "      <td>...</td>\n",
       "      <td>...</td>\n",
       "      <td>...</td>\n",
       "      <td>...</td>\n",
       "      <td>...</td>\n",
       "      <td>...</td>\n",
       "      <td>...</td>\n",
       "      <td>...</td>\n",
       "      <td>...</td>\n",
       "      <td>...</td>\n",
       "      <td>...</td>\n",
       "      <td>...</td>\n",
       "      <td>...</td>\n",
       "      <td>...</td>\n",
       "      <td>...</td>\n",
       "      <td>...</td>\n",
       "    </tr>\n",
       "    <tr>\n",
       "      <th>194321</th>\n",
       "      <td>2.315241</td>\n",
       "      <td>5.533541</td>\n",
       "      <td>3.384169</td>\n",
       "      <td>3.575382</td>\n",
       "      <td>2.451162</td>\n",
       "      <td>1.667893</td>\n",
       "      <td>-2.204664</td>\n",
       "      <td>-6.392831</td>\n",
       "      <td>-6.399740</td>\n",
       "      <td>-3.448675</td>\n",
       "      <td>...</td>\n",
       "      <td>17.247150</td>\n",
       "      <td>19.633286</td>\n",
       "      <td>21.667782</td>\n",
       "      <td>22.228735</td>\n",
       "      <td>22.647352</td>\n",
       "      <td>21.508707</td>\n",
       "      <td>21.558945</td>\n",
       "      <td>20.813799</td>\n",
       "      <td>18.691391</td>\n",
       "      <td>-0.011516</td>\n",
       "    </tr>\n",
       "    <tr>\n",
       "      <th>194322</th>\n",
       "      <td>3.294577</td>\n",
       "      <td>1.094263</td>\n",
       "      <td>1.290008</td>\n",
       "      <td>0.139142</td>\n",
       "      <td>-0.662691</td>\n",
       "      <td>-4.627033</td>\n",
       "      <td>-8.914463</td>\n",
       "      <td>-8.921536</td>\n",
       "      <td>-5.900527</td>\n",
       "      <td>-2.940829</td>\n",
       "      <td>...</td>\n",
       "      <td>20.682529</td>\n",
       "      <td>22.690462</td>\n",
       "      <td>23.244091</td>\n",
       "      <td>23.657244</td>\n",
       "      <td>22.533464</td>\n",
       "      <td>22.583046</td>\n",
       "      <td>21.847628</td>\n",
       "      <td>19.752930</td>\n",
       "      <td>19.728140</td>\n",
       "      <td>4.351107</td>\n",
       "    </tr>\n",
       "    <tr>\n",
       "      <th>194323</th>\n",
       "      <td>-2.275275</td>\n",
       "      <td>-2.072861</td>\n",
       "      <td>-3.262935</td>\n",
       "      <td>-4.092085</td>\n",
       "      <td>-8.191484</td>\n",
       "      <td>-12.624980</td>\n",
       "      <td>-12.632295</td>\n",
       "      <td>-9.508365</td>\n",
       "      <td>-6.447834</td>\n",
       "      <td>-2.094813</td>\n",
       "      <td>...</td>\n",
       "      <td>20.715225</td>\n",
       "      <td>21.282999</td>\n",
       "      <td>21.706707</td>\n",
       "      <td>20.554214</td>\n",
       "      <td>20.605064</td>\n",
       "      <td>19.850857</td>\n",
       "      <td>17.702639</td>\n",
       "      <td>17.677216</td>\n",
       "      <td>18.973772</td>\n",
       "      <td>8.330482</td>\n",
       "    </tr>\n",
       "    <tr>\n",
       "      <th>194324</th>\n",
       "      <td>0.197911</td>\n",
       "      <td>-0.965688</td>\n",
       "      <td>-1.776392</td>\n",
       "      <td>-5.784594</td>\n",
       "      <td>-10.119460</td>\n",
       "      <td>-10.126612</td>\n",
       "      <td>-7.072178</td>\n",
       "      <td>-4.079734</td>\n",
       "      <td>0.176447</td>\n",
       "      <td>-1.235123</td>\n",
       "      <td>...</td>\n",
       "      <td>22.241758</td>\n",
       "      <td>22.660305</td>\n",
       "      <td>21.521851</td>\n",
       "      <td>21.572081</td>\n",
       "      <td>20.827059</td>\n",
       "      <td>18.705006</td>\n",
       "      <td>18.679892</td>\n",
       "      <td>19.960657</td>\n",
       "      <td>22.873768</td>\n",
       "      <td>7.403610</td>\n",
       "    </tr>\n",
       "    <tr>\n",
       "      <th>194325</th>\n",
       "      <td>-1.165906</td>\n",
       "      <td>-1.978218</td>\n",
       "      <td>-5.994368</td>\n",
       "      <td>-10.337830</td>\n",
       "      <td>-10.344995</td>\n",
       "      <td>-7.284506</td>\n",
       "      <td>-4.286128</td>\n",
       "      <td>-0.021506</td>\n",
       "      <td>-1.435875</td>\n",
       "      <td>-0.731083</td>\n",
       "      <td>...</td>\n",
       "      <td>22.866920</td>\n",
       "      <td>21.731506</td>\n",
       "      <td>21.781601</td>\n",
       "      <td>21.038570</td>\n",
       "      <td>18.922188</td>\n",
       "      <td>18.897141</td>\n",
       "      <td>20.174484</td>\n",
       "      <td>23.079811</td>\n",
       "      <td>21.205542</td>\n",
       "      <td>6.508031</td>\n",
       "    </tr>\n",
       "  </tbody>\n",
       "</table>\n",
       "<p>194326 rows × 3541 columns</p>\n",
       "</div>"
      ],
      "text/plain": [
       "            0         1         2          3          4          5     \\\n",
       "0      -0.700247 -1.990173 -0.122850   0.884522  -5.196558  -5.024573   \n",
       "1      -1.280956  0.573382  1.573749  -4.465045  -4.294255  -3.842869   \n",
       "2       1.830886  2.818601 -3.143818  -2.975188  -2.529511  -4.119491   \n",
       "3       1.006136 -5.067483 -4.895709  -4.441719  -6.061353  -7.926377   \n",
       "4      -6.135350 -5.961829 -5.503226  -7.139320  -9.023300  -6.209722   \n",
       "...          ...       ...       ...        ...        ...        ...   \n",
       "194321  2.315241  5.533541  3.384169   3.575382   2.451162   1.667893   \n",
       "194322  3.294577  1.094263  1.290008   0.139142  -0.662691  -4.627033   \n",
       "194323 -2.275275 -2.072861 -3.262935  -4.092085  -8.191484 -12.624980   \n",
       "194324  0.197911 -0.965688 -1.776392  -5.784594 -10.119460 -10.126612   \n",
       "194325 -1.165906 -1.978218 -5.994368 -10.337830 -10.344995  -7.284506   \n",
       "\n",
       "             6         7         8         9     ...       3531       3532  \\\n",
       "0       -4.570026 -6.191649 -8.058965 -5.270273  ...   7.153076   7.798154   \n",
       "1       -5.453216 -7.307547 -4.538247 -2.964498  ...   8.646461   5.414666   \n",
       "2       -5.950369 -3.216094 -1.662249 -3.758132  ...   1.640178   2.554071   \n",
       "3       -5.141107 -3.558282 -5.693254 -7.631903  ...   1.198340  -0.339665   \n",
       "4       -4.610810 -6.767481 -8.725834 -8.068919  ...  -0.816342  -0.494174   \n",
       "...           ...       ...       ...       ...  ...        ...        ...   \n",
       "194321  -2.204664 -6.392831 -6.399740 -3.448675  ...  17.247150  19.633286   \n",
       "194322  -8.914463 -8.921536 -5.900527 -2.940829  ...  20.682529  22.690462   \n",
       "194323 -12.632295 -9.508365 -6.447834 -2.094813  ...  20.715225  21.282999   \n",
       "194324  -7.072178 -4.079734  0.176447 -1.235123  ...  22.241758  22.660305   \n",
       "194325  -4.286128 -0.021506 -1.435875 -0.731083  ...  22.866920  21.731506   \n",
       "\n",
       "             3533       3534       3535       3536       3537       3538  \\\n",
       "0        4.536348   5.423332   3.951097   4.258029   6.541813   7.847573   \n",
       "1        6.293489   4.834799   5.138908   7.401679   8.695426   7.004795   \n",
       "2        1.037171   1.353416   3.706484   5.051858   3.293762   3.762768   \n",
       "3       -0.019020   2.366786   3.730878   1.948322   2.423852   4.323255   \n",
       "4        1.902966   3.273539   1.482514   1.960304   3.868729   3.685806   \n",
       "...           ...        ...        ...        ...        ...        ...   \n",
       "194321  21.667782  22.228735  22.647352  21.508707  21.558945  20.813799   \n",
       "194322  23.244091  23.657244  22.533464  22.583046  21.847628  19.752930   \n",
       "194323  21.706707  20.554214  20.605064  19.850857  17.702639  17.677216   \n",
       "194324  21.521851  21.572081  20.827059  18.705006  18.679892  19.960657   \n",
       "194325  21.781601  21.038570  18.922188  18.897141  20.174484  23.079811   \n",
       "\n",
       "             3539      3540  \n",
       "0        6.141243  5.319409  \n",
       "1        7.455802  4.696840  \n",
       "2        5.636106  3.493134  \n",
       "3        4.141196  5.202457  \n",
       "4        4.491222 -0.483387  \n",
       "...           ...       ...  \n",
       "194321  18.691391 -0.011516  \n",
       "194322  19.728140  4.351107  \n",
       "194323  18.973772  8.330482  \n",
       "194324  22.873768  7.403610  \n",
       "194325  21.205542  6.508031  \n",
       "\n",
       "[194326 rows x 3541 columns]"
      ]
     },
     "execution_count": 8,
     "metadata": {},
     "output_type": "execute_result"
    }
   ],
   "source": [
    "X_big_one"
   ]
  },
  {
   "cell_type": "code",
   "execution_count": 9,
   "id": "aed3e6e3",
   "metadata": {
    "scrolled": true
   },
   "outputs": [
    {
     "data": {
      "text/plain": [
       "0         5.319409\n",
       "1         4.696840\n",
       "2         3.493134\n",
       "3         5.202457\n",
       "4        -0.483387\n",
       "            ...   \n",
       "194321   -0.011516\n",
       "194322    4.351107\n",
       "194323    8.330482\n",
       "194324    7.403610\n",
       "194325    6.508031\n",
       "Name: 3540, Length: 194326, dtype: float32"
      ]
     },
     "execution_count": 9,
     "metadata": {},
     "output_type": "execute_result"
    }
   ],
   "source": [
    "reward = 10\n",
    "X_big_one[3540]"
   ]
  },
  {
   "cell_type": "code",
   "execution_count": 10,
   "id": "6d32a8c7",
   "metadata": {
    "scrolled": true
   },
   "outputs": [
    {
     "data": {
      "text/plain": [
       "False    172053\n",
       "True      22273\n",
       "Name: result, dtype: int64"
      ]
     },
     "execution_count": 10,
     "metadata": {},
     "output_type": "execute_result"
    }
   ],
   "source": [
    "X_big_one = X_big_one.assign(result = lambda x: (x[3540]>reward))\n",
    "    \n",
    "X_big_one['result'].value_counts()  "
   ]
  },
  {
   "cell_type": "code",
   "execution_count": 11,
   "id": "5d4792cb",
   "metadata": {},
   "outputs": [],
   "source": [
    "X_big_one03 = X_big_one.copy()\n",
    "X_big_one03 = X_big_one03.drop(3540,axis=1)\n"
   ]
  },
  {
   "cell_type": "code",
   "execution_count": 12,
   "id": "941c6b25",
   "metadata": {
    "scrolled": true
   },
   "outputs": [
    {
     "data": {
      "text/html": [
       "<div>\n",
       "<style scoped>\n",
       "    .dataframe tbody tr th:only-of-type {\n",
       "        vertical-align: middle;\n",
       "    }\n",
       "\n",
       "    .dataframe tbody tr th {\n",
       "        vertical-align: top;\n",
       "    }\n",
       "\n",
       "    .dataframe thead th {\n",
       "        text-align: right;\n",
       "    }\n",
       "</style>\n",
       "<table border=\"1\" class=\"dataframe\">\n",
       "  <thead>\n",
       "    <tr style=\"text-align: right;\">\n",
       "      <th></th>\n",
       "      <th>0</th>\n",
       "      <th>1</th>\n",
       "      <th>2</th>\n",
       "      <th>3</th>\n",
       "      <th>4</th>\n",
       "      <th>5</th>\n",
       "      <th>6</th>\n",
       "      <th>7</th>\n",
       "      <th>8</th>\n",
       "      <th>9</th>\n",
       "      <th>...</th>\n",
       "      <th>3531</th>\n",
       "      <th>3532</th>\n",
       "      <th>3533</th>\n",
       "      <th>3534</th>\n",
       "      <th>3535</th>\n",
       "      <th>3536</th>\n",
       "      <th>3537</th>\n",
       "      <th>3538</th>\n",
       "      <th>3539</th>\n",
       "      <th>result</th>\n",
       "    </tr>\n",
       "  </thead>\n",
       "  <tbody>\n",
       "    <tr>\n",
       "      <th>0</th>\n",
       "      <td>-0.700247</td>\n",
       "      <td>-1.990173</td>\n",
       "      <td>-0.122850</td>\n",
       "      <td>0.884522</td>\n",
       "      <td>-5.196558</td>\n",
       "      <td>-5.024573</td>\n",
       "      <td>-4.570026</td>\n",
       "      <td>-6.191649</td>\n",
       "      <td>-8.058965</td>\n",
       "      <td>-5.270273</td>\n",
       "      <td>...</td>\n",
       "      <td>7.153076</td>\n",
       "      <td>7.798154</td>\n",
       "      <td>4.536348</td>\n",
       "      <td>5.423332</td>\n",
       "      <td>3.951097</td>\n",
       "      <td>4.258029</td>\n",
       "      <td>6.541813</td>\n",
       "      <td>7.847573</td>\n",
       "      <td>6.141243</td>\n",
       "      <td>False</td>\n",
       "    </tr>\n",
       "    <tr>\n",
       "      <th>1</th>\n",
       "      <td>-1.280956</td>\n",
       "      <td>0.573382</td>\n",
       "      <td>1.573749</td>\n",
       "      <td>-4.465045</td>\n",
       "      <td>-4.294255</td>\n",
       "      <td>-3.842869</td>\n",
       "      <td>-5.453216</td>\n",
       "      <td>-7.307547</td>\n",
       "      <td>-4.538247</td>\n",
       "      <td>-2.964498</td>\n",
       "      <td>...</td>\n",
       "      <td>8.646461</td>\n",
       "      <td>5.414666</td>\n",
       "      <td>6.293489</td>\n",
       "      <td>4.834799</td>\n",
       "      <td>5.138908</td>\n",
       "      <td>7.401679</td>\n",
       "      <td>8.695426</td>\n",
       "      <td>7.004795</td>\n",
       "      <td>7.455802</td>\n",
       "      <td>False</td>\n",
       "    </tr>\n",
       "    <tr>\n",
       "      <th>2</th>\n",
       "      <td>1.830886</td>\n",
       "      <td>2.818601</td>\n",
       "      <td>-3.143818</td>\n",
       "      <td>-2.975188</td>\n",
       "      <td>-2.529511</td>\n",
       "      <td>-4.119491</td>\n",
       "      <td>-5.950369</td>\n",
       "      <td>-3.216094</td>\n",
       "      <td>-1.662249</td>\n",
       "      <td>-3.758132</td>\n",
       "      <td>...</td>\n",
       "      <td>1.640178</td>\n",
       "      <td>2.554071</td>\n",
       "      <td>1.037171</td>\n",
       "      <td>1.353416</td>\n",
       "      <td>3.706484</td>\n",
       "      <td>5.051858</td>\n",
       "      <td>3.293762</td>\n",
       "      <td>3.762768</td>\n",
       "      <td>5.636106</td>\n",
       "      <td>False</td>\n",
       "    </tr>\n",
       "    <tr>\n",
       "      <th>3</th>\n",
       "      <td>1.006136</td>\n",
       "      <td>-5.067483</td>\n",
       "      <td>-4.895709</td>\n",
       "      <td>-4.441719</td>\n",
       "      <td>-6.061353</td>\n",
       "      <td>-7.926377</td>\n",
       "      <td>-5.141107</td>\n",
       "      <td>-3.558282</td>\n",
       "      <td>-5.693254</td>\n",
       "      <td>-7.631903</td>\n",
       "      <td>...</td>\n",
       "      <td>1.198340</td>\n",
       "      <td>-0.339665</td>\n",
       "      <td>-0.019020</td>\n",
       "      <td>2.366786</td>\n",
       "      <td>3.730878</td>\n",
       "      <td>1.948322</td>\n",
       "      <td>2.423852</td>\n",
       "      <td>4.323255</td>\n",
       "      <td>4.141196</td>\n",
       "      <td>False</td>\n",
       "    </tr>\n",
       "    <tr>\n",
       "      <th>4</th>\n",
       "      <td>-6.135350</td>\n",
       "      <td>-5.961829</td>\n",
       "      <td>-5.503226</td>\n",
       "      <td>-7.139320</td>\n",
       "      <td>-9.023300</td>\n",
       "      <td>-6.209722</td>\n",
       "      <td>-4.610810</td>\n",
       "      <td>-6.767481</td>\n",
       "      <td>-8.725834</td>\n",
       "      <td>-8.068919</td>\n",
       "      <td>...</td>\n",
       "      <td>-0.816342</td>\n",
       "      <td>-0.494174</td>\n",
       "      <td>1.902966</td>\n",
       "      <td>3.273539</td>\n",
       "      <td>1.482514</td>\n",
       "      <td>1.960304</td>\n",
       "      <td>3.868729</td>\n",
       "      <td>3.685806</td>\n",
       "      <td>4.491222</td>\n",
       "      <td>False</td>\n",
       "    </tr>\n",
       "    <tr>\n",
       "      <th>...</th>\n",
       "      <td>...</td>\n",
       "      <td>...</td>\n",
       "      <td>...</td>\n",
       "      <td>...</td>\n",
       "      <td>...</td>\n",
       "      <td>...</td>\n",
       "      <td>...</td>\n",
       "      <td>...</td>\n",
       "      <td>...</td>\n",
       "      <td>...</td>\n",
       "      <td>...</td>\n",
       "      <td>...</td>\n",
       "      <td>...</td>\n",
       "      <td>...</td>\n",
       "      <td>...</td>\n",
       "      <td>...</td>\n",
       "      <td>...</td>\n",
       "      <td>...</td>\n",
       "      <td>...</td>\n",
       "      <td>...</td>\n",
       "      <td>...</td>\n",
       "    </tr>\n",
       "    <tr>\n",
       "      <th>194321</th>\n",
       "      <td>2.315241</td>\n",
       "      <td>5.533541</td>\n",
       "      <td>3.384169</td>\n",
       "      <td>3.575382</td>\n",
       "      <td>2.451162</td>\n",
       "      <td>1.667893</td>\n",
       "      <td>-2.204664</td>\n",
       "      <td>-6.392831</td>\n",
       "      <td>-6.399740</td>\n",
       "      <td>-3.448675</td>\n",
       "      <td>...</td>\n",
       "      <td>17.247150</td>\n",
       "      <td>19.633286</td>\n",
       "      <td>21.667782</td>\n",
       "      <td>22.228735</td>\n",
       "      <td>22.647352</td>\n",
       "      <td>21.508707</td>\n",
       "      <td>21.558945</td>\n",
       "      <td>20.813799</td>\n",
       "      <td>18.691391</td>\n",
       "      <td>False</td>\n",
       "    </tr>\n",
       "    <tr>\n",
       "      <th>194322</th>\n",
       "      <td>3.294577</td>\n",
       "      <td>1.094263</td>\n",
       "      <td>1.290008</td>\n",
       "      <td>0.139142</td>\n",
       "      <td>-0.662691</td>\n",
       "      <td>-4.627033</td>\n",
       "      <td>-8.914463</td>\n",
       "      <td>-8.921536</td>\n",
       "      <td>-5.900527</td>\n",
       "      <td>-2.940829</td>\n",
       "      <td>...</td>\n",
       "      <td>20.682529</td>\n",
       "      <td>22.690462</td>\n",
       "      <td>23.244091</td>\n",
       "      <td>23.657244</td>\n",
       "      <td>22.533464</td>\n",
       "      <td>22.583046</td>\n",
       "      <td>21.847628</td>\n",
       "      <td>19.752930</td>\n",
       "      <td>19.728140</td>\n",
       "      <td>False</td>\n",
       "    </tr>\n",
       "    <tr>\n",
       "      <th>194323</th>\n",
       "      <td>-2.275275</td>\n",
       "      <td>-2.072861</td>\n",
       "      <td>-3.262935</td>\n",
       "      <td>-4.092085</td>\n",
       "      <td>-8.191484</td>\n",
       "      <td>-12.624980</td>\n",
       "      <td>-12.632295</td>\n",
       "      <td>-9.508365</td>\n",
       "      <td>-6.447834</td>\n",
       "      <td>-2.094813</td>\n",
       "      <td>...</td>\n",
       "      <td>20.715225</td>\n",
       "      <td>21.282999</td>\n",
       "      <td>21.706707</td>\n",
       "      <td>20.554214</td>\n",
       "      <td>20.605064</td>\n",
       "      <td>19.850857</td>\n",
       "      <td>17.702639</td>\n",
       "      <td>17.677216</td>\n",
       "      <td>18.973772</td>\n",
       "      <td>False</td>\n",
       "    </tr>\n",
       "    <tr>\n",
       "      <th>194324</th>\n",
       "      <td>0.197911</td>\n",
       "      <td>-0.965688</td>\n",
       "      <td>-1.776392</td>\n",
       "      <td>-5.784594</td>\n",
       "      <td>-10.119460</td>\n",
       "      <td>-10.126612</td>\n",
       "      <td>-7.072178</td>\n",
       "      <td>-4.079734</td>\n",
       "      <td>0.176447</td>\n",
       "      <td>-1.235123</td>\n",
       "      <td>...</td>\n",
       "      <td>22.241758</td>\n",
       "      <td>22.660305</td>\n",
       "      <td>21.521851</td>\n",
       "      <td>21.572081</td>\n",
       "      <td>20.827059</td>\n",
       "      <td>18.705006</td>\n",
       "      <td>18.679892</td>\n",
       "      <td>19.960657</td>\n",
       "      <td>22.873768</td>\n",
       "      <td>False</td>\n",
       "    </tr>\n",
       "    <tr>\n",
       "      <th>194325</th>\n",
       "      <td>-1.165906</td>\n",
       "      <td>-1.978218</td>\n",
       "      <td>-5.994368</td>\n",
       "      <td>-10.337830</td>\n",
       "      <td>-10.344995</td>\n",
       "      <td>-7.284506</td>\n",
       "      <td>-4.286128</td>\n",
       "      <td>-0.021506</td>\n",
       "      <td>-1.435875</td>\n",
       "      <td>-0.731083</td>\n",
       "      <td>...</td>\n",
       "      <td>22.866920</td>\n",
       "      <td>21.731506</td>\n",
       "      <td>21.781601</td>\n",
       "      <td>21.038570</td>\n",
       "      <td>18.922188</td>\n",
       "      <td>18.897141</td>\n",
       "      <td>20.174484</td>\n",
       "      <td>23.079811</td>\n",
       "      <td>21.205542</td>\n",
       "      <td>False</td>\n",
       "    </tr>\n",
       "  </tbody>\n",
       "</table>\n",
       "<p>194326 rows × 3541 columns</p>\n",
       "</div>"
      ],
      "text/plain": [
       "               0         1         2          3          4          5  \\\n",
       "0      -0.700247 -1.990173 -0.122850   0.884522  -5.196558  -5.024573   \n",
       "1      -1.280956  0.573382  1.573749  -4.465045  -4.294255  -3.842869   \n",
       "2       1.830886  2.818601 -3.143818  -2.975188  -2.529511  -4.119491   \n",
       "3       1.006136 -5.067483 -4.895709  -4.441719  -6.061353  -7.926377   \n",
       "4      -6.135350 -5.961829 -5.503226  -7.139320  -9.023300  -6.209722   \n",
       "...          ...       ...       ...        ...        ...        ...   \n",
       "194321  2.315241  5.533541  3.384169   3.575382   2.451162   1.667893   \n",
       "194322  3.294577  1.094263  1.290008   0.139142  -0.662691  -4.627033   \n",
       "194323 -2.275275 -2.072861 -3.262935  -4.092085  -8.191484 -12.624980   \n",
       "194324  0.197911 -0.965688 -1.776392  -5.784594 -10.119460 -10.126612   \n",
       "194325 -1.165906 -1.978218 -5.994368 -10.337830 -10.344995  -7.284506   \n",
       "\n",
       "                6         7         8         9  ...       3531       3532  \\\n",
       "0       -4.570026 -6.191649 -8.058965 -5.270273  ...   7.153076   7.798154   \n",
       "1       -5.453216 -7.307547 -4.538247 -2.964498  ...   8.646461   5.414666   \n",
       "2       -5.950369 -3.216094 -1.662249 -3.758132  ...   1.640178   2.554071   \n",
       "3       -5.141107 -3.558282 -5.693254 -7.631903  ...   1.198340  -0.339665   \n",
       "4       -4.610810 -6.767481 -8.725834 -8.068919  ...  -0.816342  -0.494174   \n",
       "...           ...       ...       ...       ...  ...        ...        ...   \n",
       "194321  -2.204664 -6.392831 -6.399740 -3.448675  ...  17.247150  19.633286   \n",
       "194322  -8.914463 -8.921536 -5.900527 -2.940829  ...  20.682529  22.690462   \n",
       "194323 -12.632295 -9.508365 -6.447834 -2.094813  ...  20.715225  21.282999   \n",
       "194324  -7.072178 -4.079734  0.176447 -1.235123  ...  22.241758  22.660305   \n",
       "194325  -4.286128 -0.021506 -1.435875 -0.731083  ...  22.866920  21.731506   \n",
       "\n",
       "             3533       3534       3535       3536       3537       3538  \\\n",
       "0        4.536348   5.423332   3.951097   4.258029   6.541813   7.847573   \n",
       "1        6.293489   4.834799   5.138908   7.401679   8.695426   7.004795   \n",
       "2        1.037171   1.353416   3.706484   5.051858   3.293762   3.762768   \n",
       "3       -0.019020   2.366786   3.730878   1.948322   2.423852   4.323255   \n",
       "4        1.902966   3.273539   1.482514   1.960304   3.868729   3.685806   \n",
       "...           ...        ...        ...        ...        ...        ...   \n",
       "194321  21.667782  22.228735  22.647352  21.508707  21.558945  20.813799   \n",
       "194322  23.244091  23.657244  22.533464  22.583046  21.847628  19.752930   \n",
       "194323  21.706707  20.554214  20.605064  19.850857  17.702639  17.677216   \n",
       "194324  21.521851  21.572081  20.827059  18.705006  18.679892  19.960657   \n",
       "194325  21.781601  21.038570  18.922188  18.897141  20.174484  23.079811   \n",
       "\n",
       "             3539  result  \n",
       "0        6.141243   False  \n",
       "1        7.455802   False  \n",
       "2        5.636106   False  \n",
       "3        4.141196   False  \n",
       "4        4.491222   False  \n",
       "...           ...     ...  \n",
       "194321  18.691391   False  \n",
       "194322  19.728140   False  \n",
       "194323  18.973772   False  \n",
       "194324  22.873768   False  \n",
       "194325  21.205542   False  \n",
       "\n",
       "[194326 rows x 3541 columns]"
      ]
     },
     "execution_count": 12,
     "metadata": {},
     "output_type": "execute_result"
    }
   ],
   "source": [
    "X_big_one03"
   ]
  },
  {
   "cell_type": "code",
   "execution_count": 13,
   "id": "a39e466e",
   "metadata": {},
   "outputs": [
    {
     "name": "stderr",
     "output_type": "stream",
     "text": [
      "C:\\Users\\abhij\\AppData\\Local\\Temp\\ipykernel_18688\\3911959229.py:3: SettingWithCopyWarning: \n",
      "A value is trying to be set on a copy of a slice from a DataFrame\n",
      "\n",
      "See the caveats in the documentation: https://pandas.pydata.org/pandas-docs/stable/user_guide/indexing.html#returning-a-view-versus-a-copy\n",
      "  X_big_one03['result'][i] = 0\n"
     ]
    }
   ],
   "source": [
    "for i in range(len(X_big_one03.result)):\n",
    "    if X_big_one03['result'][i] == False:\n",
    "       X_big_one03['result'][i] = 0\n",
    "    else:\n",
    "       X_big_one03['result'][i] = 1\n",
    "        "
   ]
  },
  {
   "cell_type": "code",
   "execution_count": 14,
   "id": "3f02a374",
   "metadata": {
    "scrolled": true
   },
   "outputs": [
    {
     "data": {
      "text/html": [
       "<div>\n",
       "<style scoped>\n",
       "    .dataframe tbody tr th:only-of-type {\n",
       "        vertical-align: middle;\n",
       "    }\n",
       "\n",
       "    .dataframe tbody tr th {\n",
       "        vertical-align: top;\n",
       "    }\n",
       "\n",
       "    .dataframe thead th {\n",
       "        text-align: right;\n",
       "    }\n",
       "</style>\n",
       "<table border=\"1\" class=\"dataframe\">\n",
       "  <thead>\n",
       "    <tr style=\"text-align: right;\">\n",
       "      <th></th>\n",
       "      <th>0</th>\n",
       "      <th>1</th>\n",
       "      <th>2</th>\n",
       "      <th>3</th>\n",
       "      <th>4</th>\n",
       "      <th>5</th>\n",
       "      <th>6</th>\n",
       "      <th>7</th>\n",
       "      <th>8</th>\n",
       "      <th>9</th>\n",
       "      <th>...</th>\n",
       "      <th>3531</th>\n",
       "      <th>3532</th>\n",
       "      <th>3533</th>\n",
       "      <th>3534</th>\n",
       "      <th>3535</th>\n",
       "      <th>3536</th>\n",
       "      <th>3537</th>\n",
       "      <th>3538</th>\n",
       "      <th>3539</th>\n",
       "      <th>result</th>\n",
       "    </tr>\n",
       "  </thead>\n",
       "  <tbody>\n",
       "    <tr>\n",
       "      <th>0</th>\n",
       "      <td>-0.700247</td>\n",
       "      <td>-1.990173</td>\n",
       "      <td>-0.122850</td>\n",
       "      <td>0.884522</td>\n",
       "      <td>-5.196558</td>\n",
       "      <td>-5.024573</td>\n",
       "      <td>-4.570026</td>\n",
       "      <td>-6.191649</td>\n",
       "      <td>-8.058965</td>\n",
       "      <td>-5.270273</td>\n",
       "      <td>...</td>\n",
       "      <td>7.153076</td>\n",
       "      <td>7.798154</td>\n",
       "      <td>4.536348</td>\n",
       "      <td>5.423332</td>\n",
       "      <td>3.951097</td>\n",
       "      <td>4.258029</td>\n",
       "      <td>6.541813</td>\n",
       "      <td>7.847573</td>\n",
       "      <td>6.141243</td>\n",
       "      <td>0</td>\n",
       "    </tr>\n",
       "    <tr>\n",
       "      <th>1</th>\n",
       "      <td>-1.280956</td>\n",
       "      <td>0.573382</td>\n",
       "      <td>1.573749</td>\n",
       "      <td>-4.465045</td>\n",
       "      <td>-4.294255</td>\n",
       "      <td>-3.842869</td>\n",
       "      <td>-5.453216</td>\n",
       "      <td>-7.307547</td>\n",
       "      <td>-4.538247</td>\n",
       "      <td>-2.964498</td>\n",
       "      <td>...</td>\n",
       "      <td>8.646461</td>\n",
       "      <td>5.414666</td>\n",
       "      <td>6.293489</td>\n",
       "      <td>4.834799</td>\n",
       "      <td>5.138908</td>\n",
       "      <td>7.401679</td>\n",
       "      <td>8.695426</td>\n",
       "      <td>7.004795</td>\n",
       "      <td>7.455802</td>\n",
       "      <td>0</td>\n",
       "    </tr>\n",
       "    <tr>\n",
       "      <th>2</th>\n",
       "      <td>1.830886</td>\n",
       "      <td>2.818601</td>\n",
       "      <td>-3.143818</td>\n",
       "      <td>-2.975188</td>\n",
       "      <td>-2.529511</td>\n",
       "      <td>-4.119491</td>\n",
       "      <td>-5.950369</td>\n",
       "      <td>-3.216094</td>\n",
       "      <td>-1.662249</td>\n",
       "      <td>-3.758132</td>\n",
       "      <td>...</td>\n",
       "      <td>1.640178</td>\n",
       "      <td>2.554071</td>\n",
       "      <td>1.037171</td>\n",
       "      <td>1.353416</td>\n",
       "      <td>3.706484</td>\n",
       "      <td>5.051858</td>\n",
       "      <td>3.293762</td>\n",
       "      <td>3.762768</td>\n",
       "      <td>5.636106</td>\n",
       "      <td>0</td>\n",
       "    </tr>\n",
       "    <tr>\n",
       "      <th>3</th>\n",
       "      <td>1.006136</td>\n",
       "      <td>-5.067483</td>\n",
       "      <td>-4.895709</td>\n",
       "      <td>-4.441719</td>\n",
       "      <td>-6.061353</td>\n",
       "      <td>-7.926377</td>\n",
       "      <td>-5.141107</td>\n",
       "      <td>-3.558282</td>\n",
       "      <td>-5.693254</td>\n",
       "      <td>-7.631903</td>\n",
       "      <td>...</td>\n",
       "      <td>1.198340</td>\n",
       "      <td>-0.339665</td>\n",
       "      <td>-0.019020</td>\n",
       "      <td>2.366786</td>\n",
       "      <td>3.730878</td>\n",
       "      <td>1.948322</td>\n",
       "      <td>2.423852</td>\n",
       "      <td>4.323255</td>\n",
       "      <td>4.141196</td>\n",
       "      <td>0</td>\n",
       "    </tr>\n",
       "    <tr>\n",
       "      <th>4</th>\n",
       "      <td>-6.135350</td>\n",
       "      <td>-5.961829</td>\n",
       "      <td>-5.503226</td>\n",
       "      <td>-7.139320</td>\n",
       "      <td>-9.023300</td>\n",
       "      <td>-6.209722</td>\n",
       "      <td>-4.610810</td>\n",
       "      <td>-6.767481</td>\n",
       "      <td>-8.725834</td>\n",
       "      <td>-8.068919</td>\n",
       "      <td>...</td>\n",
       "      <td>-0.816342</td>\n",
       "      <td>-0.494174</td>\n",
       "      <td>1.902966</td>\n",
       "      <td>3.273539</td>\n",
       "      <td>1.482514</td>\n",
       "      <td>1.960304</td>\n",
       "      <td>3.868729</td>\n",
       "      <td>3.685806</td>\n",
       "      <td>4.491222</td>\n",
       "      <td>0</td>\n",
       "    </tr>\n",
       "    <tr>\n",
       "      <th>...</th>\n",
       "      <td>...</td>\n",
       "      <td>...</td>\n",
       "      <td>...</td>\n",
       "      <td>...</td>\n",
       "      <td>...</td>\n",
       "      <td>...</td>\n",
       "      <td>...</td>\n",
       "      <td>...</td>\n",
       "      <td>...</td>\n",
       "      <td>...</td>\n",
       "      <td>...</td>\n",
       "      <td>...</td>\n",
       "      <td>...</td>\n",
       "      <td>...</td>\n",
       "      <td>...</td>\n",
       "      <td>...</td>\n",
       "      <td>...</td>\n",
       "      <td>...</td>\n",
       "      <td>...</td>\n",
       "      <td>...</td>\n",
       "      <td>...</td>\n",
       "    </tr>\n",
       "    <tr>\n",
       "      <th>194321</th>\n",
       "      <td>2.315241</td>\n",
       "      <td>5.533541</td>\n",
       "      <td>3.384169</td>\n",
       "      <td>3.575382</td>\n",
       "      <td>2.451162</td>\n",
       "      <td>1.667893</td>\n",
       "      <td>-2.204664</td>\n",
       "      <td>-6.392831</td>\n",
       "      <td>-6.399740</td>\n",
       "      <td>-3.448675</td>\n",
       "      <td>...</td>\n",
       "      <td>17.247150</td>\n",
       "      <td>19.633286</td>\n",
       "      <td>21.667782</td>\n",
       "      <td>22.228735</td>\n",
       "      <td>22.647352</td>\n",
       "      <td>21.508707</td>\n",
       "      <td>21.558945</td>\n",
       "      <td>20.813799</td>\n",
       "      <td>18.691391</td>\n",
       "      <td>0</td>\n",
       "    </tr>\n",
       "    <tr>\n",
       "      <th>194322</th>\n",
       "      <td>3.294577</td>\n",
       "      <td>1.094263</td>\n",
       "      <td>1.290008</td>\n",
       "      <td>0.139142</td>\n",
       "      <td>-0.662691</td>\n",
       "      <td>-4.627033</td>\n",
       "      <td>-8.914463</td>\n",
       "      <td>-8.921536</td>\n",
       "      <td>-5.900527</td>\n",
       "      <td>-2.940829</td>\n",
       "      <td>...</td>\n",
       "      <td>20.682529</td>\n",
       "      <td>22.690462</td>\n",
       "      <td>23.244091</td>\n",
       "      <td>23.657244</td>\n",
       "      <td>22.533464</td>\n",
       "      <td>22.583046</td>\n",
       "      <td>21.847628</td>\n",
       "      <td>19.752930</td>\n",
       "      <td>19.728140</td>\n",
       "      <td>0</td>\n",
       "    </tr>\n",
       "    <tr>\n",
       "      <th>194323</th>\n",
       "      <td>-2.275275</td>\n",
       "      <td>-2.072861</td>\n",
       "      <td>-3.262935</td>\n",
       "      <td>-4.092085</td>\n",
       "      <td>-8.191484</td>\n",
       "      <td>-12.624980</td>\n",
       "      <td>-12.632295</td>\n",
       "      <td>-9.508365</td>\n",
       "      <td>-6.447834</td>\n",
       "      <td>-2.094813</td>\n",
       "      <td>...</td>\n",
       "      <td>20.715225</td>\n",
       "      <td>21.282999</td>\n",
       "      <td>21.706707</td>\n",
       "      <td>20.554214</td>\n",
       "      <td>20.605064</td>\n",
       "      <td>19.850857</td>\n",
       "      <td>17.702639</td>\n",
       "      <td>17.677216</td>\n",
       "      <td>18.973772</td>\n",
       "      <td>0</td>\n",
       "    </tr>\n",
       "    <tr>\n",
       "      <th>194324</th>\n",
       "      <td>0.197911</td>\n",
       "      <td>-0.965688</td>\n",
       "      <td>-1.776392</td>\n",
       "      <td>-5.784594</td>\n",
       "      <td>-10.119460</td>\n",
       "      <td>-10.126612</td>\n",
       "      <td>-7.072178</td>\n",
       "      <td>-4.079734</td>\n",
       "      <td>0.176447</td>\n",
       "      <td>-1.235123</td>\n",
       "      <td>...</td>\n",
       "      <td>22.241758</td>\n",
       "      <td>22.660305</td>\n",
       "      <td>21.521851</td>\n",
       "      <td>21.572081</td>\n",
       "      <td>20.827059</td>\n",
       "      <td>18.705006</td>\n",
       "      <td>18.679892</td>\n",
       "      <td>19.960657</td>\n",
       "      <td>22.873768</td>\n",
       "      <td>0</td>\n",
       "    </tr>\n",
       "    <tr>\n",
       "      <th>194325</th>\n",
       "      <td>-1.165906</td>\n",
       "      <td>-1.978218</td>\n",
       "      <td>-5.994368</td>\n",
       "      <td>-10.337830</td>\n",
       "      <td>-10.344995</td>\n",
       "      <td>-7.284506</td>\n",
       "      <td>-4.286128</td>\n",
       "      <td>-0.021506</td>\n",
       "      <td>-1.435875</td>\n",
       "      <td>-0.731083</td>\n",
       "      <td>...</td>\n",
       "      <td>22.866920</td>\n",
       "      <td>21.731506</td>\n",
       "      <td>21.781601</td>\n",
       "      <td>21.038570</td>\n",
       "      <td>18.922188</td>\n",
       "      <td>18.897141</td>\n",
       "      <td>20.174484</td>\n",
       "      <td>23.079811</td>\n",
       "      <td>21.205542</td>\n",
       "      <td>0</td>\n",
       "    </tr>\n",
       "  </tbody>\n",
       "</table>\n",
       "<p>194326 rows × 3541 columns</p>\n",
       "</div>"
      ],
      "text/plain": [
       "               0         1         2          3          4          5  \\\n",
       "0      -0.700247 -1.990173 -0.122850   0.884522  -5.196558  -5.024573   \n",
       "1      -1.280956  0.573382  1.573749  -4.465045  -4.294255  -3.842869   \n",
       "2       1.830886  2.818601 -3.143818  -2.975188  -2.529511  -4.119491   \n",
       "3       1.006136 -5.067483 -4.895709  -4.441719  -6.061353  -7.926377   \n",
       "4      -6.135350 -5.961829 -5.503226  -7.139320  -9.023300  -6.209722   \n",
       "...          ...       ...       ...        ...        ...        ...   \n",
       "194321  2.315241  5.533541  3.384169   3.575382   2.451162   1.667893   \n",
       "194322  3.294577  1.094263  1.290008   0.139142  -0.662691  -4.627033   \n",
       "194323 -2.275275 -2.072861 -3.262935  -4.092085  -8.191484 -12.624980   \n",
       "194324  0.197911 -0.965688 -1.776392  -5.784594 -10.119460 -10.126612   \n",
       "194325 -1.165906 -1.978218 -5.994368 -10.337830 -10.344995  -7.284506   \n",
       "\n",
       "                6         7         8         9  ...       3531       3532  \\\n",
       "0       -4.570026 -6.191649 -8.058965 -5.270273  ...   7.153076   7.798154   \n",
       "1       -5.453216 -7.307547 -4.538247 -2.964498  ...   8.646461   5.414666   \n",
       "2       -5.950369 -3.216094 -1.662249 -3.758132  ...   1.640178   2.554071   \n",
       "3       -5.141107 -3.558282 -5.693254 -7.631903  ...   1.198340  -0.339665   \n",
       "4       -4.610810 -6.767481 -8.725834 -8.068919  ...  -0.816342  -0.494174   \n",
       "...           ...       ...       ...       ...  ...        ...        ...   \n",
       "194321  -2.204664 -6.392831 -6.399740 -3.448675  ...  17.247150  19.633286   \n",
       "194322  -8.914463 -8.921536 -5.900527 -2.940829  ...  20.682529  22.690462   \n",
       "194323 -12.632295 -9.508365 -6.447834 -2.094813  ...  20.715225  21.282999   \n",
       "194324  -7.072178 -4.079734  0.176447 -1.235123  ...  22.241758  22.660305   \n",
       "194325  -4.286128 -0.021506 -1.435875 -0.731083  ...  22.866920  21.731506   \n",
       "\n",
       "             3533       3534       3535       3536       3537       3538  \\\n",
       "0        4.536348   5.423332   3.951097   4.258029   6.541813   7.847573   \n",
       "1        6.293489   4.834799   5.138908   7.401679   8.695426   7.004795   \n",
       "2        1.037171   1.353416   3.706484   5.051858   3.293762   3.762768   \n",
       "3       -0.019020   2.366786   3.730878   1.948322   2.423852   4.323255   \n",
       "4        1.902966   3.273539   1.482514   1.960304   3.868729   3.685806   \n",
       "...           ...        ...        ...        ...        ...        ...   \n",
       "194321  21.667782  22.228735  22.647352  21.508707  21.558945  20.813799   \n",
       "194322  23.244091  23.657244  22.533464  22.583046  21.847628  19.752930   \n",
       "194323  21.706707  20.554214  20.605064  19.850857  17.702639  17.677216   \n",
       "194324  21.521851  21.572081  20.827059  18.705006  18.679892  19.960657   \n",
       "194325  21.781601  21.038570  18.922188  18.897141  20.174484  23.079811   \n",
       "\n",
       "             3539  result  \n",
       "0        6.141243       0  \n",
       "1        7.455802       0  \n",
       "2        5.636106       0  \n",
       "3        4.141196       0  \n",
       "4        4.491222       0  \n",
       "...           ...     ...  \n",
       "194321  18.691391       0  \n",
       "194322  19.728140       0  \n",
       "194323  18.973772       0  \n",
       "194324  22.873768       0  \n",
       "194325  21.205542       0  \n",
       "\n",
       "[194326 rows x 3541 columns]"
      ]
     },
     "execution_count": 14,
     "metadata": {},
     "output_type": "execute_result"
    }
   ],
   "source": [
    "X_big_one03"
   ]
  },
  {
   "cell_type": "code",
   "execution_count": 15,
   "id": "eafd4a3b",
   "metadata": {
    "scrolled": false
   },
   "outputs": [
    {
     "data": {
      "text/plain": [
       "0    172053\n",
       "1     22273\n",
       "Name: result, dtype: int64"
      ]
     },
     "execution_count": 15,
     "metadata": {},
     "output_type": "execute_result"
    }
   ],
   "source": [
    "X_big_one03['result'].value_counts()  "
   ]
  },
  {
   "cell_type": "code",
   "execution_count": 16,
   "id": "475d3a06",
   "metadata": {},
   "outputs": [],
   "source": [
    "X_result_ones = X_big_one03['result'].value_counts()[1]  "
   ]
  },
  {
   "cell_type": "code",
   "execution_count": 17,
   "id": "73c75608",
   "metadata": {},
   "outputs": [],
   "source": [
    "X_big_ones_04 = X_big_one03[X_big_one03['result'] ==1]\n",
    "X_big_ones_05 = X_big_one03[X_big_one03['result'] ==0]\n",
    "X_big_ones_05 = X_big_ones_05.iloc[0:X_result_ones,:]\n",
    "\n",
    "X_big_ones_06  = pd.concat([X_big_ones_04,X_big_ones_05])"
   ]
  },
  {
   "cell_type": "code",
   "execution_count": 18,
   "id": "e34dd905",
   "metadata": {
    "scrolled": true
   },
   "outputs": [
    {
     "data": {
      "text/html": [
       "<div>\n",
       "<style scoped>\n",
       "    .dataframe tbody tr th:only-of-type {\n",
       "        vertical-align: middle;\n",
       "    }\n",
       "\n",
       "    .dataframe tbody tr th {\n",
       "        vertical-align: top;\n",
       "    }\n",
       "\n",
       "    .dataframe thead th {\n",
       "        text-align: right;\n",
       "    }\n",
       "</style>\n",
       "<table border=\"1\" class=\"dataframe\">\n",
       "  <thead>\n",
       "    <tr style=\"text-align: right;\">\n",
       "      <th></th>\n",
       "      <th>0</th>\n",
       "      <th>1</th>\n",
       "      <th>2</th>\n",
       "      <th>3</th>\n",
       "      <th>4</th>\n",
       "      <th>5</th>\n",
       "      <th>6</th>\n",
       "      <th>7</th>\n",
       "      <th>8</th>\n",
       "      <th>9</th>\n",
       "      <th>...</th>\n",
       "      <th>3531</th>\n",
       "      <th>3532</th>\n",
       "      <th>3533</th>\n",
       "      <th>3534</th>\n",
       "      <th>3535</th>\n",
       "      <th>3536</th>\n",
       "      <th>3537</th>\n",
       "      <th>3538</th>\n",
       "      <th>3539</th>\n",
       "      <th>result</th>\n",
       "    </tr>\n",
       "  </thead>\n",
       "  <tbody>\n",
       "    <tr>\n",
       "      <th>19</th>\n",
       "      <td>-4.110101</td>\n",
       "      <td>-5.716772</td>\n",
       "      <td>-7.883919</td>\n",
       "      <td>-7.684637</td>\n",
       "      <td>-5.529949</td>\n",
       "      <td>-7.161539</td>\n",
       "      <td>-10.200519</td>\n",
       "      <td>-9.627598</td>\n",
       "      <td>-10.175607</td>\n",
       "      <td>-11.246729</td>\n",
       "      <td>...</td>\n",
       "      <td>-2.727971</td>\n",
       "      <td>-3.186905</td>\n",
       "      <td>-1.619105</td>\n",
       "      <td>-4.364182</td>\n",
       "      <td>-3.189758</td>\n",
       "      <td>-5.253551</td>\n",
       "      <td>-6.881215</td>\n",
       "      <td>-4.917192</td>\n",
       "      <td>-0.356318</td>\n",
       "      <td>1</td>\n",
       "    </tr>\n",
       "    <tr>\n",
       "      <th>203</th>\n",
       "      <td>1.239428</td>\n",
       "      <td>3.484976</td>\n",
       "      <td>3.590697</td>\n",
       "      <td>6.590845</td>\n",
       "      <td>-0.718138</td>\n",
       "      <td>-2.610094</td>\n",
       "      <td>-7.079322</td>\n",
       "      <td>-4.881166</td>\n",
       "      <td>-6.102368</td>\n",
       "      <td>-7.418344</td>\n",
       "      <td>...</td>\n",
       "      <td>4.941124</td>\n",
       "      <td>5.660269</td>\n",
       "      <td>5.654270</td>\n",
       "      <td>7.871631</td>\n",
       "      <td>8.902409</td>\n",
       "      <td>10.106974</td>\n",
       "      <td>9.261981</td>\n",
       "      <td>11.847905</td>\n",
       "      <td>13.148355</td>\n",
       "      <td>1</td>\n",
       "    </tr>\n",
       "    <tr>\n",
       "      <th>204</th>\n",
       "      <td>2.273729</td>\n",
       "      <td>2.380777</td>\n",
       "      <td>5.418576</td>\n",
       "      <td>-1.982133</td>\n",
       "      <td>-3.897833</td>\n",
       "      <td>-8.423149</td>\n",
       "      <td>-6.197407</td>\n",
       "      <td>-7.433934</td>\n",
       "      <td>-8.766426</td>\n",
       "      <td>-11.763618</td>\n",
       "      <td>...</td>\n",
       "      <td>5.348289</td>\n",
       "      <td>5.342271</td>\n",
       "      <td>7.566965</td>\n",
       "      <td>8.601151</td>\n",
       "      <td>9.809700</td>\n",
       "      <td>8.961912</td>\n",
       "      <td>11.556388</td>\n",
       "      <td>12.861138</td>\n",
       "      <td>14.640892</td>\n",
       "      <td>1</td>\n",
       "    </tr>\n",
       "    <tr>\n",
       "      <th>205</th>\n",
       "      <td>0.109539</td>\n",
       "      <td>3.218016</td>\n",
       "      <td>-4.354880</td>\n",
       "      <td>-6.315151</td>\n",
       "      <td>-10.945754</td>\n",
       "      <td>-8.668227</td>\n",
       "      <td>-9.933524</td>\n",
       "      <td>-11.297018</td>\n",
       "      <td>-14.363944</td>\n",
       "      <td>-14.413047</td>\n",
       "      <td>...</td>\n",
       "      <td>4.804230</td>\n",
       "      <td>7.041569</td>\n",
       "      <td>8.081635</td>\n",
       "      <td>9.297052</td>\n",
       "      <td>8.444446</td>\n",
       "      <td>11.053669</td>\n",
       "      <td>12.365835</td>\n",
       "      <td>14.155705</td>\n",
       "      <td>14.306877</td>\n",
       "      <td>1</td>\n",
       "    </tr>\n",
       "    <tr>\n",
       "      <th>206</th>\n",
       "      <td>3.111886</td>\n",
       "      <td>-4.469314</td>\n",
       "      <td>-6.431735</td>\n",
       "      <td>-11.067416</td>\n",
       "      <td>-8.787392</td>\n",
       "      <td>-10.054076</td>\n",
       "      <td>-11.419065</td>\n",
       "      <td>-14.489354</td>\n",
       "      <td>-14.538511</td>\n",
       "      <td>-15.430865</td>\n",
       "      <td>...</td>\n",
       "      <td>7.686303</td>\n",
       "      <td>8.719153</td>\n",
       "      <td>9.926142</td>\n",
       "      <td>9.079450</td>\n",
       "      <td>11.670575</td>\n",
       "      <td>12.973641</td>\n",
       "      <td>14.751097</td>\n",
       "      <td>14.901220</td>\n",
       "      <td>14.649016</td>\n",
       "      <td>1</td>\n",
       "    </tr>\n",
       "    <tr>\n",
       "      <th>...</th>\n",
       "      <td>...</td>\n",
       "      <td>...</td>\n",
       "      <td>...</td>\n",
       "      <td>...</td>\n",
       "      <td>...</td>\n",
       "      <td>...</td>\n",
       "      <td>...</td>\n",
       "      <td>...</td>\n",
       "      <td>...</td>\n",
       "      <td>...</td>\n",
       "      <td>...</td>\n",
       "      <td>...</td>\n",
       "      <td>...</td>\n",
       "      <td>...</td>\n",
       "      <td>...</td>\n",
       "      <td>...</td>\n",
       "      <td>...</td>\n",
       "      <td>...</td>\n",
       "      <td>...</td>\n",
       "      <td>...</td>\n",
       "      <td>...</td>\n",
       "    </tr>\n",
       "    <tr>\n",
       "      <th>25311</th>\n",
       "      <td>0.081554</td>\n",
       "      <td>-0.648663</td>\n",
       "      <td>0.377658</td>\n",
       "      <td>-0.075280</td>\n",
       "      <td>-1.159317</td>\n",
       "      <td>-2.247116</td>\n",
       "      <td>-1.782886</td>\n",
       "      <td>-3.077712</td>\n",
       "      <td>-3.667408</td>\n",
       "      <td>-3.939675</td>\n",
       "      <td>...</td>\n",
       "      <td>4.434464</td>\n",
       "      <td>4.461181</td>\n",
       "      <td>3.414998</td>\n",
       "      <td>2.864153</td>\n",
       "      <td>3.445829</td>\n",
       "      <td>2.414028</td>\n",
       "      <td>0.200399</td>\n",
       "      <td>-0.401831</td>\n",
       "      <td>1.280493</td>\n",
       "      <td>0</td>\n",
       "    </tr>\n",
       "    <tr>\n",
       "      <th>25312</th>\n",
       "      <td>-0.730812</td>\n",
       "      <td>0.296346</td>\n",
       "      <td>-0.156962</td>\n",
       "      <td>-1.241884</td>\n",
       "      <td>-2.330570</td>\n",
       "      <td>-1.865962</td>\n",
       "      <td>-3.161844</td>\n",
       "      <td>-3.752022</td>\n",
       "      <td>-4.024511</td>\n",
       "      <td>-4.182724</td>\n",
       "      <td>...</td>\n",
       "      <td>3.506221</td>\n",
       "      <td>2.449581</td>\n",
       "      <td>1.893230</td>\n",
       "      <td>2.480720</td>\n",
       "      <td>1.438606</td>\n",
       "      <td>-0.797150</td>\n",
       "      <td>-1.405399</td>\n",
       "      <td>0.293740</td>\n",
       "      <td>-1.368027</td>\n",
       "      <td>0</td>\n",
       "    </tr>\n",
       "    <tr>\n",
       "      <th>25313</th>\n",
       "      <td>1.019706</td>\n",
       "      <td>0.569687</td>\n",
       "      <td>-0.507364</td>\n",
       "      <td>-1.588151</td>\n",
       "      <td>-1.126914</td>\n",
       "      <td>-2.413395</td>\n",
       "      <td>-2.999291</td>\n",
       "      <td>-3.269803</td>\n",
       "      <td>-3.426868</td>\n",
       "      <td>-4.444090</td>\n",
       "      <td>...</td>\n",
       "      <td>2.359388</td>\n",
       "      <td>1.802522</td>\n",
       "      <td>2.390556</td>\n",
       "      <td>1.347478</td>\n",
       "      <td>-0.890344</td>\n",
       "      <td>-1.499156</td>\n",
       "      <td>0.201554</td>\n",
       "      <td>-1.461749</td>\n",
       "      <td>-1.053457</td>\n",
       "      <td>0</td>\n",
       "    </tr>\n",
       "    <tr>\n",
       "      <th>25316</th>\n",
       "      <td>-1.075332</td>\n",
       "      <td>-0.616423</td>\n",
       "      <td>-1.896409</td>\n",
       "      <td>-2.479348</td>\n",
       "      <td>-2.748494</td>\n",
       "      <td>-2.904767</td>\n",
       "      <td>-3.916854</td>\n",
       "      <td>-4.616373</td>\n",
       "      <td>-5.163351</td>\n",
       "      <td>-6.025355</td>\n",
       "      <td>...</td>\n",
       "      <td>0.054734</td>\n",
       "      <td>-2.212414</td>\n",
       "      <td>-2.829203</td>\n",
       "      <td>-1.106207</td>\n",
       "      <td>-2.791306</td>\n",
       "      <td>-2.377663</td>\n",
       "      <td>-1.573535</td>\n",
       "      <td>-1.551426</td>\n",
       "      <td>-0.251549</td>\n",
       "      <td>0</td>\n",
       "    </tr>\n",
       "    <tr>\n",
       "      <th>25317</th>\n",
       "      <td>0.454027</td>\n",
       "      <td>-0.812342</td>\n",
       "      <td>-1.389079</td>\n",
       "      <td>-1.655362</td>\n",
       "      <td>-1.809971</td>\n",
       "      <td>-2.811292</td>\n",
       "      <td>-3.503368</td>\n",
       "      <td>-4.044527</td>\n",
       "      <td>-4.897360</td>\n",
       "      <td>-5.038477</td>\n",
       "      <td>...</td>\n",
       "      <td>-3.838710</td>\n",
       "      <td>-4.465314</td>\n",
       "      <td>-2.714903</td>\n",
       "      <td>-4.426814</td>\n",
       "      <td>-4.006589</td>\n",
       "      <td>-3.189667</td>\n",
       "      <td>-3.167205</td>\n",
       "      <td>-1.846646</td>\n",
       "      <td>-3.483718</td>\n",
       "      <td>0</td>\n",
       "    </tr>\n",
       "  </tbody>\n",
       "</table>\n",
       "<p>44546 rows × 3541 columns</p>\n",
       "</div>"
      ],
      "text/plain": [
       "              0         1         2          3          4          5  \\\n",
       "19    -4.110101 -5.716772 -7.883919  -7.684637  -5.529949  -7.161539   \n",
       "203    1.239428  3.484976  3.590697   6.590845  -0.718138  -2.610094   \n",
       "204    2.273729  2.380777  5.418576  -1.982133  -3.897833  -8.423149   \n",
       "205    0.109539  3.218016 -4.354880  -6.315151 -10.945754  -8.668227   \n",
       "206    3.111886 -4.469314 -6.431735 -11.067416  -8.787392 -10.054076   \n",
       "...         ...       ...       ...        ...        ...        ...   \n",
       "25311  0.081554 -0.648663  0.377658  -0.075280  -1.159317  -2.247116   \n",
       "25312 -0.730812  0.296346 -0.156962  -1.241884  -2.330570  -1.865962   \n",
       "25313  1.019706  0.569687 -0.507364  -1.588151  -1.126914  -2.413395   \n",
       "25316 -1.075332 -0.616423 -1.896409  -2.479348  -2.748494  -2.904767   \n",
       "25317  0.454027 -0.812342 -1.389079  -1.655362  -1.809971  -2.811292   \n",
       "\n",
       "               6          7          8          9  ...      3531      3532  \\\n",
       "19    -10.200519  -9.627598 -10.175607 -11.246729  ... -2.727971 -3.186905   \n",
       "203    -7.079322  -4.881166  -6.102368  -7.418344  ...  4.941124  5.660269   \n",
       "204    -6.197407  -7.433934  -8.766426 -11.763618  ...  5.348289  5.342271   \n",
       "205    -9.933524 -11.297018 -14.363944 -14.413047  ...  4.804230  7.041569   \n",
       "206   -11.419065 -14.489354 -14.538511 -15.430865  ...  7.686303  8.719153   \n",
       "...          ...        ...        ...        ...  ...       ...       ...   \n",
       "25311  -1.782886  -3.077712  -3.667408  -3.939675  ...  4.434464  4.461181   \n",
       "25312  -3.161844  -3.752022  -4.024511  -4.182724  ...  3.506221  2.449581   \n",
       "25313  -2.999291  -3.269803  -3.426868  -4.444090  ...  2.359388  1.802522   \n",
       "25316  -3.916854  -4.616373  -5.163351  -6.025355  ...  0.054734 -2.212414   \n",
       "25317  -3.503368  -4.044527  -4.897360  -5.038477  ... -3.838710 -4.465314   \n",
       "\n",
       "           3533      3534       3535       3536       3537       3538  \\\n",
       "19    -1.619105 -4.364182  -3.189758  -5.253551  -6.881215  -4.917192   \n",
       "203    5.654270  7.871631   8.902409  10.106974   9.261981  11.847905   \n",
       "204    7.566965  8.601151   9.809700   8.961912  11.556388  12.861138   \n",
       "205    8.081635  9.297052   8.444446  11.053669  12.365835  14.155705   \n",
       "206    9.926142  9.079450  11.670575  12.973641  14.751097  14.901220   \n",
       "...         ...       ...        ...        ...        ...        ...   \n",
       "25311  3.414998  2.864153   3.445829   2.414028   0.200399  -0.401831   \n",
       "25312  1.893230  2.480720   1.438606  -0.797150  -1.405399   0.293740   \n",
       "25313  2.390556  1.347478  -0.890344  -1.499156   0.201554  -1.461749   \n",
       "25316 -2.829203 -1.106207  -2.791306  -2.377663  -1.573535  -1.551426   \n",
       "25317 -2.714903 -4.426814  -4.006589  -3.189667  -3.167205  -1.846646   \n",
       "\n",
       "            3539  result  \n",
       "19     -0.356318       1  \n",
       "203    13.148355       1  \n",
       "204    14.640892       1  \n",
       "205    14.306877       1  \n",
       "206    14.649016       1  \n",
       "...          ...     ...  \n",
       "25311   1.280493       0  \n",
       "25312  -1.368027       0  \n",
       "25313  -1.053457       0  \n",
       "25316  -0.251549       0  \n",
       "25317  -3.483718       0  \n",
       "\n",
       "[44546 rows x 3541 columns]"
      ]
     },
     "execution_count": 18,
     "metadata": {},
     "output_type": "execute_result"
    }
   ],
   "source": [
    "X_big_ones_06\n",
    "#X_big_one06.to_csv('X_big_one06.csv')"
   ]
  },
  {
   "cell_type": "code",
   "execution_count": 19,
   "id": "152affde",
   "metadata": {
    "scrolled": true
   },
   "outputs": [
    {
     "data": {
      "text/plain": [
       "1    22273\n",
       "0    22273\n",
       "Name: result, dtype: int64"
      ]
     },
     "execution_count": 19,
     "metadata": {},
     "output_type": "execute_result"
    }
   ],
   "source": [
    "X_big_ones_06['result'].value_counts()"
   ]
  },
  {
   "cell_type": "code",
   "execution_count": 20,
   "id": "584078cd",
   "metadata": {},
   "outputs": [],
   "source": [
    "X_big_ones_06.to_csv('X_big_ones_06.csv')"
   ]
  }
 ],
 "metadata": {
  "kernelspec": {
   "display_name": "tensorflow",
   "language": "python",
   "name": "tensorflow"
  },
  "language_info": {
   "codemirror_mode": {
    "name": "ipython",
    "version": 3
   },
   "file_extension": ".py",
   "mimetype": "text/x-python",
   "name": "python",
   "nbconvert_exporter": "python",
   "pygments_lexer": "ipython3",
   "version": "3.10.0"
  }
 },
 "nbformat": 4,
 "nbformat_minor": 5
}
